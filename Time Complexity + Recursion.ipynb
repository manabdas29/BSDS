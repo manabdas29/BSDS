{
 "cells": [
  {
   "cell_type": "code",
   "execution_count": 2,
   "id": "f8021f83",
   "metadata": {},
   "outputs": [
    {
     "data": {
      "text/plain": [
       "'T(n)=T(n1)+T(n2)+O(n)\\nwhere n1 and n2 are the sizes of the left and right subarrays, respectively. In the average case, n1 and n2 are both approximately n/2.\\n\\nThus, the recurrence relation becomes:\\n\\nT(n)=T(n/2)+T(n/2)+O(n) \\nT(n)=2T(n/2)+O(n)\\n\\nThis recurrence relation is the same as that for the merge sort algorithm.\\n\\nTime Complexity Analysis\\n\\nUsing the Master Theorem for divide-and-conquer recurrences of the form:\\n\\nT(n)=aT(n/b)+f(n)\\n\\nwhere:\\n\\n    a=2\\n    b=2\\n    f(n)=O(n)\\nThe Master Theorem tells us that if f(n)=O(n^c) with c=1, and a=b^c, then:\\n    T(n)=O(nlogn)'"
      ]
     },
     "execution_count": 2,
     "metadata": {},
     "output_type": "execute_result"
    }
   ],
   "source": [
    "#1\n",
    "def quicksort(arr):\n",
    "    if len(arr) <= 1:\n",
    "        return arr\n",
    "    pivot = arr[len(arr) // 2]\n",
    "    left = [x for x in arr if x < pivot]\n",
    "    middle = [x for x in arr if x == pivot]\n",
    "    right = [x for x in arr if x > pivot]\n",
    "    return quicksort(left) + middle + quicksort(right)\n",
    "\n",
    "'''T(n)=T(n1)+T(n2)+O(n)\n",
    "where n1 and n2 are the sizes of the left and right subarrays, respectively. In the average case, n1 and n2 are both approximately n/2.\n",
    "\n",
    "Thus, the recurrence relation becomes:\n",
    "\n",
    "T(n)=T(n/2)+T(n/2)+O(n) \n",
    "T(n)=2T(n/2)+O(n)\n",
    "\n",
    "This recurrence relation is the same as that for the merge sort algorithm.\n",
    "\n",
    "Time Complexity Analysis\n",
    "\n",
    "Using the Master Theorem for divide-and-conquer recurrences of the form:\n",
    "\n",
    "T(n)=aT(n/b)+f(n)\n",
    "\n",
    "where:\n",
    "\n",
    "    a=2\n",
    "    b=2\n",
    "    f(n)=O(n)\n",
    "The Master Theorem tells us that if f(n)=O(n^c) with c=1, and a=b^c, then:\n",
    "    T(n)=O(nlogn)'''"
   ]
  },
  {
   "cell_type": "code",
   "execution_count": 3,
   "id": "d34e9848",
   "metadata": {},
   "outputs": [
    {
     "data": {
      "text/plain": [
       "'\\nTime Complexity:\\n\\n    If n represents the number of rows and m represents the number of columns in the matrix, \\n    then the total number of operations is n×mn×m.\\n    Therefore, the time complexity of the nested_loop_example function is O(n×m), \\n    where n is the number of rows and m is the number of columns of the matrix.\\n'"
      ]
     },
     "execution_count": 3,
     "metadata": {},
     "output_type": "execute_result"
    }
   ],
   "source": [
    "#2\n",
    "def nested_loop_example(matrix):\n",
    "    rows, cols = len(matrix), len(matrix[0])\n",
    "    total = 0\n",
    "    for i in range(rows):\n",
    "        for j in range(cols):\n",
    "            total += matrix[i][j]\n",
    "    return total\n",
    "'''\n",
    "Time Complexity:\n",
    "\n",
    "    If n represents the number of rows and m represents the number of columns in the matrix, \n",
    "    then the total number of operations is n×mn×m.\n",
    "    Therefore, the time complexity of the nested_loop_example function is O(n×m), \n",
    "    where n is the number of rows and m is the number of columns of the matrix.\n",
    "'''"
   ]
  },
  {
   "cell_type": "code",
   "execution_count": 5,
   "id": "ee1cd5ce",
   "metadata": {},
   "outputs": [
    {
     "data": {
      "text/plain": [
       "'\\nTime Complexity\\n\\n    The loop runs nn times, where nn is the number of elements in the array arr.\\n    Each iteration of the loop takes O(1) time.\\n    Therefore, the total time complexity of the function is O(n), where nn is the length of the input array.\\n'"
      ]
     },
     "execution_count": 5,
     "metadata": {},
     "output_type": "execute_result"
    }
   ],
   "source": [
    "#3\n",
    "def example_function(arr):\n",
    "    result = 0\n",
    "    for element in arr:\n",
    "        result += element\n",
    "    return result\n",
    "\n",
    "'''\n",
    "Time Complexity\n",
    "\n",
    "    The loop runs nn times, where nn is the number of elements in the array arr.\n",
    "    Each iteration of the loop takes O(1) time.\n",
    "    Therefore, the total time complexity of the function is O(n), where nn is the length of the input array.\n",
    "'''"
   ]
  },
  {
   "cell_type": "code",
   "execution_count": 6,
   "id": "38d3e852",
   "metadata": {},
   "outputs": [
    {
     "data": {
      "text/plain": [
       "'\\nTime Complexity\\n\\n    The nested loops dominate the time complexity, which is O(n^2).\\n    The initialization and the max operation contribute O(n) time, but they do not change the overall complexity.\\n'"
      ]
     },
     "execution_count": 6,
     "metadata": {},
     "output_type": "execute_result"
    }
   ],
   "source": [
    "#4\n",
    "def longest_increasing_subsequence(nums):\n",
    "    n = len(nums)\n",
    "    lis = [1] * n\n",
    "    for i in range(1, n):\n",
    "        for j in range(0, i):\n",
    "            if nums[i] > nums[j] and lis[i] < lis[j] + 1:\n",
    "                lis[i] = lis[j] + 1\n",
    "    return max(lis)\n",
    "'''\n",
    "Time Complexity\n",
    "\n",
    "    The nested loops dominate the time complexity, which is O(n^2).\n",
    "    The initialization and the max operation contribute O(n) time, but they do not change the overall complexity.\n",
    "'''"
   ]
  },
  {
   "cell_type": "code",
   "execution_count": 7,
   "id": "4c655718",
   "metadata": {},
   "outputs": [
    {
     "data": {
      "text/plain": [
       "'\\nTime Complexity\\n\\n    The nested loops contribute O(n^2) to the time complexity.\\n    The operations inside the loops (i.e., the multiplication and addition) are O(1) but do not affect the overall O(n^2) complexity.\\n'"
      ]
     },
     "execution_count": 7,
     "metadata": {},
     "output_type": "execute_result"
    }
   ],
   "source": [
    "#5\n",
    "def mysterious_function(arr):\n",
    "    n = len(arr)\n",
    "    result = 0\n",
    "    for i in range(n):\n",
    "        for j in range(i, n):\n",
    "            result += arr[i] * arr[j]\n",
    "    return result\n",
    "'''\n",
    "Time Complexity\n",
    "\n",
    "    The nested loops contribute O(n^2) to the time complexity.\n",
    "    The operations inside the loops (i.e., the multiplication and addition) are O(1) but do not affect the overall O(n^2) complexity.\n",
    "'''"
   ]
  },
  {
   "cell_type": "code",
   "execution_count": 9,
   "id": "36b22180",
   "metadata": {},
   "outputs": [
    {
     "data": {
      "text/plain": [
       "6"
      ]
     },
     "execution_count": 9,
     "metadata": {},
     "output_type": "execute_result"
    }
   ],
   "source": [
    "#6\n",
    "def sum_of_digits(n):\n",
    "    # Base case: if n is a single digit, return n itself\n",
    "    if n < 10:\n",
    "        return n\n",
    "    else:\n",
    "        # Recursive case: sum the last digit and the result of sum_of_digits on the rest of the number\n",
    "        return (n % 10) + sum_of_digits(n // 10)\n",
    "sum_of_digits(123)"
   ]
  },
  {
   "cell_type": "code",
   "execution_count": 11,
   "id": "8871a8cd",
   "metadata": {},
   "outputs": [
    {
     "data": {
      "text/plain": [
       "[0, 1, 1, 2, 3, 5]"
      ]
     },
     "execution_count": 11,
     "metadata": {},
     "output_type": "execute_result"
    }
   ],
   "source": [
    "#7\n",
    "def fibonacci_series(n):\n",
    "    # Base cases\n",
    "    if n <= 0:\n",
    "        return []\n",
    "    elif n == 1:\n",
    "        return [0]\n",
    "    elif n == 2:\n",
    "        return [0, 1]\n",
    "    \n",
    "    # Recursive case\n",
    "    # Get the first n-1 Fibonacci numbers\n",
    "    series = fibonacci_series(n - 1)\n",
    "    # Append the next Fibonacci number\n",
    "    next_number = series[-1] + series[-2]\n",
    "    series.append(next_number)\n",
    "    \n",
    "    return series\n",
    "fibonacci_series(6)"
   ]
  },
  {
   "cell_type": "code",
   "execution_count": 13,
   "id": "53423a90",
   "metadata": {},
   "outputs": [
    {
     "name": "stdout",
     "output_type": "stream",
     "text": [
      "True\n"
     ]
    }
   ],
   "source": [
    "#8\n",
    "def subset_sum(nums, target):\n",
    "    # Base cases\n",
    "    if target == 0:\n",
    "        return True  # An empty subset always sums up to 0\n",
    "    if not nums:\n",
    "        return False  # No more elements to include and target is not 0\n",
    "    \n",
    "    # Get the first element and the rest of the list\n",
    "    current = nums[0]\n",
    "    rest = nums[1:]\n",
    "    \n",
    "    # Check if target can be achieved by including or excluding the current element\n",
    "    if current <= target:\n",
    "        # Include the current element in the subset\n",
    "        include_current = subset_sum(rest, target - current)\n",
    "        # Exclude the current element from the subset\n",
    "        exclude_current = subset_sum(rest, target)\n",
    "        return include_current or exclude_current\n",
    "    else:\n",
    "        # Exclude the current element if it is greater than the target\n",
    "        return subset_sum(rest, target)\n",
    "\n",
    "# Example usage\n",
    "print(subset_sum([3, 34, 4, 12, 5, 2], 9))\n"
   ]
  },
  {
   "cell_type": "code",
   "execution_count": 14,
   "id": "a916eb05",
   "metadata": {},
   "outputs": [
    {
     "name": "stdout",
     "output_type": "stream",
     "text": [
      "True\n",
      "True\n",
      "True\n",
      "False\n"
     ]
    }
   ],
   "source": [
    "#9\n",
    "def word_break(s, word_dict):\n",
    "    # Memoization dictionary\n",
    "    memo = {}\n",
    "\n",
    "    def can_segment(start):\n",
    "        # If we've reached the end of the string, return True\n",
    "        if start == len(s):\n",
    "            return True\n",
    "        \n",
    "        # If the result for this starting index is already computed, return it\n",
    "        if start in memo:\n",
    "            return memo[start]\n",
    "        \n",
    "        # Check all substrings starting from `start`\n",
    "        for end in range(start + 1, len(s) + 1):\n",
    "            # Extract the current substring\n",
    "            substring = s[start:end]\n",
    "            # If the substring is in the dictionary and the rest can be segmented\n",
    "            if substring in word_dict and can_segment(end):\n",
    "                memo[start] = True\n",
    "                return True\n",
    "        \n",
    "        # If no valid segmentation is found, mark this start index as False\n",
    "        memo[start] = False\n",
    "        return False\n",
    "\n",
    "    return can_segment(0)\n",
    "\n",
    "# Example usage\n",
    "word_dict = {\"leet\", \"code\"}\n",
    "print(word_break(\"leetcode\", word_dict))  \n",
    "\n",
    "word_dict = {\"apple\", \"pen\"}\n",
    "print(word_break(\"applepenapple\", word_dict))  \n",
    "\n",
    "word_dict = {\"cats\", \"dog\", \"sand\", \"and\", \"cat\"}\n",
    "print(word_break(\"catsanddog\", word_dict))  \n",
    "\n",
    "word_dict = {\"a\", \"b\", \"c\"}\n",
    "print(word_break(\"abcdef\", word_dict))  \n"
   ]
  },
  {
   "cell_type": "code",
   "execution_count": 15,
   "id": "23706cdd",
   "metadata": {},
   "outputs": [
    {
     "name": "stdout",
     "output_type": "stream",
     "text": [
      "Number of solutions for 4-Queens: 2\n",
      ". Q . .\n",
      ". . . Q\n",
      "Q . . .\n",
      ". . Q .\n",
      "\n",
      ". . Q .\n",
      "Q . . .\n",
      ". . . Q\n",
      ". Q . .\n",
      "\n"
     ]
    }
   ],
   "source": [
    "#10\n",
    "def n_queens(n):\n",
    "    def is_valid(board, row, col):\n",
    "        # Check if the queen can be placed at board[row][col]\n",
    "        for i in range(row):\n",
    "            if board[i] == col or \\\n",
    "               board[i] - i == col - row or \\\n",
    "               board[i] + i == col + row:\n",
    "                return False\n",
    "        return True\n",
    "\n",
    "    def solve(board, row):\n",
    "        if row == n:\n",
    "            # All queens are placed\n",
    "            solutions.append(board.copy())\n",
    "            return\n",
    "        for col in range(n):\n",
    "            if is_valid(board, row, col):\n",
    "                board[row] = col\n",
    "                solve(board, row + 1)\n",
    "                board[row] = -1  # Backtrack\n",
    "\n",
    "    solutions = []\n",
    "    board = [-1] * n\n",
    "    solve(board, 0)\n",
    "    return solutions\n",
    "\n",
    "# Example usage\n",
    "n = 4\n",
    "solutions = n_queens(n)\n",
    "print(f\"Number of solutions for {n}-Queens: {len(solutions)}\")\n",
    "for sol in solutions:\n",
    "    for row in sol:\n",
    "        print(' '.join('Q' if i == row else '.' for i in range(n)))\n",
    "    print()\n"
   ]
  },
  {
   "cell_type": "code",
   "execution_count": null,
   "id": "5c8e86f2",
   "metadata": {},
   "outputs": [],
   "source": []
  }
 ],
 "metadata": {
  "kernelspec": {
   "display_name": "Python 3 (ipykernel)",
   "language": "python",
   "name": "python3"
  },
  "language_info": {
   "codemirror_mode": {
    "name": "ipython",
    "version": 3
   },
   "file_extension": ".py",
   "mimetype": "text/x-python",
   "name": "python",
   "nbconvert_exporter": "python",
   "pygments_lexer": "ipython3",
   "version": "3.10.9"
  }
 },
 "nbformat": 4,
 "nbformat_minor": 5
}
