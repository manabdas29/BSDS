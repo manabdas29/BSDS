{
 "cells": [
  {
   "cell_type": "code",
   "execution_count": 1,
   "id": "38e41e06",
   "metadata": {},
   "outputs": [
    {
     "name": "stdout",
     "output_type": "stream",
     "text": [
      "The element that appears the maximum number of times is: 3\n"
     ]
    }
   ],
   "source": [
    "#1\n",
    "def find_max_frequency_element(arr):\n",
    "    # Step 1: Initialize an empty dictionary to store the frequency of elements\n",
    "    frequency_map = {}\n",
    "    \n",
    "    # Step 2: Traverse the array and count the frequency of each element\n",
    "    for num in arr:\n",
    "        if num in frequency_map:\n",
    "            frequency_map[num] += 1\n",
    "        else:\n",
    "            frequency_map[num] = 1\n",
    "    \n",
    "    # Step 3: Find the element with the maximum frequency\n",
    "    max_count = 0\n",
    "    max_element = None\n",
    "    \n",
    "    for num, count in frequency_map.items():\n",
    "        if count > max_count:\n",
    "            max_count = count\n",
    "            max_element = num\n",
    "    \n",
    "    return max_element\n",
    "\n",
    "# Example usage:\n",
    "arr = [1, 3, 1, 2, 3, 1, 4, 3, 2, 3]\n",
    "result = find_max_frequency_element(arr)\n",
    "print(f\"The element that appears the maximum number of times is: {result}\")\n"
   ]
  },
  {
   "cell_type": "code",
   "execution_count": 2,
   "id": "2bbde9fb",
   "metadata": {},
   "outputs": [
    {
     "name": "stdout",
     "output_type": "stream",
     "text": [
      "The missing number is: 5\n"
     ]
    }
   ],
   "source": [
    "#2\n",
    "def find_missing_number(arr, n):\n",
    "    # Step 1: Compute the expected sum of the first n natural numbers\n",
    "    expected_sum = n * (n + 1) // 2\n",
    "    \n",
    "    # Step 2: Compute the actual sum of the numbers in the array\n",
    "    actual_sum = sum(arr)\n",
    "    \n",
    "    # Step 3: The missing number is the difference between expected and actual sum\n",
    "    missing_number = expected_sum - actual_sum\n",
    "    \n",
    "    return missing_number\n",
    "\n",
    "# Example usage:\n",
    "arr = [1, 2, 4, 6, 3, 7, 8]\n",
    "n = 8  # Since we have numbers from 1 to 8 and 5 is missing\n",
    "result = find_missing_number(arr, n)\n",
    "print(f\"The missing number is: {result}\")"
   ]
  },
  {
   "cell_type": "code",
   "execution_count": 3,
   "id": "7f1a7208",
   "metadata": {},
   "outputs": [
    {
     "name": "stdout",
     "output_type": "stream",
     "text": [
      "The number that appears an odd number of times is: 3\n"
     ]
    }
   ],
   "source": [
    "#3\n",
    "def find_odd_occurrence(arr):\n",
    "    # Initialize result to 0\n",
    "    result = 0\n",
    "    \n",
    "    # XOR all elements\n",
    "    for num in arr:\n",
    "        result ^= num\n",
    "    \n",
    "    # Result now holds the number with odd occurrences\n",
    "    return result\n",
    "\n",
    "# Example usage:\n",
    "arr = [1, 2, 3, 2, 3, 1, 3]\n",
    "missing_number = find_odd_occurrence(arr)\n",
    "print(f\"The number that appears an odd number of times is: {missing_number}\")\n"
   ]
  },
  {
   "cell_type": "code",
   "execution_count": 4,
   "id": "398eb783",
   "metadata": {},
   "outputs": [
    {
     "name": "stdout",
     "output_type": "stream",
     "text": [
      "The pair with sum 17 is: (10, 7)\n"
     ]
    }
   ],
   "source": [
    "#4\n",
    "def find_pair_with_sum(arr, K):\n",
    "    # Initialize an empty set to keep track of elements we've seen\n",
    "    seen = set()\n",
    "    \n",
    "    # Traverse the array\n",
    "    for num in arr:\n",
    "        # Compute the complement\n",
    "        complement = K - num\n",
    "        \n",
    "        # Check if the complement is in the set\n",
    "        if complement in seen:\n",
    "            return (complement, num)\n",
    "        \n",
    "        # Add the current number to the set\n",
    "        seen.add(num)\n",
    "    \n",
    "    # Return None if no pair is found\n",
    "    return None\n",
    "\n",
    "# Example usage:\n",
    "arr = [10, 15, 3, 7]\n",
    "K = 17\n",
    "result = find_pair_with_sum(arr, K)\n",
    "if result:\n",
    "    print(f\"The pair with sum {K} is: {result}\")\n",
    "else:\n",
    "    print(\"No pair with the given sum exists.\")\n"
   ]
  },
  {
   "cell_type": "code",
   "execution_count": 5,
   "id": "de905c0a",
   "metadata": {},
   "outputs": [
    {
     "name": "stdout",
     "output_type": "stream",
     "text": [
      "The pair with the sum closest to zero is: (-80, 85)\n"
     ]
    }
   ],
   "source": [
    "#5\n",
    "def find_closest_pair(arr):\n",
    "    # Step 1: Sort the array\n",
    "    arr.sort()\n",
    "    \n",
    "    # Initialize pointers\n",
    "    left = 0\n",
    "    right = len(arr) - 1\n",
    "    \n",
    "    # Initialize variables to store the closest sum and the pair\n",
    "    closest_sum = float('inf')\n",
    "    closest_pair = (None, None)\n",
    "    \n",
    "    # Step 2: Use two-pointer technique\n",
    "    while left < right:\n",
    "        current_sum = arr[left] + arr[right]\n",
    "        \n",
    "        # Check if the current sum is closer to zero than the previous closest sum\n",
    "        if abs(current_sum) < abs(closest_sum):\n",
    "            closest_sum = current_sum\n",
    "            closest_pair = (arr[left], arr[right])\n",
    "        \n",
    "        # Move pointers based on the current sum\n",
    "        if current_sum > 0:\n",
    "            right -= 1\n",
    "        elif current_sum < 0:\n",
    "            left += 1\n",
    "        else:\n",
    "            # If current_sum is exactly zero, we found the closest possible sum\n",
    "            break\n",
    "    \n",
    "    return closest_pair\n",
    "\n",
    "# Example usage:\n",
    "arr = [1, 60, -10, 70, -80, 85]\n",
    "result = find_closest_pair(arr)\n",
    "print(f\"The pair with the sum closest to zero is: {result}\")\n"
   ]
  },
  {
   "cell_type": "code",
   "execution_count": 6,
   "id": "5431bc1b",
   "metadata": {},
   "outputs": [
    {
     "name": "stdout",
     "output_type": "stream",
     "text": [
      "The triplets with the sum equal to 2 are: [(-2, 0, 4), (-1, 1, 2), (0, 1, 1)]\n"
     ]
    }
   ],
   "source": [
    "#6\n",
    "def find_triplets(arr, K):\n",
    "    # Step 1: Sort the array\n",
    "    arr.sort()\n",
    "    \n",
    "    n = len(arr)\n",
    "    triplets = []\n",
    "    \n",
    "    # Step 2: Iterate through each element to find triplets\n",
    "    for i in range(n - 2):\n",
    "        # Skip duplicate elements to avoid duplicate triplets\n",
    "        if i > 0 and arr[i] == arr[i - 1]:\n",
    "            continue\n",
    "        \n",
    "        # Use two pointers to find the other two elements\n",
    "        left = i + 1\n",
    "        right = n - 1\n",
    "        \n",
    "        while left < right:\n",
    "            current_sum = arr[i] + arr[left] + arr[right]\n",
    "            \n",
    "            if current_sum == K:\n",
    "                triplets.append((arr[i], arr[left], arr[right]))\n",
    "                \n",
    "                # Skip duplicate elements\n",
    "                while left < right and arr[left] == arr[left + 1]:\n",
    "                    left += 1\n",
    "                while left < right and arr[right] == arr[right - 1]:\n",
    "                    right -= 1\n",
    "                \n",
    "                # Move pointers\n",
    "                left += 1\n",
    "                right -= 1\n",
    "            elif current_sum < K:\n",
    "                left += 1\n",
    "            else:\n",
    "                right -= 1\n",
    "    \n",
    "    return triplets\n",
    "\n",
    "# Example usage:\n",
    "arr = [1, 2, -1, 0, -2, 1, 4]\n",
    "K = 2\n",
    "result = find_triplets(arr, K)\n",
    "print(f\"The triplets with the sum equal to {K} are: {result}\")\n"
   ]
  },
  {
   "cell_type": "code",
   "execution_count": 7,
   "id": "bcf6747b",
   "metadata": {},
   "outputs": [
    {
     "name": "stdout",
     "output_type": "stream",
     "text": [
      "The Pythagorean triplet is: (3, 4, 5)\n"
     ]
    }
   ],
   "source": [
    "#7\n",
    "def find_pythagorean_triplet(arr):\n",
    "    # Step 1: Compute squares and store in a set\n",
    "    squares = set(x * x for x in arr)\n",
    "    \n",
    "    # Step 2: Iterate through possible hypotenuses\n",
    "    for k in arr:\n",
    "        k2 = k * k\n",
    "        for i in arr:\n",
    "            if i == k:\n",
    "                continue\n",
    "            i2 = i * i\n",
    "            j2 = k2 - i2\n",
    "            if j2 in squares and j2 != i2:\n",
    "                j = int(j2 ** 0.5)  # Calculate the potential value of j\n",
    "                if j in arr and j != i:\n",
    "                    return (i, j, k)\n",
    "    \n",
    "    return None\n",
    "\n",
    "# Example usage:\n",
    "arr = [3, 4, 5, 6, 8, 10]\n",
    "result = find_pythagorean_triplet(arr)\n",
    "if result:\n",
    "    print(f\"The Pythagorean triplet is: {result}\")\n",
    "else:\n",
    "    print(\"No Pythagorean triplet found.\")\n"
   ]
  },
  {
   "cell_type": "code",
   "execution_count": 8,
   "id": "f24cde8a",
   "metadata": {},
   "outputs": [
    {
     "name": "stdout",
     "output_type": "stream",
     "text": [
      "The majority element is: 3\n"
     ]
    }
   ],
   "source": [
    "#8\n",
    "def find_majority_element(arr):\n",
    "    # Phase 1: Find the candidate\n",
    "    candidate = None\n",
    "    count = 0\n",
    "    \n",
    "    for num in arr:\n",
    "        if count == 0:\n",
    "            candidate = num\n",
    "        count += (1 if num == candidate else -1)\n",
    "    \n",
    "    # Phase 2: Validate the candidate\n",
    "    if candidate is not None:\n",
    "        count = sum(1 for num in arr if num == candidate)\n",
    "        if count > len(arr) // 2:\n",
    "            return candidate\n",
    "    \n",
    "    return None\n",
    "\n",
    "# Example usage:\n",
    "arr = [3, 1, 3, 3, 2, 3, 3]\n",
    "result = find_majority_element(arr)\n",
    "if result is not None:\n",
    "    print(f\"The majority element is: {result}\")\n",
    "else:\n",
    "    print(\"No majority element found.\")\n"
   ]
  },
  {
   "cell_type": "code",
   "execution_count": 9,
   "id": "dc787846",
   "metadata": {},
   "outputs": [
    {
     "name": "stdout",
     "output_type": "stream",
     "text": [
      "The row with the maximum number of 0's is: 3\n"
     ]
    }
   ],
   "source": [
    "#9\n",
    "def find_row_with_max_zeros(matrix):\n",
    "    n = len(matrix)\n",
    "    max_zeros = -1\n",
    "    row_index = -1\n",
    "\n",
    "    # Start from the top-right corner of the matrix\n",
    "    col = n - 1\n",
    "\n",
    "    for row in range(n):\n",
    "        # Move left while current element is 0\n",
    "        while col >= 0 and matrix[row][col] == 0:\n",
    "            col -= 1\n",
    "        \n",
    "        # Number of zeros in the current row\n",
    "        num_zeros = n - (col + 1)\n",
    "        \n",
    "        # Update if the current row has more zeros\n",
    "        if num_zeros > max_zeros:\n",
    "            max_zeros = num_zeros\n",
    "            row_index = row\n",
    "    \n",
    "    return row_index\n",
    "\n",
    "# Example usage:\n",
    "matrix = [\n",
    "    [1, 1, 1, 0, 0],\n",
    "    [1, 1, 0, 0, 0],\n",
    "    [1, 0, 0, 0, 0],\n",
    "    [0, 0, 0, 0, 0]\n",
    "]\n",
    "\n",
    "result = find_row_with_max_zeros(matrix)\n",
    "print(f\"The row with the maximum number of 0's is: {result}\")\n"
   ]
  },
  {
   "cell_type": "code",
   "execution_count": 10,
   "id": "3da74107",
   "metadata": {},
   "outputs": [
    {
     "name": "stdout",
     "output_type": "stream",
     "text": [
      "Sorted array: [0, 0, 0, 0, 0, 1, 1, 1, 1, 1, 2, 2]\n"
     ]
    }
   ],
   "source": [
    "#10\n",
    "def sort_012(arr):\n",
    "    low, mid, high = 0, 0, len(arr) - 1\n",
    "    \n",
    "    while mid <= high:\n",
    "        if arr[mid] == 0:\n",
    "            arr[low], arr[mid] = arr[mid], arr[low]\n",
    "            low += 1\n",
    "            mid += 1\n",
    "        elif arr[mid] == 1:\n",
    "            mid += 1\n",
    "        else:  # arr[mid] == 2\n",
    "            arr[high], arr[mid] = arr[mid], arr[high]\n",
    "            high -= 1\n",
    "\n",
    "# Example usage:\n",
    "arr = [0, 1, 1, 0, 1, 2, 1, 2, 0, 0, 0, 1]\n",
    "sort_012(arr)\n",
    "print(f\"Sorted array: {arr}\")\n"
   ]
  },
  {
   "cell_type": "code",
   "execution_count": null,
   "id": "a04d78fb",
   "metadata": {},
   "outputs": [],
   "source": []
  }
 ],
 "metadata": {
  "kernelspec": {
   "display_name": "Python 3 (ipykernel)",
   "language": "python",
   "name": "python3"
  },
  "language_info": {
   "codemirror_mode": {
    "name": "ipython",
    "version": 3
   },
   "file_extension": ".py",
   "mimetype": "text/x-python",
   "name": "python",
   "nbconvert_exporter": "python",
   "pygments_lexer": "ipython3",
   "version": "3.10.9"
  }
 },
 "nbformat": 4,
 "nbformat_minor": 5
}
