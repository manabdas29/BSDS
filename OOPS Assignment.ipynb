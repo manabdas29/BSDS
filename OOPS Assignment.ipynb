{
 "cells": [
  {
   "cell_type": "code",
   "execution_count": 1,
   "id": "e072291f",
   "metadata": {},
   "outputs": [
    {
     "name": "stdout",
     "output_type": "stream",
     "text": [
      "<__main__.Car object at 0x000002BAAB850940>\n"
     ]
    },
    {
     "data": {
      "text/plain": [
       "'In this example, the `__init__` method serves as the constructor for the `Car` class. When an instance of the `Car` \\nclass is created, the `__init__` method is automatically called to initialize the `make`, `model`, and `year` \\nattributes of the object.'"
      ]
     },
     "execution_count": 1,
     "metadata": {},
     "output_type": "execute_result"
    }
   ],
   "source": [
    "#1. What is a constructor in Python? Explain its purpose and usage.\n",
    "\"\"\"In Python, a constructor is a special method within a class that is automatically called when a new instance of the \n",
    "class is created. The purpose of a constructor is to initialize the attributes of the object. \n",
    "\n",
    "The constructor method in Python is denoted by `__init__` and it is used to perform any necessary initialization \n",
    "tasks when creating an object of the class. It takes the `self` parameter, which refers to the instance of the class, \n",
    "and any other parameters that are required to initialize the object's attributes.\n",
    "\n",
    "Here's an example of a simple class with a constructor in Python:\n",
    "\n",
    "```python\"\"\"\n",
    "class Car:\n",
    "    def __init__(self, make, model, year):\n",
    "        self.make = make\n",
    "        self.model = model\n",
    "        self.year = year\n",
    "\n",
    "my_car = Car(\"Toyota\", \"Corolla\", 2022)\n",
    "print(my_car)\n",
    "\n",
    "\"\"\"In this example, the `__init__` method serves as the constructor for the `Car` class. When an instance of the `Car` \n",
    "class is created, the `__init__` method is automatically called to initialize the `make`, `model`, and `year` \n",
    "attributes of the object.\"\"\"\n"
   ]
  },
  {
   "cell_type": "code",
   "execution_count": 2,
   "id": "bbf9bd8c",
   "metadata": {},
   "outputs": [
    {
     "data": {
      "text/plain": [
       "'\\nIn Python, a parameterless constructor is a constructor that does not accept any parameters other than the default `self` parameter. It is denoted by `__init__(self)` and is used to perform initialization tasks without requiring any external input.\\n\\nOn the other hand, a parameterized constructor in Python is a constructor that accepts parameters in addition to the `self` parameter. It is denoted by `__init__(self, param1, param2, ...)`, where `param1`, `param2`, etc., are the parameters used to initialize the attributes of the object.\\n\\nHere\\'s a simple example to illustrate the difference:\\n\\nParameterless Constructor:\\n```python\\nclass ParameterlessExample:\\n    def __init__(self):\\n        self.message = \"Hello, I am a parameterless constructor\"\\n```\\n\\nParameterized Constructor:\\n```python\\nclass ParameterizedExample:\\n    def __init__(self, name, age):\\n        self.name = name\\n        self.age = age\\n```\\n\\nIn the first example, `ParameterlessExample` has a parameterless constructor that initializes the `message` attribute. In the second example, `ParameterizedExample` has a parameterized constructor that takes `name` and `age` as parameters to initialize the object\\'s attributes.\\n'"
      ]
     },
     "execution_count": 2,
     "metadata": {},
     "output_type": "execute_result"
    }
   ],
   "source": [
    "#2. Differentiate between a parameterless constructor and a parameterized constructor in Python.\n",
    "\n",
    "\n",
    "\n",
    "\"\"\"\n",
    "In Python, a parameterless constructor is a constructor that does not accept any parameters other than the default `self` parameter. It is denoted by `__init__(self)` and is used to perform initialization tasks without requiring any external input.\n",
    "\n",
    "On the other hand, a parameterized constructor in Python is a constructor that accepts parameters in addition to the `self` parameter. It is denoted by `__init__(self, param1, param2, ...)`, where `param1`, `param2`, etc., are the parameters used to initialize the attributes of the object.\n",
    "\n",
    "Here's a simple example to illustrate the difference:\n",
    "\n",
    "Parameterless Constructor:\n",
    "```python\n",
    "class ParameterlessExample:\n",
    "    def __init__(self):\n",
    "        self.message = \"Hello, I am a parameterless constructor\"\n",
    "```\n",
    "\n",
    "Parameterized Constructor:\n",
    "```python\n",
    "class ParameterizedExample:\n",
    "    def __init__(self, name, age):\n",
    "        self.name = name\n",
    "        self.age = age\n",
    "```\n",
    "\n",
    "In the first example, `ParameterlessExample` has a parameterless constructor that initializes the `message` attribute. In the second example, `ParameterizedExample` has a parameterized constructor that takes `name` and `age` as parameters to initialize the object's attributes.\n",
    "\"\"\""
   ]
  },
  {
   "cell_type": "code",
   "execution_count": 3,
   "id": "0ec047f0",
   "metadata": {},
   "outputs": [
    {
     "data": {
      "text/plain": [
       "'\\nIn Python, a constructor is defined within a class using a special method called `__init__`. Here\\'s an example of how to define a constructor in a Python class:\\n\\n```python\\nclass Car:\\n    def __init__(self, make, model, year):\\n        self.make = make\\n        self.model = model\\n        self.year = year\\n\\nmy_car = Car(\"Toyota\", \"Corolla\", 2022)\\n```\\n\\nIn this example:\\n- The `Car` class has a constructor defined as `__init__(self, make, model, year)`.\\n- Inside the constructor, the `make`, `model`, and `year` attributes of the object are initialized using the parameters passed to the constructor.\\n- When an instance of the `Car` class is created (`my_car`), the constructor `__init__` is automatically called to initialize the object\\'s attributes.\\n'"
      ]
     },
     "execution_count": 3,
     "metadata": {},
     "output_type": "execute_result"
    }
   ],
   "source": [
    "#3. How do you define a constructor in a Python class? Provide an example.\n",
    "\n",
    "'''\n",
    "In Python, a constructor is defined within a class using a special method called `__init__`. Here's an example of how to define a constructor in a Python class:\n",
    "\n",
    "```python\n",
    "class Car:\n",
    "    def __init__(self, make, model, year):\n",
    "        self.make = make\n",
    "        self.model = model\n",
    "        self.year = year\n",
    "\n",
    "my_car = Car(\"Toyota\", \"Corolla\", 2022)\n",
    "```\n",
    "\n",
    "In this example:\n",
    "- The `Car` class has a constructor defined as `__init__(self, make, model, year)`.\n",
    "- Inside the constructor, the `make`, `model`, and `year` attributes of the object are initialized using the parameters passed to the constructor.\n",
    "- When an instance of the `Car` class is created (`my_car`), the constructor `__init__` is automatically called to initialize the object's attributes.\n",
    "'''"
   ]
  },
  {
   "cell_type": "code",
   "execution_count": 4,
   "id": "02a4febc",
   "metadata": {},
   "outputs": [
    {
     "data": {
      "text/plain": [
       "\"\\nIn Python, the `__init__` method is a special method used as a constructor within a class. Its role is to initialize the attributes of an object when an instance of the class is created.\\n\\nKey points about the `__init__` method and its role in constructors:\\n- The `__init__` method is automatically called when a new instance of the class is created.\\n- It is used to initialize the object's attributes by accepting parameters and assigning values to the object's attributes.\\n- The `self` parameter in the `__init__` method refers to the instance of the class being created, and it is used to access and modify the object's attributes.\\n\\nHere's a summary of its key role:\\n- Initializes the state of the object by setting initial attribute values.\\n- Allows for customization of object initialization based on provided parameters.\\n- Provides a way to perform any necessary setup or initialization tasks when creating an object of the class.\\n\""
      ]
     },
     "execution_count": 4,
     "metadata": {},
     "output_type": "execute_result"
    }
   ],
   "source": [
    "#4. Explain the `__init__` method in Python and its role in constructors.\n",
    "\n",
    "'''\n",
    "In Python, the `__init__` method is a special method used as a constructor within a class. Its role is to initialize the attributes of an object when an instance of the class is created.\n",
    "\n",
    "Key points about the `__init__` method and its role in constructors:\n",
    "- The `__init__` method is automatically called when a new instance of the class is created.\n",
    "- It is used to initialize the object's attributes by accepting parameters and assigning values to the object's attributes.\n",
    "- The `self` parameter in the `__init__` method refers to the instance of the class being created, and it is used to access and modify the object's attributes.\n",
    "\n",
    "Here's a summary of its key role:\n",
    "- Initializes the state of the object by setting initial attribute values.\n",
    "- Allows for customization of object initialization based on provided parameters.\n",
    "- Provides a way to perform any necessary setup or initialization tasks when creating an object of the class.\n",
    "'''"
   ]
  },
  {
   "cell_type": "code",
   "execution_count": 6,
   "id": "9995b6ad",
   "metadata": {},
   "outputs": [
    {
     "name": "stdout",
     "output_type": "stream",
     "text": [
      "Manab\n",
      "33\n"
     ]
    }
   ],
   "source": [
    "#5. In a class named `Person`, create a constructor that initializes the `name` and `age` attributes. Provide an example of creating an object of this class.\n",
    "class pearson:\n",
    "    def __init__(self,name,age):\n",
    "        self.nm=name\n",
    "        self.ag=age\n",
    "new_prsn=pearson('Manab', 33)\n",
    "print(new_prsn.nm)\n",
    "print(new_prsn.ag)"
   ]
  },
  {
   "cell_type": "code",
   "execution_count": 9,
   "id": "d593d79e",
   "metadata": {},
   "outputs": [
    {
     "name": "stdout",
     "output_type": "stream",
     "text": [
      "Bob\n",
      "30\n"
     ]
    }
   ],
   "source": [
    "#6. How can you call a constructor explicitly in Python? Give an example.\n",
    "class Person:\n",
    "    def __init__(self, name, age):\n",
    "        self.name = name\n",
    "        self.age = age\n",
    "\n",
    "# Explicitly calling the constructor\n",
    "person2 = Person(\"Bob\", 30)\n",
    "print(person2.name)  \n",
    "print(person2.age)   \n"
   ]
  },
  {
   "cell_type": "code",
   "execution_count": 1,
   "id": "6c815de3",
   "metadata": {},
   "outputs": [
    {
     "data": {
      "text/plain": [
       "'\\nIn Python, the `self` parameter in constructors refers to the instance of the class itself. It is used to access and modify the instance\\'s attributes within the class.\\n\\nHere\\'s an example:\\n\\n```python\\nclass Car:\\n    def __init__(self, make, model):\\n        self.make = make\\n        self.model = model\\n\\nmy_car = Car(\"Toyota\", \"Corolla\")\\nprint(my_car.make)  # Output: Toyota\\nprint(my_car.model)  # Output: Corolla\\n```\\nIn this example, `self` is used to assign the values of `make` and `model` to the specific instance `my_car`.\\n'"
      ]
     },
     "execution_count": 1,
     "metadata": {},
     "output_type": "execute_result"
    }
   ],
   "source": [
    "#7. What is the significance of the `self` parameter in Python constructors? Explain with an example.\n",
    "'''\n",
    "In Python, the `self` parameter in constructors refers to the instance of the class itself. It is used to access and modify the instance's attributes within the class.\n",
    "\n",
    "Here's an example:\n",
    "\n",
    "```python\n",
    "class Car:\n",
    "    def __init__(self, make, model):\n",
    "        self.make = make\n",
    "        self.model = model\n",
    "\n",
    "my_car = Car(\"Toyota\", \"Corolla\")\n",
    "print(my_car.make)  # Output: Toyota\n",
    "print(my_car.model)  # Output: Corolla\n",
    "```\n",
    "In this example, `self` is used to assign the values of `make` and `model` to the specific instance `my_car`.\n",
    "'''\n"
   ]
  },
  {
   "cell_type": "code",
   "execution_count": 2,
   "id": "23a4f775",
   "metadata": {},
   "outputs": [
    {
     "data": {
      "text/plain": [
       "'\\nIn Python, default constructors are constructors that are automatically called when an object is created without \\nexplicitly defining a constructor in the class. \\nThey are used when no explicit constructor is defined in the class, and they initialize the object with default values.\\n\\nDefault constructors are useful when you want to ensure that an object is initialized with certain default values even \\nif no specific values are provided during object creation.\\n'"
      ]
     },
     "execution_count": 2,
     "metadata": {},
     "output_type": "execute_result"
    }
   ],
   "source": [
    "#8. Discuss the concept of default constructors in Python. When are they used?\n",
    "'''\n",
    "In Python, default constructors are constructors that are automatically called when an object is created without \n",
    "explicitly defining a constructor in the class. \n",
    "They are used when no explicit constructor is defined in the class, and they initialize the object with default values.\n",
    "\n",
    "Default constructors are useful when you want to ensure that an object is initialized with certain default values even \n",
    "if no specific values are provided during object creation.\n",
    "'''"
   ]
  },
  {
   "cell_type": "code",
   "execution_count": 3,
   "id": "3fe8213f",
   "metadata": {},
   "outputs": [
    {
     "data": {
      "text/plain": [
       "'Area of the ractangle =120'"
      ]
     },
     "execution_count": 3,
     "metadata": {},
     "output_type": "execute_result"
    }
   ],
   "source": [
    "#9. Create a Python class called `Rectangle` with a constructor that initializes the `width` and `height` attributes. Provide a method to calculate the area of the rectangle.\n",
    "class rectangle:\n",
    "    def __init__(self,width,height):\n",
    "        self.width=width\n",
    "        self.height=height\n",
    "    def area(self):\n",
    "        area=self.width*self.height\n",
    "        return f'Area of the ractangle ={area}'\n",
    "ar=rectangle(12,10)\n",
    "ar.area()"
   ]
  },
  {
   "cell_type": "code",
   "execution_count": 12,
   "id": "affefa31",
   "metadata": {},
   "outputs": [
    {
     "name": "stdout",
     "output_type": "stream",
     "text": [
      "<__main__.Car object at 0x0000025CFB62D960>\n",
      "<__main__.Car object at 0x0000025CFB62F8B0>\n",
      "<__main__.Car object at 0x0000025CF9F36590>\n"
     ]
    }
   ],
   "source": [
    "#10. How can you have multiple constructors in a Python class? Explain with an example.\n",
    "\n",
    "class Car:\n",
    "    def __init__(self, brand, model, year):\n",
    "        self.brand = brand\n",
    "        self.model = model\n",
    "        self.year = year\n",
    "\n",
    "    @classmethod\n",
    "    def from_string(cls, car_string):\n",
    "        brand, model, year = car_string.split('-')\n",
    "        return cls(brand, model, year)\n",
    "\n",
    "    @classmethod\n",
    "    def from_dict(cls, car_dict):\n",
    "        return cls(car_dict['brand'], car_dict['model'], car_dict['year'])\n",
    "\n",
    "# Using the alternative constructors\n",
    "car1 = Car('Toyota', 'Corolla', 2022)\n",
    "car2 = Car.from_string('Honda-Civic-2020')\n",
    "car3 = Car.from_dict({'brand': 'Ford', 'model': 'Mustang', 'year': 2023})\n",
    "\n",
    "print(car1)\n",
    "print(car2)\n",
    "print(car3)"
   ]
  },
  {
   "cell_type": "code",
   "execution_count": 1,
   "id": "403b2785",
   "metadata": {},
   "outputs": [
    {
     "data": {
      "text/plain": [
       "'\\nMethod overloading is a feature in object-oriented programming languages that allows a class to have multiple methods with \\nthe same name but different parameters. In Python, method overloading is not directly supported as it is in some other \\nlanguages like Java or C++. However, Python allows a single method to be defined with the same name but different numbers \\nor types of parameters. This is known as \"ad hoc\" polymorphism, and it is achieved through default parameter values, \\nvariable-length argument lists, or keyword arguments.\\n\\nWhen it comes to constructors in Python, method overloading is related to the concept of having multiple constructors \\nwith different parameter signatures in a class. In Python, the constructor method is named `__init__`, and it can be \\noverloaded by defining multiple `__init__` methods with different parameter lists. This allows the class to be initialized \\nin different ways depending on the parameters provided.\\n\\nOverall, while Python does not have explicit support for method overloading, it does provide flexibility in defining \\nmethods with different parameter lists, including constructors.\\n'"
      ]
     },
     "execution_count": 1,
     "metadata": {},
     "output_type": "execute_result"
    }
   ],
   "source": [
    "#11. What is method overloading, and how is it related to constructors in Python?\n",
    "'''\n",
    "Method overloading is a feature in object-oriented programming languages that allows a class to have multiple methods with \n",
    "the same name but different parameters. In Python, method overloading is not directly supported as it is in some other \n",
    "languages like Java or C++. However, Python allows a single method to be defined with the same name but different numbers \n",
    "or types of parameters. This is known as \"ad hoc\" polymorphism, and it is achieved through default parameter values, \n",
    "variable-length argument lists, or keyword arguments.\n",
    "\n",
    "When it comes to constructors in Python, method overloading is related to the concept of having multiple constructors \n",
    "with different parameter signatures in a class. In Python, the constructor method is named `__init__`, and it can be \n",
    "overloaded by defining multiple `__init__` methods with different parameter lists. This allows the class to be initialized \n",
    "in different ways depending on the parameters provided.\n",
    "\n",
    "Overall, while Python does not have explicit support for method overloading, it does provide flexibility in defining \n",
    "methods with different parameter lists, including constructors.\n",
    "'''"
   ]
  },
  {
   "cell_type": "code",
   "execution_count": 4,
   "id": "e29744ac",
   "metadata": {},
   "outputs": [
    {
     "data": {
      "text/plain": [
       "'\\nIn Python, the `super()` function is used in constructors to call the constructor of the parent class (also known as the superclass or base class). This is particularly useful in situations where a subclass needs to extend or override the behavior of the parent class while still ensuring that the parent class\\'s constructor is executed. The `super()` function provides a way to access the methods and attributes of the parent class within the subclass.\\n\\nHere\\'s an example to illustrate the use of the `super()` function in Python constructors:\\n\\n```python\\nclass Vehicle:\\n    def __init__(self, color, max_speed):\\n        self.color = color\\n        self.max_speed = max_speed\\n\\n    def display_info(self):\\n        print(f\"Color: {self.color}\")\\n        print(f\"Max Speed: {self.max_speed} mph\")\\n\\nclass Car(Vehicle):\\n    def __init__(self, color, max_speed, brand):\\n        super().__init__(color, max_speed)  # Call the constructor of the parent class\\n        self.brand = brand\\n\\n    def display_info(self):\\n        super().display_info()  # Call the display_info method of the parent class\\n        print(f\"Brand: {self.brand}\")\\n\\n# Create a Car object\\ncar1 = Car(\"Red\", 150, \"Toyota\")\\n# Display car information\\ncar1.display_info()\\n```\\n\\nIn this example:\\n- We have a `Vehicle` class with a constructor that initializes `color` and `max_speed` attributes, as well as a method to display vehicle information.\\n- The `Car` class is a subclass of `Vehicle` and has its own constructor that initializes `color`, `max_speed`, and `brand` attributes. The `super().__init__(color, max_speed)` line in the `Car` constructor calls the constructor of the `Vehicle` class to initialize the `color` and `max_speed` attributes.\\n- The `display_info` method in the `Car` class calls `super().display_info()` to invoke the `display_info` method of the `Vehicle` class and then adds additional information specific to cars.\\n\\nWhen we create a `Car` object and call its `display_info` method, it will display both the vehicle information from the parent class and the brand information specific to cars.\\n'"
      ]
     },
     "execution_count": 4,
     "metadata": {},
     "output_type": "execute_result"
    }
   ],
   "source": [
    "#12. Explain the use of the `super()` function in Python constructors. Provide an example.\n",
    "\n",
    "'''\n",
    "In Python, the `super()` function is used in constructors to call the constructor of the parent class (also known as the superclass or base class). This is particularly useful in situations where a subclass needs to extend or override the behavior of the parent class while still ensuring that the parent class's constructor is executed. The `super()` function provides a way to access the methods and attributes of the parent class within the subclass.\n",
    "\n",
    "Here's an example to illustrate the use of the `super()` function in Python constructors:\n",
    "\n",
    "```python\n",
    "class Vehicle:\n",
    "    def __init__(self, color, max_speed):\n",
    "        self.color = color\n",
    "        self.max_speed = max_speed\n",
    "\n",
    "    def display_info(self):\n",
    "        print(f\"Color: {self.color}\")\n",
    "        print(f\"Max Speed: {self.max_speed} mph\")\n",
    "\n",
    "class Car(Vehicle):\n",
    "    def __init__(self, color, max_speed, brand):\n",
    "        super().__init__(color, max_speed)  # Call the constructor of the parent class\n",
    "        self.brand = brand\n",
    "\n",
    "    def display_info(self):\n",
    "        super().display_info()  # Call the display_info method of the parent class\n",
    "        print(f\"Brand: {self.brand}\")\n",
    "\n",
    "# Create a Car object\n",
    "car1 = Car(\"Red\", 150, \"Toyota\")\n",
    "# Display car information\n",
    "car1.display_info()\n",
    "```\n",
    "\n",
    "In this example:\n",
    "- We have a `Vehicle` class with a constructor that initializes `color` and `max_speed` attributes, as well as a method to display vehicle information.\n",
    "- The `Car` class is a subclass of `Vehicle` and has its own constructor that initializes `color`, `max_speed`, and `brand` attributes. The `super().__init__(color, max_speed)` line in the `Car` constructor calls the constructor of the `Vehicle` class to initialize the `color` and `max_speed` attributes.\n",
    "- The `display_info` method in the `Car` class calls `super().display_info()` to invoke the `display_info` method of the `Vehicle` class and then adds additional information specific to cars.\n",
    "\n",
    "When we create a `Car` object and call its `display_info` method, it will display both the vehicle information from the parent class and the brand information specific to cars.\n",
    "'''"
   ]
  },
  {
   "cell_type": "code",
   "execution_count": 2,
   "id": "b6cb503b",
   "metadata": {},
   "outputs": [
    {
     "data": {
      "text/plain": [
       "'Here\\'s a Python class called `Book` with a constructor that initializes the `title`, `author`, and `published_year` attributes, as well as a method to display book details:\\n\\n```python\\nclass Book:\\n    def __init__(self, title, author, published_year):\\n        self.title = title\\n        self.author = author\\n        self.published_year = published_year\\n\\n    def display_details(self):\\n        print(f\"Title: {self.title}\")\\n        print(f\"Author: {self.author}\")\\n        print(f\"Published Year: {self.published_year}\")\\n\\n# Example usage:\\n# Create a Book object\\nbook1 = Book(\"The Great Gatsby\", \"F. Scott Fitzgerald\", 1925)\\n# Display book details\\nbook1.display_details()\\n```\\n\\nIn this example, the `Book` class has a constructor `__init__` that takes the `title`, `author`, and `published_year` as parameters and initializes the corresponding attributes. The `display_details` method is used to display the details of the book, including its title, author, and published year.\\n\\nYou can create a `Book` object and call the `display_details` method to see the book details printed to the console.'"
      ]
     },
     "execution_count": 2,
     "metadata": {},
     "output_type": "execute_result"
    }
   ],
   "source": [
    "#13. Create a class called `Book` with a constructor that initializes the `title`, `author`, and `published_year` attributes. Provide a method to display book details.\n",
    "\n",
    "'''Here's a Python class called `Book` with a constructor that initializes the `title`, `author`, and `published_year` attributes, as well as a method to display book details:\n",
    "\n",
    "```python\n",
    "class Book:\n",
    "    def __init__(self, title, author, published_year):\n",
    "        self.title = title\n",
    "        self.author = author\n",
    "        self.published_year = published_year\n",
    "\n",
    "    def display_details(self):\n",
    "        print(f\"Title: {self.title}\")\n",
    "        print(f\"Author: {self.author}\")\n",
    "        print(f\"Published Year: {self.published_year}\")\n",
    "\n",
    "# Example usage:\n",
    "# Create a Book object\n",
    "book1 = Book(\"The Great Gatsby\", \"F. Scott Fitzgerald\", 1925)\n",
    "# Display book details\n",
    "book1.display_details()\n",
    "```\n",
    "\n",
    "In this example, the `Book` class has a constructor `__init__` that takes the `title`, `author`, and `published_year` as parameters and initializes the corresponding attributes. The `display_details` method is used to display the details of the book, including its title, author, and published year.\n",
    "\n",
    "You can create a `Book` object and call the `display_details` method to see the book details printed to the console.'''"
   ]
  },
  {
   "cell_type": "code",
   "execution_count": 3,
   "id": "928b714c",
   "metadata": {},
   "outputs": [
    {
     "data": {
      "text/plain": [
       "\"\\nIn Python, constructors and regular methods in classes serve different purposes and have distinct characteristics. Here are the key differences between constructors and regular methods in Python classes:\\n\\n1. Purpose:\\n   - Constructor: The constructor method, named `__init__`, is used to initialize the object's attributes when an instance of the class is created. It is called automatically when an object is instantiated.\\n   - Regular Method: Regular methods are used to define the behavior of the class. They can perform various operations on the object's attributes and can be called explicitly by the object.\\n\\n2. Invocation:\\n   - Constructor: The constructor is automatically invoked when an object of the class is created using the class name followed by parentheses, such as `obj = ClassName()`.\\n   - Regular Method: Regular methods are invoked by using the object name followed by a dot and the method name, such as `obj.method_name()`.\\n\\n3. Name and Signature:\\n   - Constructor: The constructor method has a fixed name `__init__` and is defined with the `def` keyword. It can take parameters to initialize the object's attributes.\\n   - Regular Method: Regular methods have arbitrary names and can take parameters as needed. They are also defined with the `def` keyword.\\n\\n4. Return Value:\\n   - Constructor: The constructor does not return any value explicitly. Its primary purpose is to initialize the object's state.\\n   - Regular Method: Regular methods can return values as needed based on their functionality.\\n\\n5. Usage:\\n   - Constructor: The constructor is used to set up the initial state of the object by initializing its attributes.\\n   - Regular Method: Regular methods define the behavior of the object and can perform various operations on the object's attributes.\\n\\nIn summary, constructors are special methods used for initializing object attributes when an instance of the class is created, while regular methods define the behavior and operations that can be performed on objects of the class. Each serves a distinct purpose within a Python class.\\n\""
      ]
     },
     "execution_count": 3,
     "metadata": {},
     "output_type": "execute_result"
    }
   ],
   "source": [
    "#14. Discuss the differences between constructors and regular methods in Python classes.\n",
    "'''\n",
    "In Python, constructors and regular methods in classes serve different purposes and have distinct characteristics. Here are the key differences between constructors and regular methods in Python classes:\n",
    "\n",
    "1. Purpose:\n",
    "   - Constructor: The constructor method, named `__init__`, is used to initialize the object's attributes when an instance of the class is created. It is called automatically when an object is instantiated.\n",
    "   - Regular Method: Regular methods are used to define the behavior of the class. They can perform various operations on the object's attributes and can be called explicitly by the object.\n",
    "\n",
    "2. Invocation:\n",
    "   - Constructor: The constructor is automatically invoked when an object of the class is created using the class name followed by parentheses, such as `obj = ClassName()`.\n",
    "   - Regular Method: Regular methods are invoked by using the object name followed by a dot and the method name, such as `obj.method_name()`.\n",
    "\n",
    "3. Name and Signature:\n",
    "   - Constructor: The constructor method has a fixed name `__init__` and is defined with the `def` keyword. It can take parameters to initialize the object's attributes.\n",
    "   - Regular Method: Regular methods have arbitrary names and can take parameters as needed. They are also defined with the `def` keyword.\n",
    "\n",
    "4. Return Value:\n",
    "   - Constructor: The constructor does not return any value explicitly. Its primary purpose is to initialize the object's state.\n",
    "   - Regular Method: Regular methods can return values as needed based on their functionality.\n",
    "\n",
    "5. Usage:\n",
    "   - Constructor: The constructor is used to set up the initial state of the object by initializing its attributes.\n",
    "   - Regular Method: Regular methods define the behavior of the object and can perform various operations on the object's attributes.\n",
    "\n",
    "In summary, constructors are special methods used for initializing object attributes when an instance of the class is created, while regular methods define the behavior and operations that can be performed on objects of the class. Each serves a distinct purpose within a Python class.\n",
    "'''\n"
   ]
  },
  {
   "cell_type": "code",
   "execution_count": null,
   "id": "4602135d",
   "metadata": {},
   "outputs": [],
   "source": [
    "#15. Explain the role of the `self` parameter in instance variable initialization within a constructor.\n",
    "'''\n",
    "The `self` parameter in Python plays a crucial role in instance variable initialization within a constructor. When a class method, including the constructor, is called, the instance object is automatically passed as the first argument to the method. By convention, this first parameter is named `self`, and it is used to refer to the instance of the class within the method.\n",
    "\n",
    "In the context of instance variable initialization within a constructor:\n",
    "1. **Accessing Instance Variables**: Within the constructor and other class methods, the `self` parameter is used to access and modify instance variables. For example, `self.attribute_name` refers to an instance variable of the class.\n",
    "\n",
    "2. **Initializing Instance Variables**: In the constructor (`__init__` method), the `self` parameter is used to initialize instance variables specific to each instance of the class. When an object is created, the `__init__` method is called, and it uses the `self` parameter to set up the initial state of the object by assigning values to its instance variables.\n",
    "\n",
    "3. **Instance-Specific Access**: The `self` parameter allows each instance of the class to have its own set of instance variables. When a method is called on an object, `self` ensures that the method operates on the specific instance's data.\n",
    "\n",
    "Here's an example to illustrate the role of the `self` parameter in instance variable initialization within a constructor:\n",
    "\n",
    "```python\n",
    "class Person:\n",
    "    def __init__(self, name, age):\n",
    "        self.name = name  # Initialize instance variable 'name'\n",
    "        self.age = age    # Initialize instance variable 'age'\n",
    "\n",
    "    def display_info(self):\n",
    "        print(f\"Name: {self.name}, Age: {self.age}\")\n",
    "\n",
    "# Create two Person objects\n",
    "person1 = Person(\"Alice\", 25)\n",
    "person2 = Person(\"Bob\", 30)\n",
    "\n",
    "# Display information for each person\n",
    "person1.display_info()  # Output: Name: Alice, Age: 25\n",
    "person2.display_info()  # Output: Name: Bob, Age: 30\n",
    "```\n",
    "\n",
    "In this example:\n",
    "- The `__init__` method initializes the `name` and `age` instance variables using the `self` parameter.\n",
    "- When `person1` and `person2` are created, their respective `name` and `age` instance variables are initialized with specific values using the `self` parameter.\n",
    "- When the `display_info` method is called on each person object, it uses `self` to access and display the specific instance's name and age.\n",
    "\n",
    "In summary, the `self` parameter allows Python classes to create and manage instance-specific data by providing a reference to the instance within class methods, including the constructor.\n",
    "'''"
   ]
  },
  {
   "cell_type": "code",
   "execution_count": 5,
   "id": "7f08f952",
   "metadata": {},
   "outputs": [
    {
     "data": {
      "text/plain": [
       "\"\\nIn Python, you can prevent a class from having multiple instances by implementing the Singleton design pattern. The Singleton pattern ensures that a class has only one instance and provides a global point of access to that instance.\\n\\nTo implement the Singleton pattern in Python using constructors, you can use a class variable to store the single instance and a method to create or retrieve that instance. Here's an example of how to achieve this:\\n\\n```python\\nclass SingletonClass:\\n    _instance = None  # Class variable to store the single instance\\n\\n    def __new__(cls):\\n        if cls._instance is None:\\n            cls._instance = super(SingletonClass, cls).__new__(cls)\\n        return cls._instance\\n\\n# Example usage:\\n# Create instances of SingletonClass\\ninstance1 = SingletonClass()\\ninstance2 = SingletonClass()\\n\\nprint(instance1 is instance2)  # Output: True (both variables reference the same instance)\\n```\\n\\nIn this example:\\n- The `__new__` method is used to create or retrieve the single instance of the class. It checks if the class variable `_instance` is `None`, and if so, it creates a new instance using the `super().__new__` method. If the instance already exists, it returns the existing instance.\\n- When `instance1` and `instance2` are created, they both refer to the same instance of the `SingletonClass`. This demonstrates that only one instance of the class exists.\\n\\nBy using this approach, you can ensure that only one instance of the class is created, effectively preventing multiple instances from being created.\\n\""
      ]
     },
     "execution_count": 5,
     "metadata": {},
     "output_type": "execute_result"
    }
   ],
   "source": [
    "#16. How do you prevent a class from having multiple instances by using constructors in Python? Provide an example.\n",
    "'''\n",
    "In Python, you can prevent a class from having multiple instances by implementing the Singleton design pattern. The Singleton pattern ensures that a class has only one instance and provides a global point of access to that instance.\n",
    "\n",
    "To implement the Singleton pattern in Python using constructors, you can use a class variable to store the single instance and a method to create or retrieve that instance. Here's an example of how to achieve this:\n",
    "\n",
    "```python\n",
    "class SingletonClass:\n",
    "    _instance = None  # Class variable to store the single instance\n",
    "\n",
    "    def __new__(cls):\n",
    "        if cls._instance is None:\n",
    "            cls._instance = super(SingletonClass, cls).__new__(cls)\n",
    "        return cls._instance\n",
    "\n",
    "# Example usage:\n",
    "# Create instances of SingletonClass\n",
    "instance1 = SingletonClass()\n",
    "instance2 = SingletonClass()\n",
    "\n",
    "print(instance1 is instance2)  # Output: True (both variables reference the same instance)\n",
    "```\n",
    "\n",
    "In this example:\n",
    "- The `__new__` method is used to create or retrieve the single instance of the class. It checks if the class variable `_instance` is `None`, and if so, it creates a new instance using the `super().__new__` method. If the instance already exists, it returns the existing instance.\n",
    "- When `instance1` and `instance2` are created, they both refer to the same instance of the `SingletonClass`. This demonstrates that only one instance of the class exists.\n",
    "\n",
    "By using this approach, you can ensure that only one instance of the class is created, effectively preventing multiple instances from being created.\n",
    "'''"
   ]
  },
  {
   "cell_type": "code",
   "execution_count": 1,
   "id": "80f1233f",
   "metadata": {},
   "outputs": [],
   "source": [
    "#17. Create a Python class called `Student` with a constructor that takes a list of subjects as a parameter and initializes the `subjects` attribute.\n",
    "class Student:\n",
    "    def __init__(self, subjects):\n",
    "        self.subjects = subjects"
   ]
  },
  {
   "cell_type": "code",
   "execution_count": 2,
   "id": "b533e15f",
   "metadata": {},
   "outputs": [
    {
     "data": {
      "text/plain": [
       "\"\\nThe `__del__` method in Python classes is a special method that serves as the destructor. It is called when an object is about to be destroyed and its memory is being reclaimed. The purpose of the `__del__` method is to perform any necessary cleanup or resource release before the object is destroyed.\\n\\nThe `__del__` method is related to constructors in the sense that while the constructor (`__init__` method) is responsible for initializing an object when it is created, the `__del__` method is responsible for performing any necessary cleanup when the object is about to be destroyed.\\n\\nIt's important to note that the `__del__` method is not guaranteed to be called, and its usage is generally discouraged in favor of using context managers and the `with` statement for resource cleanup. This is because the timing of when the `__del__` method is called is not deterministic and can lead to unexpected behavior.\\n\""
      ]
     },
     "execution_count": 2,
     "metadata": {},
     "output_type": "execute_result"
    }
   ],
   "source": [
    "#18. What is the purpose of the `__del__` method in Python classes, and how does it relate to constructors?\n",
    "'''\n",
    "The `__del__` method in Python classes is a special method that serves as the destructor. It is called when an object is about to be destroyed and its memory is being reclaimed. The purpose of the `__del__` method is to perform any necessary cleanup or resource release before the object is destroyed.\n",
    "\n",
    "The `__del__` method is related to constructors in the sense that while the constructor (`__init__` method) is responsible for initializing an object when it is created, the `__del__` method is responsible for performing any necessary cleanup when the object is about to be destroyed.\n",
    "\n",
    "It's important to note that the `__del__` method is not guaranteed to be called, and its usage is generally discouraged in favor of using context managers and the `with` statement for resource cleanup. This is because the timing of when the `__del__` method is called is not deterministic and can lead to unexpected behavior.\n",
    "'''"
   ]
  },
  {
   "cell_type": "code",
   "execution_count": 4,
   "id": "40e4dfb5",
   "metadata": {},
   "outputs": [
    {
     "name": "stdout",
     "output_type": "stream",
     "text": [
      "Person constructor called\n",
      "Student constructor called\n"
     ]
    },
    {
     "data": {
      "text/plain": [
       "'In this example, the `Student` class inherits from the `Person` class. The `__init__` method of the `Student` class calls the `__init__` method of the `Person` class using `super().__init__(name)`. This allows the `name` attribute to be initialized in both the `Person` and `Student` classes without duplicating code.\\n\\nWhen an instance of the `Student` class is created, both the `Person` and `Student` constructors are called, and the attributes are initialized accordingly.\\n\\nThis is a practical example of how constructor chaining can be used to reuse code and initialize attributes in a class hierarchy.'"
      ]
     },
     "execution_count": 4,
     "metadata": {},
     "output_type": "execute_result"
    }
   ],
   "source": [
    "#19. Explain the use of constructor chaining in Python. Provide a practical example.\n",
    "'''Constructor chaining in Python refers to the process of calling one constructor from another constructor in a class hierarchy. This allows for the reusability of code and the ability to initialize attributes in different constructors.\n",
    "\n",
    "In Python, constructor chaining is achieved using the `super()` function, which allows you to call methods of a base class from a derived class.\n",
    "\n",
    "Here's an example of constructor chaining in Python:'''\n",
    "\n",
    "\n",
    "class Person:\n",
    "    def __init__(self, name):\n",
    "        self.name = name\n",
    "        print(\"Person constructor called\")\n",
    "\n",
    "class Student(Person):\n",
    "    def __init__(self, name, student_id):\n",
    "        super().__init__(name)  # Call the constructor of the base class\n",
    "        self.student_id = student_id\n",
    "        print(\"Student constructor called\")\n",
    "\n",
    "student = Student(\"Alice\", \"S12345\")\n",
    "\n",
    "\n",
    "'''In this example, the `Student` class inherits from the `Person` class. The `__init__` method of the `Student` class calls the `__init__` method of the `Person` class using `super().__init__(name)`. This allows the `name` attribute to be initialized in both the `Person` and `Student` classes without duplicating code.\n",
    "\n",
    "When an instance of the `Student` class is created, both the `Person` and `Student` constructors are called, and the attributes are initialized accordingly.\n",
    "\n",
    "This is a practical example of how constructor chaining can be used to reuse code and initialize attributes in a class hierarchy.'''"
   ]
  },
  {
   "cell_type": "code",
   "execution_count": 5,
   "id": "fd749506",
   "metadata": {},
   "outputs": [
    {
     "name": "stdout",
     "output_type": "stream",
     "text": [
      "Car Make: Toyota, Model: Camry\n"
     ]
    }
   ],
   "source": [
    "#20. Create a Python class called `Car` with a default constructor that initializes the `make` and `model` attributes. Provide a method to display car information.\n",
    "class Car:\n",
    "    def __init__(self, make, model):\n",
    "        self.make = make\n",
    "        self.model = model\n",
    "\n",
    "    def display_info(self):\n",
    "        print(f\"Car Make: {self.make}, Model: {self.model}\")\n",
    "car1 = Car(\"Toyota\", \"Camry\")\n",
    "car1.display_info()"
   ]
  },
  {
   "cell_type": "markdown",
   "id": "0819b5d9",
   "metadata": {},
   "source": [
    "# Inheritance:"
   ]
  },
  {
   "cell_type": "code",
   "execution_count": 1,
   "id": "357cced7",
   "metadata": {},
   "outputs": [
    {
     "data": {
      "text/plain": [
       "'\\nInheritance in Python is a powerful feature of object-oriented programming that allows a new class to inherit properties and behavior from an existing class. The existing class is referred to as the parent or base class, and the new class is known as the child or derived class.\\n\\nWhen a class inherits from another class, it gains access to the attributes and methods of the parent class. This means that the child class can reuse the code of the parent class, which promotes code reusability and helps in creating a hierarchy of classes.\\n\\nThe significance of inheritance in object-oriented programming includes:\\n\\n1. Reusability: Inheritance allows the child class to inherit the attributes and methods of the parent class, reducing code duplication and promoting reusability.\\n\\n2. Extensibility: It enables the creation of new classes that are built upon existing classes, allowing for the extension of functionality without modifying the original class.\\n\\n3. Modularity: Inheritance promotes modularity by organizing classes into a hierarchy, making it easier to manage and maintain code.\\n\\n4. Polymorphism: It facilitates polymorphism, allowing objects of different classes to be treated as objects of a common parent class, which can be useful for writing more generic and flexible code.\\n\\nOverall, inheritance is a fundamental concept in object-oriented programming that supports the creation of well-structured and maintainable code by facilitating code reuse and promoting modularity and extensibility.\\n'"
      ]
     },
     "execution_count": 1,
     "metadata": {},
     "output_type": "execute_result"
    }
   ],
   "source": [
    "#1. What is inheritance in Python? Explain its significance in object-oriented programming\n",
    "'''\n",
    "Inheritance in Python is a powerful feature of object-oriented programming that allows a new class to inherit properties and behavior from an existing class. The existing class is referred to as the parent or base class, and the new class is known as the child or derived class.\n",
    "\n",
    "When a class inherits from another class, it gains access to the attributes and methods of the parent class. This means that the child class can reuse the code of the parent class, which promotes code reusability and helps in creating a hierarchy of classes.\n",
    "\n",
    "The significance of inheritance in object-oriented programming includes:\n",
    "\n",
    "1. Reusability: Inheritance allows the child class to inherit the attributes and methods of the parent class, reducing code duplication and promoting reusability.\n",
    "\n",
    "2. Extensibility: It enables the creation of new classes that are built upon existing classes, allowing for the extension of functionality without modifying the original class.\n",
    "\n",
    "3. Modularity: Inheritance promotes modularity by organizing classes into a hierarchy, making it easier to manage and maintain code.\n",
    "\n",
    "4. Polymorphism: It facilitates polymorphism, allowing objects of different classes to be treated as objects of a common parent class, which can be useful for writing more generic and flexible code.\n",
    "\n",
    "Overall, inheritance is a fundamental concept in object-oriented programming that supports the creation of well-structured and maintainable code by facilitating code reuse and promoting modularity and extensibility.\n",
    "'''"
   ]
  },
  {
   "cell_type": "code",
   "execution_count": 4,
   "id": "e93b7e0e",
   "metadata": {},
   "outputs": [
    {
     "name": "stdout",
     "output_type": "stream",
     "text": [
      "Some generic sound\n",
      "Woof!\n",
      "Driving the car\n",
      "Flying the plane\n",
      "Taking off\n"
     ]
    }
   ],
   "source": [
    "#2. Differentiate between single inheritance and multiple inheritance in Python. Provide examples for each\n",
    "\n",
    "'''Single Inheritance:\n",
    "- Single inheritance refers to the scenario where a class inherits from only one parent class.\n",
    "- In single inheritance, the child class inherits the attributes and methods of a single parent class.\n",
    "- It promotes a simple and linear hierarchy of classes.\n",
    "\n",
    "Example of single inheritance:'''\n",
    "\n",
    "class Animal:\n",
    "    def make_sound(self):\n",
    "        print(\"Some generic sound\")\n",
    "\n",
    "class Dog(Animal):\n",
    "    def bark(self):\n",
    "        print(\"Woof!\")\n",
    "\n",
    "\n",
    "my_dog = Dog()\n",
    "my_dog.make_sound()  \n",
    "my_dog.bark()       \n",
    "\n",
    "\n",
    "'''Multiple Inheritance:\n",
    "- Multiple inheritance refers to the scenario where a class inherits from more than one parent class.\n",
    "- In multiple inheritance, the child class inherits the attributes and methods of multiple parent classes.\n",
    "- It allows for the combination of features from different parent classes, but it can lead to complex class hierarchies.\n",
    "\n",
    "Example of multiple inheritance:'''\n",
    "\n",
    "\n",
    "class Car:\n",
    "    def drive(self):\n",
    "        print(\"Driving the car\")\n",
    "\n",
    "class Plane:\n",
    "    def fly(self):\n",
    "        print(\"Flying the plane\")\n",
    "\n",
    "class FlyingCar(Car, Plane):\n",
    "    def take_off(self):\n",
    "        print(\"Taking off\")\n",
    "\n",
    "\n",
    "my_flying_car = FlyingCar()\n",
    "my_flying_car.drive()  \n",
    "my_flying_car.fly()   \n",
    "my_flying_car.take_off()  "
   ]
  },
  {
   "cell_type": "code",
   "execution_count": 5,
   "id": "ac90073a",
   "metadata": {},
   "outputs": [
    {
     "name": "stdout",
     "output_type": "stream",
     "text": [
      "Red\n",
      "60\n",
      "Toyota\n"
     ]
    }
   ],
   "source": [
    "#3. Create a Python class called `Vehicle` with attributes `color` and `speed`. Then, create a child class called `Car` that inherits from `Vehicle` and adds a `brand` attribute. Provide an example of creating a `Car` object.\n",
    "class Vehicle:\n",
    "    def __init__(self, color, speed):\n",
    "        self.color = color\n",
    "        self.speed = speed\n",
    "\n",
    "class Car(Vehicle):\n",
    "    def __init__(self, color, speed, brand):\n",
    "        super().__init__(color, speed)\n",
    "        self.brand = brand\n",
    "\n",
    "\n",
    "my_car = Car(\"Red\", 60, \"Toyota\")\n",
    "print(my_car.color) \n",
    "print(my_car.speed) \n",
    "print(my_car.brand)  \n",
    "\n"
   ]
  },
  {
   "cell_type": "code",
   "execution_count": 6,
   "id": "651c000b",
   "metadata": {},
   "outputs": [
    {
     "name": "stdout",
     "output_type": "stream",
     "text": [
      "Some generic sound\n",
      "Woof!\n"
     ]
    }
   ],
   "source": [
    "#4. Explain the concept of method overriding in inheritance. Provide a practical example.\n",
    "\n",
    "class Animal:\n",
    "    def make_sound(self):\n",
    "        print(\"Some generic sound\")\n",
    "\n",
    "class Dog(Animal):\n",
    "    def make_sound(self):\n",
    "        print(\"Woof!\")\n",
    "\n",
    "my_animal = Animal()\n",
    "my_dog = Dog()\n",
    "\n",
    "my_animal.make_sound() \n",
    "my_dog.make_sound()     \n"
   ]
  },
  {
   "cell_type": "code",
   "execution_count": 7,
   "id": "dd08d2e7",
   "metadata": {},
   "outputs": [
    {
     "name": "stdout",
     "output_type": "stream",
     "text": [
      "Color: Red, Speed: 60 km/h\n",
      "Brand: Toyota\n"
     ]
    }
   ],
   "source": [
    "#5. How can you access the methods and attributes of a parent class from a child class in Python? Give an example.\n",
    "\n",
    "class Vehicle:\n",
    "    def __init__(self, color, speed):\n",
    "        self.color = color\n",
    "        self.speed = speed\n",
    "\n",
    "    def info(self):\n",
    "        print(f\"Color: {self.color}, Speed: {self.speed} km/h\")\n",
    "\n",
    "class Car(Vehicle):\n",
    "    def __init__(self, color, speed, brand):\n",
    "        super().__init__(color, speed)\n",
    "        self.brand = brand\n",
    "\n",
    "    def car_info(self):\n",
    "        super().info()\n",
    "        print(f\"Brand: {self.brand}\")\n",
    "\n",
    "my_car = Car(\"Red\", 60, \"Toyota\")\n",
    "my_car.car_info()\n"
   ]
  },
  {
   "cell_type": "code",
   "execution_count": 8,
   "id": "e3c82cf2",
   "metadata": {},
   "outputs": [
    {
     "name": "stdout",
     "output_type": "stream",
     "text": [
      "Color: Red, Speed: 60 km/h\n",
      "Brand: Toyota\n"
     ]
    }
   ],
   "source": [
    "#6. Discuss the use of the `super()` function in Python inheritance. When and why is it used? Provide an example.\n",
    "\n",
    "class Vehicle:\n",
    "    def __init__(self, color, speed):\n",
    "        self.color = color\n",
    "        self.speed = speed\n",
    "\n",
    "    def info(self):\n",
    "        print(f\"Color: {self.color}, Speed: {self.speed} km/h\")\n",
    "\n",
    "class Car(Vehicle):\n",
    "    def __init__(self, color, speed, brand):\n",
    "        super().__init__(color, speed)  # Calling the parent class's __init__ method\n",
    "        self.brand = brand\n",
    "\n",
    "    def car_info(self):\n",
    "        super().info()  # Calling the parent class's info method\n",
    "        print(f\"Brand: {self.brand}\")\n",
    "\n",
    "\n",
    "my_car = Car(\"Red\", 60, \"Toyota\")\n",
    "my_car.car_info()\n"
   ]
  },
  {
   "cell_type": "code",
   "execution_count": 9,
   "id": "edb30453",
   "metadata": {},
   "outputs": [
    {
     "name": "stdout",
     "output_type": "stream",
     "text": [
      "Woof!\n",
      "Meow!\n"
     ]
    }
   ],
   "source": [
    "#7. Create a Python class called `Animal` with a method `speak()`. Then, create child classes `Dog` and `Cat` that inherit from `Animal` and override the `speak()` method. Provide an example of using these classes.\n",
    "\n",
    "class Animal:\n",
    "    def speak(self):\n",
    "        print(\"Some generic sound\")\n",
    "\n",
    "class Dog(Animal):\n",
    "    def speak(self):\n",
    "        print(\"Woof!\")\n",
    "\n",
    "class Cat(Animal):\n",
    "    def speak(self):\n",
    "        print(\"Meow!\")\n",
    "\n",
    "\n",
    "my_dog = Dog()\n",
    "my_cat = Cat()\n",
    "\n",
    "my_dog.speak()  # Output: Woof!\n",
    "my_cat.speak()  # Output: Meow!\n"
   ]
  },
  {
   "cell_type": "code",
   "execution_count": 10,
   "id": "7ae0f8c5",
   "metadata": {},
   "outputs": [
    {
     "name": "stdout",
     "output_type": "stream",
     "text": [
      "True\n",
      "True\n",
      "True\n",
      "True\n",
      "False\n"
     ]
    }
   ],
   "source": [
    "#8. Explain the role of the `isinstance()` function in Python and how it relates to inheritance.\n",
    "\n",
    "class Animal:\n",
    "    pass\n",
    "\n",
    "class Dog(Animal):\n",
    "    pass\n",
    "\n",
    "class Cat(Animal):\n",
    "    pass\n",
    "\n",
    "# Creating instances of the classes\n",
    "my_animal = Animal()\n",
    "my_dog = Dog()\n",
    "my_cat = Cat()\n",
    "\n",
    "\n",
    "print(isinstance(my_dog, Dog))   # Output: True\n",
    "print(isinstance(my_dog, Animal))  # Output: True\n",
    "print(isinstance(my_cat, Cat))    # Output: True\n",
    "print(isinstance(my_cat, Animal))  # Output: True\n",
    "print(isinstance(my_animal, Dog))  # Output: False\n"
   ]
  },
  {
   "cell_type": "code",
   "execution_count": 11,
   "id": "add225f6",
   "metadata": {},
   "outputs": [
    {
     "name": "stdout",
     "output_type": "stream",
     "text": [
      "True\n"
     ]
    }
   ],
   "source": [
    "#9. What is the purpose of the `issubclass()` function in Python? Provide an example.\n",
    "\n",
    "class Animal:\n",
    "    pass\n",
    "\n",
    "class Dog(Animal):\n",
    "    pass\n",
    "\n",
    "print(issubclass(Dog, Animal))  # Output: True\n"
   ]
  },
  {
   "cell_type": "code",
   "execution_count": 12,
   "id": "a28ea5b4",
   "metadata": {},
   "outputs": [
    {
     "name": "stdout",
     "output_type": "stream",
     "text": [
      "Vehicle constructor called\n",
      "Car constructor called\n"
     ]
    }
   ],
   "source": [
    "#10. Discuss the concept of constructor inheritance in Python. How are constructors inherited in child classes?\n",
    "\n",
    "class Vehicle:\n",
    "    def __init__(self, color, speed):\n",
    "        self.color = color\n",
    "        self.speed = speed\n",
    "        print(\"Vehicle constructor called\")\n",
    "\n",
    "class Car(Vehicle):\n",
    "    def __init__(self, color, speed, brand):\n",
    "        super().__init__(color, speed)  # Calling the parent class's constructor\n",
    "        self.brand = brand\n",
    "        print(\"Car constructor called\")\n",
    "\n",
    "# Creating a Car object\n",
    "my_car = Car(\"Red\", 60, \"Toyota\")\n"
   ]
  },
  {
   "cell_type": "code",
   "execution_count": 13,
   "id": "2013228c",
   "metadata": {},
   "outputs": [
    {
     "name": "stdout",
     "output_type": "stream",
     "text": [
      "Area of the circle: 78.53981633974483\n",
      "Area of the rectangle: 24\n"
     ]
    }
   ],
   "source": [
    "#11. Create a Python class called `Shape` with a method `area()` that calculates the area of a shape. Then, create child classes `Circle` and `Rectangle` that inherit from `Shape` and implement the `area()` method accordingly. Provide an example.\n",
    "import math\n",
    "\n",
    "class Shape:\n",
    "    def area(self):\n",
    "        pass\n",
    "\n",
    "class Circle(Shape):\n",
    "    def __init__(self, radius):\n",
    "        self.radius = radius\n",
    "\n",
    "    def area(self):\n",
    "        return math.pi * self.radius ** 2\n",
    "\n",
    "class Rectangle(Shape):\n",
    "    def __init__(self, width, height):\n",
    "        self.width = width\n",
    "        self.height = height\n",
    "\n",
    "    def area(self):\n",
    "        return self.width * self.height\n",
    "\n",
    "# Creating instances of the classes\n",
    "my_circle = Circle(5)\n",
    "my_rectangle = Rectangle(4, 6)\n",
    "\n",
    "# Calculating the area of the shapes\n",
    "print(\"Area of the circle:\", my_circle.area())  # Output: Area of the circle: 78.53981633974483\n",
    "print(\"Area of the rectangle:\", my_rectangle.area())  # Output: Area of the rectangle: 24\n",
    "\n"
   ]
  },
  {
   "cell_type": "code",
   "execution_count": 14,
   "id": "79743b3e",
   "metadata": {},
   "outputs": [
    {
     "name": "stdout",
     "output_type": "stream",
     "text": [
      "Area of the circle: 78.5\n"
     ]
    }
   ],
   "source": [
    "#12. Explain the use of abstract base classes (ABCs) in Python and how they relate to inheritance. Provide an example using the `abc` module.\n",
    "from abc import ABC, abstractmethod\n",
    "\n",
    "class Shape(ABC):\n",
    "    @abstractmethod\n",
    "    def area(self):\n",
    "        pass\n",
    "\n",
    "class Circle(Shape):\n",
    "    def __init__(self, radius):\n",
    "        self.radius = radius\n",
    "\n",
    "    def area(self):\n",
    "        return 3.14 * self.radius ** 2\n",
    "\n",
    "# Creating an instance of the Circle class\n",
    "my_circle = Circle(5)\n",
    "print(\"Area of the circle:\", my_circle.area())  # Output: Area of the circle: 78.5\n",
    "\n"
   ]
  },
  {
   "cell_type": "code",
   "execution_count": 15,
   "id": "d2f6f48c",
   "metadata": {},
   "outputs": [
    {
     "name": "stdout",
     "output_type": "stream",
     "text": [
      "10\n",
      "10\n"
     ]
    }
   ],
   "source": [
    "#13. How can you prevent a child class from modifying certain attributes or methods inherited from a parent class in Python?\n",
    "\n",
    "class Parent:\n",
    "    def __init__(self):\n",
    "        self.__protected_attribute = 10  # Using name mangling to protect the attribute\n",
    "\n",
    "    @property\n",
    "    def protected_attribute(self):\n",
    "        return self.__protected_attribute  # Creating a read-only property using @property\n",
    "\n",
    "class Child(Parent):\n",
    "    def __init__(self):\n",
    "        super().__init__()\n",
    "\n",
    "    def modify_protected(self, new_value):\n",
    "        # Attempting to modify the protected attribute\n",
    "        self.__protected_attribute = new_value  # This will not modify the parent's attribute due to name mangling\n",
    "\n",
    "# Creating instances of the classes\n",
    "parent = Parent()\n",
    "child = Child()\n",
    "\n",
    "# Attempting to modify the protected attribute\n",
    "print(parent.protected_attribute)  # Output: 10\n",
    "child.modify_protected(20)\n",
    "print(parent.protected_attribute)  # Output: 10 (remains unchanged)\n"
   ]
  },
  {
   "cell_type": "code",
   "execution_count": 16,
   "id": "ce49734e",
   "metadata": {},
   "outputs": [
    {
     "name": "stdout",
     "output_type": "stream",
     "text": [
      "Alice\n",
      "75000\n",
      "Sales\n"
     ]
    }
   ],
   "source": [
    "#14. Create a Python class called `Employee` with attributes `name` and `salary`. Then, create a child class `Manager` that inherits from `Employee` and adds an attribute `department`. Provide an example.\n",
    "\n",
    "class Employee:\n",
    "    def __init__(self, name, salary):\n",
    "        self.name = name\n",
    "        self.salary = salary\n",
    "\n",
    "class Manager(Employee):\n",
    "    def __init__(self, name, salary, department):\n",
    "        super().__init__(name, salary)\n",
    "        self.department = department\n",
    "\n",
    "# Creating an instance of the Manager class\n",
    "manager = Manager(\"Alice\", 75000, \"Sales\")\n",
    "print(manager.name)  # Output: Alice\n",
    "print(manager.salary)  # Output: 75000\n",
    "print(manager.department)  # Output: Sales\n"
   ]
  },
  {
   "cell_type": "code",
   "execution_count": 17,
   "id": "d071989a",
   "metadata": {},
   "outputs": [
    {
     "data": {
      "text/plain": [
       "'\\nIn Python, method overloading refers to the ability to define multiple methods with the same name in a class, but with different parameter lists. However, unlike some other programming languages, Python does not support method overloading in the traditional sense. In Python, the last method definition with a given name and parameter list in a class will override any earlier definitions, effectively replacing them. Therefore, method overloading as seen in other languages is not directly supported in Python.\\n\\nOn the other hand, method overriding, which was discussed earlier, refers to the ability of a child class to provide a specific implementation of a method that is already defined in its parent class. When a method is overridden in the child class, the child class provides its own implementation of the method, which replaces the implementation inherited from the parent class.\\n\\nThe key difference between method overloading and method overriding is that method overloading involves having multiple methods with the same name but different parameter lists within the same class, while method overriding involves redefining a method in the child class that is already defined in the parent class.\\n\\nIn summary, while method overloading is not directly supported in Python, method overriding is a fundamental concept in Python inheritance and allows for specific implementations of methods to be provided in child classes, replacing the inherited implementations from the parent class.\\n'"
      ]
     },
     "execution_count": 17,
     "metadata": {},
     "output_type": "execute_result"
    }
   ],
   "source": [
    "#15. Discuss the concept of method overloading in Python inheritance. How does it differ from method overriding?\n",
    "\n",
    "'''\n",
    "In Python, method overloading refers to the ability to define multiple methods with the same name in a class, but with different parameter lists. However, unlike some other programming languages, Python does not support method overloading in the traditional sense. In Python, the last method definition with a given name and parameter list in a class will override any earlier definitions, effectively replacing them. Therefore, method overloading as seen in other languages is not directly supported in Python.\n",
    "\n",
    "On the other hand, method overriding, which was discussed earlier, refers to the ability of a child class to provide a specific implementation of a method that is already defined in its parent class. When a method is overridden in the child class, the child class provides its own implementation of the method, which replaces the implementation inherited from the parent class.\n",
    "\n",
    "The key difference between method overloading and method overriding is that method overloading involves having multiple methods with the same name but different parameter lists within the same class, while method overriding involves redefining a method in the child class that is already defined in the parent class.\n",
    "\n",
    "In summary, while method overloading is not directly supported in Python, method overriding is a fundamental concept in Python inheritance and allows for specific implementations of methods to be provided in child classes, replacing the inherited implementations from the parent class.\n",
    "'''"
   ]
  },
  {
   "cell_type": "code",
   "execution_count": 19,
   "id": "42252ce2",
   "metadata": {},
   "outputs": [
    {
     "name": "stdout",
     "output_type": "stream",
     "text": [
      "Alice\n",
      "25\n"
     ]
    },
    {
     "data": {
      "text/plain": [
       "'In this example, the `Child` class calls the `__init__()` method of the `Parent` class using `super().__init__(name)` to initialize the `name` attribute inherited from the parent class. It then initializes its own attribute `age`. This demonstrates how the `__init__()` method is utilized in child classes to properly initialize both inherited and specific attributes.\\n'"
      ]
     },
     "execution_count": 19,
     "metadata": {},
     "output_type": "execute_result"
    }
   ],
   "source": [
    "#16. Explain the purpose of the `__init__()` method in Python inheritance and how it is utilized in child classes.\n",
    "'''The `__init__()` method in Python is a special method used as a constructor for a class. It is called automatically when an instance of the class is created. The primary purpose of the `__init__()` method is to initialize the attributes of the object.\n",
    "\n",
    "In the context of inheritance, the `__init__()` method plays a crucial role in initializing the attributes of both the parent class and the child class. When a child class is created, its `__init__()` method can call the `__init__()` method of the parent class using `super()` to initialize the attributes inherited from the parent class. This allows for proper initialization of both the inherited attributes and the new attributes specific to the child class.\n",
    "\n",
    "Here's an example to illustrate how the `__init__()` method is utilized in child classes:'''\n",
    "\n",
    "\n",
    "class Parent:\n",
    "    def __init__(self, name):\n",
    "        self.name = name\n",
    "\n",
    "class Child(Parent):\n",
    "    def __init__(self, name, age):\n",
    "        super().__init__(name)  # Calling the parent class's __init__ method\n",
    "        self.age = age\n",
    "\n",
    "# Creating an instance of the Child class\n",
    "child = Child(\"Alice\", 25)\n",
    "print(child.name)  # Output: Alice\n",
    "print(child.age)   # Output: 25\n",
    "\n",
    "\n",
    "'''In this example, the `Child` class calls the `__init__()` method of the `Parent` class using `super().__init__(name)` to initialize the `name` attribute inherited from the parent class. It then initializes its own attribute `age`. This demonstrates how the `__init__()` method is utilized in child classes to properly initialize both inherited and specific attributes.\n",
    "'''"
   ]
  },
  {
   "cell_type": "code",
   "execution_count": 20,
   "id": "4b680f53",
   "metadata": {},
   "outputs": [
    {
     "name": "stdout",
     "output_type": "stream",
     "text": [
      "Soaring high in the sky\n",
      "Flitting through the air\n"
     ]
    }
   ],
   "source": [
    "#17. Create a Python class called `Bird` with a method `fly()`. Then, create child classes `Eagle` and `Sparrow` that inherit from `Bird` and implement the `fly()` method differently. Provide an example of using these classes.\n",
    "class Bird:\n",
    "    def fly(self):\n",
    "        print(\"Some generic flying\")\n",
    "\n",
    "class Eagle(Bird):\n",
    "    def fly(self):\n",
    "        print(\"Soaring high in the sky\")\n",
    "\n",
    "class Sparrow(Bird):\n",
    "    def fly(self):\n",
    "        print(\"Flitting through the air\")\n",
    "\n",
    "# Creating instances of the classes\n",
    "eagle = Eagle()\n",
    "sparrow = Sparrow()\n",
    "\n",
    "# Calling the fly method for each bird\n",
    "eagle.fly()  # Output: Soaring high in the sky\n",
    "sparrow.fly()  # Output: Flitting through the air\n",
    "\n"
   ]
  },
  {
   "cell_type": "code",
   "execution_count": 21,
   "id": "d8cb1c24",
   "metadata": {},
   "outputs": [
    {
     "data": {
      "text/plain": [
       "'\\nThe \"diamond problem\" is a common issue that arises in programming languages that support multiple inheritance, such as C++ and Python. It occurs when a class inherits from two distinct classes that have a common ancestor. This creates a diamond-shaped inheritance hierarchy, leading to potential conflicts and ambiguity in the inheritance of methods and attributes.\\n\\nIn the context of Python, the diamond problem can be illustrated as follows:\\n\\n```\\n    A\\n   /   B   C\\n   \\\\ /\\n    D\\n```\\n\\nIn this example, classes `B` and `C` both inherit from class `A`, and class `D` inherits from both `B` and `C`. If classes `B` and `C` have overridden methods or conflicting attributes inherited from `A`, it can lead to ambiguity and potential conflicts in the `D` class.\\n\\nTo address the diamond problem, Python uses a mechanism called Method Resolution Order (MRO) to determine the order in which methods are inherited from the parent classes. Python\\'s MRO algorithm ensures that methods and attributes are inherited in a consistent and unambiguous way.\\n\\nPython\\'s MRO algorithm follows the C3 linearization algorithm, which provides a specific order in which the base classes are searched for methods and attributes. This order ensures that methods are inherited in a predictable and unambiguous manner, resolving the diamond problem.\\n\\nBy using MRO, Python addresses the diamond problem by providing a clear and deterministic method resolution order, ensuring that conflicts are resolved in a consistent way without ambiguity. This allows for safe and predictable multiple inheritance in Python.\\n'"
      ]
     },
     "execution_count": 21,
     "metadata": {},
     "output_type": "execute_result"
    }
   ],
   "source": [
    "#18. What is the \"diamond problem\" in multiple inheritance, and how does Python address it?\n",
    "\n",
    "'''\n",
    "The \"diamond problem\" is a common issue that arises in programming languages that support multiple inheritance, such as C++ and Python. It occurs when a class inherits from two distinct classes that have a common ancestor. This creates a diamond-shaped inheritance hierarchy, leading to potential conflicts and ambiguity in the inheritance of methods and attributes.\n",
    "\n",
    "In the context of Python, the diamond problem can be illustrated as follows:\n",
    "\n",
    "```\n",
    "    A\n",
    "   / \\\n",
    "  B   C\n",
    "   \\ /\n",
    "    D\n",
    "```\n",
    "\n",
    "In this example, classes `B` and `C` both inherit from class `A`, and class `D` inherits from both `B` and `C`. If classes `B` and `C` have overridden methods or conflicting attributes inherited from `A`, it can lead to ambiguity and potential conflicts in the `D` class.\n",
    "\n",
    "To address the diamond problem, Python uses a mechanism called Method Resolution Order (MRO) to determine the order in which methods are inherited from the parent classes. Python's MRO algorithm ensures that methods and attributes are inherited in a consistent and unambiguous way.\n",
    "\n",
    "Python's MRO algorithm follows the C3 linearization algorithm, which provides a specific order in which the base classes are searched for methods and attributes. This order ensures that methods are inherited in a predictable and unambiguous manner, resolving the diamond problem.\n",
    "\n",
    "By using MRO, Python addresses the diamond problem by providing a clear and deterministic method resolution order, ensuring that conflicts are resolved in a consistent way without ambiguity. This allows for safe and predictable multiple inheritance in Python.\n",
    "'''"
   ]
  },
  {
   "cell_type": "code",
   "execution_count": 22,
   "id": "f228c3a0",
   "metadata": {},
   "outputs": [
    {
     "data": {
      "text/plain": [
       "'In the \"has-a\" relationship example, the `Car` class has an `Engine` as one of its components, demonstrating the \"has-a\" relationship through composition.\\n\\nIn summary, the \"is-a\" relationship is based on inheritance and represents a specialization hierarchy, while the \"has-a\" relationship is based on composition and represents a containment hierarchy. Both relationships are fundamental concepts in object-oriented programming and are used to model real-world relationships between objects.'"
      ]
     },
     "execution_count": 22,
     "metadata": {},
     "output_type": "execute_result"
    }
   ],
   "source": [
    "#19. Discuss the concept of \"is-a\" and \"has-a\" relationships in inheritance, and provide examples of each.\n",
    "\n",
    "'''The \"is-a\" and \"has-a\" relationships are concepts used in object-oriented programming, particularly in the context of inheritance and composition.\n",
    "\n",
    "\"Is-a\" Relationship:\n",
    "- The \"is-a\" relationship is based on inheritance and represents a relationship where one class is a specialized version of another class.\n",
    "- It signifies that an object of a child class is also an object of the parent class.\n",
    "- This relationship is typically implemented using inheritance, with the child class inheriting properties and behaviors from the parent class.\n",
    "\n",
    "Example of \"is-a\" relationship:\n",
    "'''\n",
    "class Animal:\n",
    "    def speak(self):\n",
    "        print(\"Some sound\")\n",
    "\n",
    "class Dog(Animal):\n",
    "    def wag_tail(self):\n",
    "        print(\"Tail wagging\")\n",
    "\n",
    "\n",
    "\n",
    "'''\"Has-a\" Relationship:\n",
    "- The \"has-a\" relationship is based on composition and represents a relationship where one class contains an instance of another class as a member.\n",
    "- It signifies that a class has a component or part that represents another class.\n",
    "- This relationship is typically implemented by creating an instance of another class within the class that \"has\" it.\n",
    "\n",
    "Example of \"has-a\" relationship:'''\n",
    "\n",
    "class Engine:\n",
    "    def start(self):\n",
    "        print(\"Engine started\")\n",
    "\n",
    "class Car:\n",
    "    def __init__(self):\n",
    "        self.engine = Engine()  # Car \"has-a\" Engine\n",
    "\n",
    "\n",
    "'''In the \"has-a\" relationship example, the `Car` class has an `Engine` as one of its components, demonstrating the \"has-a\" relationship through composition.\n",
    "\n",
    "In summary, the \"is-a\" relationship is based on inheritance and represents a specialization hierarchy, while the \"has-a\" relationship is based on composition and represents a containment hierarchy. Both relationships are fundamental concepts in object-oriented programming and are used to model real-world relationships between objects.'''"
   ]
  },
  {
   "cell_type": "code",
   "execution_count": 24,
   "id": "d62222ac",
   "metadata": {},
   "outputs": [
    {
     "name": "stdout",
     "output_type": "stream",
     "text": [
      "Name: Alice, Age: 20\n",
      "Alice is studying Mathematics\n",
      "Name: Dr. Smith, Age: 40\n",
      "Dr. Smith is teaching Computer Science\n"
     ]
    }
   ],
   "source": [
    "#20. Create a Python class hierarchy for a university system. Start with a base class `Person` and create child classes `Student` and `Professor`, each with their own attributes and methods. Provide an example of using these classes in a university context.\n",
    "class Person:\n",
    "    def __init__(self, name, age):\n",
    "        self.name = name\n",
    "        self.age = age\n",
    "\n",
    "    def display_info(self):\n",
    "        print(f\"Name: {self.name}, Age: {self.age}\")\n",
    "\n",
    "class Student(Person):\n",
    "    def __init__(self, name, age, student_id):\n",
    "        super().__init__(name, age)\n",
    "        self.student_id = student_id\n",
    "\n",
    "    def study(self, subject):\n",
    "        print(f\"{self.name} is studying {subject}\")\n",
    "\n",
    "class Professor(Person):\n",
    "    def __init__(self, name, age, employee_id):\n",
    "        super().__init__(name, age)\n",
    "        self.employee_id = employee_id\n",
    "\n",
    "    def teach(self, subject):\n",
    "        print(f\"{self.name} is teaching {subject}\")\n",
    "\n",
    "\n",
    "student1 = Student(\"Alice\", 20, \"S001\")\n",
    "professor1 = Professor(\"Dr. Smith\", 40, \"P101\")\n",
    "\n",
    "student1.display_info()  \n",
    "student1.study(\"Mathematics\")  \n",
    "\n",
    "professor1.display_info()  \n",
    "professor1.teach(\"Computer Science\") \n"
   ]
  },
  {
   "cell_type": "markdown",
   "id": "89e82ece",
   "metadata": {},
   "source": [
    "# Encapsulation:"
   ]
  },
  {
   "cell_type": "code",
   "execution_count": 1,
   "id": "b01c37c3",
   "metadata": {},
   "outputs": [
    {
     "data": {
      "text/plain": [
       "\"\\nEncapsulation in Python is a fundamental concept of object-oriented programming (OOP) that involves bundling the data (attributes) and methods (functions) that operate on the data into a single unit known as a class. Encapsulation allows the internal representation of an object to be hidden from the outside and only accessible through the object's methods.\\n\\nThe main goals of encapsulation in OOP are data hiding, data protection, and code organization. Here's how encapsulation plays a role in object-oriented programming:\\n\\n1. **Data Hiding**: Encapsulation helps in hiding the internal state of an object and restricting direct access to it from outside the class. This prevents the accidental modification of data and ensures that the object's state remains consistent.\\n\\n2. **Data Protection**: By using access modifiers like private, protected, and public, encapsulation allows developers to control the visibility of class members. This helps in enforcing data integrity and ensuring that data is accessed and modified in a controlled manner.\\n\\n3. **Code Organization**: Encapsulation promotes code organization by grouping related data and methods together within a class. This makes the code more modular, easier to maintain, and enhances code reusability.\\n\\nIn Python, encapsulation is achieved by using access modifiers like underscores (_) to define private or protected attributes and methods within a class. By following encapsulation principles, developers can create more robust and secure code that is easier to manage and extend in large-scale applications.\\n\""
      ]
     },
     "execution_count": 1,
     "metadata": {},
     "output_type": "execute_result"
    }
   ],
   "source": [
    "#1. Explain the concept of encapsulation in Python. What is its role in object-oriented programming?\n",
    "\n",
    "\n",
    "\n",
    "'''\n",
    "Encapsulation in Python is a fundamental concept of object-oriented programming (OOP) that involves bundling the data (attributes) and methods (functions) that operate on the data into a single unit known as a class. Encapsulation allows the internal representation of an object to be hidden from the outside and only accessible through the object's methods.\n",
    "\n",
    "The main goals of encapsulation in OOP are data hiding, data protection, and code organization. Here's how encapsulation plays a role in object-oriented programming:\n",
    "\n",
    "1. **Data Hiding**: Encapsulation helps in hiding the internal state of an object and restricting direct access to it from outside the class. This prevents the accidental modification of data and ensures that the object's state remains consistent.\n",
    "\n",
    "2. **Data Protection**: By using access modifiers like private, protected, and public, encapsulation allows developers to control the visibility of class members. This helps in enforcing data integrity and ensuring that data is accessed and modified in a controlled manner.\n",
    "\n",
    "3. **Code Organization**: Encapsulation promotes code organization by grouping related data and methods together within a class. This makes the code more modular, easier to maintain, and enhances code reusability.\n",
    "\n",
    "In Python, encapsulation is achieved by using access modifiers like underscores (_) to define private or protected attributes and methods within a class. By following encapsulation principles, developers can create more robust and secure code that is easier to manage and extend in large-scale applications.\n",
    "'''"
   ]
  },
  {
   "cell_type": "code",
   "execution_count": 2,
   "id": "b64c88ba",
   "metadata": {},
   "outputs": [
    {
     "data": {
      "text/plain": [
       "\"\\nEncapsulation is a key concept in object-oriented programming that involves bundling data (attributes) and methods (functions) within a class. It helps in achieving data hiding and access control, ensuring that the internal state of an object is protected and accessed only through defined interfaces. Here are the key principles of encapsulation:\\n\\n1. **Data Hiding**: Data hiding is the practice of restricting access to certain parts of an object, typically the internal data or implementation details. By designating attributes as private or protected, encapsulation hides the internal state of an object from the outside world. This prevents external code from directly modifying the object's state, promoting data integrity and reducing the risk of unintended side effects.\\n\\n2. **Access Control**: Access control refers to managing the visibility of class members (attributes and methods) from outside the class. In encapsulation, access modifiers like private, protected, and public are used to define the level of access to class members. \\n   - Private members are accessible only within the class where they are defined.\\n   - Protected members are accessible within the class and its subclasses.\\n   - Public members are accessible from anywhere.\\n\\nBy controlling access to class members, encapsulation allows developers to enforce data protection and define clear boundaries for interacting with objects. This helps in maintaining the consistency and integrity of the object's state while providing a well-defined interface for interacting with the object.\\n\\nOverall, encapsulation promotes modularity, code reusability, and security in object-oriented programming by encapsulating data and behavior within a class and controlling access to them through well-defined interfaces.\\n\""
      ]
     },
     "execution_count": 2,
     "metadata": {},
     "output_type": "execute_result"
    }
   ],
   "source": [
    "#2. Describe the key principles of encapsulation, including access control and data hiding.\n",
    "\n",
    "'''\n",
    "Encapsulation is a key concept in object-oriented programming that involves bundling data (attributes) and methods (functions) within a class. It helps in achieving data hiding and access control, ensuring that the internal state of an object is protected and accessed only through defined interfaces. Here are the key principles of encapsulation:\n",
    "\n",
    "1. **Data Hiding**: Data hiding is the practice of restricting access to certain parts of an object, typically the internal data or implementation details. By designating attributes as private or protected, encapsulation hides the internal state of an object from the outside world. This prevents external code from directly modifying the object's state, promoting data integrity and reducing the risk of unintended side effects.\n",
    "\n",
    "2. **Access Control**: Access control refers to managing the visibility of class members (attributes and methods) from outside the class. In encapsulation, access modifiers like private, protected, and public are used to define the level of access to class members. \n",
    "   - Private members are accessible only within the class where they are defined.\n",
    "   - Protected members are accessible within the class and its subclasses.\n",
    "   - Public members are accessible from anywhere.\n",
    "\n",
    "By controlling access to class members, encapsulation allows developers to enforce data protection and define clear boundaries for interacting with objects. This helps in maintaining the consistency and integrity of the object's state while providing a well-defined interface for interacting with the object.\n",
    "\n",
    "Overall, encapsulation promotes modularity, code reusability, and security in object-oriented programming by encapsulating data and behavior within a class and controlling access to them through well-defined interfaces.\n",
    "'''"
   ]
  },
  {
   "cell_type": "code",
   "execution_count": 3,
   "id": "36d4fcfc",
   "metadata": {},
   "outputs": [
    {
     "name": "stdout",
     "output_type": "stream",
     "text": [
      "Make: Toyota\n",
      "Model: Camry\n",
      "Year: 2022\n"
     ]
    }
   ],
   "source": [
    "#3. How can you achieve encapsulation in Python classes? Provide an example.\n",
    "\n",
    "class Car:\n",
    "    def __init__(self, make, model, year):\n",
    "        self._make = make  # Protected attribute\n",
    "        self._model = model  # Protected attribute\n",
    "        self.__year = year  # Private attribute\n",
    "\n",
    "    def get_make(self):\n",
    "        return self._make\n",
    "\n",
    "    def set_model(self, model):\n",
    "        self._model = model\n",
    "\n",
    "    def get_year(self):\n",
    "        return self.__year\n",
    "\n",
    "    def set_year(self, year):\n",
    "        self.__year = year\n",
    "\n",
    "# Creating an instance of the Car class\n",
    "my_car = Car(\"Toyota\", \"Camry\", 2022)\n",
    "\n",
    "# Accessing protected attributes using getter method\n",
    "print(\"Make:\", my_car.get_make())\n",
    "print(\"Model:\", my_car._model)  # Accessing protected attribute directly\n",
    "\n",
    "# Accessing private attribute using getter method\n",
    "print(\"Year:\", my_car.get_year())\n",
    "\n",
    "# Attempting to access private attribute directly will result in an error\n",
    "# print(\"Year:\", my_car.__year)  # This will raise an AttributeError\n"
   ]
  },
  {
   "cell_type": "code",
   "execution_count": 4,
   "id": "d8c3a666",
   "metadata": {},
   "outputs": [
    {
     "data": {
      "text/plain": [
       "'\\nIn Python, access modifiers like public, private, and protected are used to control the visibility of class members (attributes and methods) from outside the class. Here\\'s a brief explanation of each access modifier:\\n\\n1. **Public Access Modifier**: \\n   - In Python, all attributes and methods are public by default.\\n   - Public members can be accessed from inside the class, from outside the class, and even from subclasses.\\n   - Public members are typically accessed directly without any restrictions.\\n\\n2. **Private Access Modifier (Double Underscore Prefix \"__\")**:\\n   - Private members are indicated by prefixing the attribute or method name with double underscores (__).\\n   - Private members are not accessible from outside the class where they are defined.\\n   - Python name mangling is used to make private members harder to access from outside the class.\\n\\n3. **Protected Access Modifier (Single Underscore Prefix \"_\")**:\\n   - Protected members are indicated by prefixing the attribute or method name with a single underscore (_).\\n   - Protected members can be accessed from within the class where they are defined and also from subclasses.\\n   - There is no strict enforcement of protected access in Python, but it is a convention to indicate that a member should be treated as protected.\\n\\nHere\\'s a summary of the differences between public, private, and protected access modifiers in Python:\\n\\n- **Public**: Accessible from anywhere, both inside and outside the class.\\n- **Private**: Not accessible from outside the class where they are defined. Name mangling is used to make them harder to access.\\n- **Protected**: Can be accessed from within the class where they are defined and from subclasses. There is no strict enforcement of protected access in Python.\\n\\nIt\\'s important to note that in Python, these access modifiers are mainly conventions and not strictly enforced like in some other programming languages. Developers are expected to follow these conventions to indicate the intended visibility of class members.\\n'"
      ]
     },
     "execution_count": 4,
     "metadata": {},
     "output_type": "execute_result"
    }
   ],
   "source": [
    "#4. Discuss the difference between public, private, and protected access modifiers in Python.\n",
    "\n",
    "'''\n",
    "In Python, access modifiers like public, private, and protected are used to control the visibility of class members (attributes and methods) from outside the class. Here's a brief explanation of each access modifier:\n",
    "\n",
    "1. **Public Access Modifier**: \n",
    "   - In Python, all attributes and methods are public by default.\n",
    "   - Public members can be accessed from inside the class, from outside the class, and even from subclasses.\n",
    "   - Public members are typically accessed directly without any restrictions.\n",
    "\n",
    "2. **Private Access Modifier (Double Underscore Prefix \"__\")**:\n",
    "   - Private members are indicated by prefixing the attribute or method name with double underscores (__).\n",
    "   - Private members are not accessible from outside the class where they are defined.\n",
    "   - Python name mangling is used to make private members harder to access from outside the class.\n",
    "\n",
    "3. **Protected Access Modifier (Single Underscore Prefix \"_\")**:\n",
    "   - Protected members are indicated by prefixing the attribute or method name with a single underscore (_).\n",
    "   - Protected members can be accessed from within the class where they are defined and also from subclasses.\n",
    "   - There is no strict enforcement of protected access in Python, but it is a convention to indicate that a member should be treated as protected.\n",
    "\n",
    "Here's a summary of the differences between public, private, and protected access modifiers in Python:\n",
    "\n",
    "- **Public**: Accessible from anywhere, both inside and outside the class.\n",
    "- **Private**: Not accessible from outside the class where they are defined. Name mangling is used to make them harder to access.\n",
    "- **Protected**: Can be accessed from within the class where they are defined and from subclasses. There is no strict enforcement of protected access in Python.\n",
    "\n",
    "It's important to note that in Python, these access modifiers are mainly conventions and not strictly enforced like in some other programming languages. Developers are expected to follow these conventions to indicate the intended visibility of class members.\n",
    "'''"
   ]
  },
  {
   "cell_type": "code",
   "execution_count": 5,
   "id": "5c58320a",
   "metadata": {},
   "outputs": [
    {
     "name": "stdout",
     "output_type": "stream",
     "text": [
      "Original Name: Alice\n",
      "Updated Name: Bob\n"
     ]
    }
   ],
   "source": [
    "#5. Create a Python class called `Person` with a private attribute `__name`. Provide methods to get and set the name attribute.\n",
    "\n",
    "class Person:\n",
    "    def __init__(self, name):\n",
    "        self.__name = name  # Private attribute\n",
    "\n",
    "    def get_name(self):\n",
    "        return self.__name\n",
    "\n",
    "    def set_name(self, new_name):\n",
    "        self.__name = new_name\n",
    "\n",
    "# Creating an instance of the Person class\n",
    "person = Person(\"Alice\")\n",
    "\n",
    "# Getting the name using the get_name method\n",
    "print(\"Original Name:\", person.get_name())\n",
    "\n",
    "# Setting a new name using the set_name method\n",
    "person.set_name(\"Bob\")\n",
    "print(\"Updated Name:\", person.get_name())\n"
   ]
  },
  {
   "cell_type": "code",
   "execution_count": 6,
   "id": "ae7bd65a",
   "metadata": {},
   "outputs": [
    {
     "name": "stdout",
     "output_type": "stream",
     "text": [
      "Original Name: Alice\n",
      "Updated Name: Bob\n",
      "Name cannot be empty.\n"
     ]
    }
   ],
   "source": [
    "#6. Explain the purpose of getter and setter methods in encapsulation. Provide examples.\n",
    "\n",
    "class Person:\n",
    "    def __init__(self, name):\n",
    "        self.__name = name  # Private attribute\n",
    "\n",
    "    def get_name(self):\n",
    "        return self.__name\n",
    "\n",
    "    def set_name(self, new_name):\n",
    "        if len(new_name) > 0:  # Validation logic\n",
    "            self.__name = new_name\n",
    "        else:\n",
    "            print(\"Name cannot be empty.\")\n",
    "\n",
    "# Creating an instance of the Person class\n",
    "person = Person(\"Alice\")\n",
    "\n",
    "# Getting the name using the get_name method\n",
    "print(\"Original Name:\", person.get_name())\n",
    "\n",
    "# Setting a new name using the set_name method\n",
    "person.set_name(\"Bob\")\n",
    "print(\"Updated Name:\", person.get_name())\n",
    "\n",
    "# Trying to set an empty name\n",
    "person.set_name(\"\")\n"
   ]
  },
  {
   "cell_type": "code",
   "execution_count": 7,
   "id": "73251071",
   "metadata": {},
   "outputs": [
    {
     "name": "stdout",
     "output_type": "stream",
     "text": [
      "Name using getter method: Alice\n"
     ]
    }
   ],
   "source": [
    "#7. What is name mangling in Python, and how does it affect encapsulation?\n",
    "\n",
    "class Person:\n",
    "    def __init__(self, name):\n",
    "        self.__name = name  # Private attribute using name mangling\n",
    "\n",
    "    def get_name(self):\n",
    "        return self.__name\n",
    "\n",
    "# Creating an instance of the Person class\n",
    "person = Person(\"Alice\")\n",
    "\n",
    "# Trying to access the private attribute directly will raise an AttributeError\n",
    "# print(person.__name)  # This will raise an AttributeError\n",
    "\n",
    "# Accessing the private attribute using name mangling\n",
    "print(\"Name using getter method:\", person.get_name())\n"
   ]
  },
  {
   "cell_type": "code",
   "execution_count": 8,
   "id": "12fd8259",
   "metadata": {},
   "outputs": [
    {
     "name": "stdout",
     "output_type": "stream",
     "text": [
      "Deposited $500. New balance: $1500\n",
      "Withdrew $200. New balance: $1300\n",
      "Invalid withdrawal amount or insufficient funds.\n",
      "Account Number: 123456789\n",
      "Current Balance: 1300\n"
     ]
    }
   ],
   "source": [
    "#8. Create a Python class called `BankAccount` with private attributes for the account balance (`__balance`) and account number (`__account_number`). Provide methods for depositing and withdrawing money.\n",
    "\n",
    "class BankAccount:\n",
    "    def __init__(self, account_number, initial_balance=0):\n",
    "        self.__account_number = account_number\n",
    "        self.__balance = initial_balance\n",
    "\n",
    "    def deposit(self, amount):\n",
    "        if amount > 0:\n",
    "            self.__balance += amount\n",
    "            print(f\"Deposited ${amount}. New balance: ${self.__balance}\")\n",
    "        else:\n",
    "            print(\"Invalid deposit amount. Please enter a positive value.\")\n",
    "\n",
    "    def withdraw(self, amount):\n",
    "        if amount > 0 and amount <= self.__balance:\n",
    "            self.__balance -= amount\n",
    "            print(f\"Withdrew ${amount}. New balance: ${self.__balance}\")\n",
    "        else:\n",
    "            print(\"Invalid withdrawal amount or insufficient funds.\")\n",
    "\n",
    "    def get_balance(self):\n",
    "        return self.__balance\n",
    "\n",
    "    def get_account_number(self):\n",
    "        return self.__account_number\n",
    "\n",
    "# Creating an instance of the BankAccount class\n",
    "account = BankAccount(\"123456789\", 1000)\n",
    "\n",
    "# Depositing and withdrawing money\n",
    "account.deposit(500)\n",
    "account.withdraw(200)\n",
    "account.withdraw(1500)  # Trying to withdraw more than the balance\n",
    "\n",
    "# Getting account information\n",
    "print(\"Account Number:\", account.get_account_number())\n",
    "print(\"Current Balance:\", account.get_balance())\n"
   ]
  },
  {
   "cell_type": "code",
   "execution_count": 9,
   "id": "cc503738",
   "metadata": {},
   "outputs": [
    {
     "data": {
      "text/plain": [
       "'\\nEncapsulation offers several advantages in terms of code maintainability and security in object-oriented programming. Here are some key benefits:\\n\\n### Code Maintainability:\\n1. **Modularity**: Encapsulation promotes modularity by bundling related data (attributes) and behavior (methods) within a class. This makes it easier to understand and maintain the code.\\n   \\n2. **Code Reusability**: Encapsulation allows classes to be reused in different parts of the program or in other programs, leading to more efficient and scalable code development.\\n\\n3. **Flexibility**: Encapsulation provides a clear interface for interacting with objects, allowing for changes in the implementation details of a class without affecting the external code that uses the class.\\n\\n4. **Ease of Debugging**: Encapsulation helps in isolating issues within a class, making it easier to debug and troubleshoot problems in the code.\\n\\n### Security:\\n1. **Data Hiding**: Encapsulation hides the internal state of an object from external interference, preventing unauthorized access or modification of data. This enhances data security and integrity.\\n\\n2. **Access Control**: By using access modifiers like private and protected, encapsulation controls access to class members, allowing only authorized methods to interact with the data. This prevents unintended modifications and ensures data consistency.\\n\\n3. **Prevents Code Interference**: Encapsulation reduces the risk of unintended side effects by encapsulating data and behavior within a class, limiting the scope of changes to specific areas of the code.\\n\\n4. **Enhanced Security**: By hiding implementation details and exposing only necessary interfaces, encapsulation helps in protecting sensitive information and reducing vulnerabilities in the code.\\n\\nOverall, encapsulation improves code maintainability by promoting modularity, reusability, and flexibility while enhancing security through data hiding, access control, and prevention of unauthorized access to class members.\\n'"
      ]
     },
     "execution_count": 9,
     "metadata": {},
     "output_type": "execute_result"
    }
   ],
   "source": [
    "#9. Discuss the advantages of encapsulation in terms of code maintainability and security.\n",
    "\n",
    "'''\n",
    "Encapsulation offers several advantages in terms of code maintainability and security in object-oriented programming. Here are some key benefits:\n",
    "\n",
    "### Code Maintainability:\n",
    "1. **Modularity**: Encapsulation promotes modularity by bundling related data (attributes) and behavior (methods) within a class. This makes it easier to understand and maintain the code.\n",
    "   \n",
    "2. **Code Reusability**: Encapsulation allows classes to be reused in different parts of the program or in other programs, leading to more efficient and scalable code development.\n",
    "\n",
    "3. **Flexibility**: Encapsulation provides a clear interface for interacting with objects, allowing for changes in the implementation details of a class without affecting the external code that uses the class.\n",
    "\n",
    "4. **Ease of Debugging**: Encapsulation helps in isolating issues within a class, making it easier to debug and troubleshoot problems in the code.\n",
    "\n",
    "### Security:\n",
    "1. **Data Hiding**: Encapsulation hides the internal state of an object from external interference, preventing unauthorized access or modification of data. This enhances data security and integrity.\n",
    "\n",
    "2. **Access Control**: By using access modifiers like private and protected, encapsulation controls access to class members, allowing only authorized methods to interact with the data. This prevents unintended modifications and ensures data consistency.\n",
    "\n",
    "3. **Prevents Code Interference**: Encapsulation reduces the risk of unintended side effects by encapsulating data and behavior within a class, limiting the scope of changes to specific areas of the code.\n",
    "\n",
    "4. **Enhanced Security**: By hiding implementation details and exposing only necessary interfaces, encapsulation helps in protecting sensitive information and reducing vulnerabilities in the code.\n",
    "\n",
    "Overall, encapsulation improves code maintainability by promoting modularity, reusability, and flexibility while enhancing security through data hiding, access control, and prevention of unauthorized access to class members.\n",
    "'''"
   ]
  },
  {
   "cell_type": "code",
   "execution_count": 10,
   "id": "7b31bd78",
   "metadata": {},
   "outputs": [
    {
     "name": "stdout",
     "output_type": "stream",
     "text": [
      "Name using name mangling: Alice\n"
     ]
    }
   ],
   "source": [
    "#10. How can you access private attributes in Python? Provide an example demonstrating the use of name mangling.\n",
    "\n",
    "class Person:\n",
    "    def __init__(self, name):\n",
    "        self.__name = name  # Private attribute using name mangling\n",
    "\n",
    "    def get_name(self):\n",
    "        return self.__name\n",
    "\n",
    "# Creating an instance of the Person class\n",
    "person = Person(\"Alice\")\n",
    "\n",
    "# Accessing the private attribute using name mangling\n",
    "print(\"Name using name mangling:\", person._Person__name)\n"
   ]
  },
  {
   "cell_type": "code",
   "execution_count": 11,
   "id": "89c382de",
   "metadata": {},
   "outputs": [
    {
     "name": "stdout",
     "output_type": "stream",
     "text": [
      "Student Name: Alice\n",
      "Teacher Name: Mr. Smith\n",
      "Course Name: Mathematics\n"
     ]
    }
   ],
   "source": [
    "#11. Create a Python class hierarchy for a school system, including classes for students, teachers, and courses, and implement encapsulation principles to protect sensitive information. ate a Python class hierarchy for a school system, including classes for\n",
    "class Student:\n",
    "    def __init__(self, name, student_id, grade):\n",
    "        self._name = name  # Protected attribute\n",
    "        self._student_id = student_id  # Protected attribute\n",
    "        self.__grade = grade  # Private attribute\n",
    "\n",
    "    def get_name(self):\n",
    "        return self._name\n",
    "\n",
    "    def get_student_id(self):\n",
    "        return self._student_id\n",
    "\n",
    "    def get_grade(self):\n",
    "        return self.__grade\n",
    "\n",
    "class Teacher:\n",
    "    def __init__(self, name, teacher_id, subject):\n",
    "        self._name = name  # Protected attribute\n",
    "        self._teacher_id = teacher_id  # Protected attribute\n",
    "        self.__subject = subject  # Private attribute\n",
    "\n",
    "    def get_name(self):\n",
    "        return self._name\n",
    "\n",
    "    def get_teacher_id(self):\n",
    "        return self._teacher_id\n",
    "\n",
    "    def get_subject(self):\n",
    "        return self.__subject\n",
    "\n",
    "class Course:\n",
    "    def __init__(self, course_name, course_code, teacher, students):\n",
    "        self._course_name = course_name  # Protected attribute\n",
    "        self._course_code = course_code  # Protected attribute\n",
    "        self._teacher = teacher  # Protected attribute\n",
    "        self._students = students  # Protected attribute\n",
    "\n",
    "    def get_course_name(self):\n",
    "        return self._course_name\n",
    "\n",
    "    def get_course_code(self):\n",
    "        return self._course_code\n",
    "\n",
    "    def get_teacher(self):\n",
    "        return self._teacher\n",
    "\n",
    "    def get_students(self):\n",
    "        return self._students\n",
    "\n",
    "# Creating instances of the classes\n",
    "student1 = Student(\"Alice\", \"S1234\", \"A\")\n",
    "teacher1 = Teacher(\"Mr. Smith\", \"T5678\", \"Math\")\n",
    "course1 = Course(\"Mathematics\", \"MATH101\", teacher1, [student1])\n",
    "\n",
    "# Accessing information using getter methods\n",
    "print(\"Student Name:\", student1.get_name())\n",
    "print(\"Teacher Name:\", teacher1.get_name())\n",
    "print(\"Course Name:\", course1.get_course_name())\n"
   ]
  },
  {
   "cell_type": "code",
   "execution_count": 12,
   "id": "7c29189c",
   "metadata": {},
   "outputs": [
    {
     "name": "stdout",
     "output_type": "stream",
     "text": [
      "Original Name: Alice\n",
      "Updated Name: Bob\n"
     ]
    }
   ],
   "source": [
    "#12. Explain the concept of property decorators in Python and how they relate to encapsulation.\n",
    "class Person:\n",
    "    def __init__(self, name):\n",
    "        self._name = name  # Protected attribute\n",
    "\n",
    "    @property\n",
    "    def name(self):\n",
    "        return self._name\n",
    "\n",
    "    @name.setter\n",
    "    def name(self, new_name):\n",
    "        if new_name:\n",
    "            self._name = new_name\n",
    "        else:\n",
    "            print(\"Name cannot be empty.\")\n",
    "\n",
    "    @name.deleter\n",
    "    def name(self):\n",
    "        del self._name\n",
    "\n",
    "# Creating an instance of the Person class\n",
    "person = Person(\"Alice\")\n",
    "\n",
    "# Accessing the name attribute using the property decorator\n",
    "print(\"Original Name:\", person.name)\n",
    "\n",
    "# Setting a new name using the property decorator\n",
    "person.name = \"Bob\"\n",
    "print(\"Updated Name:\", person.name)\n",
    "\n",
    "# Deleting the name attribute using the property decorator\n",
    "del person.name\n"
   ]
  },
  {
   "cell_type": "code",
   "execution_count": 13,
   "id": "8289e2ee",
   "metadata": {},
   "outputs": [
    {
     "name": "stdout",
     "output_type": "stream",
     "text": [
      "Name (Protected): Alice\n",
      "Age (Private): 30\n"
     ]
    }
   ],
   "source": [
    "#13. What is data hiding, and why is it important in encapsulation? Provide examples.\n",
    "class Person:\n",
    "    def __init__(self, name, age):\n",
    "        self._name = name  # Protected attribute\n",
    "        self.__age = age  # Private attribute\n",
    "\n",
    "    def get_name(self):\n",
    "        return self._name\n",
    "\n",
    "    def get_age(self):\n",
    "        return self.__age\n",
    "\n",
    "# Creating an instance of the Person class\n",
    "person = Person(\"Alice\", 30)\n",
    "\n",
    "# Accessing protected attribute directly\n",
    "print(\"Name (Protected):\", person._name)\n",
    "\n",
    "# Attempting to access private attribute directly will raise an AttributeError\n",
    "# print(\"Age (Private):\", person.__age)  # This will raise an AttributeError\n",
    "\n",
    "# Accessing private attribute using getter method\n",
    "print(\"Age (Private):\", person.get_age())\n"
   ]
  },
  {
   "cell_type": "code",
   "execution_count": 14,
   "id": "71963172",
   "metadata": {},
   "outputs": [
    {
     "name": "stdout",
     "output_type": "stream",
     "text": [
      "Employee ID: E12345\n",
      "Yearly Bonus Amount: $5000.0\n"
     ]
    }
   ],
   "source": [
    "#14. Create a Python class called `Employee` with private attributes for salary (`__salary`) and employee ID (`__employee_id`). Provide a method to calculate yearly bonuses.\n",
    "class Employee:\n",
    "    def __init__(self, employee_id, salary):\n",
    "        self.__employee_id = employee_id  # Private attribute\n",
    "        self.__salary = salary  # Private attribute\n",
    "\n",
    "    def calculate_yearly_bonus(self, bonus_percentage):\n",
    "        bonus_amount = (bonus_percentage / 100) * self.__salary\n",
    "        return bonus_amount\n",
    "\n",
    "# Creating an instance of the Employee class\n",
    "employee = Employee(\"E12345\", 50000)\n",
    "\n",
    "# Calculating yearly bonus for the employee\n",
    "bonus_percentage = 10  # 10% bonus\n",
    "yearly_bonus = employee.calculate_yearly_bonus(bonus_percentage)\n",
    "\n",
    "print(f\"Employee ID: {employee._Employee__employee_id}\")\n",
    "print(f\"Yearly Bonus Amount: ${yearly_bonus}\")\n",
    "\n"
   ]
  },
  {
   "cell_type": "code",
   "execution_count": 15,
   "id": "3a634298",
   "metadata": {},
   "outputs": [],
   "source": [
    "#15. Discuss the use of accessors and mutators in encapsulation. How do they help maintain control over attribute access?\n",
    "\n",
    "'''\n",
    "Accessors (Getters):\n",
    "Purpose: Getters are methods used to access the values of private attributes.\n",
    "Benefits:\n",
    "Allow read-only access to private attributes.\n",
    "Provide a controlled way to retrieve attribute values.\n",
    "Enable validation or computation before returning the attribute value.\n",
    "Example:\n",
    "python\n",
    "\n",
    "'''\n",
    "class Person:\n",
    "    def __init__(self, name):\n",
    "        self._name = name\n",
    "\n",
    "    def get_name(self):\n",
    "        return self._name\n",
    "\n",
    "    '''Mutators (Setters):\n",
    "Purpose: Setters are methods used to modify the values of private attributes.\n",
    "Benefits:\n",
    "Allow controlled modification of private attribute values.\n",
    "Enable validation or logic before setting the attribute value.\n",
    "Prevent direct modification of attributes from outside the class.\n",
    "Example:\n",
    "python\n",
    "'''\n",
    "    \n",
    "class Person:\n",
    "    def __init__(self, name):\n",
    "        self._name = name\n",
    "\n",
    "    def set_name(self, new_name):\n",
    "        if new_name:\n",
    "            self._name = new_name\n",
    "        else:\n",
    "            print(\"Name cannot be empty.\")\n"
   ]
  },
  {
   "cell_type": "code",
   "execution_count": 16,
   "id": "ae13a2f3",
   "metadata": {},
   "outputs": [
    {
     "data": {
      "text/plain": [
       "\"\\nWhile encapsulation is a fundamental concept in object-oriented programming that offers many benefits, there are also some potential drawbacks or disadvantages to consider when using encapsulation in Python:\\n\\n1. **Complexity**: Encapsulation can sometimes lead to increased complexity in the code, especially when dealing with a large number of classes and intricate relationships between them. This complexity can make the code harder to understand and maintain.\\n\\n2. **Performance Overhead**: Using getter and setter methods for accessing and modifying attributes can introduce a performance overhead compared to direct attribute access. This can be a concern in performance-critical applications.\\n\\n3. **Boilerplate Code**: Implementing getter and setter methods for each attribute can lead to boilerplate code, especially in classes with many attributes. This can make the code verbose and less concise.\\n\\n4. **Over-Engineering**: Overusing encapsulation by making all attributes private and providing getters and setters for each attribute may lead to over-engineering, making the code more complex than necessary.\\n\\n5. **Access Control Limitations**: In Python, encapsulation is more of a convention than a strict rule due to the lack of true access control mechanisms. This can make it challenging to enforce encapsulation rigorously.\\n\\n6. **Testing Complexity**: Encapsulated code may require more complex testing strategies, especially when dealing with private methods or attributes that are not directly accessible for testing.\\n\\n7. **Flexibility Impact**: Overly strict encapsulation can limit the flexibility of the codebase, making it harder to extend or modify classes without modifying existing interfaces.\\n\\nWhile encapsulation offers many advantages such as data hiding, data protection, and code organization, it's essential to balance its use with considerations of complexity, performance, and maintainability to ensure that the benefits outweigh the potential drawbacks in a given context.\\n\""
      ]
     },
     "execution_count": 16,
     "metadata": {},
     "output_type": "execute_result"
    }
   ],
   "source": [
    "#16. What are the potential drawbacks or disadvantages of using encapsulation in Python?\n",
    "\n",
    "'''\n",
    "While encapsulation is a fundamental concept in object-oriented programming that offers many benefits, there are also some potential drawbacks or disadvantages to consider when using encapsulation in Python:\n",
    "\n",
    "1. **Complexity**: Encapsulation can sometimes lead to increased complexity in the code, especially when dealing with a large number of classes and intricate relationships between them. This complexity can make the code harder to understand and maintain.\n",
    "\n",
    "2. **Performance Overhead**: Using getter and setter methods for accessing and modifying attributes can introduce a performance overhead compared to direct attribute access. This can be a concern in performance-critical applications.\n",
    "\n",
    "3. **Boilerplate Code**: Implementing getter and setter methods for each attribute can lead to boilerplate code, especially in classes with many attributes. This can make the code verbose and less concise.\n",
    "\n",
    "4. **Over-Engineering**: Overusing encapsulation by making all attributes private and providing getters and setters for each attribute may lead to over-engineering, making the code more complex than necessary.\n",
    "\n",
    "5. **Access Control Limitations**: In Python, encapsulation is more of a convention than a strict rule due to the lack of true access control mechanisms. This can make it challenging to enforce encapsulation rigorously.\n",
    "\n",
    "6. **Testing Complexity**: Encapsulated code may require more complex testing strategies, especially when dealing with private methods or attributes that are not directly accessible for testing.\n",
    "\n",
    "7. **Flexibility Impact**: Overly strict encapsulation can limit the flexibility of the codebase, making it harder to extend or modify classes without modifying existing interfaces.\n",
    "\n",
    "While encapsulation offers many advantages such as data hiding, data protection, and code organization, it's essential to balance its use with considerations of complexity, performance, and maintainability to ensure that the benefits outweigh the potential drawbacks in a given context.\n",
    "'''"
   ]
  },
  {
   "cell_type": "code",
   "execution_count": 17,
   "id": "33740970",
   "metadata": {},
   "outputs": [
    {
     "name": "stdout",
     "output_type": "stream",
     "text": [
      "Book 1 Availability: Available\n",
      "Book 2 Availability: Available\n",
      "Python Crash Course by Eric Matthes has been borrowed.\n",
      "The Alchemist by Paulo Coelho has been borrowed.\n",
      "Python Crash Course by Eric Matthes has been returned.\n",
      "The Alchemist by Paulo Coelho has been returned.\n"
     ]
    }
   ],
   "source": [
    "#17. Create a Python class for a library system that encapsulates book information, including titles, authors, and availability status.\n",
    "class Book:\n",
    "    def __init__(self, title, author):\n",
    "        self.title = title\n",
    "        self.author = author\n",
    "        self.available = True\n",
    "\n",
    "    def check_availability(self):\n",
    "        if self.available:\n",
    "            return \"Available\"\n",
    "        else:\n",
    "            return \"Not Available\"\n",
    "\n",
    "    def borrow_book(self):\n",
    "        if self.available:\n",
    "            self.available = False\n",
    "            return f\"{self.title} by {self.author} has been borrowed.\"\n",
    "        else:\n",
    "            return f\"{self.title} by {self.author} is currently not available for borrowing.\"\n",
    "\n",
    "    def return_book(self):\n",
    "        if not self.available:\n",
    "            self.available = True\n",
    "            return f\"{self.title} by {self.author} has been returned.\"\n",
    "        else:\n",
    "            return f\"{self.title} by {self.author} was not borrowed.\"\n",
    "\n",
    "# Creating instances of the Book class\n",
    "book1 = Book(\"Python Crash Course\", \"Eric Matthes\")\n",
    "book2 = Book(\"The Alchemist\", \"Paulo Coelho\")\n",
    "\n",
    "# Checking availability of books\n",
    "print(f\"Book 1 Availability: {book1.check_availability()}\")\n",
    "print(f\"Book 2 Availability: {book2.check_availability()}\")\n",
    "\n",
    "# Borrowing a book\n",
    "print(book1.borrow_book())\n",
    "print(book2.borrow_book())\n",
    "\n",
    "# Returning a book\n",
    "print(book1.return_book())\n",
    "print(book2.return_book())\n",
    "\n"
   ]
  },
  {
   "cell_type": "code",
   "execution_count": 18,
   "id": "2a15cb19",
   "metadata": {},
   "outputs": [
    {
     "data": {
      "text/plain": [
       "\"Encapsulation enhances code reusability and modularity in Python programs by promoting a structured and organized approach to designing classes and objects. Here's how encapsulation achieves this:\\n\\n### Code Reusability:\\n- **Modular Design**: Encapsulation encourages breaking down a program into smaller, self-contained modules (classes) with well-defined interfaces. These modules can be reused in different parts of the program or in other programs, promoting code reusability.\\n  \\n- **Encapsulated Behavior**: By encapsulating data and behavior within classes, encapsulation allows developers to reuse classes without the need to understand the internal implementation details. This makes it easier to reuse classes in various contexts.\\n\\n### Modularity:\\n- **Isolation of Concerns**: Encapsulation isolates the implementation details of a class from the external code that uses the class. This isolation of concerns enhances modularity by allowing changes to be made within a class without affecting other parts of the program.\\n\\n- **Clear Interfaces**: Encapsulation provides clear interfaces for interacting with objects. By defining public methods to access and modify data, encapsulation establishes a boundary that separates the internal workings of a class from its external use. This clear interface promotes modularity by reducing dependencies between different parts of the code.\\n\\n- **Code Organization**: Encapsulation helps in organizing code by grouping related data and behavior within classes. This organization enhances modularity by making it easier to manage and maintain code, as well as facilitating code reuse across different parts of the program.\\n\\nBy promoting code reusability and modularity, encapsulation in Python programs leads to more maintainable, scalable, and flexible codebases. It allows developers to build robust and efficient software systems by creating reusable components with well-defined interfaces and clear boundaries between different parts of the code.\""
      ]
     },
     "execution_count": 18,
     "metadata": {},
     "output_type": "execute_result"
    }
   ],
   "source": [
    "#18. Explain how encapsulation enhances code reusability and modularity in Python programs.\n",
    "\n",
    "'''Encapsulation enhances code reusability and modularity in Python programs by promoting a structured and organized approach to designing classes and objects. Here's how encapsulation achieves this:\n",
    "\n",
    "### Code Reusability:\n",
    "- **Modular Design**: Encapsulation encourages breaking down a program into smaller, self-contained modules (classes) with well-defined interfaces. These modules can be reused in different parts of the program or in other programs, promoting code reusability.\n",
    "  \n",
    "- **Encapsulated Behavior**: By encapsulating data and behavior within classes, encapsulation allows developers to reuse classes without the need to understand the internal implementation details. This makes it easier to reuse classes in various contexts.\n",
    "\n",
    "### Modularity:\n",
    "- **Isolation of Concerns**: Encapsulation isolates the implementation details of a class from the external code that uses the class. This isolation of concerns enhances modularity by allowing changes to be made within a class without affecting other parts of the program.\n",
    "\n",
    "- **Clear Interfaces**: Encapsulation provides clear interfaces for interacting with objects. By defining public methods to access and modify data, encapsulation establishes a boundary that separates the internal workings of a class from its external use. This clear interface promotes modularity by reducing dependencies between different parts of the code.\n",
    "\n",
    "- **Code Organization**: Encapsulation helps in organizing code by grouping related data and behavior within classes. This organization enhances modularity by making it easier to manage and maintain code, as well as facilitating code reuse across different parts of the program.\n",
    "\n",
    "By promoting code reusability and modularity, encapsulation in Python programs leads to more maintainable, scalable, and flexible codebases. It allows developers to build robust and efficient software systems by creating reusable components with well-defined interfaces and clear boundaries between different parts of the code.'''"
   ]
  },
  {
   "cell_type": "code",
   "execution_count": 19,
   "id": "ec02ee63",
   "metadata": {},
   "outputs": [
    {
     "data": {
      "text/plain": [
       "\"Information hiding is a crucial aspect of encapsulation in software development. It involves hiding the internal details of a class or object and exposing only the necessary information and interfaces to the outside world. By hiding the implementation details and internal state of an object, information hiding ensures that the object's data is accessed and modified only through well-defined interfaces such as methods or properties.\\n\\nHere's why information hiding is essential in software development:\\n\\n1. **Security**: Information hiding helps in protecting sensitive data and preventing unauthorized access or modification of data. By exposing only the necessary interfaces, it reduces the risk of data breaches and enhances security.\\n\\n2. **Abstraction**: Information hiding allows developers to focus on the essential aspects of a class while abstracting away unnecessary implementation details. This abstraction simplifies the complexity of the system and improves code readability.\\n\\n3. **Modularity**: By encapsulating data and behavior within a class and hiding the internal details, information hiding promotes modularity. It allows for changes to be made within a class without affecting other parts of the program, leading to more maintainable and reusable code.\\n\\n4. **Reduced Complexity**: Information hiding reduces the complexity of a system by providing a clear separation between the public interface and the internal implementation. This separation makes it easier to understand, maintain, and extend the codebase.\\n\\n5. **Enhanced Encapsulation**: Information hiding is a key principle of encapsulation. By hiding the internal state of an object and exposing only necessary interfaces, it enforces encapsulation and promotes data integrity and security.\\n\\nIn software development, information hiding plays a vital role in ensuring data security, promoting modularity, reducing complexity, and enhancing encapsulation. By following the principle of information hiding, developers can build more robust, secure, and maintainable software systems.\""
      ]
     },
     "execution_count": 19,
     "metadata": {},
     "output_type": "execute_result"
    }
   ],
   "source": [
    "#19. Describe the concept of information hiding in encapsulation. Why is it essential in software development?\n",
    "\n",
    "'''Information hiding is a crucial aspect of encapsulation in software development. It involves hiding the internal details of a class or object and exposing only the necessary information and interfaces to the outside world. By hiding the implementation details and internal state of an object, information hiding ensures that the object's data is accessed and modified only through well-defined interfaces such as methods or properties.\n",
    "\n",
    "Here's why information hiding is essential in software development:\n",
    "\n",
    "1. **Security**: Information hiding helps in protecting sensitive data and preventing unauthorized access or modification of data. By exposing only the necessary interfaces, it reduces the risk of data breaches and enhances security.\n",
    "\n",
    "2. **Abstraction**: Information hiding allows developers to focus on the essential aspects of a class while abstracting away unnecessary implementation details. This abstraction simplifies the complexity of the system and improves code readability.\n",
    "\n",
    "3. **Modularity**: By encapsulating data and behavior within a class and hiding the internal details, information hiding promotes modularity. It allows for changes to be made within a class without affecting other parts of the program, leading to more maintainable and reusable code.\n",
    "\n",
    "4. **Reduced Complexity**: Information hiding reduces the complexity of a system by providing a clear separation between the public interface and the internal implementation. This separation makes it easier to understand, maintain, and extend the codebase.\n",
    "\n",
    "5. **Enhanced Encapsulation**: Information hiding is a key principle of encapsulation. By hiding the internal state of an object and exposing only necessary interfaces, it enforces encapsulation and promotes data integrity and security.\n",
    "\n",
    "In software development, information hiding plays a vital role in ensuring data security, promoting modularity, reducing complexity, and enhancing encapsulation. By following the principle of information hiding, developers can build more robust, secure, and maintainable software systems.'''"
   ]
  },
  {
   "cell_type": "code",
   "execution_count": 20,
   "id": "303347a1",
   "metadata": {},
   "outputs": [
    {
     "name": "stdout",
     "output_type": "stream",
     "text": [
      "Customer Name: Alice\n",
      "Customer Address: 123 Main Street\n",
      "Customer Contact Info: alice@example.com\n",
      "Contact information updated successfully.\n",
      "Updated Customer Contact Info: alice.new@example.com\n"
     ]
    }
   ],
   "source": [
    "#20. Create a Python class called `Customer` with private attributes for customer details like name, address, and contact information. Implement encapsulation to ensure data integrity and security.\n",
    "class Customer:\n",
    "    def __init__(self, name, address, contact_info):\n",
    "        self.__name = name  # Private attribute\n",
    "        self.__address = address  # Private attribute\n",
    "        self.__contact_info = contact_info  # Private attribute\n",
    "\n",
    "    def get_name(self):\n",
    "        return self.__name\n",
    "\n",
    "    def get_address(self):\n",
    "        return self.__address\n",
    "\n",
    "    def get_contact_info(self):\n",
    "        return self.__contact_info\n",
    "\n",
    "    def update_contact_info(self, new_contact_info):\n",
    "        self.__contact_info = new_contact_info\n",
    "        print(\"Contact information updated successfully.\")\n",
    "\n",
    "# Creating an instance of the Customer class\n",
    "customer = Customer(\"Alice\", \"123 Main Street\", \"alice@example.com\")\n",
    "\n",
    "# Accessing customer information using getter methods\n",
    "print(\"Customer Name:\", customer.get_name())\n",
    "print(\"Customer Address:\", customer.get_address())\n",
    "print(\"Customer Contact Info:\", customer.get_contact_info())\n",
    "\n",
    "# Updating customer contact information\n",
    "customer.update_contact_info(\"alice.new@example.com\")\n",
    "print(\"Updated Customer Contact Info:\", customer.get_contact_info())\n"
   ]
  },
  {
   "cell_type": "markdown",
   "id": "4d27b1ad",
   "metadata": {},
   "source": [
    "# Polymorphism:"
   ]
  },
  {
   "cell_type": "code",
   "execution_count": 1,
   "id": "134fdf91",
   "metadata": {},
   "outputs": [
    {
     "data": {
      "text/plain": [
       "'Polymorphism in Python is a concept where an object can take on different forms or types. It allows objects of different classes to be treated as objects of a common superclass. This means that a single function or method can operate on different types of objects.\\n\\nIn object-oriented programming, polymorphism is closely related to the concept of inheritance. When a subclass inherits from a superclass, it can override methods from the superclass, providing its own implementation. This allows different subclasses to provide their own specific implementation of methods while still being treated as instances of the superclass.\\n\\nFor example, you could have a superclass called `Animal` with a method `make_sound()`. Then you could have subclasses like `Dog`, `Cat`, and `Bird` that inherit from `Animal` and each provide their own implementation of `make_sound()`. When you call `make_sound()` on an object of type `Dog`, `Cat`, or `Bird`, each subclass will execute its specific implementation of the method due to polymorphism.'"
      ]
     },
     "execution_count": 1,
     "metadata": {},
     "output_type": "execute_result"
    }
   ],
   "source": [
    "#1. What is polymorphism in Python? Explain how it is related to object-oriented programming.\n",
    "'''Polymorphism in Python is a concept where an object can take on different forms or types. It allows objects of different classes to be treated as objects of a common superclass. This means that a single function or method can operate on different types of objects.\n",
    "\n",
    "In object-oriented programming, polymorphism is closely related to the concept of inheritance. When a subclass inherits from a superclass, it can override methods from the superclass, providing its own implementation. This allows different subclasses to provide their own specific implementation of methods while still being treated as instances of the superclass.\n",
    "\n",
    "For example, you could have a superclass called `Animal` with a method `make_sound()`. Then you could have subclasses like `Dog`, `Cat`, and `Bird` that inherit from `Animal` and each provide their own implementation of `make_sound()`. When you call `make_sound()` on an object of type `Dog`, `Cat`, or `Bird`, each subclass will execute its specific implementation of the method due to polymorphism.'''"
   ]
  },
  {
   "cell_type": "code",
   "execution_count": 2,
   "id": "cc77af8e",
   "metadata": {},
   "outputs": [
    {
     "data": {
      "text/plain": [
       "'Compile-time polymorphism and runtime polymorphism are two types of polymorphism in programming. In Python, which is a dynamically typed language, the concepts are slightly different compared to statically typed languages like C++ or Java.\\n\\n1. **Compile-time Polymorphism (Static Polymorphism):**\\n   - In languages like C++ or Java, compile-time polymorphism is achieved through method overloading and operator overloading.\\n   - Method overloading allows multiple methods with the same name but different parameters to be defined in a class. The appropriate method is selected during compilation based on the number and types of arguments passed.\\n   - Operator overloading allows operators like `+`, `-`, `*` to be overloaded for user-defined classes.\\n   - The resolution of overloaded functions or operators occurs at compile time.\\n\\n2. **Runtime Polymorphism (Dynamic Polymorphism):**\\n   - In Python, runtime polymorphism is achieved through method overriding.\\n   - Method overriding occurs when a method in a subclass has the same name and signature as a method in its superclass. The method in the subclass overrides the method in the superclass.\\n   - The selection of which method to call is determined at runtime based on the actual type of object being referred to by a superclass reference.\\n   - This dynamic binding is a characteristic of dynamically typed languages like Python.\\n\\nIn summary, in Python, compile-time polymorphism is not explicitly supported as in statically typed languages due to its dynamic nature. Runtime polymorphism, achieved through method overriding, is the primary way to implement polymorphism in Python.'"
      ]
     },
     "execution_count": 2,
     "metadata": {},
     "output_type": "execute_result"
    }
   ],
   "source": [
    "#2. Describe the difference between compile-time polymorphism and runtime polymorphism in Python.\n",
    "\n",
    "'''Compile-time polymorphism and runtime polymorphism are two types of polymorphism in programming. In Python, which is a dynamically typed language, the concepts are slightly different compared to statically typed languages like C++ or Java.\n",
    "\n",
    "1. **Compile-time Polymorphism (Static Polymorphism):**\n",
    "   - In languages like C++ or Java, compile-time polymorphism is achieved through method overloading and operator overloading.\n",
    "   - Method overloading allows multiple methods with the same name but different parameters to be defined in a class. The appropriate method is selected during compilation based on the number and types of arguments passed.\n",
    "   - Operator overloading allows operators like `+`, `-`, `*` to be overloaded for user-defined classes.\n",
    "   - The resolution of overloaded functions or operators occurs at compile time.\n",
    "\n",
    "2. **Runtime Polymorphism (Dynamic Polymorphism):**\n",
    "   - In Python, runtime polymorphism is achieved through method overriding.\n",
    "   - Method overriding occurs when a method in a subclass has the same name and signature as a method in its superclass. The method in the subclass overrides the method in the superclass.\n",
    "   - The selection of which method to call is determined at runtime based on the actual type of object being referred to by a superclass reference.\n",
    "   - This dynamic binding is a characteristic of dynamically typed languages like Python.\n",
    "\n",
    "In summary, in Python, compile-time polymorphism is not explicitly supported as in statically typed languages due to its dynamic nature. Runtime polymorphism, achieved through method overriding, is the primary way to implement polymorphism in Python.'''"
   ]
  },
  {
   "cell_type": "code",
   "execution_count": 3,
   "id": "cb8959bd",
   "metadata": {},
   "outputs": [
    {
     "name": "stdout",
     "output_type": "stream",
     "text": [
      "Area of the shape: 78.53981633974483\n",
      "Area of the shape: 16\n",
      "Area of the shape: 9.0\n"
     ]
    }
   ],
   "source": [
    "#3. Create a Python class hierarchy for shapes (e.g., circle, square, triangle) and demonstrate polymorphism through a common method, such as `calculate_area()`.\n",
    "import math\n",
    "\n",
    "class Shape:\n",
    "    def calculate_area(self):\n",
    "        pass\n",
    "\n",
    "class Circle(Shape):\n",
    "    def __init__(self, radius):\n",
    "        self.radius = radius\n",
    "    \n",
    "    def calculate_area(self):\n",
    "        return math.pi * self.radius**2\n",
    "\n",
    "class Square(Shape):\n",
    "    def __init__(self, side_length):\n",
    "        self.side_length = side_length\n",
    "    \n",
    "    def calculate_area(self):\n",
    "        return self.side_length**2\n",
    "\n",
    "class Triangle(Shape):\n",
    "    def __init__(self, base, height):\n",
    "        self.base = base\n",
    "        self.height = height\n",
    "    \n",
    "    def calculate_area(self):\n",
    "        return 0.5 * self.base * self.height\n",
    "\n",
    "# Demonstrate polymorphism\n",
    "shapes = [Circle(5), Square(4), Triangle(3, 6)]\n",
    "\n",
    "for shape in shapes:\n",
    "    print(f\"Area of the shape: {shape.calculate_area()}\")\n",
    "\n"
   ]
  },
  {
   "cell_type": "code",
   "execution_count": 4,
   "id": "5fa2fddb",
   "metadata": {},
   "outputs": [
    {
     "name": "stdout",
     "output_type": "stream",
     "text": [
      "Dog barks\n",
      "Cat meows\n"
     ]
    }
   ],
   "source": [
    "#4. Explain the concept of method overriding in polymorphism. Provide an example.\n",
    "class Animal:\n",
    "    def speak(self):\n",
    "        print(\"Animal speaks\")\n",
    "\n",
    "class Dog(Animal):\n",
    "    def speak(self):\n",
    "        print(\"Dog barks\")\n",
    "\n",
    "class Cat(Animal):\n",
    "    def speak(self):\n",
    "        print(\"Cat meows\")\n",
    "\n",
    "# Creating instances of Dog and Cat\n",
    "dog = Dog()\n",
    "cat = Cat()\n",
    "\n",
    "# Calling the speak method on Dog and Cat objects\n",
    "dog.speak()  # Output: Dog barks\n",
    "cat.speak()  # Output: Cat meows\n"
   ]
  },
  {
   "cell_type": "code",
   "execution_count": 5,
   "id": "d12971d0",
   "metadata": {},
   "outputs": [
    {
     "name": "stdout",
     "output_type": "stream",
     "text": [
      "Dog barks\n",
      "Cat meows\n",
      "5\n",
      "2\n"
     ]
    }
   ],
   "source": [
    "#5. How is polymorphism different from method overloading in Python? Provide examples for both.\n",
    "\n",
    "'''Polymorphism and method overloading are both concepts in object-oriented programming, but they are different in how they are implemented in Python.\n",
    "\n",
    "Polymorphism:\n",
    "\n",
    "Polymorphism allows objects of different classes to be treated as objects of a common superclass. It enables a single method or function to work with different types of objects.\n",
    "In Python, polymorphism is achieved through method overriding, where a method in a subclass has the same name and signature as a method in its superclass.\n",
    "Polymorphism enables flexibility and extensibility in code by allowing different subclasses to provide their own implementations of methods.\n",
    "Example of polymorphism in Python:\n",
    "python\n",
    "'''\n",
    "class Animal:\n",
    "    def speak(self):\n",
    "        pass\n",
    "\n",
    "class Dog(Animal):\n",
    "    def speak(self):\n",
    "        print(\"Dog barks\")\n",
    "\n",
    "class Cat(Animal):\n",
    "    def speak(self):\n",
    "        print(\"Cat meows\")\n",
    "\n",
    "# Polymorphism in action\n",
    "def make_sound(animal):\n",
    "    animal.speak()\n",
    "\n",
    "dog = Dog()\n",
    "cat = Cat()\n",
    "\n",
    "make_sound(dog)  # Output: Dog barks\n",
    "make_sound(cat)  # Output: Cat meows\n",
    "\n",
    "'''Method Overloading:\n",
    "\n",
    "Method overloading is the ability to define multiple methods with the same name but different parameters within the same class.\n",
    "In Python, method overloading is not directly supported as in languages like Java or C++. Python does not support method overloading based on the number or type of arguments.\n",
    "Instead, in Python, you can achieve similar behavior by using default parameter values or variable-length arguments (*args, **kwargs) to create functions that can handle different numbers of arguments.\n",
    "Example of method \"overloading\" in Python using default parameter values:'''\n",
    "\n",
    "class Calculator:\n",
    "    def add(self, a, b=0):\n",
    "        return a + b\n",
    "\n",
    "# Method \"overloading\" in action\n",
    "calc = Calculator()\n",
    "print(calc.add(2, 3))  # Output: 5\n",
    "print(calc.add(2))     # Output: 2 (default value used for b)\n"
   ]
  },
  {
   "cell_type": "code",
   "execution_count": 6,
   "id": "f7db4cce",
   "metadata": {},
   "outputs": [
    {
     "name": "stdout",
     "output_type": "stream",
     "text": [
      "The dog barks\n",
      "The cat meows\n",
      "The bird chirps\n"
     ]
    }
   ],
   "source": [
    "#6. Create a Python class called `Animal` with a method `speak()`. Then, create child classes like `Dog`, `Cat`, and `Bird`, each with their own `speak()` method. Demonstrate polymorphism by calling the `speak()` method on objects of different subclasses.\n",
    "class Animal:\n",
    "    def speak(self):\n",
    "        print(\"The animal makes a sound\")\n",
    "\n",
    "class Dog(Animal):\n",
    "    def speak(self):\n",
    "        print(\"The dog barks\")\n",
    "\n",
    "class Cat(Animal):\n",
    "    def speak(self):\n",
    "        print(\"The cat meows\")\n",
    "\n",
    "class Bird(Animal):\n",
    "    def speak(self):\n",
    "        print(\"The bird chirps\")\n",
    "\n",
    "# Demonstrating polymorphism\n",
    "animals = [Dog(), Cat(), Bird()]\n",
    "\n",
    "for animal in animals:\n",
    "    animal.speak()\n",
    "\n"
   ]
  },
  {
   "cell_type": "code",
   "execution_count": 7,
   "id": "afbef105",
   "metadata": {},
   "outputs": [
    {
     "name": "stdout",
     "output_type": "stream",
     "text": [
      "Area of the circle: 78.5\n",
      "Area of the square: 16\n"
     ]
    }
   ],
   "source": [
    "#7. Discuss the use of abstract methods and classes in achieving polymorphism in Python. Provide an example using the `abc` module.\n",
    "from abc import ABC, abstractmethod\n",
    "\n",
    "class Shape(ABC):\n",
    "    @abstractmethod\n",
    "    def calculate_area(self):\n",
    "        pass\n",
    "\n",
    "class Circle(Shape):\n",
    "    def __init__(self, radius):\n",
    "        self.radius = radius\n",
    "    \n",
    "    def calculate_area(self):\n",
    "        return 3.14 * self.radius**2\n",
    "\n",
    "class Square(Shape):\n",
    "    def __init__(self, side_length):\n",
    "        self.side_length = side_length\n",
    "    \n",
    "    def calculate_area(self):\n",
    "        return self.side_length**2\n",
    "\n",
    "# Creating instances of Circle and Square\n",
    "circle = Circle(5)\n",
    "square = Square(4)\n",
    "\n",
    "# Calling the calculate_area method on Circle and Square objects\n",
    "print(\"Area of the circle:\", circle.calculate_area())\n",
    "print(\"Area of the square:\", square.calculate_area())\n",
    "\n"
   ]
  },
  {
   "cell_type": "code",
   "execution_count": 8,
   "id": "97f1e181",
   "metadata": {},
   "outputs": [
    {
     "name": "stdout",
     "output_type": "stream",
     "text": [
      "The car's engine starts.\n",
      "You start pedaling the bicycle.\n",
      "The boat's engine roars to life.\n"
     ]
    }
   ],
   "source": [
    "#8. Create a Python class hierarchy for a vehicle system (e.g., car, bicycle, boat) and implement a polymorphic `start()` method that prints a message specific to each vehicle type.\n",
    "class Vehicle:\n",
    "    def start(self):\n",
    "        pass\n",
    "\n",
    "class Car(Vehicle):\n",
    "    def start(self):\n",
    "        print(\"The car's engine starts.\")\n",
    "\n",
    "class Bicycle(Vehicle):\n",
    "    def start(self):\n",
    "        print(\"You start pedaling the bicycle.\")\n",
    "\n",
    "class Boat(Vehicle):\n",
    "    def start(self):\n",
    "        print(\"The boat's engine roars to life.\")\n",
    "\n",
    "# Demonstrating polymorphism\n",
    "vehicles = [Car(), Bicycle(), Boat()]\n",
    "\n",
    "for vehicle in vehicles:\n",
    "    vehicle.start()\n",
    "\n"
   ]
  },
  {
   "cell_type": "code",
   "execution_count": 9,
   "id": "d5ce7087",
   "metadata": {},
   "outputs": [
    {
     "name": "stdout",
     "output_type": "stream",
     "text": [
      "True\n",
      "True\n",
      "True\n"
     ]
    }
   ],
   "source": [
    "#9. Explain the significance of the `isinstance()` and `issubclass()` functions in Python polymorphism.\n",
    "\n",
    "'''Les fonctions isinstance() et issubclass() en Python sont importantes pour la mise en œuvre du polymorphisme en programmation orientée objet. Voici un aperçu de la signification de ces deux fonctions dans le contexte du polymorphisme :\n",
    "\n",
    "isinstance() :\n",
    "La fonction isinstance() est utilisée pour vérifier si un objet est une instance d'une classe donnée.\n",
    "Elle est couramment utilisée pour vérifier le type d'un objet avant d'effectuer des opérations spécifiques à ce type.\n",
    "En utilisant isinstance(), on peut facilement implémenter des comportements différents en fonction du type d'objet reçu en entrée.\n",
    "Exemple d'utilisation de isinstance() :'''\n",
    "\n",
    "class Animal:\n",
    "    pass\n",
    "\n",
    "class Dog(Animal):\n",
    "    pass\n",
    "\n",
    "dog = Dog()\n",
    "\n",
    "print(isinstance(dog, Dog))      # Output: True\n",
    "print(isinstance(dog, Animal))   # Output: True\n",
    "'''\n",
    "issubclass() :\n",
    "La fonction issubclass() est utilisée pour vérifier si une classe est une sous-classe d'une autre classe.\n",
    "Elle permet de vérifier les relations d'héritage entre les classes, ce qui est utile pour organiser la hiérarchie des classes et utiliser l'héritage de manière appropriée.\n",
    "issubclass() est souvent utilisée pour contrôler le flux d'exécution en fonction des relations entre les classes.\n",
    "Exemple d'utilisation de issubclass() :'''\n",
    "\n",
    "class Animal:\n",
    "    pass\n",
    "\n",
    "class Dog(Animal):\n",
    "    pass\n",
    "\n",
    "print(issubclass(Dog, Animal))  # Output: True\n"
   ]
  },
  {
   "cell_type": "code",
   "execution_count": 10,
   "id": "5c5d2dd9",
   "metadata": {},
   "outputs": [
    {
     "name": "stdout",
     "output_type": "stream",
     "text": [
      "Area of the circle: 78.5\n",
      "Area of the square: 16\n"
     ]
    }
   ],
   "source": [
    "#10. What is the role of the `@abstractmethod` decorator in achieving polymorphism in Python? Provide an example.\n",
    "from abc import ABC, abstractmethod\n",
    "\n",
    "class Shape(ABC):\n",
    "    @abstractmethod\n",
    "    def calculate_area(self):\n",
    "        pass\n",
    "\n",
    "class Circle(Shape):\n",
    "    def __init__(self, radius):\n",
    "        self.radius = radius\n",
    "    \n",
    "    def calculate_area(self):\n",
    "        return 3.14 * self.radius**2\n",
    "\n",
    "class Square(Shape):\n",
    "    def __init__(self, side_length):\n",
    "        self.side_length = side_length\n",
    "    \n",
    "    def calculate_area(self):\n",
    "        return self.side_length**2\n",
    "\n",
    "# Creating instances of Circle and Square\n",
    "circle = Circle(5)\n",
    "square = Square(4)\n",
    "\n",
    "# Calling the calculate_area method on Circle and Square objects\n",
    "print(\"Area of the circle:\", circle.calculate_area())\n",
    "print(\"Area of the square:\", square.calculate_area())\n",
    "\n"
   ]
  },
  {
   "cell_type": "code",
   "execution_count": 11,
   "id": "4b5ae2fc",
   "metadata": {},
   "outputs": [
    {
     "name": "stdout",
     "output_type": "stream",
     "text": [
      "Area of the circle: 78.53981633974483\n",
      "Area of the rectangle: 24\n",
      "Area of the triangle: 6.0\n"
     ]
    }
   ],
   "source": [
    "#11. Create a Python class called `Shape` with a polymorphic method `area()` that calculates the area of different shapes (e.g., circle, rectangle, triangle).\n",
    "import math\n",
    "\n",
    "class Shape:\n",
    "    def area(self):\n",
    "        pass\n",
    "\n",
    "class Circle(Shape):\n",
    "    def __init__(self, radius):\n",
    "        self.radius = radius\n",
    "    \n",
    "    def area(self):\n",
    "        return math.pi * self.radius**2\n",
    "\n",
    "class Rectangle(Shape):\n",
    "    def __init__(self, length, width):\n",
    "        self.length = length\n",
    "        self.width = width\n",
    "    \n",
    "    def area(self):\n",
    "        return self.length * self.width\n",
    "\n",
    "class Triangle(Shape):\n",
    "    def __init__(self, base, height):\n",
    "        self.base = base\n",
    "        self.height = height\n",
    "    \n",
    "    def area(self):\n",
    "        return 0.5 * self.base * self.height\n",
    "\n",
    "# Creating instances of Circle, Rectangle, and Triangle\n",
    "circle = Circle(5)\n",
    "rectangle = Rectangle(4, 6)\n",
    "triangle = Triangle(3, 4)\n",
    "\n",
    "# Calling the area method on different shape objects\n",
    "print(\"Area of the circle:\", circle.area())\n",
    "print(\"Area of the rectangle:\", rectangle.area())\n",
    "print(\"Area of the triangle:\", triangle.area())\n",
    "\n"
   ]
  },
  {
   "cell_type": "code",
   "execution_count": 12,
   "id": "c46107c4",
   "metadata": {},
   "outputs": [
    {
     "data": {
      "text/plain": [
       "\"Le polymorphisme offre plusieurs avantages en termes de réutilisabilité du code et de flexibilité dans les programmes Python :\\n\\n1. **Réutilisabilité du code :**\\n   - Le polymorphisme permet d'écrire du code générique qui peut être réutilisé avec différents types d'objets.\\n   - En utilisant des classes de base et des méthodes polymorphes, on peut réutiliser le même code pour traiter différents types d'objets sans avoir à réécrire le code à chaque fois.\\n   - Cela réduit la duplication du code et favorise une conception plus modulaire et facile à entretenir.\\n\\n2. **Flexibilité :**\\n   - Le polymorphisme permet d'écrire un code flexible qui peut s'adapter à différentes situations et types d'objets.\\n   - En utilisant le polymorphisme, on peut concevoir des interfaces communes pour des classes différentes, ce qui facilite l'évolution et la modification du code sans avoir à changer l'interface.\\n   - Il permet également d'ajouter de nouvelles fonctionnalités en introduisant de nouvelles sous-classes sans modifier le code existant, ce qui rend le code plus extensible.\\n\\n3. **Encapsulation :**\\n   - Le polymorphisme favorise l'encapsulation en permettant de cacher les détails d'implémentation spécifiques derrière une interface commune.\\n   - Les détails spécifiques à chaque classe sont encapsulés dans les méthodes de chaque classe, ce qui permet de maintenir une séparation claire des responsabilités et une meilleure organisation du code.\\n\\nEn résumé, le polymorphisme en Python améliore la réutilisabilité du code en permettant d'écrire du code générique pour traiter différents types d'objets, tout en offrant une flexibilité pour étendre et modifier le code facilement. Il favorise une conception modulaire, encapsulée et extensible, ce qui contribue à un code plus propre, plus maintenable et plus évolutif.\""
      ]
     },
     "execution_count": 12,
     "metadata": {},
     "output_type": "execute_result"
    }
   ],
   "source": [
    "#12. Discuss the benefits of polymorphism in terms of code reusability and flexibility in Python programs.\n",
    "'''Le polymorphisme offre plusieurs avantages en termes de réutilisabilité du code et de flexibilité dans les programmes Python :\n",
    "\n",
    "1. **Réutilisabilité du code :**\n",
    "   - Le polymorphisme permet d'écrire du code générique qui peut être réutilisé avec différents types d'objets.\n",
    "   - En utilisant des classes de base et des méthodes polymorphes, on peut réutiliser le même code pour traiter différents types d'objets sans avoir à réécrire le code à chaque fois.\n",
    "   - Cela réduit la duplication du code et favorise une conception plus modulaire et facile à entretenir.\n",
    "\n",
    "2. **Flexibilité :**\n",
    "   - Le polymorphisme permet d'écrire un code flexible qui peut s'adapter à différentes situations et types d'objets.\n",
    "   - En utilisant le polymorphisme, on peut concevoir des interfaces communes pour des classes différentes, ce qui facilite l'évolution et la modification du code sans avoir à changer l'interface.\n",
    "   - Il permet également d'ajouter de nouvelles fonctionnalités en introduisant de nouvelles sous-classes sans modifier le code existant, ce qui rend le code plus extensible.\n",
    "\n",
    "3. **Encapsulation :**\n",
    "   - Le polymorphisme favorise l'encapsulation en permettant de cacher les détails d'implémentation spécifiques derrière une interface commune.\n",
    "   - Les détails spécifiques à chaque classe sont encapsulés dans les méthodes de chaque classe, ce qui permet de maintenir une séparation claire des responsabilités et une meilleure organisation du code.\n",
    "\n",
    "En résumé, le polymorphisme en Python améliore la réutilisabilité du code en permettant d'écrire du code générique pour traiter différents types d'objets, tout en offrant une flexibilité pour étendre et modifier le code facilement. Il favorise une conception modulaire, encapsulée et extensible, ce qui contribue à un code plus propre, plus maintenable et plus évolutif.'''"
   ]
  },
  {
   "cell_type": "code",
   "execution_count": 13,
   "id": "538e4364",
   "metadata": {},
   "outputs": [
    {
     "name": "stdout",
     "output_type": "stream",
     "text": [
      "Animal speaks\n",
      "Dog barks\n"
     ]
    }
   ],
   "source": [
    "#13. Explain the use of the `super()` function in Python polymorphism. How does it help call methods of parent classes?\n",
    "\n",
    "class Animal:\n",
    "    def speak(self):\n",
    "        print(\"Animal speaks\")\n",
    "\n",
    "class Dog(Animal):\n",
    "    def speak(self):\n",
    "        super().speak()  # Llama al método speak() de la clase Animal\n",
    "        print(\"Dog barks\")\n",
    "\n",
    "# Crear una instancia de la clase Dog y llamar al método speak()\n",
    "dog = Dog()\n",
    "dog.speak()\n"
   ]
  },
  {
   "cell_type": "code",
   "execution_count": 14,
   "id": "e2700b11",
   "metadata": {},
   "outputs": [
    {
     "name": "stdout",
     "output_type": "stream",
     "text": [
      "Withdrew $300 from Savings Account. New balance: $700\n",
      "Withdrew $300 from Checking Account. New balance: $200\n",
      "Withdrew $300 from Credit Card. New balance: $1700\n"
     ]
    }
   ],
   "source": [
    "#14. Create a Python class hierarchy for a banking system with various account types (e.g., savings, checking, credit card) and demonstrate polymorphism by implementing a common `withdraw()` method.\n",
    "\n",
    "class Account:\n",
    "    def __init__(self, account_number, balance=0):\n",
    "        self.account_number = account_number\n",
    "        self.balance = balance\n",
    "\n",
    "    def withdraw(self, amount):\n",
    "        if self.balance >= amount:\n",
    "            self.balance -= amount\n",
    "            print(f\"Withdrew ${amount}. New balance: ${self.balance}\")\n",
    "        else:\n",
    "            print(\"Insufficient funds\")\n",
    "\n",
    "class SavingsAccount(Account):\n",
    "    def withdraw(self, amount):\n",
    "        if self.balance >= amount:\n",
    "            self.balance -= amount\n",
    "            print(f\"Withdrew ${amount} from Savings Account. New balance: ${self.balance}\")\n",
    "        else:\n",
    "            print(\"Insufficient funds in Savings Account\")\n",
    "\n",
    "class CheckingAccount(Account):\n",
    "    def withdraw(self, amount):\n",
    "        if self.balance >= amount:\n",
    "            self.balance -= amount\n",
    "            print(f\"Withdrew ${amount} from Checking Account. New balance: ${self.balance}\")\n",
    "        else:\n",
    "            print(\"Insufficient funds in Checking Account\")\n",
    "\n",
    "class CreditCardAccount(Account):\n",
    "    def withdraw(self, amount):\n",
    "        if self.balance >= amount:\n",
    "            self.balance -= amount\n",
    "            print(f\"Withdrew ${amount} from Credit Card. New balance: ${self.balance}\")\n",
    "        else:\n",
    "            print(\"Insufficient credit limit on Credit Card\")\n",
    "\n",
    "# Demonstrating polymorphism by calling the common withdraw() method\n",
    "savings_account = SavingsAccount(\"SA123\", 1000)\n",
    "checking_account = CheckingAccount(\"CA456\", 500)\n",
    "credit_card_account = CreditCardAccount(\"CC789\", 2000)\n",
    "\n",
    "accounts = [savings_account, checking_account, credit_card_account]\n",
    "\n",
    "for account in accounts:\n",
    "    account.withdraw(300)\n"
   ]
  },
  {
   "cell_type": "code",
   "execution_count": 15,
   "id": "aa8f9c89",
   "metadata": {},
   "outputs": [
    {
     "name": "stdout",
     "output_type": "stream",
     "text": [
      "Addition result: (6, 8)\n",
      "Multiplication result: (4, 6)\n"
     ]
    }
   ],
   "source": [
    "#15. Describe the concept of operator overloading in Python and how it relates to polymorphism. Provide examples using operators like `+` and `*`.\n",
    "class Vector:\n",
    "    def __init__(self, x, y):\n",
    "        self.x = x\n",
    "        self.y = y\n",
    "\n",
    "    # Surcharge de l'opérateur d'addition (+)\n",
    "    def __add__(self, other):\n",
    "        return Vector(self.x + other.x, self.y + other.y)\n",
    "\n",
    "    # Surcharge de l'opérateur de multiplication (*)\n",
    "    def __mul__(self, scalar):\n",
    "        return Vector(self.x * scalar, self.y * scalar)\n",
    "\n",
    "    def __str__(self):\n",
    "        return f\"({self.x}, {self.y})\"\n",
    "\n",
    "# Création d'instances de la classe Vector\n",
    "v1 = Vector(2, 3)\n",
    "v2 = Vector(4, 5)\n",
    "\n",
    "# Utilisation de l'opérateur d'addition (+) sur des objets Vector\n",
    "result_addition = v1 + v2\n",
    "print(\"Addition result:\", result_addition)\n",
    "\n",
    "# Utilisation de l'opérateur de multiplication (*) sur un objet Vector\n",
    "result_multiplication = v1 * 2\n",
    "print(\"Multiplication result:\", result_multiplication)\n",
    "\n"
   ]
  },
  {
   "cell_type": "code",
   "execution_count": 16,
   "id": "d34de814",
   "metadata": {},
   "outputs": [
    {
     "data": {
      "text/plain": [
       "'Dynamic polymorphism, also known as runtime polymorphism, is a feature of object-oriented programming that allows different classes to be treated as instances of a common superclass and enables the selection of the appropriate method to be executed at runtime based on the actual type of object being referred to by a superclass reference.\\n\\nIn Python, dynamic polymorphism is achieved through method overriding. When a method in a subclass has the same name and signature as a method in its superclass, the method in the subclass overrides the method in the superclass. This allows different subclasses to provide their own specific implementation of methods while still being treated as instances of the superclass.\\n\\nBy calling a method on an object, Python determines at runtime which specific implementation of the method to execute based on the actual type of the object. This dynamic binding of methods allows for flexibility and extensibility in code by enabling different behavior in different subclasses while maintaining a common interface through inheritance.\\n\\nIn Python, dynamic polymorphism is inherent in the language due to its dynamic typing nature and support for method overriding. It allows for the effective implementation of polymorphism, facilitating code reuse, flexibility, and maintainability in object-oriented programming.'"
      ]
     },
     "execution_count": 16,
     "metadata": {},
     "output_type": "execute_result"
    }
   ],
   "source": [
    "#16. What is dynamic polymorphism, and how is it achieved in Python?\n",
    "'''Dynamic polymorphism, also known as runtime polymorphism, is a feature of object-oriented programming that allows different classes to be treated as instances of a common superclass and enables the selection of the appropriate method to be executed at runtime based on the actual type of object being referred to by a superclass reference.\n",
    "\n",
    "In Python, dynamic polymorphism is achieved through method overriding. When a method in a subclass has the same name and signature as a method in its superclass, the method in the subclass overrides the method in the superclass. This allows different subclasses to provide their own specific implementation of methods while still being treated as instances of the superclass.\n",
    "\n",
    "By calling a method on an object, Python determines at runtime which specific implementation of the method to execute based on the actual type of the object. This dynamic binding of methods allows for flexibility and extensibility in code by enabling different behavior in different subclasses while maintaining a common interface through inheritance.\n",
    "\n",
    "In Python, dynamic polymorphism is inherent in the language due to its dynamic typing nature and support for method overriding. It allows for the effective implementation of polymorphism, facilitating code reuse, flexibility, and maintainability in object-oriented programming.'''"
   ]
  },
  {
   "cell_type": "code",
   "execution_count": 17,
   "id": "858a65f2",
   "metadata": {},
   "outputs": [
    {
     "name": "stdout",
     "output_type": "stream",
     "text": [
      "Alice's total salary: $70000\n",
      "Bob's total salary: $58000\n",
      "Charlie's total salary: $51000\n"
     ]
    }
   ],
   "source": [
    "#17. Create a Python class hierarchy for employees in a company (e.g., manager, developer, designer) and implement polymorphism through a common `calculate_salary()` method.\n",
    "\n",
    "class Employee:\n",
    "    def __init__(self, name, salary):\n",
    "        self.name = name\n",
    "        self.salary = salary\n",
    "\n",
    "    def calculate_salary(self):\n",
    "        return self.salary\n",
    "\n",
    "class Manager(Employee):\n",
    "    def __init__(self, name, salary, bonus):\n",
    "        super().__init__(name, salary)\n",
    "        self.bonus = bonus\n",
    "\n",
    "    def calculate_salary(self):\n",
    "        total_salary = self.salary + self.bonus\n",
    "        return total_salary\n",
    "\n",
    "class Developer(Employee):\n",
    "    def __init__(self, name, salary, tech_allowance):\n",
    "        super().__init__(name, salary)\n",
    "        self.tech_allowance = tech_allowance\n",
    "\n",
    "    def calculate_salary(self):\n",
    "        total_salary = self.salary + self.tech_allowance\n",
    "        return total_salary\n",
    "\n",
    "class Designer(Employee):\n",
    "    def __init__(self, name, salary, overtime_pay):\n",
    "        super().__init__(name, salary)\n",
    "        self.overtime_pay = overtime_pay\n",
    "\n",
    "    def calculate_salary(self):\n",
    "        total_salary = self.salary + self.overtime_pay\n",
    "        return total_salary\n",
    "\n",
    "# Creating instances of Manager, Developer, and Designer\n",
    "manager = Manager(\"Alice\", 60000, 10000)\n",
    "developer = Developer(\"Bob\", 50000, 8000)\n",
    "designer = Designer(\"Charlie\", 45000, 6000)\n",
    "\n",
    "# Calling the calculate_salary method for each employee\n",
    "print(f\"{manager.name}'s total salary: ${manager.calculate_salary()}\")\n",
    "print(f\"{developer.name}'s total salary: ${developer.calculate_salary()}\")\n",
    "print(f\"{designer.name}'s total salary: ${designer.calculate_salary()}\")\n"
   ]
  },
  {
   "cell_type": "code",
   "execution_count": 18,
   "id": "ce73a7b1",
   "metadata": {},
   "outputs": [
    {
     "name": "stdout",
     "output_type": "stream",
     "text": [
      "Addition result: 8\n",
      "Subtraction result: 6\n"
     ]
    }
   ],
   "source": [
    "#18. Discuss the concept of function pointers and how they can be used to achieve polymorphism in Python.\n",
    "\n",
    "def add(x, y):\n",
    "    return x + y\n",
    "\n",
    "def subtract(x, y):\n",
    "    return x - y\n",
    "\n",
    "def operate(operation, x, y):\n",
    "    return operation(x, y)\n",
    "\n",
    "# Utilisation des fonctions pour implémenter le polymorphisme\n",
    "result_add = operate(add, 5, 3)\n",
    "result_subtract = operate(subtract, 8, 2)\n",
    "\n",
    "print(\"Addition result:\", result_add)\n",
    "print(\"Subtraction result:\", result_subtract)\n"
   ]
  },
  {
   "cell_type": "code",
   "execution_count": 19,
   "id": "f45757fe",
   "metadata": {},
   "outputs": [
    {
     "data": {
      "text/plain": [
       "\"En Python, les interfaces et les classes abstraites jouent un rôle important dans la mise en œuvre du polymorphisme en fournissant des structures pour définir des modèles communs pour les classes dérivées. Voici une comparaison entre les interfaces et les classes abstraites en ce qui concerne leur rôle dans le polymorphisme :\\n\\n1. **Interfaces :**\\n   - En Python, il n'y a pas de support natif pour les interfaces comme dans certains langages comme Java. Cependant, une interface peut être simulée en utilisant des classes abstraites avec des méthodes abstraites qui doivent être implémentées par les sous-classes.\\n   - Une interface définit un contrat ou un ensemble de méthodes que les classes qui l'implémentent doivent fournir.\\n   - Les interfaces permettent de définir un comportement commun que plusieurs classes peuvent partager sans imposer une implémentation spécifique.\\n   - Les classes en Python peuvent implémenter plusieurs interfaces, ce qui favorise la flexibilité et la réutilisabilité du code.\\n\\n2. **Classes abstraites :**\\n   - En Python, les classes abstraites sont des classes qui ne peuvent pas être instanciées directement et qui servent de modèles pour d'autres classes dérivées.\\n   - Les classes abstraites peuvent contenir des méthodes abstraites qui doivent être implémentées par les sous-classes, garantissant ainsi une structure commune dans la hiérarchie des classes.\\n   - Les classes abstraites peuvent contenir à la fois des méthodes concrètes et des méthodes abstraites, offrant une certaine flexibilité dans la définition du comportement commun et spécifique.\\n\\nEn résumé, les interfaces et les classes abstraites sont des outils importants pour implémenter le polymorphisme en Python. Les interfaces définissent un contrat commun sans imposer une implémentation spécifique, tandis que les classes abstraites fournissent une structure de base avec des méthodes abstraites à implémenter par les sous-classes. Les deux concepts favorisent la réutilisation du code, la flexibilité et la maintenabilité des programmes orientés objet.\""
      ]
     },
     "execution_count": 19,
     "metadata": {},
     "output_type": "execute_result"
    }
   ],
   "source": [
    "#19. Explain the role of interfaces and abstract classes in polymorphism, drawing comparisons between them.\n",
    "\n",
    "'''En Python, les interfaces et les classes abstraites jouent un rôle important dans la mise en œuvre du polymorphisme en fournissant des structures pour définir des modèles communs pour les classes dérivées. Voici une comparaison entre les interfaces et les classes abstraites en ce qui concerne leur rôle dans le polymorphisme :\n",
    "\n",
    "1. **Interfaces :**\n",
    "   - En Python, il n'y a pas de support natif pour les interfaces comme dans certains langages comme Java. Cependant, une interface peut être simulée en utilisant des classes abstraites avec des méthodes abstraites qui doivent être implémentées par les sous-classes.\n",
    "   - Une interface définit un contrat ou un ensemble de méthodes que les classes qui l'implémentent doivent fournir.\n",
    "   - Les interfaces permettent de définir un comportement commun que plusieurs classes peuvent partager sans imposer une implémentation spécifique.\n",
    "   - Les classes en Python peuvent implémenter plusieurs interfaces, ce qui favorise la flexibilité et la réutilisabilité du code.\n",
    "\n",
    "2. **Classes abstraites :**\n",
    "   - En Python, les classes abstraites sont des classes qui ne peuvent pas être instanciées directement et qui servent de modèles pour d'autres classes dérivées.\n",
    "   - Les classes abstraites peuvent contenir des méthodes abstraites qui doivent être implémentées par les sous-classes, garantissant ainsi une structure commune dans la hiérarchie des classes.\n",
    "   - Les classes abstraites peuvent contenir à la fois des méthodes concrètes et des méthodes abstraites, offrant une certaine flexibilité dans la définition du comportement commun et spécifique.\n",
    "\n",
    "En résumé, les interfaces et les classes abstraites sont des outils importants pour implémenter le polymorphisme en Python. Les interfaces définissent un contrat commun sans imposer une implémentation spécifique, tandis que les classes abstraites fournissent une structure de base avec des méthodes abstraites à implémenter par les sous-classes. Les deux concepts favorisent la réutilisation du code, la flexibilité et la maintenabilité des programmes orientés objet.'''"
   ]
  },
  {
   "cell_type": "code",
   "execution_count": 20,
   "id": "ad4b6c73",
   "metadata": {},
   "outputs": [
    {
     "name": "stdout",
     "output_type": "stream",
     "text": [
      "Lion the mammal is eating.\n",
      "Lion the mammal is sleeping.\n",
      "Lion the mammal makes a sound.\n",
      "Parrot the bird is eating.\n",
      "Parrot the bird is sleeping.\n",
      "Parrot the bird makes a sound.\n",
      "Snake the reptile is eating.\n",
      "Snake the reptile is sleeping.\n",
      "Snake the reptile makes a sound.\n"
     ]
    }
   ],
   "source": [
    "#20. Create a Python class for a zoo simulation, demonstrating polymorphism with different animal types (e.g., mammals, birds, reptiles) and their behavior (e.g., eating, sleeping, making sounds).\n",
    "class Animal:\n",
    "    def __init__(self, name):\n",
    "        self.name = name\n",
    "\n",
    "    def eat(self):\n",
    "        pass\n",
    "\n",
    "    def sleep(self):\n",
    "        pass\n",
    "\n",
    "    def make_sound(self):\n",
    "        pass\n",
    "\n",
    "class Mammal(Animal):\n",
    "    def eat(self):\n",
    "        return f\"{self.name} the mammal is eating.\"\n",
    "\n",
    "    def sleep(self):\n",
    "        return f\"{self.name} the mammal is sleeping.\"\n",
    "\n",
    "    def make_sound(self):\n",
    "        return f\"{self.name} the mammal makes a sound.\"\n",
    "\n",
    "class Bird(Animal):\n",
    "    def eat(self):\n",
    "        return f\"{self.name} the bird is eating.\"\n",
    "\n",
    "    def sleep(self):\n",
    "        return f\"{self.name} the bird is sleeping.\"\n",
    "\n",
    "    def make_sound(self):\n",
    "        return f\"{self.name} the bird makes a sound.\"\n",
    "\n",
    "class Reptile(Animal):\n",
    "    def eat(self):\n",
    "        return f\"{self.name} the reptile is eating.\"\n",
    "\n",
    "    def sleep(self):\n",
    "        return f\"{self.name} the reptile is sleeping.\"\n",
    "\n",
    "    def make_sound(self):\n",
    "        return f\"{self.name} the reptile makes a sound.\"\n",
    "\n",
    "# Création d'instances d'animaux de différents types\n",
    "lion = Mammal(\"Lion\")\n",
    "parrot = Bird(\"Parrot\")\n",
    "snake = Reptile(\"Snake\")\n",
    "\n",
    "# Appel des méthodes pour chaque animal\n",
    "print(lion.eat())\n",
    "print(lion.sleep())\n",
    "print(lion.make_sound())\n",
    "\n",
    "print(parrot.eat())\n",
    "print(parrot.sleep())\n",
    "print(parrot.make_sound())\n",
    "\n",
    "print(snake.eat())\n",
    "print(snake.sleep())\n",
    "print(snake.make_sound())\n"
   ]
  },
  {
   "cell_type": "markdown",
   "id": "2161c5b5",
   "metadata": {},
   "source": [
    "# Abstraction:"
   ]
  },
  {
   "cell_type": "code",
   "execution_count": 1,
   "id": "0a985963",
   "metadata": {},
   "outputs": [
    {
     "data": {
      "text/plain": [
       "'Abstraction in Python is a concept that allows developers to hide complex implementation details of an object and only expose the relevant functionality to the user. In other words, abstraction enables us to focus on what an object does rather than how it does it.\\n\\nIn object-oriented programming, abstraction is often achieved through the creation of classes and objects. A class serves as a blueprint for creating objects, while an object is an instance or concrete representation of a class. By using the concept of abstraction, we can define relevant properties and methods in a class without needing to think about their implementation details.\\n\\nBy employing abstraction in object-oriented programming, we can separate the public interface (used by the user) from implementation details (hidden from the user). This helps improve code readability, facilitates code maintenance, and enables better collaboration in software development.'"
      ]
     },
     "execution_count": 1,
     "metadata": {},
     "output_type": "execute_result"
    }
   ],
   "source": [
    "#1. What is abstraction in Python, and how does it relate to object-oriented programming?\n",
    "'''Abstraction in Python is a concept that allows developers to hide complex implementation details of an object and only expose the relevant functionality to the user. In other words, abstraction enables us to focus on what an object does rather than how it does it.\n",
    "\n",
    "In object-oriented programming, abstraction is often achieved through the creation of classes and objects. A class serves as a blueprint for creating objects, while an object is an instance or concrete representation of a class. By using the concept of abstraction, we can define relevant properties and methods in a class without needing to think about their implementation details.\n",
    "\n",
    "By employing abstraction in object-oriented programming, we can separate the public interface (used by the user) from implementation details (hidden from the user). This helps improve code readability, facilitates code maintenance, and enables better collaboration in software development.'''\n"
   ]
  },
  {
   "cell_type": "code",
   "execution_count": 2,
   "id": "4084e93c",
   "metadata": {},
   "outputs": [
    {
     "data": {
      "text/plain": [
       "'Abstraction in Python offers several benefits in terms of code organization and complexity reduction:\\n\\n1. **Simplifies Code Understanding**: Abstraction allows developers to focus on the essential aspects of an object or system without getting bogged down by unnecessary implementation details. This simplification makes the code easier to understand and maintain.\\n\\n2. **Encapsulation of Complexity**: By abstracting away complex implementation details, developers can encapsulate the complexity within classes and objects. This helps in managing the complexity of the system by providing a clear interface for interacting with objects.\\n\\n3. **Modularity**: Abstraction promotes modularity by breaking down a system into smaller, more manageable components. Each component can be developed independently, tested separately, and easily integrated into the larger system.\\n\\n4. **Code Reusability**: Abstraction allows for the creation of reusable code components in the form of classes and objects. Once a class is defined with the necessary properties and methods, it can be reused in different parts of the program or in other projects.\\n\\n5. **Ease of Maintenance**: Abstracting implementation details helps in isolating changes to specific parts of the code. This makes it easier to update or modify the code without affecting other parts of the system, thus simplifying maintenance tasks.\\n\\n6. **Enhanced Collaboration**: By providing a clear and well-defined interface, abstraction facilitates collaboration among team members working on a project. Developers can work on different parts of the system independently based on the defined abstractions.\\n\\nOverall, abstraction plays a crucial role in improving code organization, reducing complexity, promoting code reusability, and enhancing maintainability in software development projects.'"
      ]
     },
     "execution_count": 2,
     "metadata": {},
     "output_type": "execute_result"
    }
   ],
   "source": [
    "#2. Describe the benefits of abstraction in terms of code organization and complexity reduction.\n",
    "\n",
    "'''Abstraction in Python offers several benefits in terms of code organization and complexity reduction:\n",
    "\n",
    "1. **Simplifies Code Understanding**: Abstraction allows developers to focus on the essential aspects of an object or system without getting bogged down by unnecessary implementation details. This simplification makes the code easier to understand and maintain.\n",
    "\n",
    "2. **Encapsulation of Complexity**: By abstracting away complex implementation details, developers can encapsulate the complexity within classes and objects. This helps in managing the complexity of the system by providing a clear interface for interacting with objects.\n",
    "\n",
    "3. **Modularity**: Abstraction promotes modularity by breaking down a system into smaller, more manageable components. Each component can be developed independently, tested separately, and easily integrated into the larger system.\n",
    "\n",
    "4. **Code Reusability**: Abstraction allows for the creation of reusable code components in the form of classes and objects. Once a class is defined with the necessary properties and methods, it can be reused in different parts of the program or in other projects.\n",
    "\n",
    "5. **Ease of Maintenance**: Abstracting implementation details helps in isolating changes to specific parts of the code. This makes it easier to update or modify the code without affecting other parts of the system, thus simplifying maintenance tasks.\n",
    "\n",
    "6. **Enhanced Collaboration**: By providing a clear and well-defined interface, abstraction facilitates collaboration among team members working on a project. Developers can work on different parts of the system independently based on the defined abstractions.\n",
    "\n",
    "Overall, abstraction plays a crucial role in improving code organization, reducing complexity, promoting code reusability, and enhancing maintainability in software development projects.'''"
   ]
  },
  {
   "cell_type": "code",
   "execution_count": 3,
   "id": "7d05cf2e",
   "metadata": {},
   "outputs": [
    {
     "name": "stdout",
     "output_type": "stream",
     "text": [
      "Area of the circle: 78.53981633974483\n",
      "Area of the rectangle: 24\n"
     ]
    }
   ],
   "source": [
    "#3. Create a Python class called `Shape` with an abstract method `calculate_area()`. Then, create child classes (e.g., `Circle`, `Rectangle`) that implement the `calculate_area()` method. Provide an example ofusing these classes.\n",
    "\n",
    "from abc import ABC, abstractmethod\n",
    "import math\n",
    "\n",
    "class Shape(ABC):\n",
    "    @abstractmethod\n",
    "    def calculate_area(self):\n",
    "        pass\n",
    "\n",
    "class Circle(Shape):\n",
    "    def __init__(self, radius):\n",
    "        self.radius = radius\n",
    "\n",
    "    def calculate_area(self):\n",
    "        return math.pi * self.radius**2\n",
    "\n",
    "class Rectangle(Shape):\n",
    "    def __init__(self, width, height):\n",
    "        self.width = width\n",
    "        self.height = height\n",
    "\n",
    "    def calculate_area(self):\n",
    "        return self.width * self.height\n",
    "\n",
    "# Example of using the classes\n",
    "circle = Circle(5)\n",
    "rectangle = Rectangle(4, 6)\n",
    "\n",
    "print(\"Area of the circle:\", circle.calculate_area())\n",
    "print(\"Area of the rectangle:\", rectangle.calculate_area())\n"
   ]
  },
  {
   "cell_type": "code",
   "execution_count": 4,
   "id": "67dbfb93",
   "metadata": {},
   "outputs": [
    {
     "name": "stdout",
     "output_type": "stream",
     "text": [
      "Area of the circle: 78.5\n"
     ]
    }
   ],
   "source": [
    "#4. Explain the concept of abstract classes in Python and how they are defined using the `abc` module. Provide an example.\n",
    "\n",
    "from abc import ABC, abstractmethod\n",
    "\n",
    "class Shape(ABC):\n",
    "    @abstractmethod\n",
    "    def calculate_area(self):\n",
    "        pass\n",
    "\n",
    "class Circle(Shape):\n",
    "    def __init__(self, radius):\n",
    "        self.radius = radius\n",
    "\n",
    "    def calculate_area(self):\n",
    "        return 3.14 * self.radius**2\n",
    "\n",
    "# Trying to instantiate an abstract class will raise an error\n",
    "# shape = Shape()  # This will raise an error\n",
    "\n",
    "# We can instantiate the Circle class which inherits from Shape\n",
    "circle = Circle(5)\n",
    "print(\"Area of the circle:\", circle.calculate_area())\n"
   ]
  },
  {
   "cell_type": "code",
   "execution_count": 5,
   "id": "270aed21",
   "metadata": {},
   "outputs": [
    {
     "data": {
      "text/plain": [
       "\"Abstract classes differ from regular classes in Python in the following ways:\\n\\n1. **Instantiation**: Abstract classes cannot be instantiated directly, meaning you cannot create objects of an abstract class. Regular classes, on the other hand, can be instantiated to create objects.\\n\\n2. **Abstract Methods**: Abstract classes may contain abstract methods that are declared but not implemented in the abstract class itself. Subclasses must provide implementations for these abstract methods. Regular classes do not have this requirement.\\n\\n3. **Inheritance**: Abstract classes are used as base classes for other classes and are meant to be subclassed. Regular classes can be used on their own without the need for subclassing.\\n\\nUse cases for abstract classes:\\n- **Defining a template**: Abstract classes are useful when you want to define a template or a common interface that must be implemented by subclasses. For example, in a geometric shapes example, an abstract class `Shape` could define methods like `calculate_area()` that must be implemented by subclasses like `Circle` and `Rectangle`.\\n  \\n- **Enforcing a structure**: Abstract classes help in enforcing a structure in a program by ensuring that certain methods are implemented in subclasses. This promotes code consistency and maintainability.\\n\\n- **Providing default implementations**: Abstract classes can also provide default implementations for some methods, which can be overridden by subclasses if needed. This allows for flexibility while still enforcing a common interface.\\n\\n- **Code organization**: Abstract classes help in organizing code by grouping common behavior and attributes in a base class, making it easier to manage and extend the functionality of the program.\\n\\nIn contrast, regular classes are used when you want to create objects directly without the need for subclassing or when you don't need to enforce a common interface among subclasses. Regular classes are more flexible and can be instantiated independently without any constraints imposed by abstract methods.\""
      ]
     },
     "execution_count": 5,
     "metadata": {},
     "output_type": "execute_result"
    }
   ],
   "source": [
    "#5. How do abstract classes differ from regular classes in Python? Discuss their use cases.\n",
    "\n",
    "'''Abstract classes differ from regular classes in Python in the following ways:\n",
    "\n",
    "1. **Instantiation**: Abstract classes cannot be instantiated directly, meaning you cannot create objects of an abstract class. Regular classes, on the other hand, can be instantiated to create objects.\n",
    "\n",
    "2. **Abstract Methods**: Abstract classes may contain abstract methods that are declared but not implemented in the abstract class itself. Subclasses must provide implementations for these abstract methods. Regular classes do not have this requirement.\n",
    "\n",
    "3. **Inheritance**: Abstract classes are used as base classes for other classes and are meant to be subclassed. Regular classes can be used on their own without the need for subclassing.\n",
    "\n",
    "Use cases for abstract classes:\n",
    "- **Defining a template**: Abstract classes are useful when you want to define a template or a common interface that must be implemented by subclasses. For example, in a geometric shapes example, an abstract class `Shape` could define methods like `calculate_area()` that must be implemented by subclasses like `Circle` and `Rectangle`.\n",
    "  \n",
    "- **Enforcing a structure**: Abstract classes help in enforcing a structure in a program by ensuring that certain methods are implemented in subclasses. This promotes code consistency and maintainability.\n",
    "\n",
    "- **Providing default implementations**: Abstract classes can also provide default implementations for some methods, which can be overridden by subclasses if needed. This allows for flexibility while still enforcing a common interface.\n",
    "\n",
    "- **Code organization**: Abstract classes help in organizing code by grouping common behavior and attributes in a base class, making it easier to manage and extend the functionality of the program.\n",
    "\n",
    "In contrast, regular classes are used when you want to create objects directly without the need for subclassing or when you don't need to enforce a common interface among subclasses. Regular classes are more flexible and can be instantiated independently without any constraints imposed by abstract methods.'''"
   ]
  },
  {
   "cell_type": "code",
   "execution_count": 6,
   "id": "c9d428de",
   "metadata": {},
   "outputs": [
    {
     "name": "stdout",
     "output_type": "stream",
     "text": [
      "Initial balance: 1000\n",
      "Deposited $500. New balance: $1500\n",
      "Withdrew $200. New balance: $1300\n",
      "Invalid withdrawal amount or insufficient funds.\n",
      "Final balance: 1300\n"
     ]
    }
   ],
   "source": [
    "#6. Create a Python class for a bank account and demonstrate abstraction by hiding the account balance and providing methods to deposit and withdraw funds.\n",
    "class BankAccount:\n",
    "    def __init__(self, account_number, initial_balance=0):\n",
    "        self.account_number = account_number\n",
    "        self.__balance = initial_balance  # Private attribute to store account balance\n",
    "\n",
    "    def deposit(self, amount):\n",
    "        if amount > 0:\n",
    "            self.__balance += amount\n",
    "            print(f\"Deposited ${amount}. New balance: ${self.__balance}\")\n",
    "        else:\n",
    "            print(\"Invalid deposit amount. Please enter a positive value.\")\n",
    "\n",
    "    def withdraw(self, amount):\n",
    "        if amount > 0 and amount <= self.__balance:\n",
    "            self.__balance -= amount\n",
    "            print(f\"Withdrew ${amount}. New balance: ${self.__balance}\")\n",
    "        else:\n",
    "            print(\"Invalid withdrawal amount or insufficient funds.\")\n",
    "\n",
    "    def get_balance(self):\n",
    "        return self.__balance\n",
    "\n",
    "# Example of using the BankAccount class\n",
    "account1 = BankAccount(\"12345\", 1000)\n",
    "print(\"Initial balance:\", account1.get_balance())\n",
    "\n",
    "account1.deposit(500)\n",
    "account1.withdraw(200)\n",
    "account1.withdraw(1500)  # This will show an error due to insufficient funds\n",
    "\n",
    "print(\"Final balance:\", account1.get_balance())\n",
    "\n"
   ]
  },
  {
   "cell_type": "code",
   "execution_count": 8,
   "id": "4075cedb",
   "metadata": {},
   "outputs": [
    {
     "data": {
      "text/plain": [
       "'Interface classes in Python are classes that define a set of abstract methods without providing any implementation. These abstract methods serve as a contract that concrete classes must adhere to by implementing these methods. Interface classes play a crucial role in achieving abstraction by defining a common interface that multiple classes can implement, ensuring consistency in behavior across different classes.\\n\\nIn Python, since the language does not have a built-in interface keyword like some other programming languages, interface classes are typically implemented using abstract base classes from the `abc` module. By using abstract base classes and abstract methods, developers can create interface-like structures that enforce the implementation of specific methods in concrete subclasses.\\n\\nThe role of interface classes in achieving abstraction includes:\\n\\n1. **Defining a Common Interface**: Interface classes define a set of abstract methods that must be implemented by concrete classes. This common interface ensures that different classes adhere to the same contract, promoting code consistency and maintainability.\\n\\n2. **Enforcing Structure**: Interface classes help in enforcing a structure in a program by specifying the methods that subclasses must implement. This ensures that all subclasses provide specific functionality, making it easier to work with different types of objects that share a common behavior.\\n\\n3. **Achieving Polymorphism**: Interface classes enable polymorphism, allowing objects of different classes to be treated uniformly if they implement the same interface. This promotes flexibility and extensibility in the codebase.\\n\\n4. **Hiding Implementation Details**: By defining interfaces with abstract methods, interface classes hide the internal implementation details of concrete classes. This separation of interface from implementation allows for better encapsulation and reduces dependencies between components.\\n\\nOverall, interface classes in Python play a vital role in achieving abstraction by defining a common interface for multiple classes to follow, promoting code consistency, flexibility, and maintainability in object-oriented programming.'"
      ]
     },
     "execution_count": 8,
     "metadata": {},
     "output_type": "execute_result"
    }
   ],
   "source": [
    "#7. Discuss the concept of interface classes in Python and their role in achieving abstraction.\n",
    "\n",
    "'''Interface classes in Python are classes that define a set of abstract methods without providing any implementation. These abstract methods serve as a contract that concrete classes must adhere to by implementing these methods. Interface classes play a crucial role in achieving abstraction by defining a common interface that multiple classes can implement, ensuring consistency in behavior across different classes.\n",
    "\n",
    "In Python, since the language does not have a built-in interface keyword like some other programming languages, interface classes are typically implemented using abstract base classes from the `abc` module. By using abstract base classes and abstract methods, developers can create interface-like structures that enforce the implementation of specific methods in concrete subclasses.\n",
    "\n",
    "The role of interface classes in achieving abstraction includes:\n",
    "\n",
    "1. **Defining a Common Interface**: Interface classes define a set of abstract methods that must be implemented by concrete classes. This common interface ensures that different classes adhere to the same contract, promoting code consistency and maintainability.\n",
    "\n",
    "2. **Enforcing Structure**: Interface classes help in enforcing a structure in a program by specifying the methods that subclasses must implement. This ensures that all subclasses provide specific functionality, making it easier to work with different types of objects that share a common behavior.\n",
    "\n",
    "3. **Achieving Polymorphism**: Interface classes enable polymorphism, allowing objects of different classes to be treated uniformly if they implement the same interface. This promotes flexibility and extensibility in the codebase.\n",
    "\n",
    "4. **Hiding Implementation Details**: By defining interfaces with abstract methods, interface classes hide the internal implementation details of concrete classes. This separation of interface from implementation allows for better encapsulation and reduces dependencies between components.\n",
    "\n",
    "Overall, interface classes in Python play a vital role in achieving abstraction by defining a common interface for multiple classes to follow, promoting code consistency, flexibility, and maintainability in object-oriented programming.'''"
   ]
  },
  {
   "cell_type": "code",
   "execution_count": 9,
   "id": "dbd608bb",
   "metadata": {},
   "outputs": [
    {
     "name": "stdout",
     "output_type": "stream",
     "text": [
      "Buddy the Dog is eating.\n",
      "Buddy the Dog is sleeping.\n",
      "Whiskers the Cat is eating.\n",
      "Whiskers the Cat is sleeping.\n"
     ]
    }
   ],
   "source": [
    "#8. Create a Python class hierarchy for animals and implement abstraction by defining common methods (e.g., `eat()`, `sleep()`) in an abstract base class.\n",
    "from abc import ABC, abstractmethod\n",
    "\n",
    "class Animal(ABC):\n",
    "    def __init__(self, name, species):\n",
    "        self.name = name\n",
    "        self.species = species\n",
    "\n",
    "    @abstractmethod\n",
    "    def eat(self):\n",
    "        pass\n",
    "\n",
    "    @abstractmethod\n",
    "    def sleep(self):\n",
    "        pass\n",
    "\n",
    "class Dog(Animal):\n",
    "    def __init__(self, name):\n",
    "        super().__init__(name, \"Dog\")\n",
    "\n",
    "    def eat(self):\n",
    "        print(f\"{self.name} the {self.species} is eating.\")\n",
    "\n",
    "    def sleep(self):\n",
    "        print(f\"{self.name} the {self.species} is sleeping.\")\n",
    "\n",
    "class Cat(Animal):\n",
    "    def __init__(self, name):\n",
    "        super().__init__(name, \"Cat\")\n",
    "\n",
    "    def eat(self):\n",
    "        print(f\"{self.name} the {self.species} is eating.\")\n",
    "\n",
    "    def sleep(self):\n",
    "        print(f\"{self.name} the {self.species} is sleeping.\")\n",
    "\n",
    "# Example of using the Animal class hierarchy\n",
    "dog = Dog(\"Buddy\")\n",
    "cat = Cat(\"Whiskers\")\n",
    "\n",
    "dog.eat()\n",
    "dog.sleep()\n",
    "\n",
    "cat.eat()\n",
    "cat.sleep()\n",
    "\n"
   ]
  },
  {
   "cell_type": "code",
   "execution_count": 10,
   "id": "a28b0546",
   "metadata": {},
   "outputs": [
    {
     "name": "stdout",
     "output_type": "stream",
     "text": [
      "Make: Toyota\n",
      "Model: Camry\n",
      "Updated Make: Honda\n",
      "Updated Model: Accord\n"
     ]
    }
   ],
   "source": [
    "#9. Explain the significance of encapsulation in achieving abstraction. Provide examples.\n",
    "\n",
    "'''Encapsulation and abstraction are closely related concepts in object-oriented programming, with encapsulation playing a significant role in achieving abstraction. Encapsulation refers to the bundling of data (attributes) and methods (functions) that operate on the data into a single unit, typically a class. By encapsulating data and methods within a class, we can control access to the data and hide the internal implementation details, which is crucial for achieving abstraction.\n",
    "\n",
    "Here's how encapsulation contributes to achieving abstraction:\n",
    "\n",
    "Data Hiding: Encapsulation allows us to hide the internal state of an object (attributes) by making them private or protected. This means that the data can only be accessed and modified through the methods provided by the class, thereby hiding the implementation details from external code.\n",
    "\n",
    "Abstraction through Interface: Encapsulation provides an interface to interact with objects by exposing public methods while keeping the internal details hidden. This separation between interface and implementation allows us to achieve abstraction by defining a clear interface for interacting with objects without exposing how the functionality is implemented.\n",
    "\n",
    "Controlled Access: Encapsulation allows us to control access to data by providing getter and setter methods to read and modify attributes. This control ensures that data is accessed and modified in a controlled manner, helping in maintaining data integrity and enforcing constraints.\n",
    "\n",
    "Code Modularity: Encapsulation promotes code modularity by bundling related data and methods together within a class. This modular approach makes it easier to manage and maintain code, as changes can be localized within the class without affecting other parts of the program.\n",
    "\n",
    "Example demonstrating encapsulation in achieving abstraction:'''\n",
    "class Car:\n",
    "    def __init__(self, make, model):\n",
    "        self.__make = make  # Private attribute\n",
    "        self.__model = model  # Private attribute\n",
    "\n",
    "    def get_make(self):\n",
    "        return self.__make\n",
    "\n",
    "    def set_make(self, make):\n",
    "        self.__make = make\n",
    "\n",
    "    def get_model(self):\n",
    "        return self.__model\n",
    "\n",
    "    def set_model(self, model):\n",
    "        self.__model = model\n",
    "\n",
    "# Creating an instance of Car\n",
    "my_car = Car(\"Toyota\", \"Camry\")\n",
    "\n",
    "# Accessing attributes using getter methods\n",
    "print(\"Make:\", my_car.get_make())\n",
    "print(\"Model:\", my_car.get_model())\n",
    "\n",
    "# Modifying attributes using setter methods\n",
    "my_car.set_make(\"Honda\")\n",
    "my_car.set_model(\"Accord\")\n",
    "\n",
    "print(\"Updated Make:\", my_car.get_make())\n",
    "print(\"Updated Model:\", my_car.get_model())\n"
   ]
  },
  {
   "cell_type": "code",
   "execution_count": 11,
   "id": "c923d47c",
   "metadata": {},
   "outputs": [
    {
     "data": {
      "text/plain": [
       "'Abstract methods in Python are methods declared in an abstract class that do not have an implementation in the abstract class itself. The purpose of abstract methods is to define a method signature that must be implemented by concrete subclasses. Abstract methods serve as a contract that concrete subclasses must adhere to by providing their own implementation for the abstract methods.\\n\\nThe main purposes of abstract methods are:\\n\\n1. **Defining a Common Interface**: Abstract methods define a common interface that subclasses must implement. This ensures that all subclasses provide specific functionality, promoting code consistency and maintainability.\\n\\n2. **Forcing Implementation**: Abstract methods force concrete subclasses to provide their own implementation for the method. If a subclass fails to implement an abstract method, it will result in an error, ensuring that all necessary methods are implemented.\\n\\n3. **Achieving Abstraction**: Abstract methods help in achieving abstraction by defining a blueprint or template for classes without specifying the implementation details. This separation of interface from implementation allows for flexibility and extensibility in the codebase.\\n\\nIn Python, abstract methods are typically defined using the `abc` module by importing the `ABC` class as the base class and using the `abstractmethod` decorator to mark methods as abstract. By using abstract methods, developers can create abstract classes that define a common interface while leaving the implementation details to concrete subclasses, thus enforcing abstraction and providing a clear structure for the class hierarchy.'"
      ]
     },
     "execution_count": 11,
     "metadata": {},
     "output_type": "execute_result"
    }
   ],
   "source": [
    "#10. What is the purpose of abstract methods, and how do they enforce abstraction in Python classes?\n",
    "\n",
    "'''Abstract methods in Python are methods declared in an abstract class that do not have an implementation in the abstract class itself. The purpose of abstract methods is to define a method signature that must be implemented by concrete subclasses. Abstract methods serve as a contract that concrete subclasses must adhere to by providing their own implementation for the abstract methods.\n",
    "\n",
    "The main purposes of abstract methods are:\n",
    "\n",
    "1. **Defining a Common Interface**: Abstract methods define a common interface that subclasses must implement. This ensures that all subclasses provide specific functionality, promoting code consistency and maintainability.\n",
    "\n",
    "2. **Forcing Implementation**: Abstract methods force concrete subclasses to provide their own implementation for the method. If a subclass fails to implement an abstract method, it will result in an error, ensuring that all necessary methods are implemented.\n",
    "\n",
    "3. **Achieving Abstraction**: Abstract methods help in achieving abstraction by defining a blueprint or template for classes without specifying the implementation details. This separation of interface from implementation allows for flexibility and extensibility in the codebase.\n",
    "\n",
    "In Python, abstract methods are typically defined using the `abc` module by importing the `ABC` class as the base class and using the `abstractmethod` decorator to mark methods as abstract. By using abstract methods, developers can create abstract classes that define a common interface while leaving the implementation details to concrete subclasses, thus enforcing abstraction and providing a clear structure for the class hierarchy.'''"
   ]
  },
  {
   "cell_type": "code",
   "execution_count": 12,
   "id": "0ab9a88a",
   "metadata": {},
   "outputs": [
    {
     "name": "stdout",
     "output_type": "stream",
     "text": [
      "Toyota Corolla has started.\n",
      "Toyota Corolla has stopped.\n",
      "Honda CBR has started.\n",
      "Honda CBR has stopped.\n"
     ]
    }
   ],
   "source": [
    "#11. Create a Python class for a vehicle system and demonstrate abstraction by defining common methods (e.g., `start()`, `stop()`) in an abstract base class.\n",
    "\n",
    "from abc import ABC, abstractmethod\n",
    "\n",
    "class Vehicle(ABC):\n",
    "    def __init__(self, make, model):\n",
    "        self.make = make\n",
    "        self.model = model\n",
    "\n",
    "    @abstractmethod\n",
    "    def start(self):\n",
    "        pass\n",
    "\n",
    "    @abstractmethod\n",
    "    def stop(self):\n",
    "        pass\n",
    "\n",
    "class Car(Vehicle):\n",
    "    def start(self):\n",
    "        print(f\"{self.make} {self.model} has started.\")\n",
    "\n",
    "    def stop(self):\n",
    "        print(f\"{self.make} {self.model} has stopped.\")\n",
    "\n",
    "class Motorcycle(Vehicle):\n",
    "    def start(self):\n",
    "        print(f\"{self.make} {self.model} has started.\")\n",
    "\n",
    "    def stop(self):\n",
    "        print(f\"{self.make} {self.model} has stopped.\")\n",
    "\n",
    "# Example of using the Vehicle class hierarchy\n",
    "car = Car(\"Toyota\", \"Corolla\")\n",
    "motorcycle = Motorcycle(\"Honda\", \"CBR\")\n",
    "\n",
    "car.start()\n",
    "car.stop()\n",
    "\n",
    "motorcycle.start()\n",
    "motorcycle.stop()\n"
   ]
  },
  {
   "cell_type": "code",
   "execution_count": 13,
   "id": "e9f74173",
   "metadata": {},
   "outputs": [
    {
     "name": "stdout",
     "output_type": "stream",
     "text": [
      "Area of the circle: 78.5\n",
      "Area of the rectangle: 24\n"
     ]
    }
   ],
   "source": [
    "#12. Describe the use of abstract properties in Python and how they can be employed in abstract classes.\n",
    "\n",
    "from abc import ABC, abstractmethod, abstractproperty\n",
    "\n",
    "class Shape(ABC):\n",
    "    @abstractproperty\n",
    "    def area(self):\n",
    "        pass\n",
    "\n",
    "class Circle(Shape):\n",
    "    def __init__(self, radius):\n",
    "        self.radius = radius\n",
    "\n",
    "    @property\n",
    "    def area(self):\n",
    "        return 3.14 * self.radius**2\n",
    "\n",
    "class Rectangle(Shape):\n",
    "    def __init__(self, width, height):\n",
    "        self.width = width\n",
    "        self.height = height\n",
    "\n",
    "    @property\n",
    "    def area(self):\n",
    "        return self.width * self.height\n",
    "\n",
    "# Example of using the Shape class hierarchy\n",
    "circle = Circle(5)\n",
    "rectangle = Rectangle(4, 6)\n",
    "\n",
    "print(\"Area of the circle:\", circle.area)\n",
    "print(\"Area of the rectangle:\", rectangle.area)\n"
   ]
  },
  {
   "cell_type": "code",
   "execution_count": 14,
   "id": "0896e1a4",
   "metadata": {},
   "outputs": [
    {
     "name": "stdout",
     "output_type": "stream",
     "text": [
      "Alice's salary: $60000\n",
      "Bob's salary: $50000\n",
      "Charlie's salary: $45000\n"
     ]
    }
   ],
   "source": [
    "#13. Create a Python class hierarchy for employees in a company (e.g., manager, developer, designer) and implement abstraction by defining a common `get_salary()` method.\n",
    "from abc import ABC, abstractmethod\n",
    "\n",
    "class Employee(ABC):\n",
    "    def __init__(self, name, employee_id):\n",
    "        self.name = name\n",
    "        self.employee_id = employee_id\n",
    "\n",
    "    @abstractmethod\n",
    "    def get_salary(self):\n",
    "        pass\n",
    "\n",
    "class Manager(Employee):\n",
    "    def get_salary(self):\n",
    "        return 60000  # Example salary for a manager\n",
    "\n",
    "class Developer(Employee):\n",
    "    def get_salary(self):\n",
    "        return 50000  # Example salary for a developer\n",
    "\n",
    "class Designer(Employee):\n",
    "    def get_salary(self):\n",
    "        return 45000  # Example salary for a designer\n",
    "\n",
    "# Example of using the Employee class hierarchy\n",
    "manager = Manager(\"Alice\", 101)\n",
    "developer = Developer(\"Bob\", 102)\n",
    "designer = Designer(\"Charlie\", 103)\n",
    "\n",
    "print(f\"{manager.name}'s salary: ${manager.get_salary()}\")\n",
    "print(f\"{developer.name}'s salary: ${developer.get_salary()}\")\n",
    "print(f\"{designer.name}'s salary: ${designer.get_salary()}\")\n",
    "\n"
   ]
  },
  {
   "cell_type": "code",
   "execution_count": 15,
   "id": "219903dd",
   "metadata": {},
   "outputs": [
    {
     "data": {
      "text/plain": [
       "'Abstract classes and concrete classes in Python have distinct characteristics, especially in terms of instantiation:\\n\\n1. **Abstract Classes**:\\n   - **Definition**: Abstract classes are classes that contain one or more abstract methods, which are declared but not implemented in the abstract class itself.\\n   - **Instantiation**: Abstract classes cannot be instantiated directly. They serve as blueprints for other classes and are meant to be subclassed. Subclasses must provide implementations for all abstract methods to create instances.\\n   - **Purpose**: Abstract classes are used to define a common interface that subclasses must follow. They promote code consistency by enforcing the implementation of specific methods in concrete subclasses.\\n\\n2. **Concrete Classes**:\\n   - **Definition**: Concrete classes are regular classes that can be instantiated directly to create objects.\\n   - **Instantiation**: Concrete classes can be instantiated directly using the class constructor without any restrictions. They may or may not have abstract methods, and they provide implementations for all methods.\\n   - **Purpose**: Concrete classes are used to create objects directly and can be used on their own without the need for subclassing. They provide specific implementations for all methods defined in the class.\\n\\nIn summary:\\n- Abstract classes cannot be instantiated directly and serve as templates for creating subclasses that provide implementations for abstract methods.\\n- Concrete classes can be instantiated directly and provide specific implementations for all methods, including any abstract methods if present.\\n\\nWhen working with abstract classes, you define a common interface with abstract methods that must be implemented by subclasses. In contrast, concrete classes are used to create objects directly without the need for subclassing or implementing abstract methods.'"
      ]
     },
     "execution_count": 15,
     "metadata": {},
     "output_type": "execute_result"
    }
   ],
   "source": [
    "#14. Discuss the differences between abstract classes and concrete classes in Python, including their instantiation.\n",
    "\n",
    "'''Abstract classes and concrete classes in Python have distinct characteristics, especially in terms of instantiation:\n",
    "\n",
    "1. **Abstract Classes**:\n",
    "   - **Definition**: Abstract classes are classes that contain one or more abstract methods, which are declared but not implemented in the abstract class itself.\n",
    "   - **Instantiation**: Abstract classes cannot be instantiated directly. They serve as blueprints for other classes and are meant to be subclassed. Subclasses must provide implementations for all abstract methods to create instances.\n",
    "   - **Purpose**: Abstract classes are used to define a common interface that subclasses must follow. They promote code consistency by enforcing the implementation of specific methods in concrete subclasses.\n",
    "\n",
    "2. **Concrete Classes**:\n",
    "   - **Definition**: Concrete classes are regular classes that can be instantiated directly to create objects.\n",
    "   - **Instantiation**: Concrete classes can be instantiated directly using the class constructor without any restrictions. They may or may not have abstract methods, and they provide implementations for all methods.\n",
    "   - **Purpose**: Concrete classes are used to create objects directly and can be used on their own without the need for subclassing. They provide specific implementations for all methods defined in the class.\n",
    "\n",
    "In summary:\n",
    "- Abstract classes cannot be instantiated directly and serve as templates for creating subclasses that provide implementations for abstract methods.\n",
    "- Concrete classes can be instantiated directly and provide specific implementations for all methods, including any abstract methods if present.\n",
    "\n",
    "When working with abstract classes, you define a common interface with abstract methods that must be implemented by subclasses. In contrast, concrete classes are used to create objects directly without the need for subclassing or implementing abstract methods.'''"
   ]
  },
  {
   "cell_type": "code",
   "execution_count": 16,
   "id": "cf307ec3",
   "metadata": {},
   "outputs": [
    {
     "data": {
      "text/plain": [
       "'Abstract Data Types (ADTs) refer to a mathematical model for data types where the data type is defined by its behavior (operations that can be performed on it) rather than its implementation. ADTs provide a high-level view of data structures, focusing on what operations can be performed on the data and not on how those operations are implemented.\\n\\nIn Python, ADTs can be implemented using classes and objects. By defining classes that represent abstract data types, developers can encapsulate data and operations within the class, providing a clear interface for interacting with the data. This separation of interface from implementation helps in achieving abstraction by hiding the internal details of the data structure.\\n\\nThe role of ADTs in achieving abstraction in Python includes:\\n\\n1. **Data Encapsulation**: ADTs encapsulate data and operations within a class, allowing the internal details to be hidden from external code. This promotes data integrity and reduces dependencies between components.\\n\\n2. **Defined Interface**: ADTs define a set of operations that can be performed on the data type, providing a clear interface for interacting with the data. Users of the ADT only need to know how to use the provided operations without needing to understand the underlying implementation.\\n\\n3. **Code Reusability**: By defining abstract data types, developers can reuse the same data structure and operations in different parts of the program or in other projects. This promotes code reusability and reduces redundancy in code implementation.\\n\\n4. **Modularity**: ADTs promote modularity by encapsulating related data and operations within a class. This modular approach makes it easier to manage and maintain code, as changes can be localized within the class without affecting other parts of the program.\\n\\nOverall, abstract data types play a crucial role in achieving abstraction in Python by providing a high-level view of data structures, defining clear interfaces for interacting with the data, and promoting code reusability and modularity.'"
      ]
     },
     "execution_count": 16,
     "metadata": {},
     "output_type": "execute_result"
    }
   ],
   "source": [
    "#15. Explain the concept of abstract data types (ADTs) and their role in achieving abstraction in Python.\n",
    "\n",
    "'''Abstract Data Types (ADTs) refer to a mathematical model for data types where the data type is defined by its behavior (operations that can be performed on it) rather than its implementation. ADTs provide a high-level view of data structures, focusing on what operations can be performed on the data and not on how those operations are implemented.\n",
    "\n",
    "In Python, ADTs can be implemented using classes and objects. By defining classes that represent abstract data types, developers can encapsulate data and operations within the class, providing a clear interface for interacting with the data. This separation of interface from implementation helps in achieving abstraction by hiding the internal details of the data structure.\n",
    "\n",
    "The role of ADTs in achieving abstraction in Python includes:\n",
    "\n",
    "1. **Data Encapsulation**: ADTs encapsulate data and operations within a class, allowing the internal details to be hidden from external code. This promotes data integrity and reduces dependencies between components.\n",
    "\n",
    "2. **Defined Interface**: ADTs define a set of operations that can be performed on the data type, providing a clear interface for interacting with the data. Users of the ADT only need to know how to use the provided operations without needing to understand the underlying implementation.\n",
    "\n",
    "3. **Code Reusability**: By defining abstract data types, developers can reuse the same data structure and operations in different parts of the program or in other projects. This promotes code reusability and reduces redundancy in code implementation.\n",
    "\n",
    "4. **Modularity**: ADTs promote modularity by encapsulating related data and operations within a class. This modular approach makes it easier to manage and maintain code, as changes can be localized within the class without affecting other parts of the program.\n",
    "\n",
    "Overall, abstract data types play a crucial role in achieving abstraction in Python by providing a high-level view of data structures, defining clear interfaces for interacting with the data, and promoting code reusability and modularity.'''"
   ]
  },
  {
   "cell_type": "code",
   "execution_count": 17,
   "id": "42588892",
   "metadata": {},
   "outputs": [
    {
     "name": "stdout",
     "output_type": "stream",
     "text": [
      "Powering on Dell Latitude laptop.\n",
      "Shutting down Dell Latitude laptop.\n",
      "Powering on HP Pavilion desktop computer.\n",
      "Shutting down HP Pavilion desktop computer.\n"
     ]
    }
   ],
   "source": [
    "#16. Create a Python class for a computer system, demonstrating abstraction by defining common methods (e.g., `power_on()`, `shutdown()`) in an abstract base class.\n",
    "\n",
    "from abc import ABC, abstractmethod\n",
    "\n",
    "class ComputerSystem(ABC):\n",
    "    def __init__(self, brand, model):\n",
    "        self.brand = brand\n",
    "        self.model = model\n",
    "\n",
    "    @abstractmethod\n",
    "    def power_on(self):\n",
    "        pass\n",
    "\n",
    "    @abstractmethod\n",
    "    def shutdown(self):\n",
    "        pass\n",
    "\n",
    "class Laptop(ComputerSystem):\n",
    "    def power_on(self):\n",
    "        print(f\"Powering on {self.brand} {self.model} laptop.\")\n",
    "\n",
    "    def shutdown(self):\n",
    "        print(f\"Shutting down {self.brand} {self.model} laptop.\")\n",
    "\n",
    "class Desktop(ComputerSystem):\n",
    "    def power_on(self):\n",
    "        print(f\"Powering on {self.brand} {self.model} desktop computer.\")\n",
    "\n",
    "    def shutdown(self):\n",
    "        print(f\"Shutting down {self.brand} {self.model} desktop computer.\")\n",
    "\n",
    "# Example of using the ComputerSystem class hierarchy\n",
    "laptop = Laptop(\"Dell\", \"Latitude\")\n",
    "desktop = Desktop(\"HP\", \"Pavilion\")\n",
    "\n",
    "laptop.power_on()\n",
    "laptop.shutdown()\n",
    "\n",
    "desktop.power_on()\n",
    "desktop.shutdown()\n"
   ]
  },
  {
   "cell_type": "code",
   "execution_count": 18,
   "id": "ef582b8d",
   "metadata": {},
   "outputs": [
    {
     "data": {
      "text/plain": [
       "\"Abstraction plays a crucial role in large-scale software development projects by offering several benefits:\\n\\n1. **Modularity**: Abstraction allows developers to break down complex systems into smaller, more manageable components. This modular approach makes it easier to understand, maintain, and extend the software system as each component can be developed and tested independently.\\n\\n2. **Code Reusability**: Abstraction promotes code reusability by defining common interfaces and behaviors that can be shared across different parts of the software system. Reusable components reduce redundancy, save development time, and improve code consistency.\\n\\n3. **Encapsulation**: Abstraction helps in encapsulating implementation details within classes or modules, hiding complex logic and data structures. This encapsulation protects the internal workings of components, reducing dependencies and making it easier to modify or replace parts of the system without affecting other components.\\n\\n4. **Ease of Maintenance**: Abstraction simplifies software maintenance by providing clear interfaces and reducing the impact of changes. Developers can modify or extend the system more easily as they only need to understand and work with the high-level abstractions without delving into low-level implementation details.\\n\\n5. **Scalability**: Abstraction allows software systems to scale effectively by providing a structured and organized design. As the system grows in size and complexity, abstraction helps in managing this growth by breaking it down into manageable units that can be independently developed and maintained.\\n\\n6. **Improved Collaboration**: Abstraction fosters collaboration among team members working on different parts of the software project. By defining clear interfaces and abstraction layers, developers can work on separate components concurrently without interfering with each other's work.\\n\\n7. **Reduced Complexity**: Abstraction reduces complexity by focusing on essential features and behaviors while hiding unnecessary details. This simplification makes the system easier to understand, debug, and maintain, leading to higher quality software.\\n\\nIn summary, abstraction in large-scale software development projects leads to improved modularity, code reusability, maintainability, scalability, collaboration, reduced complexity, and overall better software design and development practices. It helps in managing the complexity of large systems, promoting code quality, and facilitating efficient development and maintenance processes.\""
      ]
     },
     "execution_count": 18,
     "metadata": {},
     "output_type": "execute_result"
    }
   ],
   "source": [
    "#17. Discuss the benefits of using abstraction in large-scale software development projects.\n",
    "\n",
    "'''Abstraction plays a crucial role in large-scale software development projects by offering several benefits:\n",
    "\n",
    "1. **Modularity**: Abstraction allows developers to break down complex systems into smaller, more manageable components. This modular approach makes it easier to understand, maintain, and extend the software system as each component can be developed and tested independently.\n",
    "\n",
    "2. **Code Reusability**: Abstraction promotes code reusability by defining common interfaces and behaviors that can be shared across different parts of the software system. Reusable components reduce redundancy, save development time, and improve code consistency.\n",
    "\n",
    "3. **Encapsulation**: Abstraction helps in encapsulating implementation details within classes or modules, hiding complex logic and data structures. This encapsulation protects the internal workings of components, reducing dependencies and making it easier to modify or replace parts of the system without affecting other components.\n",
    "\n",
    "4. **Ease of Maintenance**: Abstraction simplifies software maintenance by providing clear interfaces and reducing the impact of changes. Developers can modify or extend the system more easily as they only need to understand and work with the high-level abstractions without delving into low-level implementation details.\n",
    "\n",
    "5. **Scalability**: Abstraction allows software systems to scale effectively by providing a structured and organized design. As the system grows in size and complexity, abstraction helps in managing this growth by breaking it down into manageable units that can be independently developed and maintained.\n",
    "\n",
    "6. **Improved Collaboration**: Abstraction fosters collaboration among team members working on different parts of the software project. By defining clear interfaces and abstraction layers, developers can work on separate components concurrently without interfering with each other's work.\n",
    "\n",
    "7. **Reduced Complexity**: Abstraction reduces complexity by focusing on essential features and behaviors while hiding unnecessary details. This simplification makes the system easier to understand, debug, and maintain, leading to higher quality software.\n",
    "\n",
    "In summary, abstraction in large-scale software development projects leads to improved modularity, code reusability, maintainability, scalability, collaboration, reduced complexity, and overall better software design and development practices. It helps in managing the complexity of large systems, promoting code quality, and facilitating efficient development and maintenance processes.'''"
   ]
  },
  {
   "cell_type": "code",
   "execution_count": 19,
   "id": "de197aa1",
   "metadata": {},
   "outputs": [
    {
     "data": {
      "text/plain": [
       "'Abstraction enhances code reusability and modularity in Python programs by providing a clear separation between interface and implementation, allowing for the following benefits:\\n\\n1. **Code Reusability**:\\n   - Abstraction allows you to define common interfaces and behaviors in abstract classes or base classes that can be reused across different parts of the program.\\n   - By creating abstract classes with defined methods and properties, you can ensure that these common functionalities can be inherited and reused by multiple subclasses.\\n   - This promotes code reusability as you can leverage the same set of methods and properties in different parts of your program without duplicating code.\\n\\n2. **Modularity**:\\n   - Abstraction helps in breaking down a program into smaller, more manageable modules or components.\\n   - By defining abstract classes that encapsulate related functionalities, you can create modular components that can be developed, tested, and maintained independently.\\n   - This modular approach improves the overall structure of the program, making it easier to understand, maintain, and extend.\\n\\n3. **Encapsulation**:\\n   - Abstraction allows you to encapsulate implementation details within classes, hiding complex logic and data structures.\\n   - This encapsulation protects the internal workings of components, reducing dependencies between different parts of the program.\\n   - By hiding implementation details, abstraction promotes modularity and helps in managing complexity, leading to more modular and reusable code.\\n\\n4. **Reduced Coupling**:\\n   - Abstraction helps in reducing coupling between different components of a program by defining clear interfaces and contracts.\\n   - By interacting with components through well-defined interfaces rather than direct implementations, you can reduce dependencies and make components more independent and interchangeable.\\n   - This loose coupling enhances modularity and makes it easier to replace or modify components without affecting other parts of the program.\\n\\nIn Python, leveraging abstraction through abstract classes, interfaces, and inheritance allows developers to create reusable components with well-defined interfaces. By promoting code reusability and modularity through abstraction, Python programs become more maintainable, scalable, and flexible, facilitating efficient development and enhancing overall code quality.'"
      ]
     },
     "execution_count": 19,
     "metadata": {},
     "output_type": "execute_result"
    }
   ],
   "source": [
    "#18. Explain how abstraction enhances code reusability and modularity in Python programs.\n",
    "\n",
    "'''Abstraction enhances code reusability and modularity in Python programs by providing a clear separation between interface and implementation, allowing for the following benefits:\n",
    "\n",
    "1. **Code Reusability**:\n",
    "   - Abstraction allows you to define common interfaces and behaviors in abstract classes or base classes that can be reused across different parts of the program.\n",
    "   - By creating abstract classes with defined methods and properties, you can ensure that these common functionalities can be inherited and reused by multiple subclasses.\n",
    "   - This promotes code reusability as you can leverage the same set of methods and properties in different parts of your program without duplicating code.\n",
    "\n",
    "2. **Modularity**:\n",
    "   - Abstraction helps in breaking down a program into smaller, more manageable modules or components.\n",
    "   - By defining abstract classes that encapsulate related functionalities, you can create modular components that can be developed, tested, and maintained independently.\n",
    "   - This modular approach improves the overall structure of the program, making it easier to understand, maintain, and extend.\n",
    "\n",
    "3. **Encapsulation**:\n",
    "   - Abstraction allows you to encapsulate implementation details within classes, hiding complex logic and data structures.\n",
    "   - This encapsulation protects the internal workings of components, reducing dependencies between different parts of the program.\n",
    "   - By hiding implementation details, abstraction promotes modularity and helps in managing complexity, leading to more modular and reusable code.\n",
    "\n",
    "4. **Reduced Coupling**:\n",
    "   - Abstraction helps in reducing coupling between different components of a program by defining clear interfaces and contracts.\n",
    "   - By interacting with components through well-defined interfaces rather than direct implementations, you can reduce dependencies and make components more independent and interchangeable.\n",
    "   - This loose coupling enhances modularity and makes it easier to replace or modify components without affecting other parts of the program.\n",
    "\n",
    "In Python, leveraging abstraction through abstract classes, interfaces, and inheritance allows developers to create reusable components with well-defined interfaces. By promoting code reusability and modularity through abstraction, Python programs become more maintainable, scalable, and flexible, facilitating efficient development and enhancing overall code quality.'''"
   ]
  },
  {
   "cell_type": "code",
   "execution_count": 20,
   "id": "f51b5ce9",
   "metadata": {},
   "outputs": [
    {
     "name": "stdout",
     "output_type": "stream",
     "text": [
      "Added 'Python Programming' to the Public Library collection.\n",
      "Added 'Data Structures and Algorithms' to the University Library collection.\n",
      "Borrowed 'Python Programming' from the Public Library.\n",
      "'Computer Networks' is not available in the University Library collection.\n"
     ]
    }
   ],
   "source": [
    "#19. Create a Python class for a library system, implementing abstraction by defining common methods (e.g., `add_book()`, `borrow_book()`) in an abstract base class.\n",
    "from abc import ABC, abstractmethod\n",
    "\n",
    "class LibrarySystem(ABC):\n",
    "    def __init__(self, name):\n",
    "        self.name = name\n",
    "        self.books = []\n",
    "\n",
    "    @abstractmethod\n",
    "    def add_book(self, book):\n",
    "        pass\n",
    "\n",
    "    @abstractmethod\n",
    "    def borrow_book(self, book):\n",
    "        pass\n",
    "\n",
    "class PublicLibrary(LibrarySystem):\n",
    "    def add_book(self, book):\n",
    "        self.books.append(book)\n",
    "        print(f\"Added '{book}' to the {self.name} collection.\")\n",
    "\n",
    "    def borrow_book(self, book):\n",
    "        if book in self.books:\n",
    "            self.books.remove(book)\n",
    "            print(f\"Borrowed '{book}' from the {self.name}.\")\n",
    "        else:\n",
    "            print(f\"'{book}' is not available in the {self.name} collection.\")\n",
    "\n",
    "class UniversityLibrary(LibrarySystem):\n",
    "    def add_book(self, book):\n",
    "        self.books.append(book)\n",
    "        print(f\"Added '{book}' to the {self.name} collection.\")\n",
    "\n",
    "    def borrow_book(self, book):\n",
    "        if book in self.books:\n",
    "            self.books.remove(book)\n",
    "            print(f\"Borrowed '{book}' from the {self.name}.\")\n",
    "        else:\n",
    "            print(f\"'{book}' is not available in the {self.name} collection.\")\n",
    "\n",
    "# Example of using the LibrarySystem class hierarchy\n",
    "public_library = PublicLibrary(\"Public Library\")\n",
    "university_library = UniversityLibrary(\"University Library\")\n",
    "\n",
    "public_library.add_book(\"Python Programming\")\n",
    "university_library.add_book(\"Data Structures and Algorithms\")\n",
    "\n",
    "public_library.borrow_book(\"Python Programming\")\n",
    "university_library.borrow_book(\"Computer Networks\")\n",
    "\n"
   ]
  },
  {
   "cell_type": "code",
   "execution_count": 21,
   "id": "531677ac",
   "metadata": {},
   "outputs": [
    {
     "data": {
      "text/plain": [
       "\"Method abstraction in Python involves defining methods in a way that their specific implementation details are hidden from the user, focusing instead on what the method does rather than how it does it. This concept is closely related to polymorphism, a fundamental principle in object-oriented programming.\\n\\nIn method abstraction:\\n- Methods are defined in classes with a clear purpose or behavior, without revealing the internal implementation details.\\n- Users interact with objects through these methods, relying on the method's defined interface and behavior without needing to know how it is implemented.\\n\\nPolymorphism, on the other hand, allows objects of different classes to be treated as instances of a common superclass. This is achieved through method overriding, where subclasses provide their own implementation of a method defined in a superclass. The same method name can behave differently based on the object it is called on, enabling flexibility and extensibility in the code.\\n\\nMethod abstraction and polymorphism are related in the following ways:\\n- Method abstraction provides a way to define common interfaces for classes, promoting polymorphism by allowing different objects to respond to the same method call in a way that is appropriate for their specific class.\\n- Polymorphism relies on method abstraction to define methods in a superclass that can be overridden by subclasses, enabling objects of different classes to exhibit different behaviors while being treated uniformly.\\n\\nBy combining method abstraction and polymorphism, developers can create flexible and extensible code that promotes code reuse, simplifies maintenance, and enhances the overall design of the software system.\""
      ]
     },
     "execution_count": 21,
     "metadata": {},
     "output_type": "execute_result"
    }
   ],
   "source": [
    "#20. Describe the concept of method abstraction in Python and how it relates to polymorphism.\n",
    "'''Method abstraction in Python involves defining methods in a way that their specific implementation details are hidden from the user, focusing instead on what the method does rather than how it does it. This concept is closely related to polymorphism, a fundamental principle in object-oriented programming.\n",
    "\n",
    "In method abstraction:\n",
    "- Methods are defined in classes with a clear purpose or behavior, without revealing the internal implementation details.\n",
    "- Users interact with objects through these methods, relying on the method's defined interface and behavior without needing to know how it is implemented.\n",
    "\n",
    "Polymorphism, on the other hand, allows objects of different classes to be treated as instances of a common superclass. This is achieved through method overriding, where subclasses provide their own implementation of a method defined in a superclass. The same method name can behave differently based on the object it is called on, enabling flexibility and extensibility in the code.\n",
    "\n",
    "Method abstraction and polymorphism are related in the following ways:\n",
    "- Method abstraction provides a way to define common interfaces for classes, promoting polymorphism by allowing different objects to respond to the same method call in a way that is appropriate for their specific class.\n",
    "- Polymorphism relies on method abstraction to define methods in a superclass that can be overridden by subclasses, enabling objects of different classes to exhibit different behaviors while being treated uniformly.\n",
    "\n",
    "By combining method abstraction and polymorphism, developers can create flexible and extensible code that promotes code reuse, simplifies maintenance, and enhances the overall design of the software system.'''"
   ]
  },
  {
   "cell_type": "markdown",
   "id": "386437e5",
   "metadata": {},
   "source": [
    "# Composition:"
   ]
  },
  {
   "cell_type": "code",
   "execution_count": 22,
   "id": "a8862e01",
   "metadata": {},
   "outputs": [
    {
     "data": {
      "text/plain": [
       "\"Composition in Python is a design technique where a class is composed of one or more objects of other classes, allowing complex objects to be built from simpler ones. Instead of using inheritance, where a class inherits properties and behaviors from a superclass, composition involves creating instances of other classes within a class to achieve the desired functionality.\\n\\nHere's how composition works and how it is used to build complex objects:\\n- **Creating Objects**: In composition, a class creates objects of other classes as its attributes. These objects are then used within the class to provide specific functionalities.\\n- **Building Complex Objects**: By combining multiple objects of different classes, a composite object can be created that has the properties and behaviors of its constituent objects.\\n- **Encapsulation**: Composition promotes encapsulation by allowing objects to hide their internal details and only expose the necessary interface to the outside world.\\n- **Code Reusability**: Composition promotes code reusability by creating smaller, reusable components that can be combined in different ways to build complex objects.\\n- **Flexibility**: Using composition allows for flexibility in building objects with different combinations of behaviors, as objects can be easily added, removed, or replaced within the composite object.\\n- **Maintainability**: Composition leads to more maintainable code as changes to one class do not affect other classes directly. This modular approach makes it easier to modify and extend the functionality of the composite object.\\n\\nIn Python, composition can be achieved by creating instances of other classes as attributes within a class. By using composition, developers can create more flexible and modular code structures, promoting code reusability, maintainability, and extensibility in software development projects.\""
      ]
     },
     "execution_count": 22,
     "metadata": {},
     "output_type": "execute_result"
    }
   ],
   "source": [
    "#1. Explain the concept of composition in Python and how it is used to build complex objects from simpler ones.\n",
    "\n",
    "'''Composition in Python is a design technique where a class is composed of one or more objects of other classes, allowing complex objects to be built from simpler ones. Instead of using inheritance, where a class inherits properties and behaviors from a superclass, composition involves creating instances of other classes within a class to achieve the desired functionality.\n",
    "\n",
    "Here's how composition works and how it is used to build complex objects:\n",
    "- **Creating Objects**: In composition, a class creates objects of other classes as its attributes. These objects are then used within the class to provide specific functionalities.\n",
    "- **Building Complex Objects**: By combining multiple objects of different classes, a composite object can be created that has the properties and behaviors of its constituent objects.\n",
    "- **Encapsulation**: Composition promotes encapsulation by allowing objects to hide their internal details and only expose the necessary interface to the outside world.\n",
    "- **Code Reusability**: Composition promotes code reusability by creating smaller, reusable components that can be combined in different ways to build complex objects.\n",
    "- **Flexibility**: Using composition allows for flexibility in building objects with different combinations of behaviors, as objects can be easily added, removed, or replaced within the composite object.\n",
    "- **Maintainability**: Composition leads to more maintainable code as changes to one class do not affect other classes directly. This modular approach makes it easier to modify and extend the functionality of the composite object.\n",
    "\n",
    "In Python, composition can be achieved by creating instances of other classes as attributes within a class. By using composition, developers can create more flexible and modular code structures, promoting code reusability, maintainability, and extensibility in software development projects.'''"
   ]
  },
  {
   "cell_type": "code",
   "execution_count": 24,
   "id": "c7b055b4",
   "metadata": {},
   "outputs": [
    {
     "data": {
      "text/plain": [
       "'Composition and inheritance are two fundamental concepts in object-oriented programming that allow classes to be designed and structured in different ways:\\n\\n1. **Composition**:\\n   - **Definition**: Composition involves creating objects of other classes within a class to build complex objects. In composition, a class has an instance of another class as one of its attributes.\\n   - **Relationship**: The composed object is part of the containing object and has a \"has-a\" relationship with it. For example, a `Car` class may have an `Engine` object as one of its attributes.\\n   - **Flexibility**: Composition allows for more flexibility as objects can be easily added, removed, or replaced within the containing object. It promotes code reusability and modularity.\\n   - **Encapsulation**: Composition promotes encapsulation by allowing objects to hide their internal details and only expose necessary interfaces to the outside world.\\n\\n2. **Inheritance**:\\n   - **Definition**: Inheritance involves creating a new class (subclass) based on an existing class (superclass). The subclass inherits properties and behaviors from the superclass.\\n   - **Relationship**: The subclass \"is-a\" type of the superclass. For example, a `Dog` class may inherit from an `Animal` class.\\n   - **Code Reuse**: Inheritance promotes code reuse by allowing subclasses to inherit attributes and methods from the superclass. It establishes an \"is-a\" relationship between classes.\\n   - **Extensibility**: Inheritance allows for extending the functionality of existing classes by adding new methods or overriding existing ones in subclasses.\\n\\n**Key Differences**:\\n- **Relationship**: Composition establishes a \"has-a\" relationship between classes, where one class contains an instance of another class. Inheritance establishes an \"is-a\" relationship, where a subclass is a type of its superclass.\\n- **Flexibility**: Composition offers more flexibility as objects can be easily composed and changed within a class. Inheritance provides a more rigid structure where subclasses inherit properties and behaviors from superclasses.\\n- **Code Reuse**: Composition promotes code reuse by building objects from simpler components. Inheritance promotes code reuse by allowing subclasses to inherit attributes and methods from superclasses.\\n\\nIn practice, both composition and inheritance are essential tools in object-oriented programming, each with its strengths and use cases. The choice between composition and inheritance depends on the specific design requirements and the relationships between classes in a given scenario.'"
      ]
     },
     "execution_count": 24,
     "metadata": {},
     "output_type": "execute_result"
    }
   ],
   "source": [
    "#2. Describe the difference between composition and inheritance in object-oriented programming.\n",
    "\n",
    "'''Composition and inheritance are two fundamental concepts in object-oriented programming that allow classes to be designed and structured in different ways:\n",
    "\n",
    "1. **Composition**:\n",
    "   - **Definition**: Composition involves creating objects of other classes within a class to build complex objects. In composition, a class has an instance of another class as one of its attributes.\n",
    "   - **Relationship**: The composed object is part of the containing object and has a \"has-a\" relationship with it. For example, a `Car` class may have an `Engine` object as one of its attributes.\n",
    "   - **Flexibility**: Composition allows for more flexibility as objects can be easily added, removed, or replaced within the containing object. It promotes code reusability and modularity.\n",
    "   - **Encapsulation**: Composition promotes encapsulation by allowing objects to hide their internal details and only expose necessary interfaces to the outside world.\n",
    "\n",
    "2. **Inheritance**:\n",
    "   - **Definition**: Inheritance involves creating a new class (subclass) based on an existing class (superclass). The subclass inherits properties and behaviors from the superclass.\n",
    "   - **Relationship**: The subclass \"is-a\" type of the superclass. For example, a `Dog` class may inherit from an `Animal` class.\n",
    "   - **Code Reuse**: Inheritance promotes code reuse by allowing subclasses to inherit attributes and methods from the superclass. It establishes an \"is-a\" relationship between classes.\n",
    "   - **Extensibility**: Inheritance allows for extending the functionality of existing classes by adding new methods or overriding existing ones in subclasses.\n",
    "\n",
    "**Key Differences**:\n",
    "- **Relationship**: Composition establishes a \"has-a\" relationship between classes, where one class contains an instance of another class. Inheritance establishes an \"is-a\" relationship, where a subclass is a type of its superclass.\n",
    "- **Flexibility**: Composition offers more flexibility as objects can be easily composed and changed within a class. Inheritance provides a more rigid structure where subclasses inherit properties and behaviors from superclasses.\n",
    "- **Code Reuse**: Composition promotes code reuse by building objects from simpler components. Inheritance promotes code reuse by allowing subclasses to inherit attributes and methods from superclasses.\n",
    "\n",
    "In practice, both composition and inheritance are essential tools in object-oriented programming, each with its strengths and use cases. The choice between composition and inheritance depends on the specific design requirements and the relationships between classes in a given scenario.'''"
   ]
  },
  {
   "cell_type": "code",
   "execution_count": 25,
   "id": "80957473",
   "metadata": {},
   "outputs": [
    {
     "name": "stdout",
     "output_type": "stream",
     "text": [
      "Title: Harry Potter and the Sorcerer's Stone\n",
      "Author: J.K. Rowling\n",
      "Author's Birthdate: July 31, 1965\n",
      "Pages: 320\n"
     ]
    }
   ],
   "source": [
    "#3. Create a Python class called `Author` with attributes for name and birthdate. Then, create a `Book` class that contains an instance of `Author` as a composition. Provide an example of creating a `Book` object.\n",
    "\n",
    "class Author:\n",
    "    def __init__(self, name, birthdate):\n",
    "        self.name = name\n",
    "        self.birthdate = birthdate\n",
    "\n",
    "class Book:\n",
    "    def __init__(self, title, author, pages):\n",
    "        self.title = title\n",
    "        self.author = author\n",
    "        self.pages = pages\n",
    "\n",
    "    def display_info(self):\n",
    "        print(f\"Title: {self.title}\")\n",
    "        print(f\"Author: {self.author.name}\")\n",
    "        print(f\"Author's Birthdate: {self.author.birthdate}\")\n",
    "        print(f\"Pages: {self.pages}\")\n",
    "\n",
    "# Creating an Author object\n",
    "author1 = Author(\"J.K. Rowling\", \"July 31, 1965\")\n",
    "\n",
    "# Creating a Book object with Author as a composition\n",
    "book1 = Book(\"Harry Potter and the Sorcerer's Stone\", author1, 320)\n",
    "\n",
    "# Displaying information about the Book\n",
    "book1.display_info()\n"
   ]
  },
  {
   "cell_type": "code",
   "execution_count": 26,
   "id": "8db659e0",
   "metadata": {},
   "outputs": [
    {
     "data": {
      "text/plain": [
       "'Using composition over inheritance in Python offers several benefits in terms of code flexibility and reusability:\\n\\n1. **Flexibility**:\\n   - **Code Flexibility**: Composition allows for more flexible relationships between classes. Objects can be composed and changed within a class more easily compared to inheritance, where changes can lead to a rigid class hierarchy.\\n   - **Dynamic Relationships**: With composition, you can dynamically change the behavior of a class by composing different objects at runtime based on specific requirements.\\n\\n2. **Code Reusability**:\\n   - **Improved Code Reusability**: Composition promotes code reusability by creating smaller, reusable components that can be combined in different ways to build complex objects. It encourages a modular design approach.\\n   - **Reduced Coupling**: By composing objects from different classes, you reduce the coupling between classes compared to inheritance, where subclasses are tightly coupled to their superclasses.\\n\\n3. **Enhanced Maintainability**:\\n   - **Easier Maintenance**: Composition leads to easier maintenance as changes to one class do not affect other classes directly. This modular approach makes it easier to modify and extend the functionality of the composite object without impacting other parts of the program.\\n   - **Encapsulation**: Composition promotes encapsulation by allowing objects to hide their internal details and only expose necessary interfaces to the outside world. This helps in maintaining and managing the codebase effectively.\\n\\n4. **Avoiding the Fragility of Inheritance**:\\n   - **Avoiding Fragile Base Class Problem**: Inheritance can lead to the fragile base class problem, where changes in a superclass can have unintended consequences in subclasses. Composition helps avoid this issue by providing a more flexible and decoupled design.\\n\\n5. **Better Design and Testability**:\\n   - **Improved Design**: Composition allows for a more modular and flexible design, making it easier to understand and maintain the codebase.\\n   - **Enhanced Testability**: Composed objects can be easily tested in isolation, improving testability and making it easier to write unit tests for individual components.\\n\\nIn summary, using composition over inheritance in Python promotes code flexibility, reusability, maintainability, and better design practices. It allows for more dynamic relationships between classes, reduces coupling, and provides a modular approach to building complex objects, leading to more robust and scalable software systems.'"
      ]
     },
     "execution_count": 26,
     "metadata": {},
     "output_type": "execute_result"
    }
   ],
   "source": [
    "#4. Discuss the benefits of using composition over inheritance in Python, especially in terms of code flexibility and reusability.\n",
    "'''Using composition over inheritance in Python offers several benefits in terms of code flexibility and reusability:\n",
    "\n",
    "1. **Flexibility**:\n",
    "   - **Code Flexibility**: Composition allows for more flexible relationships between classes. Objects can be composed and changed within a class more easily compared to inheritance, where changes can lead to a rigid class hierarchy.\n",
    "   - **Dynamic Relationships**: With composition, you can dynamically change the behavior of a class by composing different objects at runtime based on specific requirements.\n",
    "\n",
    "2. **Code Reusability**:\n",
    "   - **Improved Code Reusability**: Composition promotes code reusability by creating smaller, reusable components that can be combined in different ways to build complex objects. It encourages a modular design approach.\n",
    "   - **Reduced Coupling**: By composing objects from different classes, you reduce the coupling between classes compared to inheritance, where subclasses are tightly coupled to their superclasses.\n",
    "\n",
    "3. **Enhanced Maintainability**:\n",
    "   - **Easier Maintenance**: Composition leads to easier maintenance as changes to one class do not affect other classes directly. This modular approach makes it easier to modify and extend the functionality of the composite object without impacting other parts of the program.\n",
    "   - **Encapsulation**: Composition promotes encapsulation by allowing objects to hide their internal details and only expose necessary interfaces to the outside world. This helps in maintaining and managing the codebase effectively.\n",
    "\n",
    "4. **Avoiding the Fragility of Inheritance**:\n",
    "   - **Avoiding Fragile Base Class Problem**: Inheritance can lead to the fragile base class problem, where changes in a superclass can have unintended consequences in subclasses. Composition helps avoid this issue by providing a more flexible and decoupled design.\n",
    "\n",
    "5. **Better Design and Testability**:\n",
    "   - **Improved Design**: Composition allows for a more modular and flexible design, making it easier to understand and maintain the codebase.\n",
    "   - **Enhanced Testability**: Composed objects can be easily tested in isolation, improving testability and making it easier to write unit tests for individual components.\n",
    "\n",
    "In summary, using composition over inheritance in Python promotes code flexibility, reusability, maintainability, and better design practices. It allows for more dynamic relationships between classes, reduces coupling, and provides a modular approach to building complex objects, leading to more robust and scalable software systems.'''\n"
   ]
  },
  {
   "cell_type": "code",
   "execution_count": 27,
   "id": "c779b19b",
   "metadata": {},
   "outputs": [
    {
     "name": "stdout",
     "output_type": "stream",
     "text": [
      "Toyota Corolla starting.\n",
      "Engine starting.\n",
      "Engine stopping.\n",
      "Toyota Corolla stopping.\n"
     ]
    }
   ],
   "source": [
    "#5. How can you implement composition in Python classes? Provide examples of using composition to create complex objects.\n",
    "\n",
    "# Define the classes for composing complex objects\n",
    "class Engine:\n",
    "    def __init__(self, horsepower):\n",
    "        self.horsepower = horsepower\n",
    "\n",
    "    def start(self):\n",
    "        print(\"Engine starting.\")\n",
    "\n",
    "    def stop(self):\n",
    "        print(\"Engine stopping.\")\n",
    "\n",
    "class Car:\n",
    "    def __init__(self, make, model, engine):\n",
    "        self.make = make\n",
    "        self.model = model\n",
    "        self.engine = engine\n",
    "\n",
    "    def start(self):\n",
    "        print(f\"{self.make} {self.model} starting.\")\n",
    "        self.engine.start()\n",
    "\n",
    "    def stop(self):\n",
    "        self.engine.stop()\n",
    "        print(f\"{self.make} {self.model} stopping.\")\n",
    "\n",
    "# Create instances of the classes and compose them to build a complex object\n",
    "car_engine = Engine(200)\n",
    "my_car = Car(\"Toyota\", \"Corolla\", car_engine)\n",
    "\n",
    "# Use the composed object\n",
    "my_car.start()\n",
    "my_car.stop()\n"
   ]
  },
  {
   "cell_type": "code",
   "execution_count": 28,
   "id": "10f9216e",
   "metadata": {},
   "outputs": [
    {
     "name": "stdout",
     "output_type": "stream",
     "text": [
      "Added 'Shape of You' to the playlist 'My Favorite Songs'\n",
      "Added 'Dance Monkey' to the playlist 'My Favorite Songs'\n",
      "Playing playlist: My Favorite Songs\n",
      "Now playing: Shape of You by Ed Sheeran\n",
      "Now playing: Dance Monkey by Tones and I\n"
     ]
    }
   ],
   "source": [
    "#6. Create a Python class hierarchy for a music player system, using composition to represent playlists and songs.\n",
    "class Song:\n",
    "    def __init__(self, title, artist, duration):\n",
    "        self.title = title\n",
    "        self.artist = artist\n",
    "        self.duration = duration\n",
    "\n",
    "    def play(self):\n",
    "        print(f\"Now playing: {self.title} by {self.artist}\")\n",
    "\n",
    "class Playlist:\n",
    "    def __init__(self, name):\n",
    "        self.name = name\n",
    "        self.songs = []\n",
    "\n",
    "    def add_song(self, song):\n",
    "        self.songs.append(song)\n",
    "        print(f\"Added '{song.title}' to the playlist '{self.name}'\")\n",
    "\n",
    "    def play_playlist(self):\n",
    "        print(f\"Playing playlist: {self.name}\")\n",
    "        for song in self.songs:\n",
    "            song.play()\n",
    "\n",
    "# Create instances of songs\n",
    "song1 = Song(\"Shape of You\", \"Ed Sheeran\", \"4:23\")\n",
    "song2 = Song(\"Dance Monkey\", \"Tones and I\", \"3:30\")\n",
    "\n",
    "# Create a playlist and add songs to it\n",
    "my_playlist = Playlist(\"My Favorite Songs\")\n",
    "my_playlist.add_song(song1)\n",
    "my_playlist.add_song(song2)\n",
    "\n",
    "# Play the playlist\n",
    "my_playlist.play_playlist()\n",
    "\n"
   ]
  },
  {
   "cell_type": "code",
   "execution_count": 29,
   "id": "b74686be",
   "metadata": {},
   "outputs": [
    {
     "data": {
      "text/plain": [
       "'In object-oriented programming, the concept of \"has-a\" relationships in composition refers to a design approach where a class contains an instance of another class as one of its attributes. This relationship signifies that an object of one class \"has\" another object as a part of its internal structure.\\n\\nHere\\'s how the \"has-a\" relationship in composition helps design software systems:\\n\\n1. **Modularity and Encapsulation**:\\n   - Composition allows for creating modular components where objects are composed of other objects. This promotes encapsulation by hiding the internal details of the composed objects and exposing only the necessary interfaces to the outside world.\\n\\n2. **Code Reusability**:\\n   - By composing objects together, code reusability is enhanced as smaller, reusable components can be combined in different ways to build complex objects. This modular design approach facilitates reusing components across different parts of the software system.\\n\\n3. **Flexibility and Maintainability**:\\n   - The \"has-a\" relationship provides flexibility in designing software systems by allowing objects to be easily added, removed, or replaced within a class. This flexibility makes it easier to modify and extend the functionality of the composed objects without impacting other parts of the system.\\n  \\n4. **Enhanced Design and Scalability**:\\n   - Designing software systems using composition with \"has-a\" relationships leads to a more structured and scalable design. Objects can be composed in various ways to create complex systems while maintaining a clear and manageable structure.\\n\\n5. **Reduced Coupling**:\\n   - Composition helps in reducing coupling between classes compared to inheritance, where subclasses are tightly coupled to their superclasses. Objects can interact with each other through well-defined interfaces, promoting loose coupling and making the system more maintainable and extensible.\\n\\n6. **Improved Testability**:\\n   - Composed objects can be easily tested in isolation, leading to improved testability of individual components. This makes it easier to write unit tests for smaller units of functionality within the software system.\\n\\nIn summary, the \"has-a\" relationship in composition is a powerful design concept that allows for building modular, flexible, and maintainable software systems by composing objects together. It promotes code reusability, encapsulation, flexibility, and scalability, leading to well-structured and easily maintainable software solutions.'"
      ]
     },
     "execution_count": 29,
     "metadata": {},
     "output_type": "execute_result"
    }
   ],
   "source": [
    "#7. Explain the concept of \"has-a\" relationships in composition and how it helps design software systems.\n",
    "'''In object-oriented programming, the concept of \"has-a\" relationships in composition refers to a design approach where a class contains an instance of another class as one of its attributes. This relationship signifies that an object of one class \"has\" another object as a part of its internal structure.\n",
    "\n",
    "Here's how the \"has-a\" relationship in composition helps design software systems:\n",
    "\n",
    "1. **Modularity and Encapsulation**:\n",
    "   - Composition allows for creating modular components where objects are composed of other objects. This promotes encapsulation by hiding the internal details of the composed objects and exposing only the necessary interfaces to the outside world.\n",
    "\n",
    "2. **Code Reusability**:\n",
    "   - By composing objects together, code reusability is enhanced as smaller, reusable components can be combined in different ways to build complex objects. This modular design approach facilitates reusing components across different parts of the software system.\n",
    "\n",
    "3. **Flexibility and Maintainability**:\n",
    "   - The \"has-a\" relationship provides flexibility in designing software systems by allowing objects to be easily added, removed, or replaced within a class. This flexibility makes it easier to modify and extend the functionality of the composed objects without impacting other parts of the system.\n",
    "  \n",
    "4. **Enhanced Design and Scalability**:\n",
    "   - Designing software systems using composition with \"has-a\" relationships leads to a more structured and scalable design. Objects can be composed in various ways to create complex systems while maintaining a clear and manageable structure.\n",
    "\n",
    "5. **Reduced Coupling**:\n",
    "   - Composition helps in reducing coupling between classes compared to inheritance, where subclasses are tightly coupled to their superclasses. Objects can interact with each other through well-defined interfaces, promoting loose coupling and making the system more maintainable and extensible.\n",
    "\n",
    "6. **Improved Testability**:\n",
    "   - Composed objects can be easily tested in isolation, leading to improved testability of individual components. This makes it easier to write unit tests for smaller units of functionality within the software system.\n",
    "\n",
    "In summary, the \"has-a\" relationship in composition is a powerful design concept that allows for building modular, flexible, and maintainable software systems by composing objects together. It promotes code reusability, encapsulation, flexibility, and scalability, leading to well-structured and easily maintainable software solutions.'''\n"
   ]
  },
  {
   "cell_type": "code",
   "execution_count": 30,
   "id": "bb87fd6e",
   "metadata": {},
   "outputs": [
    {
     "name": "stdout",
     "output_type": "stream",
     "text": [
      "Computer System Components:\n",
      "CPU: Intel Core i7 with 8 cores\n",
      "RAM: 16 GB running at 3200 MHz\n",
      "Storage: 512 GB SSD drive\n"
     ]
    }
   ],
   "source": [
    "#8. Create a Python class for a computer system, using composition to represent components like CPU, RAM, and storage devices.\n",
    "class CPU:\n",
    "    def __init__(self, model, cores):\n",
    "        self.model = model\n",
    "        self.cores = cores\n",
    "\n",
    "    def info(self):\n",
    "        return f\"CPU: {self.model} with {self.cores} cores\"\n",
    "\n",
    "class RAM:\n",
    "    def __init__(self, capacity, speed):\n",
    "        self.capacity = capacity\n",
    "        self.speed = speed\n",
    "\n",
    "    def info(self):\n",
    "        return f\"RAM: {self.capacity} GB running at {self.speed} MHz\"\n",
    "\n",
    "class Storage:\n",
    "    def __init__(self, capacity, type):\n",
    "        self.capacity = capacity\n",
    "        self.type = type\n",
    "\n",
    "    def info(self):\n",
    "        return f\"Storage: {self.capacity} GB {self.type} drive\"\n",
    "\n",
    "class ComputerSystem:\n",
    "    def __init__(self, cpu, ram, storage):\n",
    "        self.cpu = cpu\n",
    "        self.ram = ram\n",
    "        self.storage = storage\n",
    "\n",
    "    def system_info(self):\n",
    "        print(\"Computer System Components:\")\n",
    "        print(self.cpu.info())\n",
    "        print(self.ram.info())\n",
    "        print(self.storage.info())\n",
    "\n",
    "# Create instances of CPU, RAM, and Storage\n",
    "cpu = CPU(\"Intel Core i7\", 8)\n",
    "ram = RAM(16, 3200)\n",
    "storage = Storage(512, \"SSD\")\n",
    "\n",
    "# Create a ComputerSystem object composed of CPU, RAM, and Storage\n",
    "my_computer = ComputerSystem(cpu, ram, storage)\n",
    "\n",
    "# Display information about the Computer System\n",
    "my_computer.system_info()\n",
    "\n"
   ]
  },
  {
   "cell_type": "code",
   "execution_count": 31,
   "id": "f5efd99b",
   "metadata": {},
   "outputs": [
    {
     "data": {
      "text/plain": [
       "\"Delegation in composition is a design concept where an object forwards a method call to another object to handle the request. Instead of implementing the behavior directly, the delegating object delegates the responsibility to another object, typically composed within it. This approach simplifies the design of complex systems by promoting code reuse, modularity, and flexibility.\\n\\nHere's how delegation in composition simplifies the design of complex systems:\\n\\n1. **Code Reusability**:\\n   - Delegation allows for reusing existing functionality by delegating tasks to other objects. This promotes code reuse as common behaviors can be implemented in separate objects and delegated as needed.\\n\\n2. **Modularity**:\\n   - Delegation promotes modularity by breaking down complex systems into smaller, more manageable components. Each component can focus on a specific task, leading to a more modular and organized design.\\n\\n3. **Encapsulation**:\\n   - Delegation helps in encapsulating behavior by allowing objects to delegate specific tasks to other objects without exposing their internal implementation details. This promotes information hiding and reduces dependencies between components.\\n\\n4. **Flexibility**:\\n   - Delegation provides flexibility in system design by allowing objects to delegate tasks dynamically at runtime. Objects can switch the delegate object based on specific requirements, making the system more adaptable and flexible.\\n\\n5. **Simplification of Complex Systems**:\\n   - By delegating responsibilities to specialized objects, complex systems can be simplified into smaller, more focused components. Delegation helps in breaking down complex tasks into smaller, more manageable units, making the system easier to understand and maintain.\\n\\n6. **Enhanced Testability**:\\n   - Delegated objects can be tested independently, leading to improved testability of individual components. This makes it easier to write unit tests for specific behaviors and ensures that each component works as expected.\\n\\nIn summary, delegation in composition simplifies the design of complex systems by promoting code reuse, modularity, encapsulation, flexibility, and testability. By delegating responsibilities to specialized objects, complex tasks can be broken down into smaller units, leading to a more organized and maintainable software design.\""
      ]
     },
     "execution_count": 31,
     "metadata": {},
     "output_type": "execute_result"
    }
   ],
   "source": [
    "#9. Describe the concept of \"delegation\" in composition and how it simplifies the design of complex systems.\n",
    "\n",
    "'''Delegation in composition is a design concept where an object forwards a method call to another object to handle the request. Instead of implementing the behavior directly, the delegating object delegates the responsibility to another object, typically composed within it. This approach simplifies the design of complex systems by promoting code reuse, modularity, and flexibility.\n",
    "\n",
    "Here's how delegation in composition simplifies the design of complex systems:\n",
    "\n",
    "1. **Code Reusability**:\n",
    "   - Delegation allows for reusing existing functionality by delegating tasks to other objects. This promotes code reuse as common behaviors can be implemented in separate objects and delegated as needed.\n",
    "\n",
    "2. **Modularity**:\n",
    "   - Delegation promotes modularity by breaking down complex systems into smaller, more manageable components. Each component can focus on a specific task, leading to a more modular and organized design.\n",
    "\n",
    "3. **Encapsulation**:\n",
    "   - Delegation helps in encapsulating behavior by allowing objects to delegate specific tasks to other objects without exposing their internal implementation details. This promotes information hiding and reduces dependencies between components.\n",
    "\n",
    "4. **Flexibility**:\n",
    "   - Delegation provides flexibility in system design by allowing objects to delegate tasks dynamically at runtime. Objects can switch the delegate object based on specific requirements, making the system more adaptable and flexible.\n",
    "\n",
    "5. **Simplification of Complex Systems**:\n",
    "   - By delegating responsibilities to specialized objects, complex systems can be simplified into smaller, more focused components. Delegation helps in breaking down complex tasks into smaller, more manageable units, making the system easier to understand and maintain.\n",
    "\n",
    "6. **Enhanced Testability**:\n",
    "   - Delegated objects can be tested independently, leading to improved testability of individual components. This makes it easier to write unit tests for specific behaviors and ensures that each component works as expected.\n",
    "\n",
    "In summary, delegation in composition simplifies the design of complex systems by promoting code reuse, modularity, encapsulation, flexibility, and testability. By delegating responsibilities to specialized objects, complex tasks can be broken down into smaller units, leading to a more organized and maintainable software design.'''"
   ]
  },
  {
   "cell_type": "code",
   "execution_count": 32,
   "id": "88110ed7",
   "metadata": {},
   "outputs": [
    {
     "name": "stdout",
     "output_type": "stream",
     "text": [
      "Toyota Camry starting.\n",
      "Engine starting.\n",
      "Driving the Toyota Camry.\n",
      "Shifting gear.\n",
      "Wheel rotating.\n",
      "Wheel rotating.\n",
      "Wheel rotating.\n",
      "Wheel rotating.\n",
      "Engine stopping.\n",
      "Toyota Camry stopping.\n"
     ]
    }
   ],
   "source": [
    "#10. Create a Python class for a car, using composition to represent components like the engine, wheels, and transmission.\n",
    "\n",
    "class Engine:\n",
    "    def __init__(self, horsepower):\n",
    "        self.horsepower = horsepower\n",
    "\n",
    "    def start(self):\n",
    "        print(\"Engine starting.\")\n",
    "\n",
    "    def stop(self):\n",
    "        print(\"Engine stopping.\")\n",
    "\n",
    "class Wheel:\n",
    "    def __init__(self, size):\n",
    "        self.size = size\n",
    "\n",
    "    def rotate(self):\n",
    "        print(\"Wheel rotating.\")\n",
    "\n",
    "class Transmission:\n",
    "    def __init__(self, type):\n",
    "        self.type = type\n",
    "\n",
    "    def shift_gear(self):\n",
    "        print(\"Shifting gear.\")\n",
    "\n",
    "class Car:\n",
    "    def __init__(self, make, model, engine, wheels, transmission):\n",
    "        self.make = make\n",
    "        self.model = model\n",
    "        self.engine = engine\n",
    "        self.wheels = wheels\n",
    "        self.transmission = transmission\n",
    "\n",
    "    def start(self):\n",
    "        print(f\"{self.make} {self.model} starting.\")\n",
    "        self.engine.start()\n",
    "\n",
    "    def stop(self):\n",
    "        self.engine.stop()\n",
    "        print(f\"{self.make} {self.model} stopping.\")\n",
    "\n",
    "    def drive(self):\n",
    "        print(f\"Driving the {self.make} {self.model}.\")\n",
    "        self.transmission.shift_gear()\n",
    "        for wheel in self.wheels:\n",
    "            wheel.rotate()\n",
    "\n",
    "# Create instances of Engine, Wheel, and Transmission\n",
    "engine = Engine(200)\n",
    "wheels = [Wheel(18), Wheel(18), Wheel(18), Wheel(18)]\n",
    "transmission = Transmission(\"Automatic\")\n",
    "\n",
    "# Create a Car object composed of Engine, Wheels, and Transmission\n",
    "my_car = Car(\"Toyota\", \"Camry\", engine, wheels, transmission)\n",
    "\n",
    "# Interact with the Car object\n",
    "my_car.start()\n",
    "my_car.drive()\n",
    "my_car.stop()\n"
   ]
  },
  {
   "cell_type": "code",
   "execution_count": 33,
   "id": "e8e9ea76",
   "metadata": {},
   "outputs": [
    {
     "data": {
      "text/plain": [
       "'In Python, you can encapsulate and hide the details of composed objects in classes to maintain abstraction by following these practices:\\n\\n1. **Private Attributes**:\\n   - Use private attributes (attributes starting with `_` or `__`) to hide the details of composed objects from external access. This helps in encapsulating the internal state of the objects.\\n   - Example: `self._engine = engine` or `self.__transmission = transmission`.\\n\\n2. **Getter and Setter Methods**:\\n   - Provide getter and setter methods to access and modify the attributes of composed objects. This allows controlled access to the internal details of the objects.\\n   - Example:\\n     ```\\n     \\ndef get_engine(self):\\n    return self._engine\\ndef set_transmission(self, transmission):\\n    self.__transmission = transmission\\n        \\n     ```\\n\\n3. **Abstraction through Interfaces**:\\n   - Define abstract methods or interfaces for composed objects to enforce a specific behavior without revealing implementation details. Subclasses can then provide concrete implementations.\\n   - Example:\\n     ```python\\n     from abc import ABC, abstractmethod\\n     \\n     class Engine(ABC):\\n         @abstractmethod\\n         def start(self):\\n             pass\\n     ```\\n\\n4. **Limiting Direct Access**:\\n   - Limit direct access to composed objects by providing controlled interfaces for interacting with them. This helps in maintaining abstraction and hiding unnecessary details.\\n   - Example:\\n     ```python\\n     def start_engine(self):\\n         self._engine.start()\\n     ```\\n\\n5. **Composition within Methods**:\\n   - Encapsulate the interaction with composed objects within methods of the containing class. This way, the details of how composed objects are used are hidden from external code.\\n   - Example:\\n     ```python\\n     def drive(self):\\n         self._engine.start()\\n         self.__transmission.shift_gear()\\n     ```\\n\\nBy applying these techniques, you can encapsulate and hide the details of composed objects within Python classes, maintaining abstraction and promoting a clean and modular design. This approach helps in building more maintainable and flexible software systems.'"
      ]
     },
     "execution_count": 33,
     "metadata": {},
     "output_type": "execute_result"
    }
   ],
   "source": [
    "#11. How can you encapsulate and hide the details of composed objects in Python classes to maintain abstraction?\n",
    "\n",
    "'''In Python, you can encapsulate and hide the details of composed objects in classes to maintain abstraction by following these practices:\n",
    "\n",
    "1. **Private Attributes**:\n",
    "   - Use private attributes (attributes starting with `_` or `__`) to hide the details of composed objects from external access. This helps in encapsulating the internal state of the objects.\n",
    "   - Example: `self._engine = engine` or `self.__transmission = transmission`.\n",
    "\n",
    "2. **Getter and Setter Methods**:\n",
    "   - Provide getter and setter methods to access and modify the attributes of composed objects. This allows controlled access to the internal details of the objects.\n",
    "   - Example:\n",
    "     ```\n",
    "     \n",
    "def get_engine(self):\n",
    "    return self._engine\n",
    "def set_transmission(self, transmission):\n",
    "    self.__transmission = transmission\n",
    "        \n",
    "     ```\n",
    "\n",
    "3. **Abstraction through Interfaces**:\n",
    "   - Define abstract methods or interfaces for composed objects to enforce a specific behavior without revealing implementation details. Subclasses can then provide concrete implementations.\n",
    "   - Example:\n",
    "     ```python\n",
    "     from abc import ABC, abstractmethod\n",
    "     \n",
    "     class Engine(ABC):\n",
    "         @abstractmethod\n",
    "         def start(self):\n",
    "             pass\n",
    "     ```\n",
    "\n",
    "4. **Limiting Direct Access**:\n",
    "   - Limit direct access to composed objects by providing controlled interfaces for interacting with them. This helps in maintaining abstraction and hiding unnecessary details.\n",
    "   - Example:\n",
    "     ```python\n",
    "     def start_engine(self):\n",
    "         self._engine.start()\n",
    "     ```\n",
    "\n",
    "5. **Composition within Methods**:\n",
    "   - Encapsulate the interaction with composed objects within methods of the containing class. This way, the details of how composed objects are used are hidden from external code.\n",
    "   - Example:\n",
    "     ```python\n",
    "     def drive(self):\n",
    "         self._engine.start()\n",
    "         self.__transmission.shift_gear()\n",
    "     ```\n",
    "\n",
    "By applying these techniques, you can encapsulate and hide the details of composed objects within Python classes, maintaining abstraction and promoting a clean and modular design. This approach helps in building more maintainable and flexible software systems.'''"
   ]
  },
  {
   "cell_type": "code",
   "execution_count": 34,
   "id": "ec6e5836",
   "metadata": {},
   "outputs": [
    {
     "name": "stdout",
     "output_type": "stream",
     "text": [
      "Course: Python Programming Course\n",
      "Instructor: Dr. Smith (Employee ID: EMP001)\n",
      "Students:\n",
      "Student: Alice (ID: S001)\n",
      "Student: Bob (ID: S002)\n",
      "Course Material: Textbook - Python Programming, Slides - Week 1 Slides\n"
     ]
    }
   ],
   "source": [
    "#12. Create a Python class for a university course, using composition to represent students, instructors, and course materials.\n",
    "\n",
    "class Student:\n",
    "    def __init__(self, name, student_id):\n",
    "        self.name = name\n",
    "        self.student_id = student_id\n",
    "\n",
    "    def display_info(self):\n",
    "        print(f\"Student: {self.name} (ID: {self.student_id})\")\n",
    "\n",
    "class Instructor:\n",
    "    def __init__(self, name, employee_id):\n",
    "        self.name = name\n",
    "        self.employee_id = employee_id\n",
    "\n",
    "    def display_info(self):\n",
    "        print(f\"Instructor: {self.name} (Employee ID: {self.employee_id})\")\n",
    "\n",
    "class CourseMaterial:\n",
    "    def __init__(self, textbook, slides):\n",
    "        self.textbook = textbook\n",
    "        self.slides = slides\n",
    "\n",
    "    def display_info(self):\n",
    "        print(f\"Course Material: Textbook - {self.textbook}, Slides - {self.slides}\")\n",
    "\n",
    "class UniversityCourse:\n",
    "    def __init__(self, course_name, instructor, students, course_material):\n",
    "        self.course_name = course_name\n",
    "        self.instructor = instructor\n",
    "        self.students = students\n",
    "        self.course_material = course_material\n",
    "\n",
    "    def display_course_info(self):\n",
    "        print(f\"Course: {self.course_name}\")\n",
    "        self.instructor.display_info()\n",
    "        print(\"Students:\")\n",
    "        for student in self.students:\n",
    "            student.display_info()\n",
    "        self.course_material.display_info()\n",
    "\n",
    "# Create instances of Student, Instructor, and CourseMaterial\n",
    "student1 = Student(\"Alice\", \"S001\")\n",
    "student2 = Student(\"Bob\", \"S002\")\n",
    "\n",
    "instructor = Instructor(\"Dr. Smith\", \"EMP001\")\n",
    "\n",
    "course_material = CourseMaterial(\"Python Programming\", \"Week 1 Slides\")\n",
    "\n",
    "# Create a UniversityCourse object composed of Instructor, Students, and CourseMaterial\n",
    "python_course = UniversityCourse(\"Python Programming Course\", instructor, [student1, student2], course_material)\n",
    "\n",
    "# Display information about the UniversityCourse\n",
    "python_course.display_course_info()\n"
   ]
  },
  {
   "cell_type": "code",
   "execution_count": 35,
   "id": "2d016314",
   "metadata": {},
   "outputs": [
    {
     "data": {
      "text/plain": [
       "'While composition offers many benefits in software design, such as modularity, flexibility, and code reusability, it also comes with its own set of challenges and drawbacks. Some of the challenges associated with composition include:\\n\\n1. **Increased Complexity**:\\n   - As the number of composed objects increases, the complexity of managing interactions between objects can grow. This can make the code harder to understand and maintain, especially in large systems with multiple levels of composition.\\n\\n2. **Potential for Tight Coupling**:\\n   - In some cases, composition can lead to tight coupling between objects, where changes in one object may have a ripple effect on other objects. This can make the system less flexible and more prone to unintended side effects when modifications are made.\\n\\n3. **Dependency Management**:\\n   - Managing dependencies between composed objects can be challenging, especially when objects need to interact with each other in complex ways. Ensuring that the dependencies are well managed and do not create circular dependencies is crucial for maintaining a robust design.\\n\\n4. **Performance Overhead**:\\n   - Depending on the design and implementation of composition, there may be a performance overhead associated with managing multiple objects and their interactions. This can impact the overall performance of the system, especially in resource-intensive applications.\\n\\n5. **Code Maintenance**:\\n   - With composition, there can be a higher level of granularity in the codebase, which may require more effort to maintain and debug. Understanding how different objects interact and ensuring that changes do not inadvertently break existing functionality can be more challenging.\\n\\n6. **Design Complexity**:\\n   - Designing a system using composition requires careful consideration of how objects are composed and how they interact with each other. Balancing the structure of composed objects while maintaining a clear and understandable design can be a challenge.\\n\\n7. **Testing Complexity**:\\n   - Testing composed objects and their interactions can be more complex compared to testing standalone objects. Ensuring that all components work together correctly and handling edge cases can require more thorough testing strategies.\\n\\nDespite these challenges, with careful design and consideration, many of the drawbacks of composition can be mitigated. By maintaining a balance between modularity, flexibility, and simplicity, composition can still be a powerful tool for building maintainable and scalable software systems.'"
      ]
     },
     "execution_count": 35,
     "metadata": {},
     "output_type": "execute_result"
    }
   ],
   "source": [
    "#13. Discuss the challenges and drawbacks of composition, such as increased complexity and potential for tight coupling between objects.\n",
    "\n",
    "'''While composition offers many benefits in software design, such as modularity, flexibility, and code reusability, it also comes with its own set of challenges and drawbacks. Some of the challenges associated with composition include:\n",
    "\n",
    "1. **Increased Complexity**:\n",
    "   - As the number of composed objects increases, the complexity of managing interactions between objects can grow. This can make the code harder to understand and maintain, especially in large systems with multiple levels of composition.\n",
    "\n",
    "2. **Potential for Tight Coupling**:\n",
    "   - In some cases, composition can lead to tight coupling between objects, where changes in one object may have a ripple effect on other objects. This can make the system less flexible and more prone to unintended side effects when modifications are made.\n",
    "\n",
    "3. **Dependency Management**:\n",
    "   - Managing dependencies between composed objects can be challenging, especially when objects need to interact with each other in complex ways. Ensuring that the dependencies are well managed and do not create circular dependencies is crucial for maintaining a robust design.\n",
    "\n",
    "4. **Performance Overhead**:\n",
    "   - Depending on the design and implementation of composition, there may be a performance overhead associated with managing multiple objects and their interactions. This can impact the overall performance of the system, especially in resource-intensive applications.\n",
    "\n",
    "5. **Code Maintenance**:\n",
    "   - With composition, there can be a higher level of granularity in the codebase, which may require more effort to maintain and debug. Understanding how different objects interact and ensuring that changes do not inadvertently break existing functionality can be more challenging.\n",
    "\n",
    "6. **Design Complexity**:\n",
    "   - Designing a system using composition requires careful consideration of how objects are composed and how they interact with each other. Balancing the structure of composed objects while maintaining a clear and understandable design can be a challenge.\n",
    "\n",
    "7. **Testing Complexity**:\n",
    "   - Testing composed objects and their interactions can be more complex compared to testing standalone objects. Ensuring that all components work together correctly and handling edge cases can require more thorough testing strategies.\n",
    "\n",
    "Despite these challenges, with careful design and consideration, many of the drawbacks of composition can be mitigated. By maintaining a balance between modularity, flexibility, and simplicity, composition can still be a powerful tool for building maintainable and scalable software systems.'''"
   ]
  },
  {
   "cell_type": "code",
   "execution_count": 36,
   "id": "e711efef",
   "metadata": {},
   "outputs": [
    {
     "name": "stdout",
     "output_type": "stream",
     "text": [
      "Menu: Italian Cuisine\n",
      "- Margherita Pizza - Ingredients: Tomato, Cheese, Basil\n",
      "- Pasta Pomodoro - Ingredients: Tomato, Pasta\n",
      "\n"
     ]
    }
   ],
   "source": [
    "#14. Create a Python class hierarchy for a restaurant system, using composition to represent menus, dishes, and ingredients.\n",
    "class Ingredient:\n",
    "    def __init__(self, name):\n",
    "        self.name = name\n",
    "\n",
    "    def __str__(self):\n",
    "        return self.name\n",
    "\n",
    "class Dish:\n",
    "    def __init__(self, name, ingredients):\n",
    "        self.name = name\n",
    "        self.ingredients = ingredients\n",
    "\n",
    "    def __str__(self):\n",
    "        return f\"{self.name} - Ingredients: {', '.join(str(ingredient) for ingredient in self.ingredients)}\"\n",
    "\n",
    "class Menu:\n",
    "    def __init__(self, name, dishes):\n",
    "        self.name = name\n",
    "        self.dishes = dishes\n",
    "\n",
    "    def __str__(self):\n",
    "        menu_str = f\"Menu: {self.name}\\n\"\n",
    "        for dish in self.dishes:\n",
    "            menu_str += f\"- {dish}\\n\"\n",
    "        return menu_str\n",
    "\n",
    "# Create instances of ingredients\n",
    "ingredient1 = Ingredient(\"Tomato\")\n",
    "ingredient2 = Ingredient(\"Cheese\")\n",
    "ingredient3 = Ingredient(\"Basil\")\n",
    "ingredient4 = Ingredient(\"Pasta\")\n",
    "\n",
    "# Create instances of dishes\n",
    "dish1 = Dish(\"Margherita Pizza\", [ingredient1, ingredient2, ingredient3])\n",
    "dish2 = Dish(\"Pasta Pomodoro\", [ingredient1, ingredient4])\n",
    "\n",
    "# Create a menu composed of dishes\n",
    "menu = Menu(\"Italian Cuisine\", [dish1, dish2])\n",
    "\n",
    "# Display information about the menu\n",
    "print(menu)\n",
    "\n"
   ]
  },
  {
   "cell_type": "code",
   "execution_count": 37,
   "id": "8a1fc042",
   "metadata": {},
   "outputs": [
    {
     "data": {
      "text/plain": [
       "\"Composition enhances code maintainability and modularity in Python programs by promoting a more structured and organized design. Here's how composition achieves this:\\n\\n1. **Modularity**:\\n   - **Component Reusability**: Composition allows you to create modular components that can be reused in various parts of the program. This promotes code reusability and reduces redundancy.\\n   - **Separation of Concerns**: By composing objects with specific responsibilities, you can separate different functionalities into distinct components, making the codebase easier to understand and maintain.\\n   - **Encapsulation**: Composition helps in encapsulating the implementation details of individual components, allowing each component to focus on its specific task without exposing unnecessary details to other parts of the program.\\n\\n2. **Code Maintainability**:\\n   - **Easier Debugging**: With composition, each component has a well-defined responsibility, making it easier to isolate and debug issues within specific parts of the program.\\n   - **Scalability**: As the program grows, composition allows you to add new components or modify existing ones without affecting the entire system. This scalability makes it easier to extend and adapt the program over time.\\n   - **Flexibility**: Composition provides flexibility in changing or replacing components without impacting other parts of the program. This flexibility makes it easier to evolve the software system as requirements change.\\n\\n3. **Reduced Coupling**:\\n   - **Loose Coupling**: Composition promotes loose coupling between components by defining clear interfaces for interaction. This reduces dependencies between different parts of the program, making it easier to modify or replace components without affecting the entire system.\\n   - **High Cohesion**: Composed objects are designed to have high cohesion, meaning that each object has a clear and focused purpose. This improves code maintainability by ensuring that related functionalities are grouped together.\\n\\n4. **Abstraction**:\\n   - **Enhanced Abstraction**: Composition allows you to create abstract interfaces for composed objects, hiding implementation details and providing a clear separation between interface and implementation. This abstraction makes the codebase more manageable and easier to work with.\\n\\nBy leveraging composition in Python programs, developers can create more maintainable, modular, and flexible codebases. Composition encourages a structured design approach that promotes code reuse, encapsulation, loose coupling, and clear separation of concerns, ultimately leading to software systems that are easier to understand, extend, and maintain over time.\""
      ]
     },
     "execution_count": 37,
     "metadata": {},
     "output_type": "execute_result"
    }
   ],
   "source": [
    "#15. Explain how composition enhances code maintainability and modularity in Python programs.\n",
    "\n",
    "'''Composition enhances code maintainability and modularity in Python programs by promoting a more structured and organized design. Here's how composition achieves this:\n",
    "\n",
    "1. **Modularity**:\n",
    "   - **Component Reusability**: Composition allows you to create modular components that can be reused in various parts of the program. This promotes code reusability and reduces redundancy.\n",
    "   - **Separation of Concerns**: By composing objects with specific responsibilities, you can separate different functionalities into distinct components, making the codebase easier to understand and maintain.\n",
    "   - **Encapsulation**: Composition helps in encapsulating the implementation details of individual components, allowing each component to focus on its specific task without exposing unnecessary details to other parts of the program.\n",
    "\n",
    "2. **Code Maintainability**:\n",
    "   - **Easier Debugging**: With composition, each component has a well-defined responsibility, making it easier to isolate and debug issues within specific parts of the program.\n",
    "   - **Scalability**: As the program grows, composition allows you to add new components or modify existing ones without affecting the entire system. This scalability makes it easier to extend and adapt the program over time.\n",
    "   - **Flexibility**: Composition provides flexibility in changing or replacing components without impacting other parts of the program. This flexibility makes it easier to evolve the software system as requirements change.\n",
    "\n",
    "3. **Reduced Coupling**:\n",
    "   - **Loose Coupling**: Composition promotes loose coupling between components by defining clear interfaces for interaction. This reduces dependencies between different parts of the program, making it easier to modify or replace components without affecting the entire system.\n",
    "   - **High Cohesion**: Composed objects are designed to have high cohesion, meaning that each object has a clear and focused purpose. This improves code maintainability by ensuring that related functionalities are grouped together.\n",
    "\n",
    "4. **Abstraction**:\n",
    "   - **Enhanced Abstraction**: Composition allows you to create abstract interfaces for composed objects, hiding implementation details and providing a clear separation between interface and implementation. This abstraction makes the codebase more manageable and easier to work with.\n",
    "\n",
    "By leveraging composition in Python programs, developers can create more maintainable, modular, and flexible codebases. Composition encourages a structured design approach that promotes code reuse, encapsulation, loose coupling, and clear separation of concerns, ultimately leading to software systems that are easier to understand, extend, and maintain over time.'''"
   ]
  },
  {
   "cell_type": "code",
   "execution_count": 38,
   "id": "1bb86963",
   "metadata": {},
   "outputs": [
    {
     "name": "stdout",
     "output_type": "stream",
     "text": [
      "Character: Hero\n",
      "Weapon: Sword (Damage: 20)\n",
      "Armor: Shield (Defense: 10)\n",
      "Inventory:\n",
      "- Health Potion\n",
      "- Mana Potion\n"
     ]
    }
   ],
   "source": [
    "#16. Create a Python class for a computer game character, using composition to represent attributes like weapons, armor, and inventory.\n",
    "class Weapon:\n",
    "    def __init__(self, name, damage):\n",
    "        self.name = name\n",
    "        self.damage = damage\n",
    "\n",
    "    def __str__(self):\n",
    "        return f\"Weapon: {self.name} (Damage: {self.damage})\"\n",
    "\n",
    "class Armor:\n",
    "    def __init__(self, name, defense):\n",
    "        self.name = name\n",
    "        self.defense = defense\n",
    "\n",
    "    def __str__(self):\n",
    "        return f\"Armor: {self.name} (Defense: {self.defense})\"\n",
    "\n",
    "class Inventory:\n",
    "    def __init__(self, items):\n",
    "        self.items = items\n",
    "\n",
    "    def add_item(self, item):\n",
    "        self.items.append(item)\n",
    "\n",
    "    def display_inventory(self):\n",
    "        print(\"Inventory:\")\n",
    "        for item in self.items:\n",
    "            print(f\"- {item}\")\n",
    "\n",
    "class GameCharacter:\n",
    "    def __init__(self, name, weapon, armor):\n",
    "        self.name = name\n",
    "        self.weapon = weapon\n",
    "        self.armor = armor\n",
    "        self.inventory = Inventory([])\n",
    "\n",
    "    def equip_weapon(self, weapon):\n",
    "        self.weapon = weapon\n",
    "\n",
    "    def equip_armor(self, armor):\n",
    "        self.armor = armor\n",
    "\n",
    "    def add_item_to_inventory(self, item):\n",
    "        self.inventory.add_item(item)\n",
    "\n",
    "    def display_character_info(self):\n",
    "        print(f\"Character: {self.name}\")\n",
    "        print(self.weapon)\n",
    "        print(self.armor)\n",
    "        self.inventory.display_inventory()\n",
    "\n",
    "# Create instances of Weapon, Armor, and GameCharacter\n",
    "sword = Weapon(\"Sword\", 20)\n",
    "shield = Armor(\"Shield\", 10)\n",
    "\n",
    "player = GameCharacter(\"Hero\", sword, shield)\n",
    "player.add_item_to_inventory(\"Health Potion\")\n",
    "player.add_item_to_inventory(\"Mana Potion\")\n",
    "\n",
    "# Display information about the GameCharacter\n",
    "player.display_character_info()\n",
    "\n"
   ]
  },
  {
   "cell_type": "code",
   "execution_count": 39,
   "id": "077074d8",
   "metadata": {},
   "outputs": [
    {
     "data": {
      "text/plain": [
       "'Aggregation in composition refers to a relationship where an object consists of or contains other objects. In an aggregation relationship, the underlying objects can exist independently of the main object. This means that when the main object is destroyed, the subordinate objects will still exist.\\n\\nIn contrast, in simple composition, the subordinate objects are entirely dependent on the main object. If the main object is destroyed, the subordinate objects will also be destroyed.\\n\\nSo, in summary, in aggregation, sub-objects can exist independently, while in simple composition, sub-objects are dependent on the main object.'"
      ]
     },
     "execution_count": 39,
     "metadata": {},
     "output_type": "execute_result"
    }
   ],
   "source": [
    "#17. Describe the concept of \"aggregation\" in composition and how it differs from simple composition.\n",
    "\n",
    "'''Aggregation in composition refers to a relationship where an object consists of or contains other objects. In an aggregation relationship, the underlying objects can exist independently of the main object. This means that when the main object is destroyed, the subordinate objects will still exist.\n",
    "\n",
    "In contrast, in simple composition, the subordinate objects are entirely dependent on the main object. If the main object is destroyed, the subordinate objects will also be destroyed.\n",
    "\n",
    "So, in summary, in aggregation, sub-objects can exist independently, while in simple composition, sub-objects are dependent on the main object.'''"
   ]
  },
  {
   "cell_type": "code",
   "execution_count": 41,
   "id": "70d39cf7",
   "metadata": {},
   "outputs": [
    {
     "data": {
      "text/plain": [
       "'This Python code defines classes for a House, Room, Furniture, and Appliance, and uses composition to represent the relationship between them. You can create instances of these classes and organize them within the house structure.'"
      ]
     },
     "execution_count": 41,
     "metadata": {},
     "output_type": "execute_result"
    }
   ],
   "source": [
    "#18. Create a Python class for a house, using composition to represent rooms, furniture, and appliances.\n",
    "class House:\n",
    "    def __init__(self, address):\n",
    "        self.address = address\n",
    "        self.rooms = []\n",
    "    \n",
    "    def add_room(self, room):\n",
    "        self.rooms.append(room)\n",
    "    \n",
    "class Room:\n",
    "    def __init__(self, name, size):\n",
    "        self.name = name\n",
    "        self.size = size\n",
    "        self.furniture = []\n",
    "        self.appliances = []\n",
    "    \n",
    "    def add_furniture(self, furniture):\n",
    "        self.furniture.append(furniture)\n",
    "    \n",
    "    def add_appliance(self, appliance):\n",
    "        self.appliances.append(appliance)\n",
    "    \n",
    "class Furniture:\n",
    "    def __init__(self, name, material):\n",
    "        self.name = name\n",
    "        self.material = material\n",
    "\n",
    "class Appliance:\n",
    "    def __init__(self, name, brand):\n",
    "        self.name = name\n",
    "        self.brand = brand\n",
    "\n",
    "# Creating an instance of a house\n",
    "my_house = House(\"123 Main Street\")\n",
    "\n",
    "# Creating rooms\n",
    "kitchen = Room(\"Kitchen\", 100)\n",
    "living_room = Room(\"Living Room\", 200)\n",
    "\n",
    "# Adding furniture to rooms\n",
    "kitchen_table = Furniture(\"Kitchen Table\", \"Wood\")\n",
    "kitchen.add_furniture(kitchen_table)\n",
    "\n",
    "sofa = Furniture(\"Sofa\", \"Leather\")\n",
    "living_room.add_furniture(sofa)\n",
    "\n",
    "# Adding appliances to rooms\n",
    "oven = Appliance(\"Oven\", \"Samsung\")\n",
    "kitchen.add_appliance(oven)\n",
    "\n",
    "tv = Appliance(\"TV\", \"Sony\")\n",
    "living_room.add_appliance(tv)\n",
    "\n",
    "# Adding rooms to the house\n",
    "my_house.add_room(kitchen)\n",
    "my_house.add_room(living_room)\n",
    "\n",
    "'''This Python code defines classes for a House, Room, Furniture, and Appliance, and uses composition to represent the relationship between them. You can create instances of these classes and organize them within the house structure.'''"
   ]
  },
  {
   "cell_type": "code",
   "execution_count": 42,
   "id": "b3c1bae0",
   "metadata": {},
   "outputs": [
    {
     "data": {
      "text/plain": [
       "'To achieve flexibility in composed objects by allowing them to be replaced or modified dynamically at runtime, you can use techniques such as dependency injection and the strategy pattern.\\n\\n1. **Dependency Injection:** This is a design pattern where the dependencies of an object are provided externally rather than created within the object itself. By injecting dependencies into an object, you can easily replace or modify them at runtime. This allows for greater flexibility and easier testing. \\n\\n2. **Strategy Pattern:** This pattern defines a family of algorithms, encapsulates each one, and makes them interchangeable. You can create different strategies as separate classes and then dynamically switch between them at runtime. This allows composed objects to be replaced or modified without changing their structure.\\n\\nBy using these patterns and techniques, you can achieve flexibility in composed objects by enabling them to be replaced or modified dynamically at runtime, making your code more adaptable and easier to maintain.'"
      ]
     },
     "execution_count": 42,
     "metadata": {},
     "output_type": "execute_result"
    }
   ],
   "source": [
    "#19. How can you achieve flexibility in composed objects by allowing them to be replaced or modified dynamically at runtime?\n",
    "'''To achieve flexibility in composed objects by allowing them to be replaced or modified dynamically at runtime, you can use techniques such as dependency injection and the strategy pattern.\n",
    "\n",
    "1. **Dependency Injection:** This is a design pattern where the dependencies of an object are provided externally rather than created within the object itself. By injecting dependencies into an object, you can easily replace or modify them at runtime. This allows for greater flexibility and easier testing. \n",
    "\n",
    "2. **Strategy Pattern:** This pattern defines a family of algorithms, encapsulates each one, and makes them interchangeable. You can create different strategies as separate classes and then dynamically switch between them at runtime. This allows composed objects to be replaced or modified without changing their structure.\n",
    "\n",
    "By using these patterns and techniques, you can achieve flexibility in composed objects by enabling them to be replaced or modified dynamically at runtime, making your code more adaptable and easier to maintain.'''\n"
   ]
  },
  {
   "cell_type": "code",
   "execution_count": 43,
   "id": "f23ad49d",
   "metadata": {},
   "outputs": [
    {
     "name": "stdout",
     "output_type": "stream",
     "text": [
      "Hello, this is my first post! - by Alice\n",
      "Comment: Nice post, Alice! - by Bob\n"
     ]
    }
   ],
   "source": [
    "#20. Create a Python class for a social media application, using composition to represent users, posts, and comments.\n",
    "class User:\n",
    "    def __init__(self, username):\n",
    "        self.username = username\n",
    "        self.posts = []\n",
    "    \n",
    "    def create_post(self, content):\n",
    "        post = Post(content)\n",
    "        self.posts.append(post)\n",
    "        return post\n",
    "    \n",
    "class Post:\n",
    "    def __init__(self, content):\n",
    "        self.content = content\n",
    "        self.comments = []\n",
    "    \n",
    "    def add_comment(self, comment_text):\n",
    "        comment = Comment(comment_text)\n",
    "        self.comments.append(comment)\n",
    "        return comment\n",
    "    \n",
    "class Comment:\n",
    "    def __init__(self, text):\n",
    "        self.text = text\n",
    "\n",
    "# Creating an instance of a social media application\n",
    "class SocialMediaApp:\n",
    "    def __init__(self):\n",
    "        self.users = []\n",
    "    \n",
    "    def create_user(self, username):\n",
    "        user = User(username)\n",
    "        self.users.append(user)\n",
    "        return user\n",
    "\n",
    "# Creating an instance of the social media app\n",
    "my_social_media_app = SocialMediaApp()\n",
    "\n",
    "# Creating users\n",
    "user1 = my_social_media_app.create_user(\"Alice\")\n",
    "user2 = my_social_media_app.create_user(\"Bob\")\n",
    "\n",
    "# User1 creating a post\n",
    "post1 = user1.create_post(\"Hello, this is my first post!\")\n",
    "\n",
    "# User2 commenting on post1\n",
    "comment1 = post1.add_comment(\"Nice post, Alice!\")\n",
    "\n",
    "# Displaying the post and comment\n",
    "print(f\"{post1.content} - by {user1.username}\")\n",
    "print(f\"Comment: {comment1.text} - by {user2.username}\")\n"
   ]
  },
  {
   "cell_type": "code",
   "execution_count": null,
   "id": "e334f1f3",
   "metadata": {},
   "outputs": [],
   "source": []
  }
 ],
 "metadata": {
  "kernelspec": {
   "display_name": "Python 3 (ipykernel)",
   "language": "python",
   "name": "python3"
  },
  "language_info": {
   "codemirror_mode": {
    "name": "ipython",
    "version": 3
   },
   "file_extension": ".py",
   "mimetype": "text/x-python",
   "name": "python",
   "nbconvert_exporter": "python",
   "pygments_lexer": "ipython3",
   "version": "3.10.9"
  }
 },
 "nbformat": 4,
 "nbformat_minor": 5
}
