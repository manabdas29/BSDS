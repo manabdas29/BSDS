{
 "cells": [
  {
   "cell_type": "markdown",
   "id": "c0205e1e",
   "metadata": {},
   "source": [
    "# TOPIC: String Based Assignment Problem"
   ]
  },
  {
   "cell_type": "code",
   "execution_count": 1,
   "id": "0f6e2b6f",
   "metadata": {},
   "outputs": [
    {
     "name": "stdout",
     "output_type": "stream",
     "text": [
      "Enter a string:I love India\n",
      "aidnI evol I\n"
     ]
    }
   ],
   "source": [
    "#1. Write a program to reverse a string.\n",
    "strn=input('Enter a string:')\n",
    "print(strn[::-1])"
   ]
  },
  {
   "cell_type": "code",
   "execution_count": 2,
   "id": "72da7bee",
   "metadata": {},
   "outputs": [
    {
     "name": "stdout",
     "output_type": "stream",
     "text": [
      "Enter a string:I lovw India\n",
      "Input string is not a palindrom\n"
     ]
    }
   ],
   "source": [
    "#2. Check if a string is a palindrome.\n",
    "input_strn=input('Enter a string:')\n",
    "update_strn=input_strn.replace(' ','').lower()\n",
    "reverse_strn=update_strn[::-1]\n",
    "if reverse_strn==update_strn:\n",
    "    print('Input string is a palindrom')\n",
    "else:\n",
    "    print('Input string is not a palindrom')"
   ]
  },
  {
   "cell_type": "code",
   "execution_count": 3,
   "id": "37af6e98",
   "metadata": {},
   "outputs": [
    {
     "name": "stdout",
     "output_type": "stream",
     "text": [
      "Enter a string=I love India\n",
      "I LOVE INDIA\n"
     ]
    }
   ],
   "source": [
    "#3. Convert a string to uppercase.\n",
    "strn=input('Enter a string=')\n",
    "print(strn.upper())"
   ]
  },
  {
   "cell_type": "code",
   "execution_count": 4,
   "id": "b161bec2",
   "metadata": {},
   "outputs": [
    {
     "name": "stdout",
     "output_type": "stream",
     "text": [
      "Enter a string=MANAB\n",
      "manab\n"
     ]
    }
   ],
   "source": [
    "#4. Convert a string to lowercase.\n",
    "strn=input('Enter a string=')\n",
    "print(strn.lower())"
   ]
  },
  {
   "cell_type": "code",
   "execution_count": 5,
   "id": "89b4bd1b",
   "metadata": {},
   "outputs": [
    {
     "name": "stdout",
     "output_type": "stream",
     "text": [
      "Enter a string=I love India\n",
      "Number of vowel= 6\n"
     ]
    }
   ],
   "source": [
    "#5. Count the number of vowels in a string.\n",
    "strn=input('Enter a string=')\n",
    "count=0\n",
    "for char in strn:\n",
    "    if char in 'aeiouAEIOU':\n",
    "        count=count+1\n",
    "print('Number of vowel=',count)"
   ]
  },
  {
   "cell_type": "code",
   "execution_count": 6,
   "id": "3d691d54",
   "metadata": {},
   "outputs": [
    {
     "name": "stdout",
     "output_type": "stream",
     "text": [
      "Enter the string=Manab\n",
      "Number of consonants= 3\n"
     ]
    }
   ],
   "source": [
    "#6. Count the number of consonants in a string.\n",
    "strn=input('Enter the string=')\n",
    "count=0\n",
    "for char in strn:\n",
    "    if char not in 'aeiouAEIOU':\n",
    "        count=count+1\n",
    "print('Number of consonants=',count)"
   ]
  },
  {
   "cell_type": "code",
   "execution_count": 7,
   "id": "ab28269c",
   "metadata": {},
   "outputs": [
    {
     "name": "stdout",
     "output_type": "stream",
     "text": [
      "Enter a string=I love India\n"
     ]
    },
    {
     "data": {
      "text/plain": [
       "'IloveIndia'"
      ]
     },
     "execution_count": 7,
     "metadata": {},
     "output_type": "execute_result"
    }
   ],
   "source": [
    "#7. Remove all whitespaces from a string.\n",
    "strn=input('Enter a string=')\n",
    "strn.replace(' ','')"
   ]
  },
  {
   "cell_type": "code",
   "execution_count": 8,
   "id": "b47a44e6",
   "metadata": {},
   "outputs": [
    {
     "name": "stdout",
     "output_type": "stream",
     "text": [
      "Enter a string=Manab\n",
      "Length of the string= 5\n"
     ]
    }
   ],
   "source": [
    "#8. Find the length of a string without using the `len()` function.\n",
    "strn=input('Enter a string=')\n",
    "count=0\n",
    "for char in strn:\n",
    "    count=count+1\n",
    "print('Length of the string=',count)"
   ]
  },
  {
   "cell_type": "code",
   "execution_count": 9,
   "id": "ff3d8c8a",
   "metadata": {},
   "outputs": [
    {
     "name": "stdout",
     "output_type": "stream",
     "text": [
      "Enter a string=I love India\n",
      "The word India is in the string.\n"
     ]
    }
   ],
   "source": [
    "#9. Check if a string contains a specific word.\n",
    "strn=input('Enter a string=')\n",
    "if 'India' in strn:\n",
    "    print('The word India is in the string.')\n",
    "else:\n",
    "    print('The word India is not in the string.')"
   ]
  },
  {
   "cell_type": "code",
   "execution_count": 10,
   "id": "591d31e6",
   "metadata": {},
   "outputs": [
    {
     "name": "stdout",
     "output_type": "stream",
     "text": [
      "Enter a string:I love India\n",
      "Enter the word to be replaced:love\n",
      "Enterthe new word:feel\n",
      "I feel India\n"
     ]
    }
   ],
   "source": [
    "#10. Replace a word in a string with another word.\n",
    "inp_strn=input('Enter a string:')\n",
    "old_wrd=input('Enter the word to be replaced:')\n",
    "new_wrd=input('Enterthe new word:')\n",
    "modified_strn=inp_strn.replace(old_wrd,new_wrd)\n",
    "print(modified_strn)"
   ]
  },
  {
   "cell_type": "code",
   "execution_count": 13,
   "id": "8f0ef774",
   "metadata": {},
   "outputs": [
    {
     "name": "stdout",
     "output_type": "stream",
     "text": [
      "Enter a string:Manab\n",
      "Enter the word for occurrence count=a\n",
      "Number of occurance= 0\n"
     ]
    }
   ],
   "source": [
    "#11. Count the occurrences of a word in a string.\n",
    "inp_strn=input('Enter a string:')\n",
    "words=inp_strn.split()\n",
    "count=0\n",
    "count_word=input('Enter the word for occurrence count=')\n",
    "for word in words:\n",
    "    if word==count_word:\n",
    "        count+=1\n",
    "print('Number of occurance=',count)"
   ]
  },
  {
   "cell_type": "code",
   "execution_count": 14,
   "id": "d543883d",
   "metadata": {},
   "outputs": [
    {
     "name": "stdout",
     "output_type": "stream",
     "text": [
      "Enter a string=I love India\n",
      "Enter the word=love\n",
      "2\n"
     ]
    }
   ],
   "source": [
    "#12. Find the first occurrence of a word in a string.\n",
    "strn=input('Enter a string=')\n",
    "word=input('Enter the word=')\n",
    "index=strn.find(word)\n",
    "if index==-1:\n",
    "    print('The word is not found in the string')\n",
    "else:\n",
    "    print(index)"
   ]
  },
  {
   "cell_type": "code",
   "execution_count": 15,
   "id": "9dfd1577",
   "metadata": {},
   "outputs": [
    {
     "name": "stdout",
     "output_type": "stream",
     "text": [
      "Enter a string=I love India\n",
      "Enter the word=love\n",
      "2\n"
     ]
    }
   ],
   "source": [
    "#13. Find the last occurrence of a word in a string.\n",
    "strn=input('Enter a string=')\n",
    "word=input('Enter the word=')\n",
    "index=strn.rfind(word)\n",
    "if index==-1:\n",
    "    print('The word is not found in the string')"
   ]
  },
  {
   "cell_type": "code",
   "execution_count": 16,
   "id": "59038a47",
   "metadata": {},
   "outputs": [
    {
     "name": "stdout",
     "output_type": "stream",
     "text": [
      "Input string=I love India\n",
      "['I', 'love', 'India']\n"
     ]
    }
   ],
   "source": [
    "#14. Split a string into a list of words.\n",
    "strn=input('Input string=')\n",
    "word_list=strn.split()\n",
    "print(word_list)"
   ]
  },
  {
   "cell_type": "code",
   "execution_count": 17,
   "id": "f4e662c0",
   "metadata": {},
   "outputs": [
    {
     "name": "stdout",
     "output_type": "stream",
     "text": [
      "Enter a list of word='I', 'love', 'India'\n",
      "'I', 'love', 'India'\n"
     ]
    }
   ],
   "source": [
    "#15. Join a list of words into a string.\n",
    "word_list=input('Enter a list of word=')\n",
    "joined_string=''.join(word_list)\n",
    "print(joined_string)"
   ]
  },
  {
   "cell_type": "code",
   "execution_count": 18,
   "id": "644a2bd1",
   "metadata": {},
   "outputs": [
    {
     "name": "stdout",
     "output_type": "stream",
     "text": [
      "Enter your string=I love India\n",
      "I_love_India\n"
     ]
    }
   ],
   "source": [
    "#16. Convert a string where words are separated by spaces to one where words are separated by underscores.\n",
    "strn=input('Enter your string=')\n",
    "underscore_seperated=strn.replace(' ','_')\n",
    "print(underscore_seperated)"
   ]
  },
  {
   "cell_type": "code",
   "execution_count": 19,
   "id": "ef04973e",
   "metadata": {},
   "outputs": [
    {
     "name": "stdout",
     "output_type": "stream",
     "text": [
      "Enter your string=Manab Das\n",
      "Enter your prefix=Manab\n",
      "String start with specific word\n"
     ]
    }
   ],
   "source": [
    "#17. Check if a string starts with a specific word or phrase.\n",
    "def start_with(strn,prefix):\n",
    "    is_start=strn.startswith(prefix)\n",
    "    return is_start\n",
    "strn=input('Enter your string=')\n",
    "prefix=input('Enter your prefix=')\n",
    "result=start_with(strn,prefix)\n",
    "if result:\n",
    "    print('String start with specific word')\n",
    "else:\n",
    "    print('String does not start with specific word')"
   ]
  },
  {
   "cell_type": "code",
   "execution_count": 20,
   "id": "9716129b",
   "metadata": {},
   "outputs": [
    {
     "name": "stdout",
     "output_type": "stream",
     "text": [
      "Enter your string=Manab Das\n",
      "Enter your word=Manab\n",
      "The string does not end with the string\n"
     ]
    }
   ],
   "source": [
    "#18. Check if a string ends with a specific word or phrase.\n",
    "def ends_with(strn,suffix):\n",
    "    is_end=strn.endswith(suffix)\n",
    "    return is_end\n",
    "strn=input('Enter your string=')\n",
    "suffix=input('Enter your word=')\n",
    "result=ends_with(strn,suffix)\n",
    "if result:\n",
    "    print('The string ends with the prefix')\n",
    "else:\n",
    "    print('The string does not end with the string')"
   ]
  },
  {
   "cell_type": "code",
   "execution_count": 21,
   "id": "1c38e70d",
   "metadata": {},
   "outputs": [
    {
     "name": "stdout",
     "output_type": "stream",
     "text": [
      "Enter your string=hello world\n",
      "Title Case: Hello World\n"
     ]
    }
   ],
   "source": [
    "#19. Convert a string to title case (e.g., \"hello world\" to \"Hello World\").\n",
    "def convert_to_title_case(strn):\n",
    "    title_case_strn=strn.title()\n",
    "    return title_case_strn\n",
    "strn=input('Enter your string=')\n",
    "title_case_test_result=convert_to_title_case(strn)\n",
    "print('Title Case:',title_case_test_result)"
   ]
  },
  {
   "cell_type": "code",
   "execution_count": 22,
   "id": "8690f866",
   "metadata": {},
   "outputs": [
    {
     "name": "stdout",
     "output_type": "stream",
     "text": [
      "Enter your string=I love India\n",
      "Longest_word= India\n"
     ]
    }
   ],
   "source": [
    "#20. Find the longest word in a string.\n",
    "def longest_word(strn):\n",
    "    words=strn.split()\n",
    "    longest_word=''\n",
    "    max_length=0\n",
    "    for word in words:\n",
    "        if len(word)>max_length:\n",
    "            max_length=len(word)\n",
    "            longest_word=word\n",
    "    return longest_word\n",
    "strn=input('Enter your string=')\n",
    "longest_word=longest_word(strn)"
   ]
  },
  {
   "cell_type": "code",
   "execution_count": 23,
   "id": "0aea9fd4",
   "metadata": {},
   "outputs": [
    {
     "name": "stdout",
     "output_type": "stream",
     "text": [
      "Enter your string=I love India\n",
      "Sortes Word is= I\n"
     ]
    }
   ],
   "source": [
    "#21. Find the shortest word in a string.\n",
    "def sortest_word(strn):\n",
    "    words=strn.split()\n",
    "    sortest_word=None\n",
    "    min_length=float('inf')\n",
    "    for word in words:\n",
    "        if len(word)<min_length:\n",
    "            sortest_word=word\n",
    "            min_length=len(word)\n",
    "    return sortest_word\n",
    "strn=input('Enter your string=')\n",
    "sortest_word=sortest_word(strn)\n",
    "print('Sortes Word is=',sortest_word)"
   ]
  },
  {
   "cell_type": "code",
   "execution_count": 1,
   "id": "1c6e0b79",
   "metadata": {},
   "outputs": [
    {
     "name": "stdout",
     "output_type": "stream",
     "text": [
      "you? are how world, Hello\n"
     ]
    }
   ],
   "source": [
    "#22. Reverse the order of words in a string.\n",
    "def reverse_words(string):\n",
    "    words = string.split()\n",
    "    reversed_words = words[::-1]\n",
    "    reversed_string = \" \".join(reversed_words)\n",
    "    return reversed_string\n",
    "my_string = \"Hello world, how are you?\"\n",
    "reversed_string = reverse_words(my_string)\n",
    "print(reversed_string)"
   ]
  },
  {
   "cell_type": "code",
   "execution_count": 24,
   "id": "f1444135",
   "metadata": {},
   "outputs": [
    {
     "name": "stdout",
     "output_type": "stream",
     "text": [
      "Enter your string=Manab29\n",
      "The input string is a alphanumeric\n"
     ]
    }
   ],
   "source": [
    "#23. Check if a string is alphanumeric.\n",
    "def is_alphanumeric(strn):\n",
    "    return strn.isalnum()\n",
    "strn=input('Enter your string=')\n",
    "result=is_alphanumeric(strn)\n",
    "if result:\n",
    "    print('The input string is a alphanumeric')\n",
    "else:\n",
    "    print('The input string is not a alpha numeric')"
   ]
  },
  {
   "cell_type": "code",
   "execution_count": 25,
   "id": "b065a647",
   "metadata": {},
   "outputs": [
    {
     "name": "stdout",
     "output_type": "stream",
     "text": [
      "Enter your string=Manab29\n",
      "Extract digit= 29\n"
     ]
    }
   ],
   "source": [
    "#24. Extract all digits from a string.\n",
    "def extract_digit(strn):\n",
    "    digit=''\n",
    "    for char in strn:\n",
    "        if char.isdigit():\n",
    "            digit=digit+char\n",
    "    return digit\n",
    "strn=input('Enter your string=')\n",
    "extract_digit=extract_digit(strn)\n",
    "print('Extract digit=',extract_digit)"
   ]
  },
  {
   "cell_type": "code",
   "execution_count": 26,
   "id": "fd8df405",
   "metadata": {},
   "outputs": [
    {
     "name": "stdout",
     "output_type": "stream",
     "text": [
      "Please enter your string: Manab29\n",
      "Extract alphabets: Manab\n"
     ]
    }
   ],
   "source": [
    "#25. Extract all alphabets from a string.\n",
    "def extract_alphabets(strn):\n",
    "    alphabets=''\n",
    "    for char in strn:\n",
    "        if char.isalpha():\n",
    "            alphabets=alphabets+char\n",
    "    return alphabets\n",
    "strn=input('Please enter your string: ')\n",
    "extract_alphabets=extract_alphabets(strn)\n",
    "print('Extract alphabets:',extract_alphabets)"
   ]
  },
  {
   "cell_type": "code",
   "execution_count": 27,
   "id": "45c233e9",
   "metadata": {},
   "outputs": [
    {
     "name": "stdout",
     "output_type": "stream",
     "text": [
      "Enter your string=Manab\n",
      "Number of uppercase= 1\n"
     ]
    }
   ],
   "source": [
    "#26. Count the number of uppercase letters in a string.\n",
    "def count_uppercase(strn):\n",
    "    count=0\n",
    "    for char in strn:\n",
    "        if char.isupper():\n",
    "            count=count+1\n",
    "    return count\n",
    "strn=input('Enter your string=')\n",
    "uppercase_count=count_uppercase(strn)\n",
    "print('Number of uppercase=',uppercase_count)"
   ]
  },
  {
   "cell_type": "code",
   "execution_count": 28,
   "id": "7c7da61d",
   "metadata": {},
   "outputs": [
    {
     "name": "stdout",
     "output_type": "stream",
     "text": [
      "Enter your string=Manab\n",
      "Number of lowercase: 4\n"
     ]
    }
   ],
   "source": [
    "#27. Count the number of lowercase letters in a string.\n",
    "def count_lowercase(strn):\n",
    "    count=0\n",
    "    for char in strn:\n",
    "        if char.islower():\n",
    "            count=count+1\n",
    "    return count\n",
    "strn=input('Enter your string=')\n",
    "count=count_lowercase(strn)\n",
    "print('Number of lowercase:',count)"
   ]
  },
  {
   "cell_type": "code",
   "execution_count": 29,
   "id": "3e1fd80b",
   "metadata": {},
   "outputs": [
    {
     "name": "stdout",
     "output_type": "stream",
     "text": [
      "Enter string: Manab\n",
      "Swap string:  mANAB\n"
     ]
    }
   ],
   "source": [
    "#28. Swap the case of each character in a string.\n",
    "def swap_case(strn):\n",
    "    swap_strn=strn.swapcase()\n",
    "    return swap_strn\n",
    "strn=input('Enter string: ')\n",
    "swap=swap_case(strn)\n",
    "print('Swap string: ',swap)"
   ]
  },
  {
   "cell_type": "code",
   "execution_count": 30,
   "id": "fb8ef1af",
   "metadata": {},
   "outputs": [
    {
     "name": "stdout",
     "output_type": "stream",
     "text": [
      "String: I love India\n",
      "Word=I\n",
      "Modified_string:  I n d i a\n"
     ]
    }
   ],
   "source": [
    "#29. Remove a specific word from a string.\n",
    "def remove_word(strn,specific_word):\n",
    "    words=strn.split()\n",
    "    for word in words:\n",
    "        if word != specific_word:\n",
    "            modified_stn=' '.join(word)\n",
    "    return modified_stn\n",
    "strn=input('String: ')\n",
    "specific_word=input('Word=')\n",
    "modified_stn=remove_word(strn,specific_word)\n",
    "print('Modified_string: ',modified_stn)"
   ]
  },
  {
   "cell_type": "code",
   "execution_count": 2,
   "id": "29fd5b38",
   "metadata": {},
   "outputs": [
    {
     "name": "stdout",
     "output_type": "stream",
     "text": [
      "True\n",
      "False\n"
     ]
    }
   ],
   "source": [
    "#30. Check if a string is a valid email address.\n",
    "import re\n",
    "def is_valid_email(email):\n",
    "    pattern = r'^[\\w\\.-]+@[\\w\\.-]+\\.\\w+$'\n",
    "    if re.match(pattern, email):\n",
    "        return True\n",
    "    else:\n",
    "        return False\n",
    "email1 = 'das.manab29@gmail.com'\n",
    "email2 = 'idas.manab29'\n",
    "result1 = is_valid_email(email1)\n",
    "result2 = is_valid_email(email2)\n",
    "print(result1)\n",
    "print(result2)"
   ]
  },
  {
   "cell_type": "code",
   "execution_count": 3,
   "id": "64407a6a",
   "metadata": {},
   "outputs": [
    {
     "name": "stdout",
     "output_type": "stream",
     "text": [
      "Enter a email=das.manab29@gmail.com\n",
      "User name is: das.manab29\n"
     ]
    }
   ],
   "source": [
    "#31. Extract the username from an email address string.\n",
    "def extarct_username(email):\n",
    "    username=email.split('@')[0]\n",
    "    return username\n",
    "email=input('Enter a email=')\n",
    "username=extarct_username(email)\n",
    "print('User name is:',username)"
   ]
  },
  {
   "cell_type": "code",
   "execution_count": 4,
   "id": "4a43acfa",
   "metadata": {},
   "outputs": [
    {
     "name": "stdout",
     "output_type": "stream",
     "text": [
      "Please enter your email:das.manab29@gmail.com\n",
      "The domain name is: gmail.com\n"
     ]
    }
   ],
   "source": [
    "#32. Extract the domain name from an email address string.\n",
    "def extract_domain(email):\n",
    "    domain=email.split('@')[1]\n",
    "    return domain\n",
    "email=input('Please enter your email:')\n",
    "domain=extract_domain(email)\n",
    "print('The domain name is:',domain)"
   ]
  },
  {
   "cell_type": "code",
   "execution_count": 6,
   "id": "c19cf857",
   "metadata": {},
   "outputs": [
    {
     "name": "stdout",
     "output_type": "stream",
     "text": [
      "Enter your string:I love   India\n",
      "I love India\n"
     ]
    }
   ],
   "source": [
    "#33. Replace multiple spaces in a string with a single space.\n",
    "def multiple_space(strn):\n",
    "    cleaned_string = ' '.join(strn.split())\n",
    "    return cleaned_string\n",
    "strn=input('Enter your string:')\n",
    "clean_strn=multiple_space(strn)\n",
    "print(clean_strn)"
   ]
  },
  {
   "cell_type": "code",
   "execution_count": 7,
   "id": "a8f99e64",
   "metadata": {},
   "outputs": [
    {
     "name": "stdout",
     "output_type": "stream",
     "text": [
      "Enter a valid url:https://www.youtube.com\n",
      "Enter a invalid url:https://www.facebook.com\n",
      "True\n",
      "True\n"
     ]
    }
   ],
   "source": [
    "#34. Check if a string is a valid URL\n",
    "from urllib.parse import urlparse\n",
    "\n",
    "def is_valid_url(url):\n",
    "    try:\n",
    "        result = urlparse(url)\n",
    "        return all([result.scheme, result.netloc]) \n",
    "    except ValueError:\n",
    "        return False\n",
    "url1=input('Enter a valid url:')\n",
    "url2=input('Enter a invalid url:')\n",
    "result1 = is_valid_url(url1)\n",
    "result2 = is_valid_url(url2)\n",
    "print(result1)  \n",
    "print(result2)  "
   ]
  },
  {
   "cell_type": "code",
   "execution_count": 8,
   "id": "17e42e94",
   "metadata": {},
   "outputs": [
    {
     "name": "stdout",
     "output_type": "stream",
     "text": [
      "Protocol 1: https\n",
      "Protocol 2: http\n",
      "Protocol 3: ftp\n"
     ]
    }
   ],
   "source": [
    "#35. Extract the protocol (http or https) from a URL string.\n",
    "def extract_protocol(url):\n",
    "    # Find the index of the first occurrence of \"://\"\n",
    "    protocol_end = url.find(\"://\")\n",
    "\n",
    "    if protocol_end != -1:\n",
    "        # Extract the protocol from the URL\n",
    "        protocol = url[:protocol_end]\n",
    "        return protocol\n",
    "    else:\n",
    "        return None\n",
    "\n",
    "# Example URL strings\n",
    "url1 = \"https://www.example.com\"\n",
    "url2 = \"http://google.com\"\n",
    "url3 = \"ftp://ftp.example.com\"\n",
    "\n",
    "# Extract protocols\n",
    "protocol1 = extract_protocol(url1)\n",
    "protocol2 = extract_protocol(url2)\n",
    "protocol3 = extract_protocol(url3)\n",
    "\n",
    "# Print extracted protocols\n",
    "print(\"Protocol 1:\", protocol1)\n",
    "print(\"Protocol 2:\", protocol2)\n",
    "print(\"Protocol 3:\", protocol3)"
   ]
  },
  {
   "cell_type": "code",
   "execution_count": 9,
   "id": "6a020561",
   "metadata": {},
   "outputs": [
    {
     "name": "stdout",
     "output_type": "stream",
     "text": [
      "Enter a strn:Manab\n",
      "Character: 'M', Frequency: 1\n",
      "Character: 'a', Frequency: 2\n",
      "Character: 'n', Frequency: 1\n",
      "Character: 'b', Frequency: 1\n"
     ]
    }
   ],
   "source": [
    "#36. Find the frequency of each character in a string.\n",
    "def char_frequency(strn):\n",
    "    frequency={}\n",
    "    for char in strn:\n",
    "        if char in frequency:\n",
    "            frequency[char]+=1\n",
    "        else:\n",
    "            frequency[char]=1\n",
    "    return frequency\n",
    "strn=input('Enter a strn:')\n",
    "frequency=char_frequency(strn)\n",
    "for char, freq in frequency.items():\n",
    "    print(f\"Character: '{char}', Frequency: {freq}\")"
   ]
  },
  {
   "cell_type": "code",
   "execution_count": 10,
   "id": "ce509adc",
   "metadata": {},
   "outputs": [
    {
     "name": "stdout",
     "output_type": "stream",
     "text": [
      "Enter a string: Manab! Das.\n",
      "Cleaned string: Manab Das\n"
     ]
    }
   ],
   "source": [
    "#37. Remove all punctuation from a string.\n",
    "import string\n",
    "def remove_punctuation(strn):\n",
    "    translator = str.maketrans(\"\", \"\", string.punctuation)\n",
    "    clean_string = strn.translate(translator)\n",
    "    return clean_string\n",
    "strn=input('Enter a string: ')\n",
    "cleaned_str = remove_punctuation(strn)\n",
    "print(\"Cleaned string:\", cleaned_str)"
   ]
  },
  {
   "cell_type": "code",
   "execution_count": 11,
   "id": "f778817a",
   "metadata": {},
   "outputs": [
    {
     "name": "stdout",
     "output_type": "stream",
     "text": [
      "Enter a string:Manab29\n",
      "Enter a string:Manab Das\n",
      "Enter a string:Manab\n",
      "'Manab29' contains only digit:  False\n",
      "'Manab Das' contains only digit:  False\n",
      "'Manab' contains only digit:  False\n"
     ]
    }
   ],
   "source": [
    "#38. Check if a string contains only digits.\n",
    "def strn_only_digit(strn):\n",
    "    return strn.isdigit()\n",
    "strn1=input('Enter a string:')\n",
    "strn2=input('Enter a string:')\n",
    "strn3=input('Enter a string:')\n",
    "result1=strn_only_digit(strn1)\n",
    "result2=strn_only_digit(strn2)\n",
    "result3=strn_only_digit(strn3)\n",
    "print(f\"'{strn1}' contains only digit: \",result1)\n",
    "print(f\"'{strn2}' contains only digit: \",result2)\n",
    "print(f\"'{strn3}' contains only digit: \",result3)"
   ]
  },
  {
   "cell_type": "code",
   "execution_count": 12,
   "id": "faaf5d14",
   "metadata": {},
   "outputs": [
    {
     "name": "stdout",
     "output_type": "stream",
     "text": [
      "Enter a string:Manab\n",
      "Enter a string:Manab29\n",
      "Enter a string:123\n",
      "'Manab' contain only alphabets:  True\n",
      "'Manab29' contain only alphabets:  False\n",
      "'123' contain only alphabets:  False\n"
     ]
    }
   ],
   "source": [
    "#39. Check if a string contains only alphabets.\n",
    "def is_only_alpha(strn):\n",
    "    return strn.isalpha()\n",
    "strn1=input('Enter a string:')\n",
    "strn2=input('Enter a string:')\n",
    "strn3=input('Enter a string:')\n",
    "result1=is_only_alpha(strn1)\n",
    "result2=is_only_alpha(strn2)\n",
    "result3=is_only_alpha(strn3)\n",
    "print(f\"'{strn1}' contain only alphabets: \",result1)\n",
    "print(f\"'{strn2}' contain only alphabets: \",result2)\n",
    "print(f\"'{strn3}' contain only alphabets: \",result3)"
   ]
  },
  {
   "cell_type": "code",
   "execution_count": 13,
   "id": "13b0121f",
   "metadata": {},
   "outputs": [
    {
     "name": "stdout",
     "output_type": "stream",
     "text": [
      "Enter a string:Manab\n",
      "List of characters: ['M', 'a', 'n', 'a', 'b']\n"
     ]
    }
   ],
   "source": [
    "#40. Convert a string to a list of characters.\n",
    "def strn_to_list(strn):\n",
    "    char_list=list(strn)\n",
    "    return char_list\n",
    "strn=input('Enter a string:')\n",
    "lst=strn_to_list(strn)\n",
    "print('List of characters:', lst)"
   ]
  },
  {
   "cell_type": "code",
   "execution_count": 14,
   "id": "ceafeb83",
   "metadata": {},
   "outputs": [
    {
     "name": "stdout",
     "output_type": "stream",
     "text": [
      "strn1=Manab\n",
      "strn2=Nabv\n",
      "strn3=sdkhasi\n",
      "strn4=sadh\n",
      "'Manab' and 'Nabv' are anagrams:  False\n",
      "'sdkhasi' and 'sadh' are anagrams:  False\n"
     ]
    }
   ],
   "source": [
    "#41. Check if two strings are anagrams.\n",
    "def are_anagrams(str1,str2):\n",
    "    str1=str1.replace(' ','').lower()\n",
    "    str2=str2.replace(' ','').lower()\n",
    "    return sorted(strn1)==sorted(strn2)\n",
    "strn1=input('strn1=')\n",
    "strn2=input('strn2=')\n",
    "strn3=input('strn3=')\n",
    "strn4=input('strn4=')\n",
    "result1=are_anagrams(strn1,strn2)\n",
    "result2=are_anagrams(strn3,strn4)\n",
    "print(f\"'{strn1}' and '{strn2}' are anagrams: \",result1)\n",
    "print(f\"'{strn3}' and '{strn4}' are anagrams: \",result2)"
   ]
  },
  {
   "cell_type": "code",
   "execution_count": 15,
   "id": "ecab16db",
   "metadata": {},
   "outputs": [
    {
     "name": "stdout",
     "output_type": "stream",
     "text": [
      "Encoded text: ehoor, zruog!\n"
     ]
    }
   ],
   "source": [
    "#42. Encode a string using a Caesar cipher.\n",
    "def caesar_cipher(text, shift):\n",
    "    encoded_text = \"\"\n",
    "    for char in text:\n",
    "        if char.isalpha():\n",
    "             encoded_char = chr((ord(char) + shift - ord('a')) % 26 + ord('a'))\n",
    "        else:\n",
    "            encoded_char = char\n",
    "\n",
    "        encoded_text += encoded_char\n",
    "\n",
    "  \n",
    "    return encoded_text\n",
    "text = \"Hello, world!\"\n",
    "shift = 3\n",
    "encoded_text = caesar_cipher(text, shift)\n",
    "print(\"Encoded text:\", encoded_text)"
   ]
  },
  {
   "cell_type": "code",
   "execution_count": 16,
   "id": "97521cf3",
   "metadata": {},
   "outputs": [
    {
     "name": "stdout",
     "output_type": "stream",
     "text": [
      "Decoded text: ilmm, world!\n"
     ]
    }
   ],
   "source": [
    "#43. Decode a Caesar cipher encoded string.\n",
    "\n",
    "def caesar_cipher_decoder(text, shift):\n",
    "   \n",
    "    decoded_text = \"\"\n",
    "\n",
    "    \n",
    "    for char in text:\n",
    "        \n",
    "        if char.isalpha():\n",
    "            \n",
    "            decoded_char = chr((ord(char) - shift - ord('a')) % 26 + ord('a'))\n",
    "        else:\n",
    "            \n",
    "            decoded_char = char\n",
    "\n",
    "        \n",
    "        decoded_text += decoded_char\n",
    "\n",
    "    \n",
    "    return decoded_text\n",
    "\n",
    "\n",
    "text = \"lopp, zruog!\"\n",
    "shift = 3\n",
    "\n",
    "\n",
    "decoded_text = caesar_cipher_decoder(text, shift)\n",
    "\n",
    "print(\"Decoded text:\", decoded_text)"
   ]
  },
  {
   "cell_type": "code",
   "execution_count": 17,
   "id": "01be1d77",
   "metadata": {},
   "outputs": [
    {
     "name": "stdout",
     "output_type": "stream",
     "text": [
      "Enter a string: I love India\n",
      "Most frequent word: i\n"
     ]
    }
   ],
   "source": [
    "#44. Find the most frequent word in a string.\n",
    "import re\n",
    "from collections import Counter\n",
    "def most_frequent_word(strn):\n",
    "    clean_string = re.sub(r'[^\\w\\s]', '', strn).lower()\n",
    "    words = clean_string.split()\n",
    "    word_counter = Counter(words)\n",
    "    most_common_word = word_counter.most_common(1)[0][0]\n",
    "    return most_common_word\n",
    "strn=input('Enter a string: ')\n",
    "most_common = most_frequent_word(strn)\n",
    "print(\"Most frequent word:\", most_common)"
   ]
  },
  {
   "cell_type": "code",
   "execution_count": 18,
   "id": "2ef5db4d",
   "metadata": {},
   "outputs": [
    {
     "name": "stdout",
     "output_type": "stream",
     "text": [
      "Enter a string: Manab\n",
      "{'manab'}\n"
     ]
    }
   ],
   "source": [
    "#45. Find all unique words in a string.\n",
    "import re\n",
    "def unique_words(strn):\n",
    "    clean_string = re.sub(r'[^\\w\\s]', '',strn).lower()\n",
    "    words = set(clean_string.split())\n",
    "    return words\n",
    "strn=input('Enter a string: ')\n",
    "unique_word=unique_words(strn)\n",
    "print(unique_word)"
   ]
  },
  {
   "cell_type": "code",
   "execution_count": 19,
   "id": "5cf53aca",
   "metadata": {},
   "outputs": [
    {
     "name": "stdout",
     "output_type": "stream",
     "text": [
      "'hello' has 2 syllables.\n",
      "'banana' has 3 syllables.\n",
      "'syllable' has 3 syllables.\n"
     ]
    }
   ],
   "source": [
    "#46. Count the number of syllables in a string.\n",
    "import re\n",
    "def count_syllables(word):\n",
    "    vowel_groups = re.findall(r'[aeiouy]+', word, re.IGNORECASE)\n",
    "    return len(vowel_groups)\n",
    "word1 = \"hello\"\n",
    "word2 = \"banana\"\n",
    "word3 = \"syllable\"\n",
    "syllables1 = count_syllables(word1)\n",
    "syllables2 = count_syllables(word2)\n",
    "syllables3 = count_syllables(word3)\n",
    "print(f\"'{word1}' has {syllables1} syllables.\")\n",
    "print(f\"'{word2}' has {syllables2} syllables.\")\n",
    "print(f\"'{word3}' has {syllables3} syllables.\")"
   ]
  },
  {
   "cell_type": "code",
   "execution_count": 20,
   "id": "27bc2532",
   "metadata": {},
   "outputs": [
    {
     "name": "stdout",
     "output_type": "stream",
     "text": [
      "'Hello, world!' contains special characters: True\n",
      "'This is a test.' contains special characters: True\n",
      "'Special@Characters' contains special characters: True\n"
     ]
    }
   ],
   "source": [
    "#47. Check if a string contains any special characters.\n",
    "import re\n",
    "def contains_special_characters(input_string):\n",
    "    pattern = re.compile(r'[!@#$%^&*()_+{}\\[\\]:;<>,.?~\\\\/]')\n",
    "    match = pattern.search(input_string)\n",
    "    return bool(match)\n",
    "string1 = \"Hello, world!\"\n",
    "string2 = \"This is a test.\"\n",
    "string3 = \"Special@Characters\"\n",
    "result1 = contains_special_characters(string1)\n",
    "result2 = contains_special_characters(string2)\n",
    "result3 = contains_special_characters(string3)\n",
    "print(f\"'{string1}' contains special characters:\", result1)\n",
    "print(f\"'{string2}' contains special characters:\", result2)\n",
    "print(f\"'{string3}' contains special characters:\", result3)"
   ]
  },
  {
   "cell_type": "code",
   "execution_count": 24,
   "id": "d1fd4a68",
   "metadata": {},
   "outputs": [
    {
     "name": "stdout",
     "output_type": "stream",
     "text": [
      "Enter a string: I love India\n",
      "Enter a value:1\n",
      "Original string: I love India\n",
      "Modified string: love India\n",
      "Removed word: I\n"
     ]
    }
   ],
   "source": [
    "#48. Remove the nth word from a string.\n",
    "def remove_nth_word(strn,n):\n",
    "    word=strn.split()\n",
    "    if n>=1 and n<=len(word):\n",
    "        removed_word=word.pop(n-1)\n",
    "        modified_strn=' '.join(word)\n",
    "        return modified_strn, removed_word\n",
    "    else:\n",
    "        return None,None\n",
    "strn=input('Enter a string: ')\n",
    "n_value=int(input('Enter a value:'))\n",
    "modified_str, removed_word = remove_nth_word(strn, n_value)\n",
    "print(\"Original string:\", strn)\n",
    "if modified_str is not None:\n",
    "    print(\"Modified string:\", modified_str)\n",
    "    print(\"Removed word:\", removed_word)\n",
    "else:\n",
    "    print(\"Invalid n value.\")"
   ]
  },
  {
   "cell_type": "code",
   "execution_count": 25,
   "id": "3e005953",
   "metadata": {},
   "outputs": [
    {
     "name": "stdout",
     "output_type": "stream",
     "text": [
      "Hello,beautiful  world!\n"
     ]
    }
   ],
   "source": [
    "#49. Insert a word at the nth position in a string.\n",
    "s = \"Hello, world!\"\n",
    "n = 6\n",
    "word_to_insert = \"beautiful \"\n",
    "new_s = s[:n] + word_to_insert + s[n:]\n",
    "print(new_s)"
   ]
  },
  {
   "cell_type": "code",
   "execution_count": 26,
   "id": "5f6a7ef7",
   "metadata": {},
   "outputs": [
    {
     "name": "stdout",
     "output_type": "stream",
     "text": [
      "[['1', 'John', 'Doe'], ['2', 'Jane', 'Smith'], ['3', 'Bob', 'Johnson']]\n"
     ]
    }
   ],
   "source": [
    "#50. Convert a CSV string to a list of lists.\n",
    "import csv\n",
    "csv_string = \"1,John,Doe\\n2,Jane,Smith\\n3,Bob,Johnson\"\n",
    "lines = csv_string.strip().split('\\n')\n",
    "csv_reader = csv.reader(lines)\n",
    "list_of_lists = [row for row in csv_reader]\n",
    "print(list_of_lists)"
   ]
  },
  {
   "cell_type": "markdown",
   "id": "fd766a20",
   "metadata": {},
   "source": [
    "# List Based Practice Problem :"
   ]
  },
  {
   "cell_type": "code",
   "execution_count": 27,
   "id": "850a9e5c",
   "metadata": {},
   "outputs": [
    {
     "name": "stdout",
     "output_type": "stream",
     "text": [
      "List= [1, 2, 3, 4, 5, 6, 7, 8, 9, 10]\n"
     ]
    }
   ],
   "source": [
    "#1. Create a list with integers from 1 to 10.\n",
    "list1=[]\n",
    "for i in range(1,11):\n",
    "    list1.append(i)\n",
    "    \n",
    "print('List=',list1)"
   ]
  },
  {
   "cell_type": "code",
   "execution_count": 28,
   "id": "bf5a3d77",
   "metadata": {},
   "outputs": [
    {
     "name": "stdout",
     "output_type": "stream",
     "text": [
      "Length of the list= 5\n"
     ]
    }
   ],
   "source": [
    "#2. Find the length of a list without using the `len()` function.\n",
    "len=0\n",
    "list1=[1,2,3,4,5]\n",
    "for i in list1:\n",
    "    len=len+1\n",
    "print('Length of the list=',len)"
   ]
  },
  {
   "cell_type": "code",
   "execution_count": 29,
   "id": "7ef9f762",
   "metadata": {},
   "outputs": [
    {
     "name": "stdout",
     "output_type": "stream",
     "text": [
      "[1, 2, 3, 4, 5, 6]\n"
     ]
    }
   ],
   "source": [
    "#3. Append an element to the end of a list.\n",
    "list1=[1,2,3,4,5]\n",
    "list1.append(6)\n",
    "print(list1)"
   ]
  },
  {
   "cell_type": "code",
   "execution_count": 30,
   "id": "4d861906",
   "metadata": {},
   "outputs": [
    {
     "name": "stdout",
     "output_type": "stream",
     "text": [
      "[1, 2, 'Manab', 4, 5]\n"
     ]
    }
   ],
   "source": [
    "#4. Insert an element at a specific index in a list.\n",
    "list1=[1,2,4,5]\n",
    "list1.insert(2,'Manab')\n",
    "print(list1)"
   ]
  },
  {
   "cell_type": "code",
   "execution_count": 31,
   "id": "89e5f042",
   "metadata": {},
   "outputs": [
    {
     "name": "stdout",
     "output_type": "stream",
     "text": [
      "[1, 4, 5]\n"
     ]
    }
   ],
   "source": [
    "#5. Remove an element from a list by its value.\n",
    "list1=[1,2,4,5]\n",
    "list1.remove(2)\n",
    "print(list1)\n"
   ]
  },
  {
   "cell_type": "code",
   "execution_count": 32,
   "id": "706aadb8",
   "metadata": {},
   "outputs": [
    {
     "name": "stdout",
     "output_type": "stream",
     "text": [
      "[1, 2, 4, 5]\n"
     ]
    }
   ],
   "source": [
    "#6. Remove an element from a list by its index.\n",
    "list1=[1,2,3,4,5]\n",
    "list1.pop(2)\n",
    "print(list1)"
   ]
  },
  {
   "cell_type": "code",
   "execution_count": 33,
   "id": "66d61d84",
   "metadata": {},
   "outputs": [
    {
     "name": "stdout",
     "output_type": "stream",
     "text": [
      "Exist\n"
     ]
    }
   ],
   "source": [
    "#7. Check if an element exists in a list.\n",
    "list1=[1,2,3,4,5,6]\n",
    "if 3 in list1: \n",
    "    print('Exist')\n",
    "else:\n",
    "    print('Not exist')"
   ]
  },
  {
   "cell_type": "code",
   "execution_count": 34,
   "id": "caa1ef09",
   "metadata": {},
   "outputs": [
    {
     "name": "stdout",
     "output_type": "stream",
     "text": [
      "2\n"
     ]
    }
   ],
   "source": [
    "#8. Find the index of the first occurrence of an element in a list.\n",
    "list1=[1,2,3,4,5,6]\n",
    "ele=3\n",
    "print(list1.index(3))"
   ]
  },
  {
   "cell_type": "code",
   "execution_count": 35,
   "id": "89d396c8",
   "metadata": {},
   "outputs": [
    {
     "name": "stdout",
     "output_type": "stream",
     "text": [
      "2\n"
     ]
    }
   ],
   "source": [
    "#9. Count the occurrences of an element in a list.\n",
    "list1=[1,2,3,4,5,6,4]\n",
    "ele=4\n",
    "count=0\n",
    "for i in list1:\n",
    "    if i==4:\n",
    "        count=count+1\n",
    "print(count)"
   ]
  },
  {
   "cell_type": "code",
   "execution_count": 36,
   "id": "327704de",
   "metadata": {},
   "outputs": [
    {
     "name": "stdout",
     "output_type": "stream",
     "text": [
      "2\n"
     ]
    }
   ],
   "source": [
    "list2=[1,2,3,4,5,2]\n",
    "ele=2\n",
    "print(list2.count(ele))"
   ]
  },
  {
   "cell_type": "code",
   "execution_count": 37,
   "id": "9fb8454e",
   "metadata": {},
   "outputs": [
    {
     "name": "stdout",
     "output_type": "stream",
     "text": [
      "[5, 4, 3, 2, 1]\n"
     ]
    }
   ],
   "source": [
    "#10. Reverse the order of elements in a list\n",
    "list1=[1,2,3,4,5]\n",
    "list1.reverse()\n",
    "print(list1)"
   ]
  },
  {
   "cell_type": "code",
   "execution_count": 38,
   "id": "9e7582ef",
   "metadata": {},
   "outputs": [
    {
     "name": "stdout",
     "output_type": "stream",
     "text": [
      "[1, 2, 3, 4, 5, 9]\n"
     ]
    }
   ],
   "source": [
    "#11. Sort a list in ascending order.\n",
    "list1=[1,2,4,9,5,3]\n",
    "list1.sort()\n",
    "print(list1)"
   ]
  },
  {
   "cell_type": "code",
   "execution_count": 39,
   "id": "230f68d9",
   "metadata": {},
   "outputs": [
    {
     "name": "stdout",
     "output_type": "stream",
     "text": [
      "[45, 34, 23, 19, 13, 11]\n"
     ]
    }
   ],
   "source": [
    "#12. Sort a list in descending order.\n",
    "list1=[23,34,11,45,19,13]\n",
    "list1.sort(reverse=True)\n",
    "print(list1)"
   ]
  },
  {
   "cell_type": "code",
   "execution_count": 40,
   "id": "aabdceb6",
   "metadata": {},
   "outputs": [
    {
     "name": "stdout",
     "output_type": "stream",
     "text": [
      "[2, 4, 6, 8, 10, 12, 14, 16, 18, 20]\n"
     ]
    }
   ],
   "source": [
    "#13. Create a list of even numbers from 1 to 20.\n",
    "even_list=[]\n",
    "for i in range(2,21,2):\n",
    "    even_list.append(i)\n",
    "print(even_list)"
   ]
  },
  {
   "cell_type": "code",
   "execution_count": 41,
   "id": "1b7e0fb2",
   "metadata": {},
   "outputs": [
    {
     "name": "stdout",
     "output_type": "stream",
     "text": [
      "[1, 3, 5, 7, 9, 11, 13, 15, 17, 19]\n"
     ]
    }
   ],
   "source": [
    "#14. Create a list of odd numbers from 1 to 20\n",
    "odd_list=[]\n",
    "for i in range(1,21,2):\n",
    "    odd_list.append(i)\n",
    "print(odd_list)"
   ]
  },
  {
   "cell_type": "code",
   "execution_count": 42,
   "id": "ea8ef0c9",
   "metadata": {},
   "outputs": [
    {
     "name": "stdout",
     "output_type": "stream",
     "text": [
      "Sum of list elements= 626\n"
     ]
    }
   ],
   "source": [
    "#15. Find the sum of all elements in a list.\n",
    "sum=0\n",
    "list1=[13,34,533,12,34]\n",
    "for i in list1:\n",
    "    sum=sum+i\n",
    "print('Sum of list elements=',sum)\n",
    "    "
   ]
  },
  {
   "cell_type": "code",
   "execution_count": 43,
   "id": "1f1df594",
   "metadata": {},
   "outputs": [
    {
     "name": "stdout",
     "output_type": "stream",
     "text": [
      "Maximum value in the list is: 533\n"
     ]
    }
   ],
   "source": [
    "#16. Find the maximum value in a list.\n",
    "print('Maximum value in the list is:',max(list1))"
   ]
  },
  {
   "cell_type": "code",
   "execution_count": 44,
   "id": "44192770",
   "metadata": {},
   "outputs": [
    {
     "name": "stdout",
     "output_type": "stream",
     "text": [
      "Minimum value in list is: 1\n"
     ]
    }
   ],
   "source": [
    "#17. Find the minimum value in a list.\n",
    "list1=[1,5,2,86,23,6]\n",
    "print('Minimum value in list is:',min(list1))"
   ]
  },
  {
   "cell_type": "code",
   "execution_count": 45,
   "id": "048ac4c7",
   "metadata": {},
   "outputs": [
    {
     "name": "stdout",
     "output_type": "stream",
     "text": [
      "list1= [1, 4, 9, 16, 25, 36, 49, 64, 81, 100]\n"
     ]
    }
   ],
   "source": [
    "#18. Create a list of squares of numbers from 1 to 10.\n",
    "list1=[]\n",
    "for i in range(1,11):\n",
    "    list1.append(i*i)\n",
    "print('list1=',list1)"
   ]
  },
  {
   "cell_type": "code",
   "execution_count": 46,
   "id": "7d4d5ba3",
   "metadata": {},
   "outputs": [
    {
     "name": "stdout",
     "output_type": "stream",
     "text": [
      "Random list= [2, 77, 17, 4, 45, 45, 3, 73, 67, 48]\n"
     ]
    }
   ],
   "source": [
    "#19. Create a list of random numbers.\n",
    "import random\n",
    "list1=[]\n",
    "for i in range(10):\n",
    "    list1.append(random.randint(1,100))\n",
    "    \n",
    "print('Random list=',list1)"
   ]
  },
  {
   "cell_type": "code",
   "execution_count": 47,
   "id": "bffcc4e8",
   "metadata": {},
   "outputs": [
    {
     "name": "stdout",
     "output_type": "stream",
     "text": [
      "List1= [1, 2, 3, 4, 5, 7]\n"
     ]
    }
   ],
   "source": [
    "#20. Remove duplicates from a list.\n",
    "list1=[1,2,5,2,4,7,3,4]\n",
    "unique_list=list(set(list1))\n",
    "print('List1=',unique_list)"
   ]
  },
  {
   "cell_type": "code",
   "execution_count": 48,
   "id": "09cca328",
   "metadata": {},
   "outputs": [
    {
     "name": "stdout",
     "output_type": "stream",
     "text": [
      "2\n",
      "3\n"
     ]
    }
   ],
   "source": [
    "#21. Find the common elements between two lists.\n",
    "list1=[1,2,3,4,6,8]\n",
    "list2=[2,5,3,9,11]\n",
    "for i in list1:\n",
    "    for j in list2:\n",
    "        if i==j:\n",
    "            print(i)     "
   ]
  },
  {
   "cell_type": "code",
   "execution_count": 49,
   "id": "a396de21",
   "metadata": {},
   "outputs": [
    {
     "name": "stdout",
     "output_type": "stream",
     "text": [
      "[1, 2, 4]\n"
     ]
    }
   ],
   "source": [
    "#21. Find the common elements between two lists.\n",
    "list1=[1,2,3,4,5]\n",
    "list2=[1,4,2,6,8]\n",
    "common_elements=list(set(list1)&set(list2))\n",
    "print(common_elements)"
   ]
  },
  {
   "cell_type": "code",
   "execution_count": 50,
   "id": "79854ca2",
   "metadata": {},
   "outputs": [
    {
     "name": "stdout",
     "output_type": "stream",
     "text": [
      "[8, 2, 5]\n"
     ]
    }
   ],
   "source": [
    "#22. Find the difference between two lists.\n",
    "list1=[2,5,6,8]\n",
    "list2=[3,6,7,9]\n",
    "difference=list(set(list1)-set(list2))\n",
    "print(difference)"
   ]
  },
  {
   "cell_type": "code",
   "execution_count": 51,
   "id": "b088ec5c",
   "metadata": {},
   "outputs": [
    {
     "name": "stdout",
     "output_type": "stream",
     "text": [
      "marge_list= [1, 2, 3, 4, 2, 3, 4, 5]\n"
     ]
    }
   ],
   "source": [
    "#23. Merge two lists.\n",
    "list1=[1,2,3,4]\n",
    "list2=[2,3,4,5]\n",
    "marge_list=list1+list2\n",
    "print('marge_list=',marge_list)"
   ]
  },
  {
   "cell_type": "code",
   "execution_count": 52,
   "id": "9fce76b7",
   "metadata": {},
   "outputs": [
    {
     "name": "stdout",
     "output_type": "stream",
     "text": [
      "New_list= [2, 4, 6, 8, 10]\n"
     ]
    }
   ],
   "source": [
    "#24. Multiply all elements in a list by 2.\n",
    "list1=[1,2,3,4,5]\n",
    "new_list=[i*2 for i in list1]\n",
    "print('New_list=',new_list)"
   ]
  },
  {
   "cell_type": "code",
   "execution_count": 53,
   "id": "6336c946",
   "metadata": {},
   "outputs": [
    {
     "name": "stdout",
     "output_type": "stream",
     "text": [
      "Even numbers= 2\n",
      "Even numbers= 4\n",
      "Even numbers= 6\n",
      "Even numbers= 8\n"
     ]
    }
   ],
   "source": [
    "#25. Filter out all even numbers from a list.\n",
    "list1=[1,2,3,4,5,6,7,8]\n",
    "for i in list1:\n",
    "    if i%2==0:\n",
    "        print('Even numbers=',i)"
   ]
  },
  {
   "cell_type": "code",
   "execution_count": 54,
   "id": "352fd884",
   "metadata": {},
   "outputs": [
    {
     "name": "stdout",
     "output_type": "stream",
     "text": [
      "Integer_list= [11, 12, 13, 14]\n"
     ]
    }
   ],
   "source": [
    "#26. Convert a list of strings to a list of integers.\n",
    "list1=['11','12','13','14']\n",
    "integer_list=[int(i) for i in list1 ]\n",
    "print('Integer_list=',integer_list)"
   ]
  },
  {
   "cell_type": "code",
   "execution_count": 55,
   "id": "6138c752",
   "metadata": {},
   "outputs": [
    {
     "name": "stdout",
     "output_type": "stream",
     "text": [
      "Converted List= ['1', '2', '3', '4', '5', '6']\n"
     ]
    }
   ],
   "source": [
    "#27. Convert a list of integers to a list of strings.\n",
    "list1=[1,2,3,4,5,6]\n",
    "str_list=[str(i) for i in list1]\n",
    "print('Converted List=',str_list)"
   ]
  },
  {
   "cell_type": "code",
   "execution_count": 56,
   "id": "a0af88c3",
   "metadata": {},
   "outputs": [
    {
     "name": "stdout",
     "output_type": "stream",
     "text": [
      "Flaten_list= [1, 23, 4, 6, 2, 3, 5, 34, 56, 78, 12, 23, 34]\n"
     ]
    }
   ],
   "source": [
    "#28. Flatten a nested list.\n",
    "list1=[[1,23,4,6],[2,3,5], [34,56,78],[12,23,34]]\n",
    "flaten_list=[]\n",
    "for sublist  in list1:\n",
    "    for i in sublist:\n",
    "        flaten_list.append(i)\n",
    "print('Flaten_list=',flaten_list)"
   ]
  },
  {
   "cell_type": "code",
   "execution_count": 57,
   "id": "070590b2",
   "metadata": {},
   "outputs": [
    {
     "name": "stdout",
     "output_type": "stream",
     "text": [
      "[0, 1, 1, 2, 3, 5, 8, 13, 21, 34]\n"
     ]
    }
   ],
   "source": [
    "#29. Create a list of the first 10 Fibonacci numbers.\n",
    "fibonacci = [0, 1]\n",
    "\n",
    "for i in range(2, 10):\n",
    "    next_fibonacci = fibonacci[i-1] + fibonacci[i-2]\n",
    "    fibonacci.append(next_fibonacci)\n",
    "\n",
    "print(fibonacci)"
   ]
  },
  {
   "cell_type": "code",
   "execution_count": 2,
   "id": "938095e8",
   "metadata": {},
   "outputs": [
    {
     "name": "stdout",
     "output_type": "stream",
     "text": [
      "The list is sorted in ascending order.\n"
     ]
    }
   ],
   "source": [
    "#30. Check if a list is sorted.\n",
    "def is_sorted(lst):\n",
    "    for i in range(1, len(lst)):\n",
    "        if lst[i] < lst[i - 1]:\n",
    "            return False\n",
    "    return True\n",
    "ascending_list = [10, 20, 30, 40, 50]\n",
    "if is_sorted(ascending_list):\n",
    "    print(\"The list is sorted in ascending order.\")\n",
    "else:\n",
    "    print(\"The list is not sorted in ascending order.\")"
   ]
  },
  {
   "cell_type": "code",
   "execution_count": 3,
   "id": "2717659f",
   "metadata": {},
   "outputs": [
    {
     "name": "stdout",
     "output_type": "stream",
     "text": [
      "[3, 4, 5, 1, 2]\n"
     ]
    }
   ],
   "source": [
    "#31. Rotate a list to the left by `n` positions.\n",
    "my_list = [1, 2, 3, 4, 5]\n",
    "n = 2\n",
    "\n",
    "rotated_list = my_list[n:] + my_list[:n]\n",
    "\n",
    "print(rotated_list)"
   ]
  },
  {
   "cell_type": "code",
   "execution_count": 4,
   "id": "efb670e8",
   "metadata": {},
   "outputs": [
    {
     "name": "stdout",
     "output_type": "stream",
     "text": [
      "Roted_list= [5, 6, 1, 2, 3, 4]\n"
     ]
    }
   ],
   "source": [
    "#32. Rotate a list to the right by `n` positions.\n",
    "list1=[1,2,3,4,5,6]\n",
    "n=2\n",
    "roted_list=list1[-n:]+list1[:-n]\n",
    "print('Roted_list=',roted_list)"
   ]
  },
  {
   "cell_type": "code",
   "execution_count": 5,
   "id": "c26cb2aa",
   "metadata": {},
   "outputs": [
    {
     "name": "stdout",
     "output_type": "stream",
     "text": [
      "Prime List= [1, 2, 3, 5, 7, 11, 13, 17, 19, 23, 29, 31, 37, 41, 43, 47]\n"
     ]
    }
   ],
   "source": [
    "#33. Create a list of prime numbers up to 50.\n",
    "prime_list=[1]\n",
    "for num in range(2,51):\n",
    "    if all(num%i!=0 for i in range(2, int((num*0.5)+1))):\n",
    "        prime_list.append(num)\n",
    "print('Prime List=',prime_list)"
   ]
  },
  {
   "cell_type": "code",
   "execution_count": 6,
   "id": "b048f938",
   "metadata": {},
   "outputs": [
    {
     "name": "stdout",
     "output_type": "stream",
     "text": [
      "[[1, 2, 3], [4, 5, 6], [7, 8, 9]]\n"
     ]
    }
   ],
   "source": [
    "#34. Split a list into chunks of size `n`.\n",
    "my_list = [1, 2, 3, 4, 5, 6, 7, 8, 9]\n",
    "n = 3\n",
    "chunked_list = [my_list[i:i+n] for i in range(0, len(my_list), n)]\n",
    "\n",
    "print(chunked_list)"
   ]
  },
  {
   "cell_type": "code",
   "execution_count": 7,
   "id": "67515c09",
   "metadata": {},
   "outputs": [
    {
     "name": "stdout",
     "output_type": "stream",
     "text": [
      "2nd Largest= 34\n"
     ]
    }
   ],
   "source": [
    "#35. Find the second largest number in a list.\n",
    "list1=[1,34,21,39,13,29]\n",
    "largest=max(list1)\n",
    "list1.remove(largest)\n",
    "second_largest=max(list1)\n",
    "print('2nd Largest=', second_largest)"
   ]
  },
  {
   "cell_type": "code",
   "execution_count": 8,
   "id": "0c073972",
   "metadata": {},
   "outputs": [
    {
     "name": "stdout",
     "output_type": "stream",
     "text": [
      "[4, 16, 36, 64, 100]\n"
     ]
    }
   ],
   "source": [
    "#36. Replace every element in a list with its square.\n",
    "list1=[2,4,6,8,10]\n",
    "new_list=[]\n",
    "for i in list1:\n",
    "    new_list.append(i*i)\n",
    "print(new_list)"
   ]
  },
  {
   "cell_type": "code",
   "execution_count": 9,
   "id": "05014632",
   "metadata": {},
   "outputs": [
    {
     "name": "stdout",
     "output_type": "stream",
     "text": [
      "{'Apple': 0, 'Orange': 1, 'Coconut': 2, 'Mango': 3}\n"
     ]
    }
   ],
   "source": [
    "#37. Convert a list to a dictionary where list elements become keys and their indices become values.\n",
    "list1=['Apple','Orange','Coconut','Mango']\n",
    "my_dict={list1[i]:i for i in range(len(list1))}\n",
    "print(my_dict)  "
   ]
  },
  {
   "cell_type": "code",
   "execution_count": 10,
   "id": "78eecb6b",
   "metadata": {},
   "outputs": [
    {
     "name": "stdout",
     "output_type": "stream",
     "text": [
      "[7, 1, 4, 2, 5]\n"
     ]
    }
   ],
   "source": [
    "#38. Shuffle the elements of a list randomly.\n",
    "import random\n",
    "list1=[1,4,2,5,7]\n",
    "random.shuffle(list1)\n",
    "print(list1)"
   ]
  },
  {
   "cell_type": "code",
   "execution_count": 11,
   "id": "e8cb720e",
   "metadata": {},
   "outputs": [
    {
     "name": "stdout",
     "output_type": "stream",
     "text": [
      "[1, 2, 6, 24, 120, 720, 5040, 40320, 362880, 3628800]\n"
     ]
    }
   ],
   "source": [
    "#39. Create a list of the first 10 factorial numbers.\n",
    "factorials=[]\n",
    "for i in range(1,11):\n",
    "    fact=1\n",
    "    j=1\n",
    "    while j<=i:\n",
    "        fact=fact*j\n",
    "        j=j+1\n",
    "    factorials.append(fact)\n",
    "print(factorials)"
   ]
  },
  {
   "cell_type": "code",
   "execution_count": 12,
   "id": "c43a0ee1",
   "metadata": {},
   "outputs": [
    {
     "name": "stdout",
     "output_type": "stream",
     "text": [
      "The lists have at least one common element.\n"
     ]
    }
   ],
   "source": [
    "#40. Check if two lists have at least one element in common.\n",
    "def common_elements(list1,list2):\n",
    "    for i in list1:\n",
    "        if i in list2:\n",
    "            return True\n",
    "    return False\n",
    "list1=[1,3,6,9]\n",
    "list2=[2,5,7,9] \n",
    "if common_elements(list1, list2):\n",
    "    print(\"The lists have at least one common element.\")\n",
    "else:\n",
    "    print(\"The lists do not have any common elements.\")"
   ]
  },
  {
   "cell_type": "code",
   "execution_count": 13,
   "id": "24d15d36",
   "metadata": {},
   "outputs": [
    {
     "name": "stdout",
     "output_type": "stream",
     "text": [
      "Removed list= []\n"
     ]
    }
   ],
   "source": [
    "#41. Remove all elements from a list.\n",
    "list1=[1,2,3,4,5]\n",
    "list1.clear()\n",
    "print('Removed list=',list1)"
   ]
  },
  {
   "cell_type": "code",
   "execution_count": 14,
   "id": "fc7b9727",
   "metadata": {},
   "outputs": [
    {
     "name": "stdout",
     "output_type": "stream",
     "text": [
      "Replaced list= [12, 0, 11, 0, 0]\n"
     ]
    }
   ],
   "source": [
    "#42. Replace negative numbers in a list with 0.\n",
    "list1=[12,-23,11,-22,-14]\n",
    "for i in range(len(list1)):\n",
    "    if list1[i]<0:\n",
    "        list1[i]=0\n",
    "print('Replaced list=',list1) "
   ]
  },
  {
   "cell_type": "code",
   "execution_count": 15,
   "id": "9727c958",
   "metadata": {},
   "outputs": [
    {
     "name": "stdout",
     "output_type": "stream",
     "text": [
      "List of words= ['I', 'love', 'India']\n"
     ]
    }
   ],
   "source": [
    "#43. Convert a string into a list of words.\n",
    "my_str='I love India'\n",
    "list1=my_str.split()\n",
    "print('List of words=',list1)"
   ]
  },
  {
   "cell_type": "code",
   "execution_count": 16,
   "id": "e0a24840",
   "metadata": {},
   "outputs": [
    {
     "name": "stdout",
     "output_type": "stream",
     "text": [
      "String= I love India\n"
     ]
    }
   ],
   "source": [
    "#44. Convert a list of words into a string.\n",
    "list1=['I', 'love', 'India']\n",
    "my_str=' '.join(list1)\n",
    "print('String=',my_str)"
   ]
  },
  {
   "cell_type": "code",
   "execution_count": 17,
   "id": "fe8a3c3c",
   "metadata": {},
   "outputs": [
    {
     "name": "stdout",
     "output_type": "stream",
     "text": [
      "Enter the value of n=6\n",
      "List= [1, 4, 9, 16, 25, 36]\n"
     ]
    }
   ],
   "source": [
    "#45. Create a list of the first `n` powers of 2.\n",
    "n=int(input('Enter the value of n='))\n",
    "list1=[]\n",
    "for i in range(1,n+1):\n",
    "    list1.append(i*i)\n",
    "print('List=',list1)"
   ]
  },
  {
   "cell_type": "code",
   "execution_count": 18,
   "id": "f6f9e251",
   "metadata": {},
   "outputs": [
    {
     "name": "stdout",
     "output_type": "stream",
     "text": [
      "Longest string= India\n"
     ]
    }
   ],
   "source": [
    "#46. Find the longest string in a list of strings.\n",
    "list1=['I', 'love', 'India']\n",
    "long_str=max(list1,key=len)\n",
    "print('Longest string=',long_str)"
   ]
  },
  {
   "cell_type": "code",
   "execution_count": 19,
   "id": "c94eda5e",
   "metadata": {},
   "outputs": [
    {
     "name": "stdout",
     "output_type": "stream",
     "text": [
      "Shortest string= I\n"
     ]
    }
   ],
   "source": [
    "#47. Find the shortest string in a list of strings.\n",
    "list1=['I', 'love', 'India']\n",
    "short_str=min(list1,key=len)\n",
    "print('Shortest string=',short_str)"
   ]
  },
  {
   "cell_type": "code",
   "execution_count": 20,
   "id": "81c852b8",
   "metadata": {},
   "outputs": [
    {
     "name": "stdout",
     "output_type": "stream",
     "text": [
      "Enter the value of n=6\n",
      "Triangular numbers list= [1, 3, 6, 10, 15, 21]\n"
     ]
    }
   ],
   "source": [
    "#48. Create a list of the first `n` triangular numbers.\n",
    "n=int(input('Enter the value of n='))\n",
    "tringular_numbers=[]\n",
    "for i in range(1,n+1):\n",
    "    numbers=i*(i+1)//2\n",
    "    tringular_numbers.append(numbers)\n",
    "print('Triangular numbers list=',tringular_numbers)"
   ]
  },
  {
   "cell_type": "code",
   "execution_count": 21,
   "id": "99cde63a",
   "metadata": {},
   "outputs": [
    {
     "name": "stdout",
     "output_type": "stream",
     "text": [
      "The sub-list is a subsequence of the list.\n"
     ]
    }
   ],
   "source": [
    "#49. Check if a list contains another list as a subsequence.\n",
    "def is_subsequence(sub, lst):\n",
    "    i = 0\n",
    "    for x in lst:\n",
    "        if x == sub[i]:\n",
    "            i += 1\n",
    "            if i == len(sub):\n",
    "                return True\n",
    "    return False\n",
    "\n",
    "my_list = [1, 2, 3, 4, 5, 6, 7, 8, 9]\n",
    "sub_list = [2, 3, 4]\n",
    "\n",
    "if is_subsequence(sub_list, my_list):\n",
    "    print(\"The sub-list is a subsequence of the list.\")\n",
    "else:\n",
    "    print(\"The sub-list is not a subsequence of the list.\")"
   ]
  },
  {
   "cell_type": "code",
   "execution_count": 22,
   "id": "08b03965",
   "metadata": {},
   "outputs": [
    {
     "name": "stdout",
     "output_type": "stream",
     "text": [
      "List= [1, 2, 3, 4, 5]\n",
      "Swap list= [1, 4, 3, 2, 5]\n"
     ]
    }
   ],
   "source": [
    "#50. Swap two elements in a list by their indices.\n",
    "list1 = [1, 2, 3, 4, 5]\n",
    "\n",
    "index1 = 1\n",
    "index2 = 3\n",
    "print('List=',list1)\n",
    "list1[index1], list1[index2] = list1[index2], list1[index1]\n",
    "print('Swap list=',list1)"
   ]
  },
  {
   "cell_type": "markdown",
   "id": "4ca18359",
   "metadata": {},
   "source": [
    "# Tuple Based Practice Problem :"
   ]
  },
  {
   "cell_type": "code",
   "execution_count": 147,
   "id": "f28ef07a",
   "metadata": {},
   "outputs": [
    {
     "name": "stdout",
     "output_type": "stream",
     "text": [
      "(1, 2, 3, 4, 5)\n"
     ]
    }
   ],
   "source": [
    "#1. Create a tuple with integers from 1 to 5.\n",
    "tpl=()\n",
    "for i in range(1,6):\n",
    "    tpl=tpl+(i,)\n",
    "print(tpl)"
   ]
  },
  {
   "cell_type": "code",
   "execution_count": 148,
   "id": "15df22a1",
   "metadata": {},
   "outputs": [
    {
     "name": "stdout",
     "output_type": "stream",
     "text": [
      "3\n"
     ]
    }
   ],
   "source": [
    "#2. Access the third element of a tuple.\n",
    "tpl=(1, 2, 3, 4, 5)\n",
    "print(tpl[2])"
   ]
  },
  {
   "cell_type": "code",
   "execution_count": 149,
   "id": "ac99a7a8",
   "metadata": {},
   "outputs": [
    {
     "name": "stdout",
     "output_type": "stream",
     "text": [
      "Length of the tuple= 5\n"
     ]
    }
   ],
   "source": [
    "#3. Find the length of a tuple without using the `len()` function.\n",
    "tpl=(1, 2, 3, 4, 5)\n",
    "count=0\n",
    "for i in tpl:\n",
    "    count=count+1\n",
    "print('Length of the tuple=',count)"
   ]
  },
  {
   "cell_type": "code",
   "execution_count": 150,
   "id": "5ff350ff",
   "metadata": {},
   "outputs": [
    {
     "name": "stdout",
     "output_type": "stream",
     "text": [
      "Count of occurrences= 2\n"
     ]
    }
   ],
   "source": [
    "#4. Count the occurrences of an element in a tuple.\n",
    "tpl=(1, 2, 3, 4, 5,3)\n",
    "ele=3\n",
    "count=0\n",
    "for i in tpl:\n",
    "    if i==3:\n",
    "        count=count+1\n",
    "print('Count of occurrences=',count)"
   ]
  },
  {
   "cell_type": "code",
   "execution_count": 151,
   "id": "95c2c8b2",
   "metadata": {},
   "outputs": [
    {
     "name": "stdout",
     "output_type": "stream",
     "text": [
      "Index of the first occurence= 2\n"
     ]
    }
   ],
   "source": [
    "#5. Find the index of the first occurrence of an element in a tuple.\n",
    "tpl=(1, 2, 3, 4, 5,3)\n",
    "ele=3\n",
    "index=tpl.index(ele)\n",
    "print('Index of the first occurence=',index)"
   ]
  },
  {
   "cell_type": "code",
   "execution_count": 152,
   "id": "9ecb6212",
   "metadata": {},
   "outputs": [
    {
     "name": "stdout",
     "output_type": "stream",
     "text": [
      "Elemen exists in the tuple\n"
     ]
    }
   ],
   "source": [
    "#6. Check if an element exists in a tuple.\n",
    "tpl=(1, 2, 3, 4, 5,3)\n",
    "if 2 in tpl:\n",
    "    print('Elemen exists in the tuple')\n",
    "else:\n",
    "    print('Element not exists in tuple')"
   ]
  },
  {
   "cell_type": "code",
   "execution_count": 153,
   "id": "e27079d8",
   "metadata": {},
   "outputs": [
    {
     "name": "stdout",
     "output_type": "stream",
     "text": [
      "List= [1, 2, 3, 4, 5, 3]\n"
     ]
    }
   ],
   "source": [
    "#7. Convert a tuple to a list.\n",
    "tpl=(1, 2, 3, 4, 5,3)\n",
    "list1=list(tpl)\n",
    "print('List=',list1)"
   ]
  },
  {
   "cell_type": "code",
   "execution_count": 154,
   "id": "955a528b",
   "metadata": {},
   "outputs": [
    {
     "name": "stdout",
     "output_type": "stream",
     "text": [
      "Tuple= (1, 2, 3, 4, 5, 3)\n"
     ]
    }
   ],
   "source": [
    "#. Convert a list to a tuple.\n",
    "list1= [1, 2, 3, 4, 5, 3]\n",
    "tpl=tuple(list1)\n",
    "print('Tuple=',tpl)"
   ]
  },
  {
   "cell_type": "code",
   "execution_count": 155,
   "id": "18c601b5",
   "metadata": {},
   "outputs": [
    {
     "name": "stdout",
     "output_type": "stream",
     "text": [
      "1,2,3\n"
     ]
    }
   ],
   "source": [
    "#9. Unpack the elements of a tuple into variables.\n",
    "my_tuple = (1, 2, 3)\n",
    "a, b, c = my_tuple\n",
    "print(a,b,c, sep=',')"
   ]
  },
  {
   "cell_type": "code",
   "execution_count": 156,
   "id": "885aa305",
   "metadata": {},
   "outputs": [
    {
     "name": "stdout",
     "output_type": "stream",
     "text": [
      "Tuple of even numbers= (2, 4, 6, 8, 10)\n"
     ]
    }
   ],
   "source": [
    "#10. Create a tuple of even numbers from 1 to 10.\n",
    "tpl=()\n",
    "for i in range(1,11):\n",
    "    if i%2==0:\n",
    "        tpl=tpl+(i,)\n",
    "print('Tuple of even numbers=',tpl)"
   ]
  },
  {
   "cell_type": "code",
   "execution_count": 157,
   "id": "6299d287",
   "metadata": {},
   "outputs": [
    {
     "name": "stdout",
     "output_type": "stream",
     "text": [
      "Tuple of odd numbers= (1, 3, 5, 7, 9)\n"
     ]
    }
   ],
   "source": [
    "#11. Create a tuple of odd numbers from 1 to 10.\n",
    "tpl=()\n",
    "for i in range(1,11):\n",
    "    if i%2!=0:\n",
    "        tpl=tpl+(i,)\n",
    "print('Tuple of odd numbers=',tpl)"
   ]
  },
  {
   "cell_type": "code",
   "execution_count": 158,
   "id": "ff3aad8f",
   "metadata": {},
   "outputs": [
    {
     "name": "stdout",
     "output_type": "stream",
     "text": [
      "(1, 2, 3, 4, 5, 3, 1, 5, 9)\n"
     ]
    }
   ],
   "source": [
    "#12. Concatenate two tuples.\n",
    "tpl1=(1, 2, 3, 4, 5,3)\n",
    "tpl2=(1,5,9)\n",
    "print(tpl1+tpl2)"
   ]
  },
  {
   "cell_type": "code",
   "execution_count": 159,
   "id": "cb2daf69",
   "metadata": {},
   "outputs": [
    {
     "name": "stdout",
     "output_type": "stream",
     "text": [
      "(1, 2, 3, 4, 5, 3, 1, 2, 3, 4, 5, 3, 1, 2, 3, 4, 5, 3)\n"
     ]
    }
   ],
   "source": [
    "#13. Repeat a tuple three times.\n",
    "tpl=(1, 2, 3, 4, 5,3)\n",
    "print(tpl*3)"
   ]
  },
  {
   "cell_type": "code",
   "execution_count": 160,
   "id": "e0d5692e",
   "metadata": {},
   "outputs": [
    {
     "name": "stdout",
     "output_type": "stream",
     "text": [
      "The tuple is a empty tuple\n"
     ]
    }
   ],
   "source": [
    "#14. Check if a tuple is empty.\n",
    "tpl=()\n",
    "if len(tpl)==0:\n",
    "    print('The tuple is a empty tuple')\n",
    "else:\n",
    "    print('The tuple is not a empty tuple')"
   ]
  },
  {
   "cell_type": "code",
   "execution_count": 161,
   "id": "dfeee03a",
   "metadata": {},
   "outputs": [
    {
     "name": "stdout",
     "output_type": "stream",
     "text": [
      "Nested tuple= ((1, 2, 3), (2, 3, 4), (3, 4, 5))\n"
     ]
    }
   ],
   "source": [
    "#15. Create a nested tuple.\n",
    "tpl=((1,2,3),(2,3,4),(3,4,5))\n",
    "print('Nested tuple=',tpl)"
   ]
  },
  {
   "cell_type": "code",
   "execution_count": 162,
   "id": "5a7b7a2e",
   "metadata": {},
   "outputs": [
    {
     "name": "stdout",
     "output_type": "stream",
     "text": [
      "First element= (1, 2, 3)\n"
     ]
    }
   ],
   "source": [
    "#16. Access the first element of a nested tuple.\n",
    "tpl=((1,2,3),(2,3,4),(3,4,5))\n",
    "print('First element=',tpl[0])"
   ]
  },
  {
   "cell_type": "code",
   "execution_count": 163,
   "id": "8037aa92",
   "metadata": {},
   "outputs": [
    {
     "name": "stdout",
     "output_type": "stream",
     "text": [
      "Single element tuple= (23,)\n"
     ]
    }
   ],
   "source": [
    "#17. Create a tuple with a single element.\n",
    "tpl=(23,)\n",
    "print('Single element tuple=',tpl)"
   ]
  },
  {
   "cell_type": "code",
   "execution_count": 164,
   "id": "97856c0e",
   "metadata": {},
   "outputs": [
    {
     "name": "stdout",
     "output_type": "stream",
     "text": [
      "tuple1 == tuple2: False\n",
      "tuple1 != tuple2: True\n",
      "tuple1 < tuple2: True\n",
      "tuple1 <= tuple2: True\n",
      "tuple1 > tuple2: False\n",
      "tuple1 >= tuple2: False\n"
     ]
    }
   ],
   "source": [
    "#18. Compare two tuples.\n",
    "tuple1 = (1, 2, 3)\n",
    "tuple2 = (1, 2, 4)\n",
    "print(\"tuple1 == tuple2:\", tuple1 == tuple2)  \n",
    "print(\"tuple1 != tuple2:\", tuple1 != tuple2) \n",
    "print(\"tuple1 < tuple2:\", tuple1 < tuple2)   \n",
    "print(\"tuple1 <= tuple2:\", tuple1 <= tuple2)  \n",
    "print(\"tuple1 > tuple2:\", tuple1 > tuple2)    \n",
    "print(\"tuple1 >= tuple2:\", tuple1 >= tuple2) "
   ]
  },
  {
   "cell_type": "code",
   "execution_count": 165,
   "id": "1abe9c63",
   "metadata": {},
   "outputs": [
    {
     "ename": "NameError",
     "evalue": "name 'tpl' is not defined",
     "output_type": "error",
     "traceback": [
      "\u001b[1;31m---------------------------------------------------------------------------\u001b[0m",
      "\u001b[1;31mNameError\u001b[0m                                 Traceback (most recent call last)",
      "Cell \u001b[1;32mIn[165], line 4\u001b[0m\n\u001b[0;32m      2\u001b[0m tpl\u001b[38;5;241m=\u001b[39m(\u001b[38;5;241m1\u001b[39m, \u001b[38;5;241m2\u001b[39m, \u001b[38;5;241m3\u001b[39m, \u001b[38;5;241m4\u001b[39m, \u001b[38;5;241m5\u001b[39m,\u001b[38;5;241m3\u001b[39m)\n\u001b[0;32m      3\u001b[0m \u001b[38;5;28;01mdel\u001b[39;00m tpl\n\u001b[1;32m----> 4\u001b[0m \u001b[38;5;28mprint\u001b[39m(\u001b[43mtpl\u001b[49m)\n",
      "\u001b[1;31mNameError\u001b[0m: name 'tpl' is not defined"
     ]
    }
   ],
   "source": [
    "#19. Delete a tuple.\n",
    "tpl=(1, 2, 3, 4, 5,3)\n",
    "del tpl\n",
    "print(tpl)"
   ]
  },
  {
   "cell_type": "code",
   "execution_count": 166,
   "id": "8e674d83",
   "metadata": {},
   "outputs": [
    {
     "name": "stdout",
     "output_type": "stream",
     "text": [
      "(1, 2)\n"
     ]
    }
   ],
   "source": [
    "#20. Slice a tuple.\n",
    "tpl=(1, 2, 3, 4, 5,3)\n",
    "print(tpl[0:2])"
   ]
  },
  {
   "cell_type": "code",
   "execution_count": 167,
   "id": "134a326a",
   "metadata": {},
   "outputs": [
    {
     "name": "stdout",
     "output_type": "stream",
     "text": [
      "Maximum value= 5\n"
     ]
    }
   ],
   "source": [
    "#21. Find the maximum value in a tuple.\n",
    "tpl=(1, 2, 3, 4, 5,3)\n",
    "print('Maximum value=',max(tpl))"
   ]
  },
  {
   "cell_type": "code",
   "execution_count": 168,
   "id": "5e2695f4",
   "metadata": {},
   "outputs": [
    {
     "name": "stdout",
     "output_type": "stream",
     "text": [
      "Minimum value= 1\n"
     ]
    }
   ],
   "source": [
    "#22. Find the minimum value in a tuple.\n",
    "tpl=(1, 2, 3, 4, 5,3)\n",
    "print('Minimum value=',min(tpl))"
   ]
  },
  {
   "cell_type": "code",
   "execution_count": 169,
   "id": "b08cb31e",
   "metadata": {},
   "outputs": [
    {
     "name": "stdout",
     "output_type": "stream",
     "text": [
      "Converted touple= ('I', ' ', 'l', 'o', 'v', 'e', ' ', 'I', 'n', 'd', 'i', 'a')\n"
     ]
    }
   ],
   "source": [
    "#23. Convert a string to a tuple of characters.\n",
    "st='I love India'\n",
    "tpl=tuple(st)\n",
    "print('Converted touple=',tpl)"
   ]
  },
  {
   "cell_type": "code",
   "execution_count": 170,
   "id": "3595cbef",
   "metadata": {},
   "outputs": [
    {
     "name": "stdout",
     "output_type": "stream",
     "text": [
      "Converted string= I love India\n"
     ]
    }
   ],
   "source": [
    "#24. Convert a tuple of characters to a string.\n",
    "tpl= ('I', ' ', 'l', 'o', 'v', 'e', ' ', 'I', 'n', 'd', 'i', 'a')\n",
    "st=''.join(tpl)\n",
    "print('Converted string=',st)"
   ]
  },
  {
   "cell_type": "code",
   "execution_count": 171,
   "id": "ca85e30d",
   "metadata": {},
   "outputs": [
    {
     "name": "stdout",
     "output_type": "stream",
     "text": [
      "(1, 2, 3, 'asd', True, 3.23)\n"
     ]
    }
   ],
   "source": [
    "#25. Create a tuple from multiple data types.\n",
    "tpl=(1,2,3,'asd', True, 3.23)\n",
    "print(tpl)"
   ]
  },
  {
   "cell_type": "code",
   "execution_count": 172,
   "id": "a6b5e8e3",
   "metadata": {},
   "outputs": [
    {
     "name": "stdout",
     "output_type": "stream",
     "text": [
      "tpl1 and tpl2 are identical\n"
     ]
    }
   ],
   "source": [
    "#26. Check if two tuples are identical.\n",
    "tpl1 = (1, 2, 3)\n",
    "tpl2 = (1, 2, 3)\n",
    "if tpl1==tpl2:\n",
    "    print('tpl1 and tpl2 are identical')\n",
    "else:\n",
    "    print('tpl1 and tpl2 are not identical')"
   ]
  },
  {
   "cell_type": "code",
   "execution_count": 173,
   "id": "f872c5c9",
   "metadata": {},
   "outputs": [
    {
     "name": "stdout",
     "output_type": "stream",
     "text": [
      "Shoretd touple= (1, 2, 3, 5, 8)\n"
     ]
    }
   ],
   "source": [
    "#27. Sort the elements of a tuple.\n",
    "tpl = (5, 2, 8, 1, 3)\n",
    "sorted_tpl=tuple(sorted(tpl))\n",
    "print('Shoretd touple=',sorted_tpl)"
   ]
  },
  {
   "cell_type": "code",
   "execution_count": 174,
   "id": "82f62127",
   "metadata": {},
   "outputs": [
    {
     "name": "stdout",
     "output_type": "stream",
     "text": [
      "('1', '2', '3', '4', '5')\n"
     ]
    }
   ],
   "source": [
    "#28. Convert a tuple of integers to a tuple of strings.\n",
    "tpl=(1,2,3,4,5)\n",
    "str_tpl=tuple(str(i) for i in tpl)\n",
    "print(str_tpl)"
   ]
  },
  {
   "cell_type": "code",
   "execution_count": 175,
   "id": "5d2ee67c",
   "metadata": {},
   "outputs": [
    {
     "name": "stdout",
     "output_type": "stream",
     "text": [
      "('1', '2', '3', '4', '5')\n"
     ]
    }
   ],
   "source": [
    "#28. Convert a tuple of integers to a tuple of strings.\n",
    "tpl=(1,2,3,4,5)\n",
    "str_tpl=()\n",
    "for i in tpl:\n",
    "    a=str(i)\n",
    "    str_tpl=str_tpl+(a,)\n",
    "print(str_tpl)"
   ]
  },
  {
   "cell_type": "code",
   "execution_count": 176,
   "id": "2819ab33",
   "metadata": {},
   "outputs": [
    {
     "name": "stdout",
     "output_type": "stream",
     "text": [
      "(1, 2, 3, 4, 5)\n"
     ]
    }
   ],
   "source": [
    "#29. Convert a tuple of strings to a tuple of integers.\n",
    "tpl_str=('1', '2', '3', '4', '5')\n",
    "tpl_int=()\n",
    "for i in tpl_str:\n",
    "    a=int(i)\n",
    "    tpl_int=tpl_int+(a,)\n",
    "print(tpl_int)"
   ]
  },
  {
   "cell_type": "code",
   "execution_count": 177,
   "id": "6983a622",
   "metadata": {},
   "outputs": [
    {
     "name": "stdout",
     "output_type": "stream",
     "text": [
      "(1, 2, 3, 4, 5)\n"
     ]
    }
   ],
   "source": [
    "tpl_str=('1', '2', '3', '4', '5')\n",
    "tpl_int=tuple(int(i) for i in tpl_str)\n",
    "print(tpl_int)"
   ]
  },
  {
   "cell_type": "code",
   "execution_count": 178,
   "id": "91c81f63",
   "metadata": {},
   "outputs": [
    {
     "name": "stdout",
     "output_type": "stream",
     "text": [
      "(1, 2, 3, 2, 3, 4)\n"
     ]
    }
   ],
   "source": [
    "#30. Merge two tuples.\n",
    "tpl1=(1,2,3)\n",
    "tpl2=(2,3,4)\n",
    "print(tpl1+tpl2)"
   ]
  },
  {
   "cell_type": "code",
   "execution_count": 179,
   "id": "09b61c2b",
   "metadata": {},
   "outputs": [
    {
     "name": "stdout",
     "output_type": "stream",
     "text": [
      "Flattened tuple: (1, 2, 3, 3, 4, 5, 4, 5, 6)\n"
     ]
    }
   ],
   "source": [
    "#31. Flatten a nested tuple.\n",
    "def flatten_tuple(nested_tuple):\n",
    "    flat_list = []\n",
    "    for item in nested_tuple:\n",
    "        if isinstance(item, tuple):\n",
    "            flat_list.extend(flatten_tuple(item))\n",
    "        else:\n",
    "            flat_list.append(item)\n",
    "    return tuple(flat_list)\n",
    "nested_tuple=((1,2,3),(3,4,5),(4,5,6))\n",
    "flattened_tuple = tuple(flatten_tuple(nested_tuple))\n",
    "print(\"Flattened tuple:\", flattened_tuple)"
   ]
  },
  {
   "cell_type": "code",
   "execution_count": 180,
   "id": "c9009c4b",
   "metadata": {},
   "outputs": [
    {
     "name": "stdout",
     "output_type": "stream",
     "text": [
      "Prime_tuple= (2, 3, 5, 7, 11)\n"
     ]
    }
   ],
   "source": [
    "#32. Create a tuple of the first 5 prime numbers.\n",
    "def is_prime(n):\n",
    "    if n<=1:\n",
    "        return False\n",
    "    for i in range(2,int(0.5*n+1)):\n",
    "        if n%i==0:\n",
    "            return False\n",
    "    return True\n",
    "prime_number_list=[n for n in range(2,100) if is_prime(n)][0:5]\n",
    "prime_tuple=tuple(prime_number_list)\n",
    "print('Prime_tuple=',prime_tuple)"
   ]
  },
  {
   "cell_type": "code",
   "execution_count": 181,
   "id": "db93d130",
   "metadata": {},
   "outputs": [
    {
     "name": "stdout",
     "output_type": "stream",
     "text": [
      "palindrome_tuple is a palindrome: True\n",
      "non_palindrome_tuple is a palindrome: False\n"
     ]
    }
   ],
   "source": [
    "#33. Check if a tuple is a palindrome.\n",
    "def is_palindrom(tpl):\n",
    "    return tpl==tpl[::-1]\n",
    "\n",
    "palindrome_tuple = (1, 2, 3, 2, 1)\n",
    "non_palindrome_tuple = (1, 2, 3, 4, 5)\n",
    "is_palindrome1 = is_palindrom(palindrome_tuple)\n",
    "is_palindrome2 = is_palindrom(non_palindrome_tuple)\n",
    "print(\"palindrome_tuple is a palindrome:\", is_palindrome1)\n",
    "print(\"non_palindrome_tuple is a palindrome:\", is_palindrome2)"
   ]
  },
  {
   "cell_type": "code",
   "execution_count": 182,
   "id": "56aed9d1",
   "metadata": {},
   "outputs": [
    {
     "name": "stdout",
     "output_type": "stream",
     "text": [
      "(1, 4, 9, 16, 25)\n"
     ]
    }
   ],
   "source": [
    "#34. Create a tuple of squares of numbers from 1 to 5.\n",
    "tpl=()\n",
    "for i in range(1,6):\n",
    "    tpl=tpl+(i*i,)\n",
    "print(tpl)"
   ]
  },
  {
   "cell_type": "code",
   "execution_count": 183,
   "id": "8dc756e1",
   "metadata": {},
   "outputs": [
    {
     "name": "stdout",
     "output_type": "stream",
     "text": [
      "(1, 3, 5, 7, 9)\n"
     ]
    }
   ],
   "source": [
    "#35. Filter out all even numbers from a tuple.\n",
    "tpl=(1,2,3,4,5,6,7,8,9,10)\n",
    "fil_tpl=()\n",
    "for i in tpl:\n",
    "    if i%2!=0:\n",
    "        a=i\n",
    "        fil_tpl=fil_tpl+(a,)\n",
    "print(fil_tpl)"
   ]
  },
  {
   "cell_type": "code",
   "execution_count": 184,
   "id": "0fcb56b4",
   "metadata": {},
   "outputs": [
    {
     "name": "stdout",
     "output_type": "stream",
     "text": [
      "(2, 4, 6, 8, 10, 12, 14, 16, 18, 20)\n"
     ]
    }
   ],
   "source": [
    "#36. Multiply all elements in a tuple by 2.\n",
    "tpl=(1,2,3,4,5,6,7,8,9,10)\n",
    "new_tpl=tuple(i*2 for i in tpl)\n",
    "print(new_tpl)    "
   ]
  },
  {
   "cell_type": "code",
   "execution_count": 185,
   "id": "46182c79",
   "metadata": {},
   "outputs": [
    {
     "name": "stdout",
     "output_type": "stream",
     "text": [
      "(35, 2, 67, 6, 75, 38, 50, 43, 27, 45)\n"
     ]
    }
   ],
   "source": [
    "#37. Create a tuple of random numbers.\n",
    "import random\n",
    "random_tuple=tuple(random.randint(1,100) for _ in range(10))\n",
    "print(random_tuple)"
   ]
  },
  {
   "cell_type": "code",
   "execution_count": 186,
   "id": "39814524",
   "metadata": {},
   "outputs": [
    {
     "name": "stdout",
     "output_type": "stream",
     "text": [
      "True\n"
     ]
    }
   ],
   "source": [
    "#38. Check if a tuple is sorted.\n",
    "def is_tuple_sorted(tup):\n",
    "    return sorted(tup) == list(tup)\n",
    "tup=(1,3,5,6,9)\n",
    "is_sorted=is_tuple_sorted(tup)\n",
    "print(is_sorted)"
   ]
  },
  {
   "cell_type": "code",
   "execution_count": 187,
   "id": "c799c2de",
   "metadata": {},
   "outputs": [
    {
     "data": {
      "text/plain": [
       "(3, 4, 5, 1, 2)"
      ]
     },
     "execution_count": 187,
     "metadata": {},
     "output_type": "execute_result"
    }
   ],
   "source": [
    "#39. Rotate a tuple to the left by `n` positions.\n",
    "def rotate_tuple_left(tup, n):\n",
    "    return tup[n:] + tup[:n]\n",
    "tup = (1, 2, 3, 4, 5)\n",
    "rotate_tuple_left(tup, 2)"
   ]
  },
  {
   "cell_type": "code",
   "execution_count": 188,
   "id": "337fed65",
   "metadata": {},
   "outputs": [
    {
     "data": {
      "text/plain": [
       "(4, 5, 1, 2, 3)"
      ]
     },
     "execution_count": 188,
     "metadata": {},
     "output_type": "execute_result"
    }
   ],
   "source": [
    "#40. Rotate a tuple to the right by `n` positions.\n",
    "def rotet_tuple_right(tup,n):\n",
    "    return tup[-n:]+tup[:-n]\n",
    "tup = (1, 2, 3, 4, 5)\n",
    "rotet_tuple_right(tup, 2)"
   ]
  },
  {
   "cell_type": "code",
   "execution_count": 189,
   "id": "943819ff",
   "metadata": {},
   "outputs": [
    {
     "name": "stdout",
     "output_type": "stream",
     "text": [
      "(0, 1, 1, 2, 3)\n"
     ]
    }
   ],
   "source": [
    "#41. Create a tuple of the first 5 Fibonacci numbers.\n",
    "def fibonacci_tuple(n):\n",
    "    fib = (0, 1)\n",
    "    for i in range(2, n):\n",
    "        fib += (fib[i-1] + fib[i-2],)\n",
    "    return fib[:n]\n",
    "\n",
    "fibonacci_5 = fibonacci_tuple(5)\n",
    "print(fibonacci_5)"
   ]
  },
  {
   "cell_type": "code",
   "execution_count": 190,
   "id": "f6b56a79",
   "metadata": {},
   "outputs": [
    {
     "name": "stdout",
     "output_type": "stream",
     "text": [
      "Enter input=2,3,4,5,6\n",
      "('2,3,4,5,6',)\n"
     ]
    }
   ],
   "source": [
    "#42. Create a tuple from user input.\n",
    "user_input=input('Enter input=')\n",
    "values=user_input.split()\n",
    "tpl=tuple(values)\n",
    "print(tpl)"
   ]
  },
  {
   "cell_type": "code",
   "execution_count": 191,
   "id": "a9add810",
   "metadata": {},
   "outputs": [
    {
     "name": "stdout",
     "output_type": "stream",
     "text": [
      "(1, 2, 4, 3)\n"
     ]
    }
   ],
   "source": [
    "#43. Swap two elements in a tuple.\n",
    "def swap_tpl(tpl,i,j):\n",
    "    lst=list(tpl)\n",
    "    lst[i],lst[j]=lst[j],lst[i]\n",
    "    return tuple(lst)\n",
    "tpl=(1,2,3,4)\n",
    "updated_tpl=swap_tpl(tpl,2,3)\n",
    "print(updated_tpl)"
   ]
  },
  {
   "cell_type": "code",
   "execution_count": 192,
   "id": "0d938305",
   "metadata": {},
   "outputs": [
    {
     "name": "stdout",
     "output_type": "stream",
     "text": [
      "[5, 4, 3, 2, 1]\n"
     ]
    }
   ],
   "source": [
    "#44. Reverse the elements of a tuple.\n",
    "def reverse_tpl(tpl):\n",
    "    lst=list(tpl)\n",
    "    return lst[::-1]\n",
    "tpl=(1,2,3,4,5)\n",
    "updated_tpl=reverse_tpl(tpl)\n",
    "print(updated_tpl)"
   ]
  },
  {
   "cell_type": "code",
   "execution_count": 193,
   "id": "a5ffe1e3",
   "metadata": {},
   "outputs": [
    {
     "name": "stdout",
     "output_type": "stream",
     "text": [
      "(0, 1, 4, 9, 16, 25, 36, 49)\n"
     ]
    }
   ],
   "source": [
    "#45. Create a tuple of the first `n` powers of 2.\n",
    "def powers_tpl(n):\n",
    "    tpl=()\n",
    "    for i in range(n+1):\n",
    "        tpl=tpl+(i**2,)\n",
    "    return tpl\n",
    "    \n",
    "tup=powers_tpl(7)\n",
    "print(tup)"
   ]
  },
  {
   "cell_type": "code",
   "execution_count": 194,
   "id": "663dd2fe",
   "metadata": {},
   "outputs": [
    {
     "name": "stdout",
     "output_type": "stream",
     "text": [
      "asffasg\n"
     ]
    }
   ],
   "source": [
    "#46. Find the longest string in a tuple of strings.\n",
    "def longest_strn(tup):\n",
    "    longest=\"\"\n",
    "    for string in tup:\n",
    "        if len(string)>len(longest):\n",
    "            longest=string\n",
    "    return longest\n",
    "tup=('asdhg','sad','asffasg')\n",
    "lng=longest_strn(tup)\n",
    "print(lng)"
   ]
  },
  {
   "cell_type": "code",
   "execution_count": 195,
   "id": "2f83a997",
   "metadata": {},
   "outputs": [
    {
     "name": "stdout",
     "output_type": "stream",
     "text": [
      "sad\n"
     ]
    }
   ],
   "source": [
    "#47. Find the shortest string in a tuple of strings.\n",
    "def sortest_strn(tup):\n",
    "    sortest=tup[0]\n",
    "    for string in tup:\n",
    "        if len(string)<len(sortest):\n",
    "            sortest=string\n",
    "    return sortest\n",
    "tup=('asdhg','sad','asffasg')\n",
    "srt=sortest_strn(tup)\n",
    "print(srt)"
   ]
  },
  {
   "cell_type": "code",
   "execution_count": 196,
   "id": "596610ba",
   "metadata": {},
   "outputs": [
    {
     "name": "stdout",
     "output_type": "stream",
     "text": [
      "(1, 3, 6, 10, 15)\n"
     ]
    }
   ],
   "source": [
    "#48. Create a tuple of the first `n` triangular numbers.\n",
    "def triangular_numbers(n):\n",
    "    triangulars = ()\n",
    "    for i in range(1, n+1):\n",
    "        triangulars += (i * (i+1) // 2,)\n",
    "    return triangulars\n",
    "\n",
    "my_tuple = triangular_numbers(5)\n",
    "print(my_tuple)"
   ]
  },
  {
   "cell_type": "code",
   "execution_count": 197,
   "id": "a2944046",
   "metadata": {},
   "outputs": [
    {
     "name": "stdout",
     "output_type": "stream",
     "text": [
      "True\n"
     ]
    }
   ],
   "source": [
    "#49. Check if a tuple contains another tuple as a subsequence.\n",
    "def is_subsequence(sub, tup):\n",
    "    n = len(sub)\n",
    "    for i in range(len(tup) - n + 1):\n",
    "        if tup[i:i+n] == sub:\n",
    "            return True\n",
    "    return False\n",
    "\n",
    "my_tuple = (1, 2, 3, 4, 5)\n",
    "sub_tuple = (2, 3, 4)\n",
    "result = is_subsequence(sub_tuple, my_tuple)\n",
    "print(result)"
   ]
  },
  {
   "cell_type": "code",
   "execution_count": 198,
   "id": "c4827b11",
   "metadata": {},
   "outputs": [
    {
     "name": "stdout",
     "output_type": "stream",
     "text": [
      "(1, 0, 1, 0, 1)\n"
     ]
    }
   ],
   "source": [
    "#50. Create a tuple of alternating 1s and 0s of length `n`.\n",
    "def alternating_tuple(n):\n",
    "    lst = [1 if i % 2 == 0 else 0 for i in range(n)]\n",
    "    return tuple(lst)\n",
    "\n",
    "my_tuple = alternating_tuple(5)\n",
    "print(my_tuple)"
   ]
  },
  {
   "cell_type": "markdown",
   "id": "40bfe222",
   "metadata": {},
   "source": [
    "# Set Based Practice Problem :"
   ]
  },
  {
   "cell_type": "code",
   "execution_count": 199,
   "id": "d7639592",
   "metadata": {},
   "outputs": [
    {
     "name": "stdout",
     "output_type": "stream",
     "text": [
      "{1, 2, 3, 4, 5}\n"
     ]
    }
   ],
   "source": [
    "#1. Create a set with integers from 1 to 5.\n",
    "emty_set=set()\n",
    "for i in range(1,6):\n",
    "    emty_set.add(i)\n",
    "print(emty_set)"
   ]
  },
  {
   "cell_type": "code",
   "execution_count": 200,
   "id": "c4061e46",
   "metadata": {},
   "outputs": [
    {
     "name": "stdout",
     "output_type": "stream",
     "text": [
      "{1, 2, 3, 4, 5}\n"
     ]
    }
   ],
   "source": [
    "#2. Add an element to a set.\n",
    "my_set={1,2,3,4}\n",
    "my_set.add(5)\n",
    "print(my_set)"
   ]
  },
  {
   "cell_type": "code",
   "execution_count": 201,
   "id": "88ae1b00",
   "metadata": {},
   "outputs": [
    {
     "name": "stdout",
     "output_type": "stream",
     "text": [
      "{1, 2, 3, 4}\n"
     ]
    }
   ],
   "source": [
    "#3. Remove an element from a set.\n",
    "my_set={1,2,3,4,5}\n",
    "my_set.remove(5)\n",
    "print(my_set)"
   ]
  },
  {
   "cell_type": "code",
   "execution_count": 202,
   "id": "2be96541",
   "metadata": {},
   "outputs": [
    {
     "name": "stdout",
     "output_type": "stream",
     "text": [
      "True\n"
     ]
    }
   ],
   "source": [
    "#4. Check if an element exists in a set.\n",
    "my_set={1,2,3,4,5}\n",
    "if 2 in my_set:\n",
    "    print('True')\n",
    "else:\n",
    "    print('False')"
   ]
  },
  {
   "cell_type": "code",
   "execution_count": 203,
   "id": "448ad541",
   "metadata": {},
   "outputs": [
    {
     "name": "stdout",
     "output_type": "stream",
     "text": [
      "Length of the set= 5\n"
     ]
    }
   ],
   "source": [
    "#5. Find the length of a set without using the `len()` function.\n",
    "my_set={1,2,3,4,5}\n",
    "count=0\n",
    "for i in my_set:\n",
    "    count=count+1\n",
    "print('Length of the set=',count)"
   ]
  },
  {
   "cell_type": "code",
   "execution_count": 204,
   "id": "fa259829",
   "metadata": {},
   "outputs": [
    {
     "name": "stdout",
     "output_type": "stream",
     "text": [
      "set()\n"
     ]
    }
   ],
   "source": [
    "#6. Clear all elements from a set.\n",
    "my_set={1,2,3,4,5}\n",
    "my_set.clear()\n",
    "print(my_set)"
   ]
  },
  {
   "cell_type": "code",
   "execution_count": 205,
   "id": "1bc686bb",
   "metadata": {},
   "outputs": [
    {
     "name": "stdout",
     "output_type": "stream",
     "text": [
      "Set of even numbers= {2, 4, 6, 8, 10}\n"
     ]
    }
   ],
   "source": [
    "#7. Create a set of even numbers from 1 to 10.\n",
    "my_set=set()\n",
    "for i in range(1,11):\n",
    "    if i%2==0:\n",
    "        my_set.add(i)\n",
    "print('Set of even numbers=',my_set)"
   ]
  },
  {
   "cell_type": "code",
   "execution_count": 206,
   "id": "200b24a0",
   "metadata": {},
   "outputs": [
    {
     "name": "stdout",
     "output_type": "stream",
     "text": [
      "Set of odd numbers= {1, 3, 5, 7, 9}\n"
     ]
    }
   ],
   "source": [
    "#8. Create a set of odd numbers from 1 to 10.\n",
    "my_set=set()\n",
    "for i in range(1,11):\n",
    "    if i%2 !=0:\n",
    "        my_set.add(i)\n",
    "print('Set of odd numbers=',my_set)"
   ]
  },
  {
   "cell_type": "code",
   "execution_count": 207,
   "id": "875f55e8",
   "metadata": {},
   "outputs": [
    {
     "name": "stdout",
     "output_type": "stream",
     "text": [
      "{1, 2, 3, 4, 5, 7}\n"
     ]
    }
   ],
   "source": [
    "#9. Find the union of two sets.\n",
    "set1={1,2,3,4,5}\n",
    "set2={4,5,2,3,7}\n",
    "new_set=set1.union(set2)\n",
    "print(new_set)"
   ]
  },
  {
   "cell_type": "code",
   "execution_count": 208,
   "id": "c19250b5",
   "metadata": {},
   "outputs": [
    {
     "name": "stdout",
     "output_type": "stream",
     "text": [
      "{2, 3, 4, 5}\n"
     ]
    }
   ],
   "source": [
    "#10. Find the intersection of two sets.\n",
    "set1={1,2,3,4,5}\n",
    "set2={4,5,2,3,7}\n",
    "new_set=set1.intersection(set2)\n",
    "print(new_set)"
   ]
  },
  {
   "cell_type": "code",
   "execution_count": 209,
   "id": "6f8377a5",
   "metadata": {},
   "outputs": [
    {
     "name": "stdout",
     "output_type": "stream",
     "text": [
      "{1}\n"
     ]
    }
   ],
   "source": [
    "#11. Find the difference between two sets.\n",
    "set1={1,2,3,4,5}\n",
    "set2={4,5,2,3,7}\n",
    "new_set=set1.difference(set2)\n",
    "print(new_set)"
   ]
  },
  {
   "cell_type": "code",
   "execution_count": 210,
   "id": "8f6e0386",
   "metadata": {},
   "outputs": [
    {
     "name": "stdout",
     "output_type": "stream",
     "text": [
      "False\n"
     ]
    }
   ],
   "source": [
    "#12. Check if a set is a subset of another set.\n",
    "set1={1,2,3,4,5,6,7}\n",
    "set2={1,2,3,6}\n",
    "new_set=set1.issubset(set2)\n",
    "print(new_set)"
   ]
  },
  {
   "cell_type": "code",
   "execution_count": 211,
   "id": "3bd133fa",
   "metadata": {},
   "outputs": [
    {
     "name": "stdout",
     "output_type": "stream",
     "text": [
      "True\n"
     ]
    }
   ],
   "source": [
    "#13. Check if a set is a superset of another set.\n",
    "set1={1,2,3,4,5,6,7}\n",
    "set2={1,2,3,6}\n",
    "new_set=set1.issuperset(set2)\n",
    "print(new_set)"
   ]
  },
  {
   "cell_type": "code",
   "execution_count": 212,
   "id": "7906c212",
   "metadata": {},
   "outputs": [
    {
     "name": "stdout",
     "output_type": "stream",
     "text": [
      "Set= {1, 2, 3, 4, 5, 6}\n",
      "<class 'set'>\n"
     ]
    }
   ],
   "source": [
    "#14. Create a set from a list.\n",
    "lst=[1,2,3,4,5,6]\n",
    "set1=set(lst)\n",
    "print('Set=',set1)\n",
    "print(type(set1))"
   ]
  },
  {
   "cell_type": "code",
   "execution_count": 213,
   "id": "58860c5e",
   "metadata": {},
   "outputs": [
    {
     "name": "stdout",
     "output_type": "stream",
     "text": [
      "List= [1, 2, 3, 4, 5, 6]\n",
      "<class 'list'>\n"
     ]
    }
   ],
   "source": [
    "#15. Convert a set to a list.\n",
    "set1= {1, 2, 3, 4, 5, 6}\n",
    "lst=list(set1)\n",
    "print('List=',lst)\n",
    "print(type(lst))"
   ]
  },
  {
   "cell_type": "code",
   "execution_count": 214,
   "id": "24b331bf",
   "metadata": {},
   "outputs": [
    {
     "name": "stdout",
     "output_type": "stream",
     "text": [
      "Original set= {1, 2, 3, 4, 5}\n",
      "Updated set= {2, 3, 4, 5}\n"
     ]
    }
   ],
   "source": [
    "#16. Remove a random element from a set.\n",
    "import random\n",
    "my_set={1,2,3,4,5}\n",
    "print('Original set=',my_set)\n",
    "random_element=random.choice(list(my_set))\n",
    "my_set.remove(random_element)\n",
    "print('Updated set=',my_set)"
   ]
  },
  {
   "cell_type": "code",
   "execution_count": 215,
   "id": "d9dd1ed5",
   "metadata": {},
   "outputs": [
    {
     "name": "stdout",
     "output_type": "stream",
     "text": [
      "Original set: {1, 2, 3, 4, 5}\n",
      "Poped element= 1\n",
      "Updated set= {2, 3, 4, 5}\n"
     ]
    }
   ],
   "source": [
    "#17. Pop an element from a set.\n",
    "my_set = {1, 2, 3, 4, 5}\n",
    "print(\"Original set:\", my_set)\n",
    "poped_ele=my_set.pop()\n",
    "print('Poped element=',poped_ele)\n",
    "print('Updated set=',my_set)"
   ]
  },
  {
   "cell_type": "code",
   "execution_count": 216,
   "id": "0df245cf",
   "metadata": {},
   "outputs": [
    {
     "name": "stdout",
     "output_type": "stream",
     "text": [
      "The two sets have no elements in common.\n"
     ]
    }
   ],
   "source": [
    "#18. Check if two sets have no elements in common.\n",
    "set1 = {1, 2, 3, 4}\n",
    "set2 = {5, 6, 7, 8}\n",
    "common_elements = set1.intersection(set2)\n",
    "if not common_elements:\n",
    "    print(\"The two sets have no elements in common.\")\n",
    "else:\n",
    "    print(\"The two sets have common elements:\", common_elements)"
   ]
  },
  {
   "cell_type": "code",
   "execution_count": 217,
   "id": "cdc6bd16",
   "metadata": {},
   "outputs": [
    {
     "name": "stdout",
     "output_type": "stream",
     "text": [
      "Symmetric Difference: {1, 2, 3, 6, 7, 8}\n"
     ]
    }
   ],
   "source": [
    "#19. Find the symmetric difference between two sets.\n",
    "# Define two sets\n",
    "set1 = {1, 2, 3, 4, 5}\n",
    "set2 = {4, 5, 6, 7, 8}\n",
    "symmetric_difference = set1 ^ set2\n",
    "print(\"Symmetric Difference:\", symmetric_difference)"
   ]
  },
  {
   "cell_type": "code",
   "execution_count": 218,
   "id": "955feacb",
   "metadata": {},
   "outputs": [
    {
     "name": "stdout",
     "output_type": "stream",
     "text": [
      "Set 1: {1, 2, 3}\n",
      "Set 2: {3, 4, 5}\n",
      "Updated Set 1: {1, 2, 3, 4, 5}\n"
     ]
    }
   ],
   "source": [
    "#20. Update a set with elements from another set.\n",
    "set1 = {1, 2, 3}\n",
    "print(\"Set 1:\", set1)\n",
    "set2 = {3, 4, 5}\n",
    "print(\"Set 2:\", set2)\n",
    "set1.update(set2)\n",
    "print(\"Updated Set 1:\", set1)"
   ]
  },
  {
   "cell_type": "code",
   "execution_count": 219,
   "id": "2d9ba0b0",
   "metadata": {},
   "outputs": [
    {
     "name": "stdout",
     "output_type": "stream",
     "text": [
      "Set of the first 5 prime numbers: {2, 3, 5, 7, 11}\n"
     ]
    }
   ],
   "source": [
    "#21. Create a set of the first 5 prime numbers.\n",
    "def is_prime(n):\n",
    "    if n<=1:\n",
    "        return False\n",
    "    for i in range(2,int(0.5*n)+1):\n",
    "        if n%i==0:\n",
    "            return False\n",
    "    return True\n",
    "prime_set = set()\n",
    "n=2\n",
    "while len(prime_set)<5:\n",
    "    if is_prime(n):\n",
    "        prime_set.add(n)\n",
    "    n=n+1\n",
    "print(\"Set of the first 5 prime numbers:\", prime_set)"
   ]
  },
  {
   "cell_type": "code",
   "execution_count": 220,
   "id": "4ac77752",
   "metadata": {},
   "outputs": [
    {
     "name": "stdout",
     "output_type": "stream",
     "text": [
      "The sets are identical.\n"
     ]
    }
   ],
   "source": [
    "#22. Check if two sets are identical.\n",
    "set1 = {1, 2, 3, 4, 5}\n",
    "set2 = {3, 1, 5, 2, 4}\n",
    "if set1 == set2:\n",
    "    print(\"The sets are identical.\")\n",
    "else:\n",
    "    print(\"The sets are not identical.\")"
   ]
  },
  {
   "cell_type": "code",
   "execution_count": 221,
   "id": "b8fba17e",
   "metadata": {},
   "outputs": [
    {
     "name": "stdout",
     "output_type": "stream",
     "text": [
      "Frozen Set: frozenset({1, 2, 3, 4, 5})\n"
     ]
    }
   ],
   "source": [
    "#23. Create a frozen set.\n",
    "elements = [1, 2, 3, 4, 5]\n",
    "my_frozen_set = frozenset(elements)\n",
    "print(\"Frozen Set:\", my_frozen_set)"
   ]
  },
  {
   "cell_type": "code",
   "execution_count": 222,
   "id": "dda754b7",
   "metadata": {},
   "outputs": [
    {
     "name": "stdout",
     "output_type": "stream",
     "text": [
      "Are the sets disjoint? True\n"
     ]
    }
   ],
   "source": [
    "#24. Check if a set is disjoint with another set.\n",
    "set1 = {1, 2, 3, 4}\n",
    "set2 = {5, 6, 7, 8}\n",
    "disjoint_status = set1.isdisjoint(set2)\n",
    "print(\"Are the sets disjoint?\", disjoint_status)"
   ]
  },
  {
   "cell_type": "code",
   "execution_count": 223,
   "id": "f24be22c",
   "metadata": {},
   "outputs": [
    {
     "name": "stdout",
     "output_type": "stream",
     "text": [
      "{1, 4, 9, 16, 25}\n"
     ]
    }
   ],
   "source": [
    "#25. Create a set of squares of numbers from 1 to 5.\n",
    "squares_set = set()\n",
    "for num in range(1, 6):\n",
    "        square = num ** 2\n",
    "        squares_set.add(square)\n",
    "print(squares_set)"
   ]
  },
  {
   "cell_type": "code",
   "execution_count": 224,
   "id": "0be908ab",
   "metadata": {},
   "outputs": [
    {
     "name": "stdout",
     "output_type": "stream",
     "text": [
      "Original Set: {1, 2, 3, 4, 5}\n",
      "Even Numbers Set: {2, 4}\n"
     ]
    }
   ],
   "source": [
    "#26. Filter out all even numbers from a set.\n",
    "original_set = {1, 2, 3, 4, 5}\n",
    "\n",
    "# Step 2: Initialize an empty set to store the filtered even numbers\n",
    "even_numbers_set = set()\n",
    "\n",
    "# Step 3: Iterate through each element in the original set\n",
    "for num in original_set:\n",
    "    \n",
    "    if num % 2 == 0:\n",
    "        even_numbers_set.add(num)\n",
    "print(\"Original Set:\", original_set)\n",
    "print(\"Even Numbers Set:\", even_numbers_set)"
   ]
  },
  {
   "cell_type": "code",
   "execution_count": 225,
   "id": "c5612852",
   "metadata": {},
   "outputs": [
    {
     "name": "stdout",
     "output_type": "stream",
     "text": [
      "Original Set: {1, 2, 3, 4, 5}\n",
      "Multiplied Set: {2, 4, 6, 8, 10}\n"
     ]
    }
   ],
   "source": [
    "#27. Multiply all elements in a set by 2.\n",
    "# Create a set with integers from 1 to 5\n",
    "original_set = {1, 2, 3, 4, 5}\n",
    "\n",
    "# Initialize an empty set to store the multiplied elements\n",
    "multiplied_set = set()\n",
    "\n",
    "# Loop through each element in the original set\n",
    "for num in original_set:\n",
    "    # Multiply the current element by 2\n",
    "    multiplied_num = num * 2\n",
    "\n",
    "    # Add the multiplied element to the multiplied_set\n",
    "    multiplied_set.add(multiplied_num)\n",
    "\n",
    "# The original_set remains unchanged\n",
    "print(\"Original Set:\", original_set)\n",
    "\n",
    "# Display the set with elements multiplied by 2\n",
    "print(\"Multiplied Set:\", multiplied_set)"
   ]
  },
  {
   "cell_type": "code",
   "execution_count": 226,
   "id": "9bc25e40",
   "metadata": {},
   "outputs": [
    {
     "name": "stdout",
     "output_type": "stream",
     "text": [
      "Generated set of random numbers: {97, 100, 89, 28, 95}\n"
     ]
    }
   ],
   "source": [
    "#28. Create a set of random numbers.\n",
    "import random\n",
    "num_random_numbers = 5\n",
    "random_number_set = set()\n",
    "\n",
    "for _ in range(num_random_numbers):\n",
    "    # Generate a random integer using the `randint` function from the `random` module\n",
    "    random_num = random.randint(1, 100)  # Generate a random number between 1 and 100\n",
    "    # Add the random number to the set\n",
    "    random_number_set.add(random_num)\n",
    "\n",
    "# Step 5: Print the generated set of random numbers\n",
    "print(\"Generated set of random numbers:\", random_number_set)"
   ]
  },
  {
   "cell_type": "code",
   "execution_count": 227,
   "id": "25dd3f89",
   "metadata": {},
   "outputs": [
    {
     "name": "stdout",
     "output_type": "stream",
     "text": [
      "The set is empty.\n"
     ]
    }
   ],
   "source": [
    "#29. Check if a set is empty.\n",
    "my_set = set()\n",
    "if not my_set:\n",
    "    print(\"The set is empty.\")\n",
    "else:\n",
    "    print(\"The set is not empty.\")"
   ]
  },
  {
   "cell_type": "code",
   "execution_count": 228,
   "id": "4391f543",
   "metadata": {},
   "outputs": [
    {
     "name": "stdout",
     "output_type": "stream",
     "text": [
      "Nested Set: {frozenset({1, 2, 3, 4, 5}), frozenset({6, 7, 8, 9, 10})}\n"
     ]
    }
   ],
   "source": [
    "#30. Create a nested set (hint: use frozenset).# Step 1: Create the inner sets\n",
    "set1 = {1, 2, 3, 4, 5}\n",
    "set2 = {6, 7, 8, 9, 10}\n",
    "\n",
    "# Step 2: Create frozensets from the inner sets\n",
    "frozen_set1 = frozenset(set1)\n",
    "frozen_set2 = frozenset(set2)\n",
    "\n",
    "# Step 3: Create the nested set using the frozensets\n",
    "nested_set = {frozen_set1, frozen_set2}\n",
    "\n",
    "# Print the nested set\n",
    "print(\"Nested Set:\", nested_set)"
   ]
  },
  {
   "cell_type": "code",
   "execution_count": 229,
   "id": "f5c4e326",
   "metadata": {},
   "outputs": [
    {
     "name": "stdout",
     "output_type": "stream",
     "text": [
      "Initial set: {1, 2, 3, 4, 5}\n",
      "Set after removing 3 : {1, 2, 4, 5}\n"
     ]
    }
   ],
   "source": [
    "#31. Remove an element from a set using the discard method.\n",
    "my_set = {1, 2, 3, 4, 5}\n",
    "\n",
    "# Display the initial set\n",
    "print(\"Initial set:\", my_set)\n",
    "\n",
    "# Define the element to be removed\n",
    "element_to_remove = 3\n",
    "\n",
    "# Use the discard() method to remove the element from the set\n",
    "# If the element is not present in the set, discard() won't raise an error\n",
    "my_set.discard(element_to_remove)\n",
    "\n",
    "# Display the set after removing the element\n",
    "print(\"Set after removing\", element_to_remove, \":\", my_set)"
   ]
  },
  {
   "cell_type": "code",
   "execution_count": 230,
   "id": "53c82f53",
   "metadata": {},
   "outputs": [
    {
     "name": "stdout",
     "output_type": "stream",
     "text": [
      "Set 1: {1, 2, 3, 4, 5}\n",
      "Set 2: {4, 5, 6, 7, 8}\n",
      "Is set1 a subset of set2? False\n",
      "Is set2 a subset of set1? False\n",
      "Intersection: {4, 5}\n",
      "Union: {1, 2, 3, 4, 5, 6, 7, 8}\n",
      "Elements in set1 but not in set2: {1, 2, 3}\n",
      "Elements in set2 but not in set1: {8, 6, 7}\n"
     ]
    }
   ],
   "source": [
    "#32. Compare two sets.\n",
    "set1 = {1, 2, 3, 4, 5}\n",
    "set2 = {4, 5, 6, 7, 8}\n",
    "\n",
    "# Step 2: Use set operations to compare the sets\n",
    "# Check if set1 is a subset of set2\n",
    "is_subset = set1.issubset(set2)\n",
    "\n",
    "# Check if set2 is a subset of set1\n",
    "is_superset = set1.issuperset(set2)\n",
    "\n",
    "# Find the intersection of the sets\n",
    "intersection = set1.intersection(set2)\n",
    "\n",
    "# Find the union of the sets\n",
    "union = set1.union(set2)\n",
    "\n",
    "# Find the elements that are in set1 but not in set2\n",
    "difference1 = set1.difference(set2)\n",
    "\n",
    "# Find the elements that are in set2 but not in set1\n",
    "difference2 = set2.difference(set1)\n",
    "\n",
    "# Step 3: Print the results\n",
    "print(\"Set 1:\", set1)\n",
    "print(\"Set 2:\", set2)\n",
    "print(\"Is set1 a subset of set2?\", is_subset)\n",
    "print(\"Is set2 a subset of set1?\", is_superset)\n",
    "print(\"Intersection:\", intersection)\n",
    "print(\"Union:\", union)\n",
    "print(\"Elements in set1 but not in set2:\", difference1)\n",
    "print(\"Elements in set2 but not in set1:\", difference2)"
   ]
  },
  {
   "cell_type": "code",
   "execution_count": 231,
   "id": "14371fb1",
   "metadata": {},
   "outputs": [
    {
     "name": "stdout",
     "output_type": "stream",
     "text": [
      "{'o', 'h', 'e', 'l'}\n"
     ]
    }
   ],
   "source": [
    "#33. Create a set from a string.\n",
    "input_string = \"hello\"\n",
    "\n",
    "# Step 2: Use the set() constructor to create a set from the characters in the string\n",
    "char_set = set(input_string)\n",
    "\n",
    "# Step 3: Print the resulting set\n",
    "print(char_set)"
   ]
  },
  {
   "cell_type": "code",
   "execution_count": 232,
   "id": "4433bc74",
   "metadata": {},
   "outputs": [
    {
     "name": "stdout",
     "output_type": "stream",
     "text": [
      "Original String Set: {'123', '456', '789'}\n",
      "Converted Integer Set: {456, 123, 789}\n"
     ]
    }
   ],
   "source": [
    "#34. Convert a set of strings to a set of integers.\n",
    "string_set = {\"123\", \"456\", \"789\"}\n",
    "\n",
    "# Step 2: Initialize an empty set to store integers\n",
    "integer_set = set()\n",
    "\n",
    "# Step 3: Iterate through each string in the string set\n",
    "for string in string_set:\n",
    "    # Step 4: Convert the string to an integer using the int() function\n",
    "    integer_value = int(string)\n",
    "\n",
    "    # Step 5: Add the integer to the integer set\n",
    "    integer_set.add(integer_value)\n",
    "\n",
    "# Step 6: Print the original string set and the converted integer set\n",
    "print(\"Original String Set:\", string_set)\n",
    "print(\"Converted Integer Set:\", integer_set)"
   ]
  },
  {
   "cell_type": "code",
   "execution_count": 233,
   "id": "3e5f5f53",
   "metadata": {},
   "outputs": [
    {
     "name": "stdout",
     "output_type": "stream",
     "text": [
      "Original integers_set: {1, 2, 3, 4, 5}\n",
      "Converted strings_set: {'2', '4', '3', '1', '5'}\n"
     ]
    }
   ],
   "source": [
    "#35. Convert a set of integers to a set of strings.\n",
    "integers_set = {1, 2, 3, 4, 5}\n",
    "\n",
    "# Step 2: Initialize an empty set to store the strings\n",
    "strings_set = set()\n",
    "\n",
    "# Step 3: Iterate through each integer in the integers_set\n",
    "for num in integers_set:\n",
    "    # Step 4: Convert the integer to a string using the str() function\n",
    "    num_str = str(num)\n",
    "\n",
    "    # Step 5: Add the string representation to the strings_set\n",
    "    strings_set.add(num_str)\n",
    "\n",
    "# Step 6: Print the original integers_set and the converted strings_set\n",
    "print(\"Original integers_set:\", integers_set)\n",
    "print(\"Converted strings_set:\", strings_set)"
   ]
  },
  {
   "cell_type": "code",
   "execution_count": 234,
   "id": "23b38f8a",
   "metadata": {},
   "outputs": [
    {
     "name": "stdout",
     "output_type": "stream",
     "text": [
      "{1, 2, 3, 4, 5}\n"
     ]
    }
   ],
   "source": [
    "# 36. Create a set from a tuple.\n",
    "input_tuple = (1, 2, 3, 2, 4, 5, 1)\n",
    "\n",
    "# Step 1: Convert the tuple to a set\n",
    "output_set = set(input_tuple)\n",
    "# At this point, the set() function is used to convert the elements of the tuple into a set.\n",
    "# Since sets only contain unique elements, duplicate values are automatically removed.\n",
    "\n",
    "# Step 2: Print the resulting set\n",
    "print(output_set)\n",
    "# The set is now "
   ]
  },
  {
   "cell_type": "code",
   "execution_count": 235,
   "id": "d4cb08a6",
   "metadata": {},
   "outputs": [
    {
     "name": "stdout",
     "output_type": "stream",
     "text": [
      "Original set: {1, 2, 3, 4, 5}\n",
      "Converted tuple: (1, 2, 3, 4, 5)\n"
     ]
    }
   ],
   "source": [
    "# 37. Convert a set to a tuple.\n",
    "input_set = {1, 2, 3, 4, 5}\n",
    "\n",
    "# Step 2: Convert the set to a tuple\n",
    "output_tuple = tuple(input_set)\n",
    "\n",
    "# Step 3: Print the original set and the converted tuple\n",
    "print(\"Original set:\", input_set)\n",
    "print(\"Converted tuple:\", output_tuple)"
   ]
  },
  {
   "cell_type": "code",
   "execution_count": 236,
   "id": "1b649b7b",
   "metadata": {},
   "outputs": [
    {
     "name": "stdout",
     "output_type": "stream",
     "text": [
      "Maximum value: 22\n"
     ]
    }
   ],
   "source": [
    "#38. Find the maximum value in a set.\n",
    "my_set = {15, 7, 22, 13, 8}\n",
    "\n",
    "# Initialize a variable to store the maximum value\n",
    "max_value = None\n",
    "\n",
    "# Iterate through each element in the set\n",
    "for num in my_set:\n",
    "    # Check if max_value is None (first iteration) or if the current number is greater than max_value\n",
    "    if max_value is None or num > max_value:\n",
    "        max_value = num  # Update max_value with the current number if it's greater\n",
    "\n",
    "# Print the maximum value\n",
    "print(\"Maximum value:\", max_value)"
   ]
  },
  {
   "cell_type": "code",
   "execution_count": 237,
   "id": "35df445c",
   "metadata": {},
   "outputs": [
    {
     "name": "stdout",
     "output_type": "stream",
     "text": [
      "The minimum value in the set is: 4\n"
     ]
    }
   ],
   "source": [
    "# 39. Find the minimum value in a set.\n",
    "number_set = {15, 8, 23, 4, 42, 11}\n",
    "\n",
    "# Initialize a variable to store the minimum value\n",
    "min_value = None\n",
    "\n",
    "# Iterate through each element in the set\n",
    "for num in number_set:\n",
    "    # Check if min_value is None (first iteration) or if num is smaller than the current min_value\n",
    "    if min_value is None or num < min_value:\n",
    "        # Update min_value to the current num since it's smaller\n",
    "        min_value = num\n",
    "\n",
    "# Print the minimum value found in the set\n",
    "print(\"The minimum value in the set is:\", min_value)"
   ]
  },
  {
   "cell_type": "code",
   "execution_count": 238,
   "id": "07e52694",
   "metadata": {},
   "outputs": [
    {
     "name": "stdout",
     "output_type": "stream",
     "text": [
      "Enter elements separated by commas: 2,3,4,5\n",
      "{'4', '3', '5', '2'}\n"
     ]
    }
   ],
   "source": [
    "# 40. Create a set from user input.\n",
    "# Take user input as a comma-separated string\n",
    "user_input = input(\"Enter elements separated by commas: \")\n",
    "\n",
    "# Split the string into individual elements\n",
    "elements = user_input.split(\",\")\n",
    "\n",
    "# Create a set from the elements\n",
    "my_set = set(elements)\n",
    "\n",
    "# Print the set\n",
    "print(my_set)"
   ]
  },
  {
   "cell_type": "code",
   "execution_count": 239,
   "id": "85283ed6",
   "metadata": {},
   "outputs": [
    {
     "name": "stdout",
     "output_type": "stream",
     "text": [
      "The intersection of the two sets is not empty.\n"
     ]
    }
   ],
   "source": [
    "#41. Check if the intersection of two sets is empty.\n",
    "set1 = {1, 2, 3, 4, 5}\n",
    "set2 = {4, 5, 6, 7, 8}\n",
    "\n",
    "# Step 2: Find the intersection of the two sets using the `intersection()` method\n",
    "intersection_result = set1.intersection(set2)\n",
    "\n",
    "# Step 3: Check if the intersection result is empty\n",
    "if not intersection_result:\n",
    "    print(\"The intersection of the two sets is empty.\")\n",
    "else:\n",
    "    print(\"The intersection of the two sets is not empty.\")"
   ]
  },
  {
   "cell_type": "code",
   "execution_count": 240,
   "id": "320a1cd0",
   "metadata": {},
   "outputs": [
    {
     "name": "stdout",
     "output_type": "stream",
     "text": [
      "Set of the first 5 Fibonacci numbers: {0, 1, 2, 3, 5}\n"
     ]
    }
   ],
   "source": [
    "# 42. Create a set of the first 5 Fibonacci numbers.\n",
    "fibonacci_set = set()\n",
    "\n",
    "# Initialize the first two Fibonacci numbers\n",
    "a, b = 0, 1\n",
    "\n",
    "# Loop to generate the first 5 Fibonacci numbers\n",
    "for _ in range(6):\n",
    "    # Add the current Fibonacci number to the set\n",
    "    fibonacci_set.add(a)\n",
    "\n",
    "    # Calculate the next Fibonacci number\n",
    "    a, b = b, a + b\n",
    "\n",
    "# Print the set of Fibonacci numbers\n",
    "print(\"Set of the first 5 Fibonacci numbers:\", fibonacci_set)"
   ]
  },
  {
   "cell_type": "code",
   "execution_count": 241,
   "id": "92ebf129",
   "metadata": {},
   "outputs": [
    {
     "name": "stdout",
     "output_type": "stream",
     "text": [
      "Original List: [2, 4, 6, 8, 4, 10, 6, 12, 14, 8]\n",
      "List with Duplicates Removed: [2, 4, 6, 8, 10, 12, 14]\n"
     ]
    }
   ],
   "source": [
    "# 43. Remove duplicates from a list using sets.\n",
    "original_list = [2, 4, 6, 8, 4, 10, 6, 12, 14, 8]\n",
    "\n",
    "# Step 2: Convert the list to a set\n",
    "unique_set = set(original_list)\n",
    "# Now, 'unique_set' contains only unique elements from 'original_list'\n",
    "\n",
    "# Step 3: Convert the set back to a list\n",
    "unique_list = list(unique_set)\n",
    "# Now, 'unique_list' is a list containing only unique elements\n",
    "\n",
    "# Step 4: Print the original list and the list with duplicates removed\n",
    "print(\"Original List:\", original_list)\n",
    "print(\"List with Duplicates Removed:\", unique_list)"
   ]
  },
  {
   "cell_type": "code",
   "execution_count": 242,
   "id": "1c7e1792",
   "metadata": {},
   "outputs": [
    {
     "name": "stdout",
     "output_type": "stream",
     "text": [
      "The sets have the same elements.\n"
     ]
    }
   ],
   "source": [
    "#44. Check if two sets have the same elements, regardless of their count.\n",
    "def have_same_elements(set1, set2):\n",
    "    # Convert the sets to lists and sort them\n",
    "    sorted_list1 = sorted(list(set1))\n",
    "    sorted_list2 = sorted(list(set2))\n",
    "\n",
    "    # Compare the sorted lists to check if they are equal\n",
    "    return sorted_list1 == sorted_list2\n",
    "\n",
    "# Example sets\n",
    "set1 = {1, 2, 3, 2, 1}\n",
    "set2 = {3, 1, 2}\n",
    "\n",
    "# Check if the sets have the same elements\n",
    "result = have_same_elements(set1, set2)\n",
    "\n",
    "# Print the result\n",
    "if result:\n",
    "    print(\"The sets have the same elements.\")\n",
    "else:\n",
    "    print(\"The sets do not have the same elements.\")"
   ]
  },
  {
   "cell_type": "code",
   "execution_count": 243,
   "id": "f2a3e22e",
   "metadata": {},
   "outputs": [
    {
     "name": "stdout",
     "output_type": "stream",
     "text": [
      "{1, 2, 4, 8, 16}\n"
     ]
    }
   ],
   "source": [
    "#45. Create a set of the first `n` powers of 2.\n",
    "def generate_powers_of_2(n):\n",
    "    # Initialize an empty set to store the powers of 2\n",
    "    powers_of_2 = set()\n",
    "\n",
    "    # Loop from 0 to n-1\n",
    "    for i in range(n):\n",
    "        # Calculate the current power of 2 using the exponentiation operator **\n",
    "        power = 2 ** i\n",
    "\n",
    "        # Add the current power of 2 to the set\n",
    "        powers_of_2.add(power)\n",
    "\n",
    "    # Return the set of powers of 2\n",
    "    return powers_of_2\n",
    "\n",
    "# Define the value of n\n",
    "n = 5\n",
    "\n",
    "# Call the function to generate the set of powers of 2\n",
    "powers_set = generate_powers_of_2(n)\n",
    "\n",
    "# Print the resulting set\n",
    "print(powers_set)"
   ]
  },
  {
   "cell_type": "code",
   "execution_count": 244,
   "id": "544f1814",
   "metadata": {},
   "outputs": [
    {
     "name": "stdout",
     "output_type": "stream",
     "text": [
      "Common elements: [7, 9, 12]\n"
     ]
    }
   ],
   "source": [
    "# 46. Find the common elements between a set and a list.\n",
    "my_set = {3, 7, 9, 12, 15}\n",
    "my_list = [7, 12, 5, 9]\n",
    "\n",
    "# Step 2: Convert the list to a set for efficient comparison\n",
    "list_to_set = set(my_list)\n",
    "\n",
    "# Step 3: Initialize an empty list to store common elements\n",
    "common_elements = []\n",
    "\n",
    "# Step 4: Iterate through the elements in the set\n",
    "for element in my_set:\n",
    "    # Step 5: Check if the element is present in the converted set (list_to_set)\n",
    "    if element in list_to_set:\n",
    "        # Step 6: If the element is present in both the set and the list, add it to the common_elements list\n",
    "        common_elements.append(element)\n",
    "\n",
    "# Step 7: Print the common elements\n",
    "print(\"Common elements:\", common_elements)"
   ]
  },
  {
   "cell_type": "code",
   "execution_count": 246,
   "id": "0ecc90f8",
   "metadata": {},
   "outputs": [
    {
     "name": "stdout",
     "output_type": "stream",
     "text": [
      "Enter the value of n: 6\n",
      "The set of the first 6 triangular numbers is: {1, 3, 6, 10, 15, 21}\n"
     ]
    }
   ],
   "source": [
    "#47. Create a set of the first `n` triangular numbers.\n",
    "def generate_triangular_numbers(n):\n",
    "    triangular_numbers = set()  # Create an empty set to store the triangular numbers\n",
    "    for i in range(1, n + 1):\n",
    "        triangular_number = i * (i + 1) // 2  # Calculate the ith triangular number using the formula\n",
    "        triangular_numbers.add(triangular_number)  # Add the calculated triangular number to the set\n",
    "    return triangular_numbers\n",
    "\n",
    "# Input the value of 'n'\n",
    "n = int(input(\"Enter the value of n: \"))\n",
    "\n",
    "# Call the function to generate the set of first 'n' triangular numbers\n",
    "triangular_set = generate_triangular_numbers(n)\n",
    "\n",
    "# Display the set of triangular numbers\n",
    "print(f\"The set of the first {n} triangular numbers is:\", triangular_set)"
   ]
  },
  {
   "cell_type": "code",
   "execution_count": 247,
   "id": "7ea9815e",
   "metadata": {},
   "outputs": [
    {
     "name": "stdout",
     "output_type": "stream",
     "text": [
      "set2 is a subset of set1\n"
     ]
    }
   ],
   "source": [
    "# 48. Check if a set contains another set as a subset.\n",
    "set1 = {1, 2, 3, 4, 5}\n",
    "set2 = {3, 4}\n",
    "\n",
    "# Check if set2 is a subset of set1\n",
    "is_subset = set2.issubset(set1)\n",
    "\n",
    "# Print the result\n",
    "if is_subset:\n",
    "    print(\"set2 is a subset of set1\")\n",
    "else:\n",
    "    print(\"set2 is not a subset of set1\")"
   ]
  },
  {
   "cell_type": "code",
   "execution_count": 248,
   "id": "9e9fedb6",
   "metadata": {},
   "outputs": [
    {
     "name": "stdout",
     "output_type": "stream",
     "text": [
      "{0, 1}\n"
     ]
    }
   ],
   "source": [
    "#49. Create a set of alternating 1s and 0s of length `n`.\n",
    "def create_alternating_set(n):\n",
    "    # Initialize an empty set to store the alternating sequence.\n",
    "    alternating_set = set()\n",
    "\n",
    "    # Loop to generate alternating 1s and 0s.\n",
    "    for i in range(n):\n",
    "        # Alternate between adding 1 and 0 to the set based on whether i is even or odd.\n",
    "        if i % 2 == 0:\n",
    "            alternating_set.add(1)  # Add 1 if i is even.\n",
    "        else:\n",
    "            alternating_set.add(0)  # Add 0 if i is odd.\n",
    "\n",
    "    return alternating_set\n",
    "\n",
    "# Define the desired length of the alternating set.\n",
    "length_n = 10\n",
    "\n",
    "# Call the function to create the alternating set of length 'length_n'.\n",
    "result = create_alternating_set(length_n)\n",
    "\n",
    "# Print the resulting set.\n",
    "print(result)"
   ]
  },
  {
   "cell_type": "code",
   "execution_count": 249,
   "id": "2e0c6fd9",
   "metadata": {},
   "outputs": [
    {
     "name": "stdout",
     "output_type": "stream",
     "text": [
      "Merged Set: {1, 2, 3, 4, 5, 6, 7}\n"
     ]
    }
   ],
   "source": [
    "#50. Merge multiple sets into one.\n",
    "set1 = {1, 2, 3}\n",
    "set2 = {3, 4, 5}\n",
    "set3 = {5, 6, 7}\n",
    "\n",
    "# Step 2: Use the union() method to merge sets\n",
    "merged_set = set1.union(set2, set3)\n",
    "\n",
    "# Alternatively, you can use the | operator\n",
    "# merged_set = set1 | set2 | set3\n",
    "\n",
    "# Step 3: Print the merged set\n",
    "print(\"Merged Set:\", merged_set)"
   ]
  },
  {
   "cell_type": "code",
   "execution_count": null,
   "id": "fdb50635",
   "metadata": {},
   "outputs": [],
   "source": []
  }
 ],
 "metadata": {
  "kernelspec": {
   "display_name": "Python 3 (ipykernel)",
   "language": "python",
   "name": "python3"
  },
  "language_info": {
   "codemirror_mode": {
    "name": "ipython",
    "version": 3
   },
   "file_extension": ".py",
   "mimetype": "text/x-python",
   "name": "python",
   "nbconvert_exporter": "python",
   "pygments_lexer": "ipython3",
   "version": "3.10.9"
  }
 },
 "nbformat": 4,
 "nbformat_minor": 5
}
