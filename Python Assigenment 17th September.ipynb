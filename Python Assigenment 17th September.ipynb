{
 "cells": [
  {
   "cell_type": "markdown",
   "id": "50ae7630",
   "metadata": {},
   "source": [
    "# For Loop :-"
   ]
  },
  {
   "cell_type": "code",
   "execution_count": 5,
   "id": "359c3999",
   "metadata": {},
   "outputs": [
    {
     "name": "stdout",
     "output_type": "stream",
     "text": [
      "1\n",
      "2\n",
      "3\n",
      "4\n",
      "5\n",
      "6\n",
      "7\n",
      "8\n",
      "9\n",
      "10\n"
     ]
    }
   ],
   "source": [
    "#1.Write a Python program to print numbers from 1 to 10 using a for loop.\n",
    "for i in range(1,11):\n",
    "    print(i)"
   ]
  },
  {
   "cell_type": "code",
   "execution_count": 59,
   "id": "8cd8518c",
   "metadata": {},
   "outputs": [
    {
     "ename": "IndentationError",
     "evalue": "expected an indented block after 'for' statement on line 4 (1746959581.py, line 7)",
     "output_type": "error",
     "traceback": [
      "\u001b[1;36m  Cell \u001b[1;32mIn[59], line 7\u001b[1;36m\u001b[0m\n\u001b[1;33m    '''In this syntax, variable is a temporary variable that takes on each value in the sequence in turn.\u001b[0m\n\u001b[1;37m    ^\u001b[0m\n\u001b[1;31mIndentationError\u001b[0m\u001b[1;31m:\u001b[0m expected an indented block after 'for' statement on line 4\n"
     ]
    }
   ],
   "source": [
    "#2.Explain the difference between a for loop and a while loop in Python.\n",
    "'''A for loop is used to iterate over a sequence of elements, such as a list or a tuple. \n",
    "The syntax of a for loop in Python is as follows:'''\n",
    "for variable in sequence:\n",
    "    # Instructions to be repeated\n",
    "\n",
    "'''In this syntax, variable is a temporary variable that takes on each value in the sequence in turn. \n",
    "The instructions to be repeated are indented and executed once for each value of variable in the sequence.'''\n",
    "\n",
    "'''A while loop, on the other hand, is used to repeat a set of instructions while a certain condition is true. \n",
    "The syntax of a while loop in Python is as follows:'''\n",
    "while condition:\n",
    "    # Instructions to be repeated\n",
    " \n",
    "\n",
    "\n",
    "'''In this syntax, condition is a Boolean expression that is checked at the beginning of each iteration. \n",
    "If the condition is true, the instructions to be repeated are executed. This continues until the condition becomes false, \n",
    "at which point the loop terminates.\n",
    "\n",
    "The main difference between a for loop and a while loop is that a for loop is used to iterate over a sequence of elements, \n",
    "while a while loop is used to repeat a set of instructions while a certain condition is true. In general, \n",
    "you should use a for loop when you know the number of iterations in advance and a while loop when you don't.'''"
   ]
  },
  {
   "cell_type": "code",
   "execution_count": 8,
   "id": "214f207e",
   "metadata": {},
   "outputs": [
    {
     "name": "stdout",
     "output_type": "stream",
     "text": [
      "5050\n"
     ]
    }
   ],
   "source": [
    "#3. Write a Python program to calculate the sum of all numbers from 1 to 100 using a for loop.\n",
    "sum=0\n",
    "for i in range(1,101):\n",
    "    sum=sum+i\n",
    "print(sum)"
   ]
  },
  {
   "cell_type": "code",
   "execution_count": 9,
   "id": "18163ec0",
   "metadata": {},
   "outputs": [
    {
     "name": "stdout",
     "output_type": "stream",
     "text": [
      "1\n",
      "2\n",
      "3\n",
      "4\n",
      "6\n"
     ]
    }
   ],
   "source": [
    "#4. How do you iterate through a list using a for loop in Python?\n",
    "l=[1,2,3,4,6]\n",
    "for i in l:\n",
    "    print(i)"
   ]
  },
  {
   "cell_type": "code",
   "execution_count": 10,
   "id": "04eee25a",
   "metadata": {},
   "outputs": [
    {
     "name": "stdout",
     "output_type": "stream",
     "text": [
      "720\n"
     ]
    }
   ],
   "source": [
    "#5. Write a Python program to find the product of all elements in a list using a for loop.\n",
    "l=[1,2,3,4,5,6]\n",
    "product=1\n",
    "for i in l:\n",
    "    product=product*i\n",
    "print(product)"
   ]
  },
  {
   "cell_type": "code",
   "execution_count": 11,
   "id": "58e16c1f",
   "metadata": {},
   "outputs": [
    {
     "name": "stdout",
     "output_type": "stream",
     "text": [
      "2\n",
      "4\n",
      "6\n",
      "8\n",
      "10\n",
      "12\n",
      "14\n",
      "16\n",
      "18\n",
      "20\n"
     ]
    }
   ],
   "source": [
    "#6.Create a Python program that prints all even numbers from 1 to 20 using a for loop.\n",
    "for i in range(1,21):\n",
    "    if i%2==0:\n",
    "        print(i)"
   ]
  },
  {
   "cell_type": "code",
   "execution_count": 13,
   "id": "0b97b83b",
   "metadata": {},
   "outputs": [
    {
     "name": "stdout",
     "output_type": "stream",
     "text": [
      "120\n"
     ]
    }
   ],
   "source": [
    "#7.Write a Python program that calculates the factorial of a number using a for loop.\n",
    "number=5\n",
    "fact=1\n",
    "for i in range(1,number+1):\n",
    "    fact=fact*i\n",
    "print(fact)"
   ]
  },
  {
   "cell_type": "code",
   "execution_count": 14,
   "id": "8c29d336",
   "metadata": {},
   "outputs": [
    {
     "name": "stdout",
     "output_type": "stream",
     "text": [
      "M\n",
      "a\n",
      "n\n",
      "a\n",
      "b\n",
      " \n",
      "D\n",
      "a\n",
      "s\n"
     ]
    }
   ],
   "source": [
    "#8.How can you iterate through the characters of a string using a for loop in Python?\n",
    "s='Manab Das'\n",
    "for i in s:\n",
    "    print(i)"
   ]
  },
  {
   "cell_type": "code",
   "execution_count": 20,
   "id": "5a8d5b38",
   "metadata": {},
   "outputs": [
    {
     "name": "stdout",
     "output_type": "stream",
     "text": [
      "38\n"
     ]
    }
   ],
   "source": [
    "#9.Write a Python program to find the largest number in a list using a for loop.\n",
    "l=[2,4,38,9,13,28]\n",
    "largest_num=l[0]\n",
    "for i in l:\n",
    "    if i>largest_num:\n",
    "        largest_num=i\n",
    "print(largest_num)"
   ]
  },
  {
   "cell_type": "code",
   "execution_count": 5,
   "id": "cf50271e",
   "metadata": {},
   "outputs": [
    {
     "data": {
      "text/plain": [
       "[0, 1, 1, 2, 3]"
      ]
     },
     "execution_count": 5,
     "metadata": {},
     "output_type": "execute_result"
    }
   ],
   "source": [
    "#10. Create a Python program that prints the Fibonacci sequence up to a specified limit using a for loop.\n",
    "def fibo(n):\n",
    "    sequence=[]\n",
    "    a,b=0,1\n",
    "    for i in range(n):\n",
    "        sequence.append(a)\n",
    "        a,b=b,a+b\n",
    "    return sequence\n",
    "fibo(5)"
   ]
  },
  {
   "cell_type": "code",
   "execution_count": 6,
   "id": "bda49af1",
   "metadata": {},
   "outputs": [
    {
     "name": "stdout",
     "output_type": "stream",
     "text": [
      "No of vowel= 3\n"
     ]
    }
   ],
   "source": [
    "#11. Write a Python program to count the number of vowels in a given string using a for loop.\n",
    "l=['a','e','i','o','u']\n",
    "s='India'\n",
    "count=0\n",
    "for i in s:\n",
    "    i=i.lower()\n",
    "    if i in l:\n",
    "        count+=1\n",
    "print('No of vowel=',count)"
   ]
  },
  {
   "cell_type": "code",
   "execution_count": 13,
   "id": "5d64bfe7",
   "metadata": {},
   "outputs": [
    {
     "name": "stdout",
     "output_type": "stream",
     "text": [
      "1x8=8\n",
      "2x8=16\n",
      "3x8=24\n",
      "4x8=32\n",
      "5x8=40\n",
      "6x8=48\n",
      "7x8=56\n",
      "8x8=64\n"
     ]
    }
   ],
   "source": [
    "#12. Create a Python program that generates a multiplication table for a given number using a for loop.\n",
    "def multi_table(n):\n",
    "    for i in range(1,n+1):\n",
    "       print(f'{i}x{n}={i*n}') \n",
    "multi_table(8)"
   ]
  },
  {
   "cell_type": "code",
   "execution_count": 15,
   "id": "62539690",
   "metadata": {},
   "outputs": [
    {
     "name": "stdout",
     "output_type": "stream",
     "text": [
      "List= [1, 2, 3, 4, 5, 6]\n",
      "Reverse_list= [6, 5, 4, 3, 2, 1]\n"
     ]
    }
   ],
   "source": [
    "#13. Write a Python program to reverse a list using a for loop.\n",
    "l=[1,2,3,4,5,6]\n",
    "rev_list=[]\n",
    "for i in range(len(l),0,-1):\n",
    "    rev_list.append(i)\n",
    "print('List=',l)\n",
    "print('Reverse_list=',rev_list)"
   ]
  },
  {
   "cell_type": "code",
   "execution_count": 16,
   "id": "844e247e",
   "metadata": {},
   "outputs": [
    {
     "name": "stdout",
     "output_type": "stream",
     "text": [
      "2\n",
      "4\n"
     ]
    }
   ],
   "source": [
    "#14. Write a Python program to find the common elements between two lists using a for loop.\n",
    "l1=[1,2,3,4,5,6]\n",
    "l2=[2,4,8,9,11]\n",
    "for i in l1:\n",
    "    for j in l2:\n",
    "        if i == j:\n",
    "            print(i)"
   ]
  },
  {
   "cell_type": "code",
   "execution_count": 17,
   "id": "49629ea8",
   "metadata": {},
   "outputs": [
    {
     "name": "stdout",
     "output_type": "stream",
     "text": [
      "apple 2\n",
      "banana 3\n",
      "orange 4\n"
     ]
    },
    {
     "data": {
      "text/plain": [
       "'\\nIn this example, the items() method is called on my_dict, which returns a list of tuples containing the key-value pairs\\nin the dictionary. The for loop iterates through each tuple in the list, \\nunpacks the key-value pair into the variables key and value, and prints them.\\n'"
      ]
     },
     "execution_count": 17,
     "metadata": {},
     "output_type": "execute_result"
    }
   ],
   "source": [
    "#15. Explain how to use a for loop to iterate through the keys and values of a dictionary in Python.\n",
    "my_dict = {\"apple\": 2, \"banana\": 3, \"orange\": 4}\n",
    "for key, value in my_dict.items():\n",
    "    print(key, value)\n",
    "'''\n",
    "In this example, the items() method is called on my_dict, which returns a list of tuples containing the key-value pairs\n",
    "in the dictionary. The for loop iterates through each tuple in the list, \n",
    "unpacks the key-value pair into the variables key and value, and prints them.\n",
    "'''"
   ]
  },
  {
   "cell_type": "code",
   "execution_count": 18,
   "id": "68c2cd5e",
   "metadata": {},
   "outputs": [
    {
     "data": {
      "text/plain": [
       "'2 is the GCD of 12 and 34'"
      ]
     },
     "execution_count": 18,
     "metadata": {},
     "output_type": "execute_result"
    }
   ],
   "source": [
    "#16. Write a Python program to find the GCD (Greatest Common Divisor) of two numbers using a for loop.\n",
    "def GCD(x,y):\n",
    "    if x>y:\n",
    "        small=y\n",
    "    else:\n",
    "        small=x\n",
    "        for i in range(small,1,-1):\n",
    "            if x%i==0 and y%i==0:\n",
    "                return f'{i} is the GCD of {x} and {y}'\n",
    "GCD(12,34)"
   ]
  },
  {
   "cell_type": "code",
   "execution_count": 24,
   "id": "012703b5",
   "metadata": {},
   "outputs": [
    {
     "name": "stdout",
     "output_type": "stream",
     "text": [
      "Yes\n"
     ]
    }
   ],
   "source": [
    "#17. Create a Python program that checks if a string is a palindrome using a for loop.\n",
    "def isPalindrome(str):\n",
    " \n",
    "    for i in range(0, int(len(str)/2)):\n",
    "        if str[i] != str[len(str)-i-1]:\n",
    "            return False\n",
    "    return True\n",
    " \n",
    "s = \"radar\"\n",
    "ans = isPalindrome(s)\n",
    " \n",
    "if (ans):\n",
    "    print(\"Yes\")\n",
    "else:\n",
    "    print(\"No\")"
   ]
  },
  {
   "cell_type": "code",
   "execution_count": 32,
   "id": "3b96a6ba",
   "metadata": {},
   "outputs": [
    {
     "name": "stdout",
     "output_type": "stream",
     "text": [
      "[1, 2, 3, 4, 7, 9, 12]\n"
     ]
    }
   ],
   "source": [
    "#18. Write a Python program to remove duplicates from a list using a for loop.\n",
    "l=[1,2,3,4,2,7,9,12,4,7]\n",
    "new_l=[]\n",
    "for i in l:\n",
    "    if i not in new_l:\n",
    "        new_l.append(i)\n",
    "print(new_l)"
   ]
  },
  {
   "cell_type": "code",
   "execution_count": 33,
   "id": "e7e48d26",
   "metadata": {},
   "outputs": [
    {
     "name": "stdout",
     "output_type": "stream",
     "text": [
      "No of words= 3\n"
     ]
    }
   ],
   "source": [
    "#19. Create a Python program that counts the number of words in a sentence using a for loop.\n",
    "s='I love India'\n",
    "count=0\n",
    "words=s.split()\n",
    "for word in words:\n",
    "    count+=1\n",
    "print('No of words=',count)"
   ]
  },
  {
   "cell_type": "code",
   "execution_count": 34,
   "id": "430ae6de",
   "metadata": {},
   "outputs": [
    {
     "name": "stdout",
     "output_type": "stream",
     "text": [
      "Sum of odd numbers= 650\n"
     ]
    }
   ],
   "source": [
    "#20. Write a Python program to find the sum of all odd numbers from 1 to 50 using a for loop.\n",
    "sum_odd=0\n",
    "for i in range(1,51):\n",
    "    if i%2==0:\n",
    "        sum_odd=sum_odd+i\n",
    "print('Sum of odd numbers=',sum_odd)"
   ]
  },
  {
   "cell_type": "code",
   "execution_count": 36,
   "id": "102bdbef",
   "metadata": {},
   "outputs": [
    {
     "name": "stdout",
     "output_type": "stream",
     "text": [
      "2000 is a leap year\n"
     ]
    }
   ],
   "source": [
    "#21. Write a Python program that checks if a given year is a leap year using a for loop.\n",
    "year=2000\n",
    "if year%4==0:\n",
    "    if year%100==0:\n",
    "        if year%400==0:\n",
    "            print(f'{year} is a leap year')\n",
    "else:\n",
    "    print(f'{year} is not a leap year')"
   ]
  },
  {
   "cell_type": "code",
   "execution_count": 31,
   "id": "13a7c355",
   "metadata": {},
   "outputs": [
    {
     "name": "stdout",
     "output_type": "stream",
     "text": [
      "Enter a number: 36\n",
      "The square root of 36.0 is: 6.0\n"
     ]
    }
   ],
   "source": [
    "#22. Create a Python program that calculates the square root of a number using a for loop.\n",
    "number = float(input(\"Enter a number: \"))\n",
    "\n",
    "if number < 0:\n",
    "    print(\"Error: The number must be non-negative.\")\n",
    "else:\n",
    "    # Initial guess for the square root\n",
    "    guess = number / 2\n",
    "\n",
    "    # Iterate until the guess is accurate enough\n",
    "    for i in range(10):\n",
    "        guess = (guess + number / guess) / 2\n",
    "\n",
    "    print(\"The square root of\", number, \"is:\", guess)"
   ]
  },
  {
   "cell_type": "code",
   "execution_count": 43,
   "id": "26542db3",
   "metadata": {},
   "outputs": [
    {
     "data": {
      "text/plain": [
       "'LCM of 24 and 104 is 312'"
      ]
     },
     "execution_count": 43,
     "metadata": {},
     "output_type": "execute_result"
    }
   ],
   "source": [
    "#23. Write a Python program to find the LCM (Least Common Multiple) of two numbers using a for loop.\n",
    "def LCM(x,y):\n",
    "    if x>y:\n",
    "        small=y\n",
    "    else:\n",
    "        small=x\n",
    "    for i in range(small,(x*y)+1):\n",
    "        if i%x==0 and i%y==0:\n",
    "            return f'LCM of {x} and {y} is {i}'\n",
    "            break\n",
    "LCM(24,104)"
   ]
  },
  {
   "cell_type": "markdown",
   "id": "c89305a7",
   "metadata": {},
   "source": [
    "# If else :"
   ]
  },
  {
   "cell_type": "code",
   "execution_count": 45,
   "id": "15876511",
   "metadata": {},
   "outputs": [
    {
     "name": "stdout",
     "output_type": "stream",
     "text": [
      "n=14\n",
      "14 is a positive number\n"
     ]
    }
   ],
   "source": [
    "#1. Write a Python program to check if a number is positive, negative, or zero using an if-else statement.\n",
    "n=int(input('n='))\n",
    "if n>0:\n",
    "    print(f'{n} is a positive number')\n",
    "elif n<0:\n",
    "    print(f'{n} is a negative number')\n",
    "else:\n",
    "    print(f'{n} the value of n is zero')"
   ]
  },
  {
   "cell_type": "code",
   "execution_count": 48,
   "id": "3cc20bc7",
   "metadata": {},
   "outputs": [
    {
     "name": "stdout",
     "output_type": "stream",
     "text": [
      "n=56\n",
      "56 is a even number\n"
     ]
    }
   ],
   "source": [
    "#2. Create a Python program that checks if a given number is even or odd using an if-else statement.\n",
    "n=int(input('n='))\n",
    "if n%2==0:\n",
    "    print(f'{n} is a even number')\n",
    "else:\n",
    "    print(f'{n} is a odd number')"
   ]
  },
  {
   "cell_type": "code",
   "execution_count": 58,
   "id": "8d4d1530",
   "metadata": {},
   "outputs": [
    {
     "name": "stdout",
     "output_type": "stream",
     "text": [
      "Your grade is: C\n"
     ]
    },
    {
     "data": {
      "text/plain": [
       "'\\nn this example, the program checks the value of the score variable and assigns a letter grade based on the following \\nconditions:\\n\\nIf the score is 90 or above, the grade is \"A\".\\nIf the score is between 80 and 89, the grade is \"B\".\\nIf the score is between 70 and 79, the grade is \"C\".\\nIf the score is between 60 and 69, the grade is \"D\".\\nIf the score is below 60, the grade is \"F\".\\nThe nested if-else statements are used to check each condition in a hierarchical manner. \\nThe first if statement checks if the score is 90 or above. If it is, the grade is set to \"A\". \\nIf not, the second if statement checks if the score is between 80 and 89. If it is, the grade is set to \"B\", and so on.\\n\\nYou can use nested if-else statements in Python to create complex branching structures that depend on multiple conditions. \\nHowever, it\\'s important to keep in mind that too many nested statements can make your code hard to read and understand. \\nIn some cases, it may be better to use other control structures like switch statements or dictionaries instead.\\n'"
      ]
     },
     "execution_count": 58,
     "metadata": {},
     "output_type": "execute_result"
    }
   ],
   "source": [
    "#3. How can you use nested if-else statements in Python, and provide an example?\n",
    "#In Python, you can use nested if-else statements to create a branching structure where multiple conditions are checked in a hierarchical manner. Here's an example:\n",
    "score = 75\n",
    "\n",
    "if score >= 90:\n",
    "    grade = \"A\"\n",
    "else:\n",
    "    if score >= 80:\n",
    "        grade = \"B\"\n",
    "    else:\n",
    "        if score >= 70:\n",
    "            grade = \"C\"\n",
    "        else:\n",
    "            if score >= 60:\n",
    "                grade = \"D\"\n",
    "            else:\n",
    "                grade = \"F\"\n",
    "\n",
    "print(\"Your grade is:\", grade)\n",
    "\n",
    "'''\n",
    "n this example, the program checks the value of the score variable and assigns a letter grade based on the following \n",
    "conditions:\n",
    "\n",
    "If the score is 90 or above, the grade is \"A\".\n",
    "If the score is between 80 and 89, the grade is \"B\".\n",
    "If the score is between 70 and 79, the grade is \"C\".\n",
    "If the score is between 60 and 69, the grade is \"D\".\n",
    "If the score is below 60, the grade is \"F\".\n",
    "The nested if-else statements are used to check each condition in a hierarchical manner. \n",
    "The first if statement checks if the score is 90 or above. If it is, the grade is set to \"A\". \n",
    "If not, the second if statement checks if the score is between 80 and 89. If it is, the grade is set to \"B\", and so on.\n",
    "\n",
    "You can use nested if-else statements in Python to create complex branching structures that depend on multiple conditions. \n",
    "However, it's important to keep in mind that too many nested statements can make your code hard to read and understand. \n",
    "In some cases, it may be better to use other control structures like switch statements or dictionaries instead.\n",
    "'''\n"
   ]
  },
  {
   "cell_type": "code",
   "execution_count": 54,
   "id": "6adde2c7",
   "metadata": {},
   "outputs": [
    {
     "name": "stdout",
     "output_type": "stream",
     "text": [
      "19 is grater than 12 and 14\n"
     ]
    }
   ],
   "source": [
    "#4. Write a Python program to determine the largest of three numbers using if-else.\n",
    "def largest(x,y,z):\n",
    "    if x>y and x>z:\n",
    "        print(f'{x} is grater than {y} and {z}')\n",
    "    elif y>x and y>z:\n",
    "        print(f'{y} is grater than {x} and {z}')\n",
    "    else:\n",
    "        print(f'{z} is grater than {x} and {y}')\n",
    "largest(12,14,19)"
   ]
  },
  {
   "cell_type": "code",
   "execution_count": 55,
   "id": "f260ccb4",
   "metadata": {},
   "outputs": [
    {
     "name": "stdout",
     "output_type": "stream",
     "text": [
      "n=-12\n",
      "Absolute value of n= 12\n"
     ]
    }
   ],
   "source": [
    "#5. Write a Python program that calculates the absolute value of a number using if-else.\n",
    "n=int(input('n='))\n",
    "if n>=0:\n",
    "    print('Absolute value of n=',n)\n",
    "else:\n",
    "    print('Absolute value of n=',-1*n)"
   ]
  },
  {
   "cell_type": "code",
   "execution_count": 57,
   "id": "a8c895d7",
   "metadata": {},
   "outputs": [
    {
     "name": "stdout",
     "output_type": "stream",
     "text": [
      "c=l\n",
      "The character is in consonant\n"
     ]
    }
   ],
   "source": [
    "#6. Create a Python program that checks if a given character is a vowel or consonant using if-else.\n",
    "c=input('c=')\n",
    "vowel=['a','e','i','o','u','A','E','I','O','U']\n",
    "if c in vowel:\n",
    "    print('The character is in vowel')\n",
    "else:\n",
    "    print('The character is in consonant')"
   ]
  },
  {
   "cell_type": "code",
   "execution_count": 1,
   "id": "9c53a2c7",
   "metadata": {},
   "outputs": [
    {
     "name": "stdout",
     "output_type": "stream",
     "text": [
      "age=23\n",
      "User is eligible to vote\n"
     ]
    }
   ],
   "source": [
    "#7. Write a Python program to determine if a user is eligible to vote based on their age using if-else.\n",
    "age=int(input('age='))\n",
    "if age>=18:\n",
    "    print('User is eligible to vote')\n",
    "else:\n",
    "    print('User is not eligible to vote')"
   ]
  },
  {
   "cell_type": "code",
   "execution_count": 3,
   "id": "ca8269f3",
   "metadata": {},
   "outputs": [
    {
     "name": "stdout",
     "output_type": "stream",
     "text": [
      "amount=1230\n",
      "Discount amount= 123.0\n"
     ]
    }
   ],
   "source": [
    "#8. Create a Python program that calculates the discount amount based on the purchase amount using if-else.\n",
    "p_amount=int(input('amount='))\n",
    "if p_amount>=1000:\n",
    "    d_amount=(10*p_amount)/100\n",
    "else:\n",
    "    d_amount=0\n",
    "print('Discount amount=',d_amount)"
   ]
  },
  {
   "cell_type": "code",
   "execution_count": 4,
   "id": "3dc4f0c6",
   "metadata": {},
   "outputs": [
    {
     "name": "stdout",
     "output_type": "stream",
     "text": [
      "number=123\n",
      "Number is not with in the range\n"
     ]
    }
   ],
   "source": [
    "#9. Write a Python program to check if a number is within a specified range using if-else.\n",
    "number=int(input('number='))\n",
    "if 10<=number and 100>=number:\n",
    "    print('Number with in the range')\n",
    "else:\n",
    "    print('Number is not with in the range')"
   ]
  },
  {
   "cell_type": "code",
   "execution_count": 5,
   "id": "115ff106",
   "metadata": {},
   "outputs": [
    {
     "name": "stdout",
     "output_type": "stream",
     "text": [
      "score=56\n",
      "C+\n"
     ]
    }
   ],
   "source": [
    "#10. Create a Python program that determines the grade of a student based on their score using if-else.\n",
    "score=int(input('score='))\n",
    "if score>90 and score<=100:\n",
    "    print('A+')\n",
    "elif score>80 and score<=90:\n",
    "    print('A')\n",
    "elif score>70 and score<=80:\n",
    "    print('B+')\n",
    "elif score>60 and score<=70:\n",
    "    print('B')\n",
    "elif score>50 and score<=60:\n",
    "    print('C+')\n",
    "elif score>=40 and score<=50:\n",
    "    print('C')\n",
    "else:\n",
    "    print('Fail')"
   ]
  },
  {
   "cell_type": "code",
   "execution_count": 9,
   "id": "61a935e9",
   "metadata": {},
   "outputs": [
    {
     "name": "stdout",
     "output_type": "stream",
     "text": [
      "String is not empty\n"
     ]
    }
   ],
   "source": [
    "#11. Write a Python program to check if a string is empty or not using if-else.\n",
    "s='Manab'\n",
    "if s:\n",
    "    print('String is not empty')\n",
    "else:\n",
    "    print('String is empty')"
   ]
  },
  {
   "cell_type": "code",
   "execution_count": 12,
   "id": "27336d24",
   "metadata": {},
   "outputs": [
    {
     "name": "stdout",
     "output_type": "stream",
     "text": [
      "x=12\n",
      "y=13\n",
      "z=13\n",
      "It is a isosceles triangle\n"
     ]
    }
   ],
   "source": [
    "#12. Create a Python program that identifies the type of a triangle (e.g., equilateral, isosceles, or scalene) based on input values using if-else.\n",
    "x=int(input('x='))\n",
    "y=int(input('y='))\n",
    "z=int(input('z='))\n",
    "if x==y and y==z:\n",
    "    print('It is a equilateral triangle')\n",
    "elif x==y or x==z or y==z:\n",
    "    print('It is a isosceles triangle')\n",
    "else:\n",
    "    print('It is a scalene triangle')"
   ]
  },
  {
   "cell_type": "code",
   "execution_count": 16,
   "id": "1c5bb015",
   "metadata": {},
   "outputs": [
    {
     "name": "stdout",
     "output_type": "stream",
     "text": [
      "Enter a number between 0 to 6 number=9\n",
      "Enter a valid number between 0 to 6\n"
     ]
    }
   ],
   "source": [
    "#13. Write a Python program to determine the day of the week based on a user-provided number using if-else.\n",
    "number=int(input('Enter a number between 0 to 6 number='))\n",
    "if number==0:\n",
    "    print('Sunday')\n",
    "elif number==1:\n",
    "    print('Monday')\n",
    "elif number==2:\n",
    "    print('Tuesday')\n",
    "elif number==3:\n",
    "    print('Wednesday')\n",
    "elif number==4:\n",
    "    print('Thursday')\n",
    "elif number==5:\n",
    "    print('Friday')\n",
    "elif number==6:\n",
    "    print('Saturday')\n",
    "else:\n",
    "    print('Enter a valid number between 0 to 6')"
   ]
  },
  {
   "cell_type": "code",
   "execution_count": 17,
   "id": "55a80041",
   "metadata": {},
   "outputs": [
    {
     "name": "stdout",
     "output_type": "stream",
     "text": [
      "2000 is a leap year\n"
     ]
    }
   ],
   "source": [
    "#14. Create a Python program that checks if a given year is a leap year using both if-else and a function.\n",
    "year=2000\n",
    "if year%4==0:\n",
    "    if year%100==0:\n",
    "        if year%400==0:\n",
    "            print(f'{year} is a leap year')\n",
    "else:\n",
    "    print(f'{year} is not a leap year')"
   ]
  },
  {
   "cell_type": "code",
   "execution_count": 18,
   "id": "02f61fe6",
   "metadata": {},
   "outputs": [
    {
     "name": "stdout",
     "output_type": "stream",
     "text": [
      "x is valid\n"
     ]
    }
   ],
   "source": [
    "#15. How do you use the \"assert\" statement in Python to add debugging checks within if-else blocks?\n",
    "x = 5\n",
    "\n",
    "if x > 0:\n",
    "    assert x < 10, \"x should be less than 10\"\n",
    "    print(\"x is valid\")\n",
    "else:\n",
    "    print(\"x is not valid\")"
   ]
  },
  {
   "cell_type": "code",
   "execution_count": 19,
   "id": "f01deb34",
   "metadata": {},
   "outputs": [
    {
     "name": "stdout",
     "output_type": "stream",
     "text": [
      "Age of that person=65\n",
      "The person is eligible for the senior citizon discount\n"
     ]
    }
   ],
   "source": [
    "#16. Create a Python program that determines the eligibility of a person for a senior citizen discount based on age using if-else.\n",
    "age=int(input('Age of that person='))\n",
    "if age >=60:\n",
    "    print('The person is eligible for the senior citizon discount')\n",
    "else:\n",
    "    print('The person is not eligable for scenior citizon discount')"
   ]
  },
  {
   "cell_type": "code",
   "execution_count": 20,
   "id": "b6dbaa33",
   "metadata": {},
   "outputs": [
    {
     "name": "stdout",
     "output_type": "stream",
     "text": [
      "Enter a character=A\n",
      "A is in uppercase\n"
     ]
    }
   ],
   "source": [
    "#17. Write a Python program to categorize a given character as uppercase, lowercase, or neither using if-else.\n",
    "c=input('Enter a character=')\n",
    "if c.isupper():\n",
    "    print(f'{c} is in uppercase')\n",
    "elif c.islower():\n",
    "    print(f'{c} is in lowercase')\n",
    "else:\n",
    "    print('The charcater is nither uppercase nor in lowercase')"
   ]
  },
  {
   "cell_type": "code",
   "execution_count": 21,
   "id": "0eb2fc99",
   "metadata": {},
   "outputs": [
    {
     "name": "stdout",
     "output_type": "stream",
     "text": [
      "Enter the coefficient of x^2: 3\n",
      "Enter the coefficient of x: 4\n",
      "Enter the constant term: 5\n",
      "The roots are complex.\n",
      "Root 1 = -0.6666666666666666 + 1.1055415967851332i\n",
      "Root 2 = -0.6666666666666666 - 1.1055415967851332i\n"
     ]
    }
   ],
   "source": [
    "#18. Write a Python program to determine the roots of a quadratic equation using if-else.\n",
    "import math\n",
    "\n",
    "a = float(input(\"Enter the coefficient of x^2: \"))\n",
    "b = float(input(\"Enter the coefficient of x: \"))\n",
    "c = float(input(\"Enter the constant term: \"))\n",
    "\n",
    "\n",
    "discriminant = b**2 - 4*a*c\n",
    "\n",
    "if discriminant > 0:\n",
    "    \n",
    "    root1 = (-b + math.sqrt(discriminant)) / (2*a)\n",
    "    root2 = (-b - math.sqrt(discriminant)) / (2*a)\n",
    "    print(\"The roots are real and distinct.\")\n",
    "    print(\"Root 1 =\", root1)\n",
    "    print(\"Root 2 =\", root2)\n",
    "elif discriminant == 0:\n",
    "    \n",
    "    root = -b / (2*a)\n",
    "    print(\"The root is real and repeated.\")\n",
    "    print(\"Root =\", root)\n",
    "else:\n",
    "    \n",
    "    real_part = -b / (2*a)\n",
    "    imag_part = math.sqrt(-discriminant) / (2*a)\n",
    "    print(\"The roots are complex.\")\n",
    "    print(f\"Root 1 = {real_part} + {imag_part}i\")\n",
    "    print(f\"Root 2 = {real_part} - {imag_part}i\")"
   ]
  },
  {
   "cell_type": "code",
   "execution_count": 22,
   "id": "114f73f3",
   "metadata": {},
   "outputs": [
    {
     "name": "stdout",
     "output_type": "stream",
     "text": [
      "Year=2000\n",
      "The given year is a century year\n"
     ]
    }
   ],
   "source": [
    "#19. Create a Python program that checks if a given year is a century year or not using if-else.\n",
    "year=int(input('Year='))\n",
    "if year%100==0:\n",
    "    print('The given year is a century year')\n",
    "else:\n",
    "    print('The given year is not a century year')"
   ]
  },
  {
   "cell_type": "code",
   "execution_count": 23,
   "id": "eb2a57ae",
   "metadata": {},
   "outputs": [
    {
     "name": "stdout",
     "output_type": "stream",
     "text": [
      "Enter the number=24\n",
      "The number is not a perfect square.\n"
     ]
    }
   ],
   "source": [
    "#20. Write a Python program to determine if a given number is a perfect square using if-else.\n",
    "import math\n",
    "n=int(input('Enter the number='))\n",
    "sqrt = math.isqrt(n)\n",
    "if sqrt * sqrt == n:\n",
    "    print(\"The number is a perfect square.\")\n",
    "else:\n",
    "    print(\"The number is not a perfect square.\")\n"
   ]
  },
  {
   "cell_type": "code",
   "execution_count": 24,
   "id": "6581c851",
   "metadata": {},
   "outputs": [
    {
     "name": "stdout",
     "output_type": "stream",
     "text": [
      "1\n",
      "2\n",
      "4\n",
      "5\n",
      "1\n",
      "2\n",
      "3\n"
     ]
    }
   ],
   "source": [
    "#21. Explain the purpose of the \"continue\" and \"break\" statements within if-else loops.\n",
    "'''The \"continue\" statement is used to skip the remaining code in the current iteration of a loop \n",
    "and move on to the next iteration. When encountered, it immediately jumps to the next iteration without executing \n",
    "any further statements within the loop. This can be useful when you want to skip certain iterations \n",
    "based on a specific condition.'''\n",
    "for i in range(1, 6):\n",
    "    if i == 3:\n",
    "        continue\n",
    "    print(i)\n",
    "\n",
    "'''The \"break\" statement is used to terminate the loop prematurely when a certain condition is met. \n",
    "When encountered, it immediately exits the loop, regardless of whether there are remaining iterations or not. \n",
    "This can be useful when you want to stop the loop based on a specific condition.'''\n",
    "\n",
    "for i in range(1, 6):\n",
    "    if i == 4:\n",
    "        break\n",
    "    print(i)\n"
   ]
  },
  {
   "cell_type": "code",
   "execution_count": 25,
   "id": "e1f0869f",
   "metadata": {},
   "outputs": [
    {
     "name": "stdout",
     "output_type": "stream",
     "text": [
      "Enter your weight in kilograms: 74\n",
      "Enter your height in meters: 1.56\n",
      "Your BMI is: 30.407626561472714\n",
      "Category: Obese\n"
     ]
    }
   ],
   "source": [
    "#22. Create a Python program that calculates the BMI (Body Mass Index) of a person based on their weight and height using if-else.\n",
    "weight = float(input(\"Enter your weight in kilograms: \"))\n",
    "height = float(input(\"Enter your height in meters: \"))\n",
    "\n",
    "bmi = weight / (height ** 2)\n",
    "\n",
    "if bmi < 18.5:\n",
    "    category = \"Underweight\"\n",
    "elif bmi < 25:\n",
    "    category = \"Normal weight\"\n",
    "elif bmi < 30:\n",
    "    category = \"Overweight\"\n",
    "else:\n",
    "    category = \"Obese\"\n",
    "\n",
    "print(\"Your BMI is:\", bmi)\n",
    "print(\"Category:\", category)"
   ]
  },
  {
   "cell_type": "code",
   "execution_count": 26,
   "id": "942e83da",
   "metadata": {},
   "outputs": [
    {
     "name": "stdout",
     "output_type": "stream",
     "text": [
      "Filtered numbers: [2, 4, 6, 8, 10]\n"
     ]
    }
   ],
   "source": [
    "#23. How can you use the \"filter()\" function with if-else statements to filter elements from a list?\n",
    "'''The filter() function in Python can be used to filter elements from a list based on a specified condition. \n",
    "While filter() itself does not directly use if-else statements, \n",
    "you can combine it with a lambda function or a regular function that includes if-else statements to define the \n",
    "filtering condition.'''\n",
    "numbers = [1, 2, 3, 4, 5, 6, 7, 8, 9, 10]\n",
    "\n",
    "filtered_numbers = list(filter(lambda x: x % 2 == 0, numbers))\n",
    "\n",
    "print(\"Filtered numbers:\", filtered_numbers)"
   ]
  },
  {
   "cell_type": "code",
   "execution_count": 30,
   "id": "42d11f96",
   "metadata": {},
   "outputs": [
    {
     "name": "stdout",
     "output_type": "stream",
     "text": [
      "n=17\n",
      "17 is a prime number\n"
     ]
    }
   ],
   "source": [
    "#24. Write a Python program to determine if a given number is prime or not using if-else.\n",
    "def is_prime(n):\n",
    "    sum=0\n",
    "    for i in range(2,n):\n",
    "        if n%i==0:\n",
    "            sum=sum+1\n",
    "    if sum==0:\n",
    "        print(f'{n} is a prime number')\n",
    "    else:\n",
    "        print(f'{n} is not a prime number')\n",
    "n=int(input('n='))\n",
    "is_prime(n)"
   ]
  },
  {
   "cell_type": "markdown",
   "id": "bc7cbe33",
   "metadata": {},
   "source": [
    "# Map :-"
   ]
  },
  {
   "cell_type": "code",
   "execution_count": 1,
   "id": "d31c2937",
   "metadata": {},
   "outputs": [
    {
     "data": {
      "text/plain": [
       "[1, 4, 9, 16, 25]"
      ]
     },
     "execution_count": 1,
     "metadata": {},
     "output_type": "execute_result"
    }
   ],
   "source": [
    "#1. Explain the purpose of the `map()` function in Python and provide an example of how it can be used to apply a function to each element of an iterable.\n",
    "\n",
    "'''The map() function in Python is used to apply a given function to each element of an iterable (e.g., a list, tuple, \n",
    "or string) and returns a new iterator with the results.\n",
    "\n",
    "Here's an example to illustrate its usage:'''\n",
    "def square(x):\n",
    "    return x ** 2\n",
    "numbers = [1, 2, 3, 4, 5]\n",
    "list(map(square, numbers))"
   ]
  },
  {
   "cell_type": "code",
   "execution_count": 2,
   "id": "86172aef",
   "metadata": {},
   "outputs": [
    {
     "data": {
      "text/plain": [
       "[1, 4, 9, 16, 25]"
      ]
     },
     "execution_count": 2,
     "metadata": {},
     "output_type": "execute_result"
    }
   ],
   "source": [
    "#2. Write a Python program that uses the `map()` function to square each element of a list of numbers.\n",
    "l=[1, 2, 3, 4, 5]\n",
    "list(map(lambda i:i**2,l))"
   ]
  },
  {
   "cell_type": "code",
   "execution_count": 3,
   "id": "ca49a61d",
   "metadata": {},
   "outputs": [
    {
     "data": {
      "text/plain": [
       "\"The map() function and list comprehensions in Python both provide ways to perform transformations on iterables, \\nbut they differ in syntax and usage.\\n\\nHere are the key differences:\\n\\nSyntax: map() takes a function and an iterable as arguments, while list comprehensions have a more concise syntax \\nthat combines the transformation logic and iterable in a single expression.\\n\\nOutput: map() returns an iterator, whereas list comprehensions return a new list.\\n\\nWhen to choose map():\\n\\nWhen you want to apply a specific function to each element of an iterable, especially if the function is already \\ndefined separately.\\nWhen you want to work with large datasets and prefer an iterator to avoid storing the entire result in memory.\\nWhen to choose list comprehensions:\\n\\nWhen the transformation logic can be expressed concisely within the comprehension itself, without the need for a \\nseparate function.\\nWhen you want the result as a list and don't need lazy evaluation.\\nWhen you want to combine filtering and mapping operations in a single expression.\\nIn general, the choice between map() and list comprehensions depends on the specific use case, readability, \\nand personal preference.\\n\\nanswer again\\nsearch web and ask GPT-4\\nPrompt\\nGPT-4\\n\""
      ]
     },
     "execution_count": 3,
     "metadata": {},
     "output_type": "execute_result"
    }
   ],
   "source": [
    "#3. How does the `map()` function differ from a list comprehension in Python, and when would you choose one over the other?\n",
    "\n",
    "'''The map() function and list comprehensions in Python both provide ways to perform transformations on iterables, \n",
    "but they differ in syntax and usage.\n",
    "\n",
    "Here are the key differences:\n",
    "\n",
    "Syntax: map() takes a function and an iterable as arguments, while list comprehensions have a more concise syntax \n",
    "that combines the transformation logic and iterable in a single expression.\n",
    "\n",
    "Output: map() returns an iterator, whereas list comprehensions return a new list.\n",
    "\n",
    "When to choose map():\n",
    "\n",
    "When you want to apply a specific function to each element of an iterable, especially if the function is already \n",
    "defined separately.\n",
    "When you want to work with large datasets and prefer an iterator to avoid storing the entire result in memory.\n",
    "When to choose list comprehensions:\n",
    "\n",
    "When the transformation logic can be expressed concisely within the comprehension itself, without the need for a \n",
    "separate function.\n",
    "When you want the result as a list and don't need lazy evaluation.\n",
    "When you want to combine filtering and mapping operations in a single expression.\n",
    "In general, the choice between map() and list comprehensions depends on the specific use case, readability, \n",
    "and personal preference.\n",
    "\n",
    "answer again\n",
    "search web and ask GPT-4\n",
    "Prompt\n",
    "GPT-4\n",
    "'''"
   ]
  },
  {
   "cell_type": "code",
   "execution_count": 4,
   "id": "d1f7648d",
   "metadata": {},
   "outputs": [
    {
     "data": {
      "text/plain": [
       "['MANAB', 'AVICK', 'SOUBHIK']"
      ]
     },
     "execution_count": 4,
     "metadata": {},
     "output_type": "execute_result"
    }
   ],
   "source": [
    "#4. Create a Python program that uses the `map()` function to convert a list of names to uppercase.\n",
    "l=['Manab','Avick','Soubhik']\n",
    "list(map(lambda i:i.upper(),l))"
   ]
  },
  {
   "cell_type": "code",
   "execution_count": 5,
   "id": "ba93772b",
   "metadata": {},
   "outputs": [
    {
     "data": {
      "text/plain": [
       "[5, 5, 7]"
      ]
     },
     "execution_count": 5,
     "metadata": {},
     "output_type": "execute_result"
    }
   ],
   "source": [
    "#5. Write a Python program that uses the `map()` function to calculate the length of each word in a list of strings.\n",
    "l=['Manab','Avick','Soubhik']\n",
    "list(map(lambda i:len(i),l))"
   ]
  },
  {
   "cell_type": "code",
   "execution_count": 6,
   "id": "5fbac509",
   "metadata": {},
   "outputs": [
    {
     "data": {
      "text/plain": [
       "[5, 7, 9]"
      ]
     },
     "execution_count": 6,
     "metadata": {},
     "output_type": "execute_result"
    }
   ],
   "source": [
    "#6. How can you use the `map()` function to apply a custom function to elements of multiple lists simultaneously in Python?\n",
    "'''To apply a custom function to elements of multiple lists simultaneously using the map() function in Python, \n",
    "you can pass multiple iterables as arguments to map(). The function should also accept multiple arguments\n",
    "corresponding to the elements from each iterable.'''\n",
    "\n",
    "def add_numbers(x, y):\n",
    "    return x + y\n",
    "\n",
    "list1 = [1, 2, 3]\n",
    "list2 = [4, 5, 6]\n",
    "list(map(add_numbers, list1, list2))"
   ]
  },
  {
   "cell_type": "code",
   "execution_count": 8,
   "id": "f03774ee",
   "metadata": {},
   "outputs": [
    {
     "data": {
      "text/plain": [
       "[91.4, 93.2, 95.0, 96.8]"
      ]
     },
     "execution_count": 8,
     "metadata": {},
     "output_type": "execute_result"
    }
   ],
   "source": [
    "#7. Create a Python program that uses `map()` to convert a list of temperatures from Celsius to Fahrenheit.\n",
    "c=[33,34,35,36]\n",
    "list(map(lambda i:((i*9)/5)+32,c))"
   ]
  },
  {
   "cell_type": "code",
   "execution_count": 9,
   "id": "d04b9aa4",
   "metadata": {},
   "outputs": [
    {
     "data": {
      "text/plain": [
       "[34, 12, 24, 25]"
      ]
     },
     "execution_count": 9,
     "metadata": {},
     "output_type": "execute_result"
    }
   ],
   "source": [
    "#8. Write a Python program that uses the `map()` function to round each element of a list of floating-point numbers to the nearest integer.\n",
    "l=[34.2,12.5,23.9,24.8]\n",
    "list(map(round,l))"
   ]
  },
  {
   "cell_type": "markdown",
   "id": "a26ed5bd",
   "metadata": {},
   "source": [
    "# Reduce :-"
   ]
  },
  {
   "cell_type": "code",
   "execution_count": 10,
   "id": "142fccce",
   "metadata": {},
   "outputs": [
    {
     "data": {
      "text/plain": [
       "120"
      ]
     },
     "execution_count": 10,
     "metadata": {},
     "output_type": "execute_result"
    }
   ],
   "source": [
    "#1. What is the `reduce()` function in Python, and what module should you import to use it? Provide an example of its basic usage.\n",
    "'''The reduce() function in Python is used to apply a function to elements of an iterable in a cumulative way, \n",
    "reducing them to a single value. It is part of the functools module, so you need to import it before using it.\n",
    "'''\n",
    "#Import the module \n",
    "from functools import reduce\n",
    "\n",
    "\n",
    "numbers = [1, 2, 3, 4, 5]\n",
    "reduce(lambda x, y: x * y, numbers)"
   ]
  },
  {
   "cell_type": "code",
   "execution_count": 12,
   "id": "63d578a9",
   "metadata": {},
   "outputs": [
    {
     "data": {
      "text/plain": [
       "120"
      ]
     },
     "execution_count": 12,
     "metadata": {},
     "output_type": "execute_result"
    }
   ],
   "source": [
    "#2. Write a Python program that uses the `reduce()` function to find the product of all elements in a list.\n",
    "l=[1,2,3,4,5]\n",
    "reduce(lambda a,b:a*b,l)"
   ]
  },
  {
   "cell_type": "code",
   "execution_count": 13,
   "id": "1d03663f",
   "metadata": {},
   "outputs": [
    {
     "data": {
      "text/plain": [
       "78"
      ]
     },
     "execution_count": 13,
     "metadata": {},
     "output_type": "execute_result"
    }
   ],
   "source": [
    "#3. Create a Python program that uses `reduce()` to find the maximum element in a list of numbers.\n",
    "l=[2,7,4,12,17,36,22,78]\n",
    "reduce(lambda a,b: a if a>b else b,l)"
   ]
  },
  {
   "cell_type": "code",
   "execution_count": 15,
   "id": "7d7327dd",
   "metadata": {},
   "outputs": [
    {
     "data": {
      "text/plain": [
       "'Manab Das'"
      ]
     },
     "execution_count": 15,
     "metadata": {},
     "output_type": "execute_result"
    }
   ],
   "source": [
    "#4. How can you use the `reduce()` function to concatenate a list of strings into a single string?\n",
    "l=['Manab',' ', 'Das']\n",
    "reduce(lambda a,b:a+b,l)"
   ]
  },
  {
   "cell_type": "code",
   "execution_count": 16,
   "id": "0b982612",
   "metadata": {},
   "outputs": [
    {
     "name": "stdout",
     "output_type": "stream",
     "text": [
      "n=5\n"
     ]
    },
    {
     "data": {
      "text/plain": [
       "120"
      ]
     },
     "execution_count": 16,
     "metadata": {},
     "output_type": "execute_result"
    }
   ],
   "source": [
    "#5. Write a Python program that calculates the factorial of a number using the `reduce()` function.\n",
    "n=int(input('n='))\n",
    "reduce(lambda a,b:a*b,[i for i in range(1,n+1)])"
   ]
  },
  {
   "cell_type": "code",
   "execution_count": 22,
   "id": "91bf1902",
   "metadata": {},
   "outputs": [
    {
     "data": {
      "text/plain": [
       "4"
      ]
     },
     "execution_count": 22,
     "metadata": {},
     "output_type": "execute_result"
    }
   ],
   "source": [
    "#6. Create a Python program that uses `reduce()` to find the GCD (Greatest Common Divisor) of a list of numbers.\n",
    "def GCD(x,y):\n",
    "    if x>y:\n",
    "        small=y\n",
    "    else:\n",
    "        small=x\n",
    "    for i in range(small,x*y):\n",
    "        if x%i==0 and y%i==0:\n",
    "            return i\n",
    "l=[4,8,16]\n",
    "reduce(GCD,l)"
   ]
  },
  {
   "cell_type": "code",
   "execution_count": 29,
   "id": "ca67def2",
   "metadata": {},
   "outputs": [
    {
     "data": {
      "text/plain": [
       "15"
      ]
     },
     "execution_count": 29,
     "metadata": {},
     "output_type": "execute_result"
    }
   ],
   "source": [
    "#6.7. Write a Python program that uses the `reduce()` function to find the sum of the digits of a given number.\n",
    "reduce(lambda a,b:a+b,[int(i) for i in str(12345)])"
   ]
  },
  {
   "cell_type": "markdown",
   "id": "1bb0dcf9",
   "metadata": {},
   "source": [
    "# Filter :-"
   ]
  },
  {
   "cell_type": "code",
   "execution_count": 31,
   "id": "317c4c65",
   "metadata": {},
   "outputs": [
    {
     "data": {
      "text/plain": [
       "[2, 4, 6]"
      ]
     },
     "execution_count": 31,
     "metadata": {},
     "output_type": "execute_result"
    }
   ],
   "source": [
    "#1. Explain the purpose of the `filter()` function in Python and provide an example of how it can be used to filter elements from an iterable.\n",
    "'''The filter() function in Python is used to filter elements from an iterable \n",
    "(e.g., a list, tuple, or string) based on a given condition. \n",
    "It takes a function and an iterable as arguments and returns an iterator containing only the elements for which \n",
    "the function returns True.'''\n",
    "\n",
    "def is_even(x):\n",
    "    return x % 2 == 0\n",
    "\n",
    "numbers = [1, 2, 3, 4, 5, 6]\n",
    "list(filter(is_even, numbers))\n"
   ]
  },
  {
   "cell_type": "code",
   "execution_count": 32,
   "id": "71246b33",
   "metadata": {},
   "outputs": [
    {
     "data": {
      "text/plain": [
       "[6, 8, 12, 14]"
      ]
     },
     "execution_count": 32,
     "metadata": {},
     "output_type": "execute_result"
    }
   ],
   "source": [
    "#2. Write a Python program that uses the `filter()` function to select even numbers from a list  of integers.\n",
    "l=[3,6,8,12,5,17,14]\n",
    "list(filter(lambda a:a%2==0,l))"
   ]
  },
  {
   "cell_type": "code",
   "execution_count": 33,
   "id": "dca197c4",
   "metadata": {},
   "outputs": [
    {
     "data": {
      "text/plain": [
       "['Manab']"
      ]
     },
     "execution_count": 33,
     "metadata": {},
     "output_type": "execute_result"
    }
   ],
   "source": [
    "#3. Create a Python program that uses the `filter()` function to select names that start with a specific letter from a list of strings.\n",
    "l=['Manab', 'Soubhik', 'Avick']\n",
    "list(filter(lambda a:a[0]=='M',l))"
   ]
  },
  {
   "cell_type": "code",
   "execution_count": 36,
   "id": "c9b24336",
   "metadata": {},
   "outputs": [
    {
     "data": {
      "text/plain": [
       "[13, 29, 31]"
      ]
     },
     "execution_count": 36,
     "metadata": {},
     "output_type": "execute_result"
    }
   ],
   "source": [
    "#4. Write a Python program that uses the `filter()` function to select prime numbers from a list of integers.\n",
    "def is_prime(n):\n",
    "    if n<2:\n",
    "        return False\n",
    "    else:\n",
    "        for i in range(2,int(n/2)+1):\n",
    "            if n%i==0:\n",
    "                return False\n",
    "        return True\n",
    "l=[25,13,26,27,29,31,32,33]\n",
    "list(filter(is_prime,l))"
   ]
  },
  {
   "cell_type": "code",
   "execution_count": 47,
   "id": "249ccaef",
   "metadata": {},
   "outputs": [
    {
     "data": {
      "text/plain": [
       "[2, 4, 6]"
      ]
     },
     "execution_count": 47,
     "metadata": {},
     "output_type": "execute_result"
    }
   ],
   "source": [
    "#5. How can you use the `filter()` function to remove None values from a list in Python?\n",
    "l=[2,4,6,'na']\n",
    "list(filter(lambda i:isinstance(i,int) and i>0,l))"
   ]
  },
  {
   "cell_type": "code",
   "execution_count": 45,
   "id": "b39056a2",
   "metadata": {},
   "outputs": [
    {
     "data": {
      "text/plain": [
       "['sadsd', 'asdas', 'sdasd']"
      ]
     },
     "execution_count": 45,
     "metadata": {},
     "output_type": "execute_result"
    }
   ],
   "source": [
    "#6. Create a Python program that uses `filter()` to select words longer than a certain length from a list of strings.\n",
    "l=['anbv','sadsd','asdas','sdas','sdasd']\n",
    "list(filter(lambda a:a if len(a)>4 else False,l))"
   ]
  },
  {
   "cell_type": "code",
   "execution_count": 49,
   "id": "2cd538f7",
   "metadata": {},
   "outputs": [
    {
     "data": {
      "text/plain": [
       "[45, 26, 38]"
      ]
     },
     "execution_count": 49,
     "metadata": {},
     "output_type": "execute_result"
    }
   ],
   "source": [
    "#7. Write a Python program that uses the `filter()` function to select elements greater than a specified threshold from a list of values.\n",
    "l=[12,45,23,17,22,26,38]\n",
    "list(filter(lambda a: True if a>23 else False,l))"
   ]
  },
  {
   "cell_type": "markdown",
   "id": "a5d9b978",
   "metadata": {},
   "source": [
    "# Recursion:-"
   ]
  },
  {
   "cell_type": "code",
   "execution_count": null,
   "id": "5d40d8c2",
   "metadata": {},
   "outputs": [],
   "source": [
    "#1. Explain the concept of recursion in Python. How does it differ from iteration?\n"
   ]
  },
  {
   "cell_type": "code",
   "execution_count": 50,
   "id": "6a8f85ed",
   "metadata": {},
   "outputs": [
    {
     "data": {
      "text/plain": [
       "120"
      ]
     },
     "execution_count": 50,
     "metadata": {},
     "output_type": "execute_result"
    }
   ],
   "source": [
    "#2. Write a Python program to calculate the factorial of a number using recursion.\n",
    "def fact(n):\n",
    "    if n==0:\n",
    "        return 1\n",
    "    else:\n",
    "        return n*fact(n-1)\n",
    "fact(5)"
   ]
  },
  {
   "cell_type": "code",
   "execution_count": 51,
   "id": "66fbc251",
   "metadata": {},
   "outputs": [
    {
     "data": {
      "text/plain": [
       "13"
      ]
     },
     "execution_count": 51,
     "metadata": {},
     "output_type": "execute_result"
    }
   ],
   "source": [
    "#3. Create a recursive Python function to find the nth Fibonacci number.\n",
    "def find_fib(n):\n",
    "    if n<=1:\n",
    "        return 1\n",
    "    else:\n",
    "        return find_fib(n-1)+find_fib(n-2)\n",
    "find_fib(6)"
   ]
  },
  {
   "cell_type": "code",
   "execution_count": 1,
   "id": "eaab30e9",
   "metadata": {},
   "outputs": [
    {
     "data": {
      "text/plain": [
       "10"
      ]
     },
     "execution_count": 1,
     "metadata": {},
     "output_type": "execute_result"
    }
   ],
   "source": [
    "#4. Write a recursive Python function to calculate the sum of all elements in a list.\n",
    "def sum_ele(l):\n",
    "    if len(l) == 0:\n",
    "        return 0\n",
    "    else:\n",
    "        return l[0] + sum_ele(l[1:])\n",
    "\n",
    "l = [1, 2, 3, 4]\n",
    "sum_ele(l)"
   ]
  },
  {
   "cell_type": "code",
   "execution_count": 2,
   "id": "6ada45d3",
   "metadata": {},
   "outputs": [
    {
     "data": {
      "text/plain": [
       "'\\nTo prevent a recursive function from running indefinitely and causing a stack overflow error, \\nyou can use the following techniques:\\n\\n1. Define a base case: Every recursive function should have a base case that stops the recursion. \\n   The base case should be defined such that it is eventually reached after a finite number of recursive calls.\\n\\n2. Limit the depth of recursion: You can limit the depth of recursion by passing a counter or a depth parameter to \\n   the recursive function. When the counter or depth parameter reaches a certain limit, the function should return \\n   without making any further recursive calls.\\n\\n3. Use tail recursion: Tail recursion is a technique where the last operation in a function is a recursive call. \\n   In some programming languages, such as Scheme, tail recursion can be optimized by the compiler or interpreter to \\n   avoid stack overflow errors.\\n\\nBy using these techniques, you can prevent a recursive function from running indefinitely and \\ncausing a stack overflow error.\\n'"
      ]
     },
     "execution_count": 2,
     "metadata": {},
     "output_type": "execute_result"
    }
   ],
   "source": [
    "#5. How can you prevent a recursive function from running indefinitely, causing a stack overflow error?\n",
    "'''\n",
    "To prevent a recursive function from running indefinitely and causing a stack overflow error, \n",
    "you can use the following techniques:\n",
    "\n",
    "1. Define a base case: Every recursive function should have a base case that stops the recursion. \n",
    "   The base case should be defined such that it is eventually reached after a finite number of recursive calls.\n",
    "\n",
    "2. Limit the depth of recursion: You can limit the depth of recursion by passing a counter or a depth parameter to \n",
    "   the recursive function. When the counter or depth parameter reaches a certain limit, the function should return \n",
    "   without making any further recursive calls.\n",
    "\n",
    "3. Use tail recursion: Tail recursion is a technique where the last operation in a function is a recursive call. \n",
    "   In some programming languages, such as Scheme, tail recursion can be optimized by the compiler or interpreter to \n",
    "   avoid stack overflow errors.\n",
    "\n",
    "By using these techniques, you can prevent a recursive function from running indefinitely and \n",
    "causing a stack overflow error.\n",
    "'''"
   ]
  },
  {
   "cell_type": "code",
   "execution_count": 7,
   "id": "71f94e48",
   "metadata": {},
   "outputs": [
    {
     "data": {
      "text/plain": [
       "2"
      ]
     },
     "execution_count": 7,
     "metadata": {},
     "output_type": "execute_result"
    }
   ],
   "source": [
    "#6. Create a recursive Python function to find the greatest common divisor (GCD) of two numbers using the Euclidean algorithm.\n",
    "def GCD(x,y):\n",
    "    if y==0:\n",
    "        return x\n",
    "    else:\n",
    "        return GCD(y, x%y)\n",
    "GCD(12,14)"
   ]
  },
  {
   "cell_type": "code",
   "execution_count": 13,
   "id": "269b9210",
   "metadata": {},
   "outputs": [
    {
     "data": {
      "text/plain": [
       "'saD banaM'"
      ]
     },
     "execution_count": 13,
     "metadata": {},
     "output_type": "execute_result"
    }
   ],
   "source": [
    "#7. Write a recursive Python function to reverse a string.\n",
    "def reverse_func(s):\n",
    "    if len(s)<2:\n",
    "        return s\n",
    "    else:\n",
    "        return s[-1]+reverse_func(s[:-1])\n",
    "s='Manab Das'\n",
    "reverse_func(s)"
   ]
  },
  {
   "cell_type": "code",
   "execution_count": 14,
   "id": "a834cee2",
   "metadata": {},
   "outputs": [
    {
     "data": {
      "text/plain": [
       "256"
      ]
     },
     "execution_count": 14,
     "metadata": {},
     "output_type": "execute_result"
    }
   ],
   "source": [
    "#8. Create a recursive Python function to calculate the power of a number (x^n).\n",
    "def cal_power(x,n):\n",
    "    if n==0:\n",
    "        return 1\n",
    "    else:\n",
    "        return x*cal_power(x,n-1)\n",
    "cal_power(4,4)"
   ]
  },
  {
   "cell_type": "code",
   "execution_count": 24,
   "id": "2c69a76d",
   "metadata": {},
   "outputs": [
    {
     "data": {
      "text/plain": [
       "['abc', 'acb', 'bac', 'bca', 'cab', 'cba']"
      ]
     },
     "execution_count": 24,
     "metadata": {},
     "output_type": "execute_result"
    }
   ],
   "source": [
    "#9. Write a recursive Python function to find all permutations of a given string.\n",
    "def permutations(s):\n",
    "    if len(s) == 1:\n",
    "        return [s]\n",
    "    else:\n",
    "        perms = []\n",
    "        for i in range(len(s)):\n",
    "            char = s[i]\n",
    "            remaining_chars = s[:i] + s[i+1:]\n",
    "            for perm in permutations(remaining_chars):\n",
    "                perms.append(char + perm)\n",
    "\n",
    "        return perms\n",
    "\n",
    "permutations('abc')"
   ]
  },
  {
   "cell_type": "code",
   "execution_count": 3,
   "id": "62170df0",
   "metadata": {},
   "outputs": [
    {
     "data": {
      "text/plain": [
       "True"
      ]
     },
     "execution_count": 3,
     "metadata": {},
     "output_type": "execute_result"
    }
   ],
   "source": [
    "#10. Write a recursive Python function to check if a string is a palindrome.\n",
    "def is_plaindrom(s):\n",
    "    if len(s)<=1:\n",
    "        return True\n",
    "    else:\n",
    "        if s[0]==s[-1]:\n",
    "            return is_plaindrom(s[1:-1])\n",
    "        else: \n",
    "            return False\n",
    "is_plaindrom('abcddcba')"
   ]
  },
  {
   "cell_type": "code",
   "execution_count": 6,
   "id": "f9d0f6aa",
   "metadata": {},
   "outputs": [
    {
     "data": {
      "text/plain": [
       "[[], [3], [1], [1, 3]]"
      ]
     },
     "execution_count": 6,
     "metadata": {},
     "output_type": "execute_result"
    }
   ],
   "source": [
    "#11. Create a recursive Python function to generate all possible combinations of a list of elements.\n",
    "def generate_combinations(elements):\n",
    "    if len(elements) == 0:\n",
    "        return [[]]  # Return an empty list as the base case\n",
    "    \n",
    "    first_element = elements[0]\n",
    "    remaining_elements = elements[1:]\n",
    "    \n",
    "    combinations_without_first = generate_combinations(remaining_elements)\n",
    "    combinations_with_first = []\n",
    "    \n",
    "    for combination in combinations_without_first:\n",
    "        combinations_with_first.append([first_element] + combination)\n",
    "    \n",
    "    return combinations_without_first + combinations_with_first\n",
    "generate_combinations([1,3])"
   ]
  },
  {
   "cell_type": "markdown",
   "id": "f20d89d2",
   "metadata": {},
   "source": [
    "# Basics of Functions:"
   ]
  },
  {
   "cell_type": "code",
   "execution_count": 7,
   "id": "9b54e732",
   "metadata": {},
   "outputs": [
    {
     "data": {
      "text/plain": [
       "'In Python, a function is a block of reusable code that performs a specific task. It is defined using the def keyword, \\nfollowed by the function name and a set of parentheses containing optional parameters. The function body is indented and \\ncontains the code to be executed when the function is called.\\n\\nFunctions are used in Python for several reasons:\\n\\nCode Reusability: Functions allow you to define a block of code that can be reused multiple times in your program. \\nInstead of writing the same code again and again, you can define a function and call it whenever needed.\\n\\nModularity: Functions help in breaking down complex programs into smaller, manageable parts. Each function can perform \\na specific task, making the overall program structure more organized and easier to understand.\\n\\nAbstraction: Functions provide a level of abstraction by hiding the implementation details of the code inside the function. This allows you to use the function without worrying about how it is implemented internally.\\n\\nCode Readability: Functions improve the readability of your code by giving meaningful names to blocks of code that \\nperform specific tasks. This makes the code more self-explanatory and easier to understand for yourself and other \\ndevelopers.\\n\\nCode Maintenance: By using functions, you can make changes or updates to the code in a single place (the function \\ndefinition) instead of modifying it at multiple locations. This simplifies code maintenance and reduces the chances \\nof introducing bugs.\\n\\nOverall, functions provide a way to organize, reuse, and modularize your code, making it more efficient, readable, \\nand maintainable.'"
      ]
     },
     "execution_count": 7,
     "metadata": {},
     "output_type": "execute_result"
    }
   ],
   "source": [
    "#1. What is a function in Python, and why is it used?\n",
    "\n",
    "'''In Python, a function is a block of reusable code that performs a specific task. It is defined using the def keyword, \n",
    "followed by the function name and a set of parentheses containing optional parameters. The function body is indented and \n",
    "contains the code to be executed when the function is called.\n",
    "\n",
    "Functions are used in Python for several reasons:\n",
    "\n",
    "Code Reusability: Functions allow you to define a block of code that can be reused multiple times in your program. \n",
    "Instead of writing the same code again and again, you can define a function and call it whenever needed.\n",
    "\n",
    "Modularity: Functions help in breaking down complex programs into smaller, manageable parts. Each function can perform \n",
    "a specific task, making the overall program structure more organized and easier to understand.\n",
    "\n",
    "Abstraction: Functions provide a level of abstraction by hiding the implementation details of the code inside the function. This allows you to use the function without worrying about how it is implemented internally.\n",
    "\n",
    "Code Readability: Functions improve the readability of your code by giving meaningful names to blocks of code that \n",
    "perform specific tasks. This makes the code more self-explanatory and easier to understand for yourself and other \n",
    "developers.\n",
    "\n",
    "Code Maintenance: By using functions, you can make changes or updates to the code in a single place (the function \n",
    "definition) instead of modifying it at multiple locations. This simplifies code maintenance and reduces the chances \n",
    "of introducing bugs.\n",
    "\n",
    "Overall, functions provide a way to organize, reuse, and modularize your code, making it more efficient, readable, \n",
    "and maintainable.'''"
   ]
  },
  {
   "cell_type": "code",
   "execution_count": 8,
   "id": "a22896fb",
   "metadata": {},
   "outputs": [
    {
     "data": {
      "text/plain": [
       "12"
      ]
     },
     "execution_count": 8,
     "metadata": {},
     "output_type": "execute_result"
    }
   ],
   "source": [
    "#2. How do you define a function in Python? Provide an example.\n",
    "'''\n",
    "In Python, you can define a function using the def keyword followed by the function name and a set of parentheses \n",
    "containing optional parameters. The function body is indented and contains the code to be executed when the function \n",
    "is called. Here's an example of a function that takes two arguments and returns \n",
    "their sum:'''\n",
    "\n",
    "def add_numbers(num1, num2):\n",
    "    sum = num1 + num2\n",
    "    return sum\n",
    "add_numbers(8,4)"
   ]
  },
  {
   "cell_type": "code",
   "execution_count": 9,
   "id": "f96a0c7e",
   "metadata": {},
   "outputs": [
    {
     "name": "stdout",
     "output_type": "stream",
     "text": [
      "Hello, Alice!\n"
     ]
    }
   ],
   "source": [
    "#3. Explain the difference between a function definition and a function call.\n",
    "'''\n",
    "The difference between a function definition and a function call lies in their respective purposes and actions within a \n",
    "Python program:\n",
    "\n",
    "Function Definition: A function definition is the block of code that defines the behavior and structure of a function. \n",
    "It is where you specify the name of the function, its parameters (if any), and the actions it performs when called. \n",
    "The function definition is created using the def keyword followed by the function name, parentheses, and a colon. It is used to create a reusable piece of code that can be called multiple times throughout the program.\n",
    "Example of a function definition:'''\n",
    "\n",
    "def greet(name):\n",
    "    print(f\"Hello, {name}!\")\n",
    "    \n",
    "    \n",
    "'''In this example, greet is the function name, and name is a parameter that the function expects. \n",
    "The function definition specifies that it will print a greeting message with the provided name.\n",
    "\n",
    "Function Call: A function call is the act of invoking or executing a function that has been defined elsewhere in \n",
    "the program. It is where you use the function name followed by parentheses containing any required arguments or parameters. When a function is called, the program jumps to the corresponding function definition, executes the code inside it, and returns any result (if applicable) back to the calling code.\n",
    "Example of a function call:'''\n",
    "\n",
    "greet(\"Alice\")"
   ]
  },
  {
   "cell_type": "code",
   "execution_count": 10,
   "id": "c13447c8",
   "metadata": {},
   "outputs": [
    {
     "data": {
      "text/plain": [
       "8"
      ]
     },
     "execution_count": 10,
     "metadata": {},
     "output_type": "execute_result"
    }
   ],
   "source": [
    "#4. Write a Python program that defines a function to calculate the sum of two numbers and then calls the function.\n",
    "\n",
    "#Define the function\n",
    "def calculate_sum(num1, num2):\n",
    "    sum = num1 + num2\n",
    "    return sum\n",
    "#Call the funcntion\n",
    "calculate_sum(3, 5) \n"
   ]
  },
  {
   "cell_type": "code",
   "execution_count": 11,
   "id": "b94cfd96",
   "metadata": {},
   "outputs": [
    {
     "data": {
      "text/plain": [
       "'\\nIn this example, the function signature specifies that calculate_sum takes two integer parameters num1 and num2, and returns an integer value. \\nThe function also includes a docstring that provides additional information about its behavior.\\n\\nBy using function signatures, you can make your code more readable, maintainable, and easier to understand for other \\ndevelopers who may be using your code.\\n'"
      ]
     },
     "execution_count": 11,
     "metadata": {},
     "output_type": "execute_result"
    }
   ],
   "source": [
    "#5. What is a function signature, and what information does it typically include?\n",
    "\n",
    "'''In Python, a function signature is a description of the function that includes its name, parameters, and return type. \n",
    "It provides a concise summary of the function's purpose and usage, and helps other developers understand how to use the \n",
    "function correctly.\n",
    "\n",
    "A typical function signature includes the following information:\n",
    "\n",
    "Function Name: This is the name of the function, which should be descriptive and indicative of its purpose.\n",
    "\n",
    "Parameters: These are the inputs that the function expects to receive when it is called. Each parameter should have a \n",
    "name and a data type, and they may be optional or required.\n",
    "\n",
    "Return Type: This is the data type of the value that the function returns when it is called. If the function does not \n",
    "return a value, this may be specified as None.\n",
    "\n",
    "The function signature may also include additional information, such as parameter default values, variable-length \n",
    "arguments, or annotations that provide additional information about the function's behavior.\n",
    "\n",
    "Here's an example of a function signature:'''\n",
    "\n",
    "def calculate_sum(num1: int, num2: int) -> int:\n",
    "    \"\"\"\n",
    "    Calculates the sum of two numbers and returns the result.\n",
    "    \"\"\"\n",
    "    sum = num1 + num2\n",
    "    return sum\n",
    "'''\n",
    "In this example, the function signature specifies that calculate_sum takes two integer parameters num1 and num2, and returns an integer value. \n",
    "The function also includes a docstring that provides additional information about its behavior.\n",
    "\n",
    "By using function signatures, you can make your code more readable, maintainable, and easier to understand for other \n",
    "developers who may be using your code.\n",
    "'''"
   ]
  },
  {
   "cell_type": "code",
   "execution_count": 1,
   "id": "6519c8b9",
   "metadata": {},
   "outputs": [
    {
     "name": "stdout",
     "output_type": "stream",
     "text": [
      "a=12\n",
      "b=12\n"
     ]
    },
    {
     "data": {
      "text/plain": [
       "'Product of 12 and 12 =144'"
      ]
     },
     "execution_count": 1,
     "metadata": {},
     "output_type": "execute_result"
    }
   ],
   "source": [
    "#6. Create a Python function that takes two arguments and returns their product.\n",
    "def product(a,b):\n",
    "    c=a*b\n",
    "    return f'Product of {a} and {b} ={c}'\n",
    "a=int(input('a='))\n",
    "b=int(input('b='))\n",
    "product(a,b)"
   ]
  },
  {
   "cell_type": "markdown",
   "id": "3f9a278a",
   "metadata": {},
   "source": [
    "# Function Parameters and Arguments:"
   ]
  },
  {
   "cell_type": "code",
   "execution_count": 2,
   "id": "45050dc6",
   "metadata": {},
   "outputs": [
    {
     "data": {
      "text/plain": [
       "'\\nHere, 5 and 10 are the actual arguments that are passed to the function.\\n\\nIn Python, there are different ways to pass arguments to a function, such as positional arguments, keyword arguments, \\ndefault arguments, and variable-length arguments. Regardless of how the arguments are passed, \\nthey will always replace the formal parameters defined in the function header.\\n\\nUnderstanding the difference between formal parameters and actual arguments is important for writing \\nreusable and flexible functions in Python. By defining formal parameters in a function, we can create a \\ngeneral-purpose function that can be used with different input values. By passing actual arguments to a f\\nunction, we can customize the behavior of the function based on specific input values.\\n'"
      ]
     },
     "execution_count": 2,
     "metadata": {},
     "output_type": "execute_result"
    }
   ],
   "source": [
    "#1. Explain the concepts of formal parameters and actual arguments in Python functions.\n",
    "'''In Python, formal parameters refer to the variables defined in the function signature, \n",
    "while actual arguments are the values passed to the function when it is called.\n",
    "\n",
    "Formal parameters are defined in the function header and serve as placeholders for the arguments \n",
    "that will be passed to the function. They are also sometimes referred to as function parameters or function arguments. \n",
    "For example, in the following function definition, x and y are formal parameters:'''\n",
    "\n",
    "def add_numbers(x, y):\n",
    "    sum = x + y\n",
    "    return sum\n",
    "add_numbers(5, 10)\n",
    "'''\n",
    "Here, 5 and 10 are the actual arguments that are passed to the function.\n",
    "\n",
    "In Python, there are different ways to pass arguments to a function, such as positional arguments, keyword arguments, \n",
    "default arguments, and variable-length arguments. Regardless of how the arguments are passed, \n",
    "they will always replace the formal parameters defined in the function header.\n",
    "\n",
    "Understanding the difference between formal parameters and actual arguments is important for writing \n",
    "reusable and flexible functions in Python. By defining formal parameters in a function, we can create a \n",
    "general-purpose function that can be used with different input values. By passing actual arguments to a f\n",
    "unction, we can customize the behavior of the function based on specific input values.\n",
    "'''"
   ]
  },
  {
   "cell_type": "code",
   "execution_count": 3,
   "id": "0bee662f",
   "metadata": {},
   "outputs": [
    {
     "name": "stdout",
     "output_type": "stream",
     "text": [
      "Hi, Alice!\n",
      "Hello, Bob!\n"
     ]
    }
   ],
   "source": [
    "#2. Write a Python program that defines a function with default argument values.\n",
    "'''\n",
    "Certainly! Here's an example of a Python program that defines a function with default argument values:\n",
    "'''\n",
    "def greet(name, message=\"Hello\"):\n",
    "    print(f\"{message}, {name}!\")\n",
    "\n",
    "# Calling the function with both arguments\n",
    "greet(\"Alice\", \"Hi\")\n",
    "\n",
    "# Calling the function with only the name argument (default message will be used)\n",
    "greet(\"Bob\")"
   ]
  },
  {
   "cell_type": "code",
   "execution_count": 4,
   "id": "28eddb35",
   "metadata": {},
   "outputs": [
    {
     "name": "stdout",
     "output_type": "stream",
     "text": [
      "Hi, Alice!\n",
      "Hello, Bob!\n"
     ]
    }
   ],
   "source": [
    "#3. How do you use keyword arguments in Python function calls? Provide an example.\n",
    "'''\n",
    "In Python, keyword arguments allow you to pass arguments to a function using the parameter names, \n",
    "rather than relying on the order of the arguments. This provides clarity and flexibility when calling functions, \n",
    "especially when dealing with functions that have multiple parameters.\n",
    "'''\n",
    "\n",
    "def greet(name, message):\n",
    "    print(f\"{message}, {name}!\")\n",
    "\n",
    "# Calling the function using keyword arguments\n",
    "greet(name=\"Alice\", message=\"Hi\")\n",
    "\n",
    "# Calling the function with different order of keyword arguments\n",
    "greet(message=\"Hello\", name=\"Bob\")\n"
   ]
  },
  {
   "cell_type": "code",
   "execution_count": 5,
   "id": "5dfb5e1b",
   "metadata": {},
   "outputs": [
    {
     "name": "stdout",
     "output_type": "stream",
     "text": [
      "6\n",
      "150\n",
      "12.2\n"
     ]
    }
   ],
   "source": [
    "#4. Create a Python function that accepts a variable number of arguments and calculates their sum.\n",
    "def calculate_sum(*args):\n",
    "    total = sum(args)\n",
    "    return total\n",
    "\n",
    "# Example function calls\n",
    "result1 = calculate_sum(1, 2, 3)\n",
    "print(result1)\n",
    "\n",
    "result2 = calculate_sum(10, 20, 30, 40, 50)\n",
    "print(result2)\n",
    "\n",
    "result3 = calculate_sum(2.5, 3.7, 1.8, 4.2)\n",
    "print(result3)"
   ]
  },
  {
   "cell_type": "code",
   "execution_count": 6,
   "id": "3a24f676",
   "metadata": {},
   "outputs": [
    {
     "name": "stdout",
     "output_type": "stream",
     "text": [
      "apple\n",
      "banana\n",
      "cherry\n",
      "name: Alice\n",
      "age: 25\n",
      "city: New York\n"
     ]
    }
   ],
   "source": [
    "#5. What is the purpose of the `*args` and `**kwargs` syntax in function parameter lists?\n",
    "'''\n",
    "he *args and **kwargs syntax in function parameter lists allow for flexibility when working with variable-length \n",
    "arguments in Python functions.\n",
    "\n",
    "*args: The *args syntax allows a function to accept a variable number of positional arguments. \n",
    "When *args is used in a function parameter list, it collects any additional positional arguments passed \n",
    "to the function into a tuple. This allows you to pass any number of positional arguments to the function \n",
    "without explicitly specifying each argument.\n",
    "'''\n",
    "#Example of *args\n",
    "def print_arguments(*args):\n",
    "    for arg in args:\n",
    "        print(arg)\n",
    "\n",
    "print_arguments(\"apple\", \"banana\", \"cherry\")\n",
    "'''**kwargs: The **kwargs syntax allows a function to accept a variable number of keyword arguments. \n",
    "When **kwargs is used in a function parameter list, it collects any additional keyword arguments \n",
    "passed to the function into a dictionary. This allows you to pass any number of keyword arguments to \n",
    "the function without explicitly specifying each argument.'''\n",
    "\n",
    "#Example of *kwargs\n",
    "def print_details(**kwargs):\n",
    "    for key, value in kwargs.items():\n",
    "        print(f\"{key}: {value}\")\n",
    "\n",
    "print_details(name=\"Alice\", age=25, city=\"New York\")"
   ]
  },
  {
   "cell_type": "markdown",
   "id": "6befc0fd",
   "metadata": {},
   "source": [
    "# Return Values and Scoping:"
   ]
  },
  {
   "cell_type": "code",
   "execution_count": 7,
   "id": "582b187e",
   "metadata": {},
   "outputs": [
    {
     "data": {
      "text/plain": [
       "'\\nThe return statement is essential for functions to provide results or outputs that can be utilized in other parts of a \\nprogram. \\nIt allows functions to encapsulate logic and calculations and make them reusable by returning their computed values.\\n'"
      ]
     },
     "execution_count": 7,
     "metadata": {},
     "output_type": "execute_result"
    }
   ],
   "source": [
    "#1. Describe the role of the `return` statement in Python functions and provide examples.\n",
    "\n",
    "'''\n",
    "The return statement is essential for functions to provide results or outputs that can be utilized in other parts of a \n",
    "program. \n",
    "It allows functions to encapsulate logic and calculations and make them reusable by returning their computed values.\n",
    "'''"
   ]
  },
  {
   "cell_type": "code",
   "execution_count": 9,
   "id": "0aed2d30",
   "metadata": {},
   "outputs": [
    {
     "name": "stdout",
     "output_type": "stream",
     "text": [
      "10\n"
     ]
    },
    {
     "ename": "NameError",
     "evalue": "name 'x' is not defined",
     "output_type": "error",
     "traceback": [
      "\u001b[1;31m---------------------------------------------------------------------------\u001b[0m",
      "\u001b[1;31mNameError\u001b[0m                                 Traceback (most recent call last)",
      "Cell \u001b[1;32mIn[9], line 20\u001b[0m\n\u001b[0;32m     17\u001b[0m     \u001b[38;5;28mprint\u001b[39m(x)\n\u001b[0;32m     19\u001b[0m my_function()  \u001b[38;5;66;03m# Output: 10\u001b[39;00m\n\u001b[1;32m---> 20\u001b[0m \u001b[38;5;28mprint\u001b[39m(\u001b[43mx\u001b[49m)  \u001b[38;5;66;03m# Error: NameError: name 'x' is not defined\u001b[39;00m\n\u001b[0;32m     22\u001b[0m \u001b[38;5;124;03m'''\u001b[39;00m\n\u001b[0;32m     23\u001b[0m \u001b[38;5;124;03mGlobal Variables:\u001b[39;00m\n\u001b[0;32m     24\u001b[0m \n\u001b[1;32m   (...)\u001b[0m\n\u001b[0;32m     27\u001b[0m \u001b[38;5;124;03mGlobal variables are declared using the global keyword inside a function if you want to modify its value.\u001b[39;00m\n\u001b[0;32m     28\u001b[0m \u001b[38;5;124;03m'''\u001b[39;00m\n\u001b[0;32m     30\u001b[0m x \u001b[38;5;241m=\u001b[39m \u001b[38;5;241m10\u001b[39m  \u001b[38;5;66;03m# Global variable\u001b[39;00m\n",
      "\u001b[1;31mNameError\u001b[0m: name 'x' is not defined"
     ]
    }
   ],
   "source": [
    "#2. Explain the concept of variable scope in Python, including local and global variables.\n",
    "'''\n",
    "Variable scope in Python refers to the accessibility and visibility of variables within different parts of a program. \n",
    "It determines where and how a variable can be accessed and modified.\n",
    "\n",
    "In Python, there are two main types of variable scope:\n",
    "\n",
    "Local Variables:\n",
    "\n",
    "Local variables are defined within a specific block or function and are only accessible within that block or function.\n",
    "Local variables have a limited scope and are destroyed once the block or function execution is complete.\n",
    "Local variables cannot be accessed from outside the block or function.\n",
    "'''\n",
    "\n",
    "def my_function():\n",
    "    x = 10  # Local variable\n",
    "    print(x)\n",
    "\n",
    "my_function()  # Output: 10\n",
    "print(x)  # Error: NameError: name 'x' is not defined\n",
    "\n",
    "'''\n",
    "Global Variables:\n",
    "\n",
    "Global variables are defined outside of any function or block and can be accessed and modified from anywhere in the program.\n",
    "Global variables have a global scope, meaning they are accessible throughout the program.\n",
    "Global variables are declared using the global keyword inside a function if you want to modify its value.\n",
    "'''\n",
    "\n",
    "x = 10  # Global variable\n",
    "\n",
    "def my_function():\n",
    "    global x\n",
    "    x = 20  # Modifying the global variable\n",
    "    print(x)\n",
    "\n",
    "my_function()  # Output: 20\n",
    "print(x)  # Output: 20 (value modified by the function)\n"
   ]
  },
  {
   "cell_type": "code",
   "execution_count": 10,
   "id": "aab2d727",
   "metadata": {},
   "outputs": [
    {
     "name": "stdout",
     "output_type": "stream",
     "text": [
      "10\n",
      "20\n"
     ]
    },
    {
     "data": {
      "text/plain": [
       "\"\\nIn this example, we have a global variable x with an initial value of 10.\\n\\nThe function modify_global_variable() is defined to modify the value of the global variable x. \\nInside the function, we use the global keyword to indicate that we want to modify the global variable x \\nrather than creating a new local variable. The value of x is then changed to 20.\\n\\nThe function print_global_variable() is defined to print the value of the global variable x.\\n\\nBefore modifying the global variable, we call print_global_variable() and it prints the initial value of x, which is 10.\\n\\nAfter modifying the global variable by calling modify_global_variable(), we call print_global_variable() again, \\nand it prints the modified value of x, which is now 20.\\n\\nBy using the global keyword within a function, we can access and modify global variables from within that function. \\nHowever, it's generally recommended to minimize the use of global variables and instead pass values as function arguments or return values as needed, as excessive use of global variables can make code harder to understand and maintain.\\n\""
      ]
     },
     "execution_count": 10,
     "metadata": {},
     "output_type": "execute_result"
    }
   ],
   "source": [
    "#3. Write a Python program that demonstrates the use of global variables within functions.\n",
    "\n",
    "# Global variable\n",
    "x = 10\n",
    "\n",
    "def modify_global_variable():\n",
    "    global x\n",
    "    x = 20\n",
    "\n",
    "def print_global_variable():\n",
    "    print(x)\n",
    "\n",
    "# Before modifying the global variable\n",
    "print_global_variable()  # Output: 10\n",
    "\n",
    "# Modifying the global variable\n",
    "modify_global_variable()\n",
    "\n",
    "# After modifying the global variable\n",
    "print_global_variable()  # Output: 20\n",
    "\n",
    "'''\n",
    "In this example, we have a global variable x with an initial value of 10.\n",
    "\n",
    "The function modify_global_variable() is defined to modify the value of the global variable x. \n",
    "Inside the function, we use the global keyword to indicate that we want to modify the global variable x \n",
    "rather than creating a new local variable. The value of x is then changed to 20.\n",
    "\n",
    "The function print_global_variable() is defined to print the value of the global variable x.\n",
    "\n",
    "Before modifying the global variable, we call print_global_variable() and it prints the initial value of x, which is 10.\n",
    "\n",
    "After modifying the global variable by calling modify_global_variable(), we call print_global_variable() again, \n",
    "and it prints the modified value of x, which is now 20.\n",
    "\n",
    "By using the global keyword within a function, we can access and modify global variables from within that function. \n",
    "However, it's generally recommended to minimize the use of global variables and instead pass values as function arguments or return values as needed, as excessive use of global variables can make code harder to understand and maintain.\n",
    "'''"
   ]
  },
  {
   "cell_type": "code",
   "execution_count": 11,
   "id": "88cc37f7",
   "metadata": {},
   "outputs": [
    {
     "data": {
      "text/plain": [
       "120"
      ]
     },
     "execution_count": 11,
     "metadata": {},
     "output_type": "execute_result"
    }
   ],
   "source": [
    "#4. Create a Python function that calculates the factorial of a number and returns it.\n",
    "def fact(n):\n",
    "    if n==0 or n==1:\n",
    "        return 1\n",
    "    else:\n",
    "        return n*fact(n-1)\n",
    "fact(5)"
   ]
  },
  {
   "cell_type": "code",
   "execution_count": 12,
   "id": "5495fff3",
   "metadata": {},
   "outputs": [
    {
     "name": "stdout",
     "output_type": "stream",
     "text": [
      "10\n"
     ]
    }
   ],
   "source": [
    "#5. How can you access variables defined outside a function from within the function?\n",
    "'''\n",
    "To access variables defined outside a function from within the function, you can use the global keyword to \n",
    "indicate that you want to use the global variable rather than creating a new local variable with the same name.\n",
    "'''\n",
    "# Global variable\n",
    "x = 10\n",
    "\n",
    "def my_function():\n",
    "    global x\n",
    "    print(x)\n",
    "\n",
    "my_function()  # Output: 10\n"
   ]
  },
  {
   "cell_type": "markdown",
   "id": "bc991699",
   "metadata": {},
   "source": [
    "# Lambda Functions and Higher-Order Functions:"
   ]
  },
  {
   "cell_type": "code",
   "execution_count": 13,
   "id": "bacb9b29",
   "metadata": {},
   "outputs": [
    {
     "data": {
      "text/plain": [
       "\"\\nLambda functions can take any number of arguments, but they can only have a single expression. \\nThe result of the expression is automatically returned by the lambda function.\\n\\nLambda functions are typically used in situations where a small function is needed for a short period of time and \\nit doesn't make sense to define a separate named function. They are commonly used in combination with higher-order \\nfunctions like map(), filter(), and reduce(), where a function is required as an argument.\\n\""
      ]
     },
     "execution_count": 13,
     "metadata": {},
     "output_type": "execute_result"
    }
   ],
   "source": [
    "#1. What are lambda functions in Python, and when are they typically used?\n",
    "'''\n",
    "Lambda functions can take any number of arguments, but they can only have a single expression. \n",
    "The result of the expression is automatically returned by the lambda function.\n",
    "\n",
    "Lambda functions are typically used in situations where a small function is needed for a short period of time and \n",
    "it doesn't make sense to define a separate named function. They are commonly used in combination with higher-order \n",
    "functions like map(), filter(), and reduce(), where a function is required as an argument.\n",
    "'''"
   ]
  },
  {
   "cell_type": "code",
   "execution_count": 15,
   "id": "593c00d9",
   "metadata": {},
   "outputs": [
    {
     "data": {
      "text/plain": [
       "[('Soubhik', 20), ('Manab', 25), ('Gourab', 28), ('Avick', 32)]"
      ]
     },
     "execution_count": 15,
     "metadata": {},
     "output_type": "execute_result"
    }
   ],
   "source": [
    "#2. Write a Python program that uses lambda functions to sort a list of tuples based on the second element.\n",
    "l= [('Manab', 25), ('Avick', 32), ('Soubhik', 20), ('Gourab', 28)]\n",
    "list(sorted(l, key=lambda x:x[1]))"
   ]
  },
  {
   "cell_type": "code",
   "execution_count": 16,
   "id": "b20cca5f",
   "metadata": {},
   "outputs": [
    {
     "name": "stdout",
     "output_type": "stream",
     "text": [
      "8\n",
      "15\n"
     ]
    }
   ],
   "source": [
    "#3. Explain the concept of higher-order functions in Python, and provide an example.\n",
    "'''\n",
    "Higher-order functions in Python are functions that can take other functions as arguments or \n",
    "return functions as their result. \n",
    "They allow for the creation of more flexible and reusable code by enabling functions to be treated as data.\n",
    "'''\n",
    "def apply_operation(x, y, operation):\n",
    "    return operation(x, y)\n",
    "\n",
    "# Example function calls\n",
    "result1 = apply_operation(5, 3, lambda x, y: x + y)\n",
    "print(result1) \n",
    "\n",
    "result2 = apply_operation(5, 3, lambda x, y: x * y)\n",
    "print(result2)"
   ]
  },
  {
   "cell_type": "code",
   "execution_count": 17,
   "id": "2b7e1a6b",
   "metadata": {},
   "outputs": [
    {
     "name": "stdout",
     "output_type": "stream",
     "text": [
      "[2, 4, 6, 8, 10]\n",
      "[1, 4, 9, 16, 25]\n"
     ]
    }
   ],
   "source": [
    "#4. Create a Python function that takes a list of numbers and a function as arguments, applying the function to each element in the list.\n",
    "def apply_function_to_list(numbers, func):\n",
    "    result = []\n",
    "    for num in numbers:\n",
    "        result.append(func(num))\n",
    "    return result\n",
    "\n",
    "# Example function calls\n",
    "numbers = [1, 2, 3, 4, 5]\n",
    "\n",
    "# Function to double each number\n",
    "double_func = lambda x: x * 2\n",
    "result1 = apply_function_to_list(numbers, double_func)\n",
    "print(result1)  # Output: [2, 4, 6, 8, 10]\n",
    "\n",
    "# Function to square each number\n",
    "square_func = lambda x: x ** 2\n",
    "result2 = apply_function_to_list(numbers, square_func)\n",
    "print(result2)  # Output: [1, 4, 9, 16, 25]\n"
   ]
  },
  {
   "cell_type": "markdown",
   "id": "fd6f70c8",
   "metadata": {},
   "source": [
    "# Built-in Functions:"
   ]
  },
  {
   "cell_type": "code",
   "execution_count": 18,
   "id": "0a613b96",
   "metadata": {},
   "outputs": [
    {
     "data": {
      "text/plain": [
       "'\\nBuilt-in functions like len(), max(), and min() in Python provide convenient ways to perform common operations on \\ndata structures or collections.\\n\\nlen(): The len() function returns the number of elements in an object. It can be used with various data structures \\nsuch as strings, lists, tuples, dictionaries, and sets. For example, len(\"hello\") returns 5, indicating the length of \\nthe string \"hello\".\\n\\nmax(): The max() function returns the largest element from a collection. It can be used with iterable objects like lists, \\ntuples, and sets. For example, max([3, 7, 2, 9]) returns 9, which is the maximum value in the list.\\n\\nmin(): The min() function returns the smallest element from a collection. It works similar to max() but returns the \\nminimum value instead. For example, min([3, 7, 2, 9]) returns 2, which is the minimum value in the list.\\n\\nThese built-in functions are designed to simplify common operations and provide a convenient way to retrieve information \\nor perform calculations. They are widely used in Python programming for tasks such as finding the length of a sequence, \\ndetermining the maximum or minimum value, or obtaining other useful information about data structures.\\n'"
      ]
     },
     "execution_count": 18,
     "metadata": {},
     "output_type": "execute_result"
    }
   ],
   "source": [
    "#1. Describe the role of built-in functions like `len()`, `max()`, and `min()` in Python.\n",
    "'''\n",
    "Built-in functions like len(), max(), and min() in Python provide convenient ways to perform common operations on \n",
    "data structures or collections.\n",
    "\n",
    "len(): The len() function returns the number of elements in an object. It can be used with various data structures \n",
    "such as strings, lists, tuples, dictionaries, and sets. For example, len(\"hello\") returns 5, indicating the length of \n",
    "the string \"hello\".\n",
    "\n",
    "max(): The max() function returns the largest element from a collection. It can be used with iterable objects like lists, \n",
    "tuples, and sets. For example, max([3, 7, 2, 9]) returns 9, which is the maximum value in the list.\n",
    "\n",
    "min(): The min() function returns the smallest element from a collection. It works similar to max() but returns the \n",
    "minimum value instead. For example, min([3, 7, 2, 9]) returns 2, which is the minimum value in the list.\n",
    "\n",
    "These built-in functions are designed to simplify common operations and provide a convenient way to retrieve information \n",
    "or perform calculations. They are widely used in Python programming for tasks such as finding the length of a sequence, \n",
    "determining the maximum or minimum value, or obtaining other useful information about data structures.\n",
    "'''"
   ]
  },
  {
   "cell_type": "code",
   "execution_count": 23,
   "id": "a3c5af92",
   "metadata": {},
   "outputs": [
    {
     "data": {
      "text/plain": [
       "[4, 5, 8]"
      ]
     },
     "execution_count": 23,
     "metadata": {},
     "output_type": "execute_result"
    }
   ],
   "source": [
    "#2. Write a Python program that uses the `map()` function to apply a function to each element of a list.\n",
    "lst=['sudh','kumar','pwskills']\n",
    "list(map(lambda i:len(i),lst))"
   ]
  },
  {
   "cell_type": "code",
   "execution_count": 24,
   "id": "d9e0cc45",
   "metadata": {},
   "outputs": [
    {
     "data": {
      "text/plain": [
       "[12, 4, 34, 56, 6, 2, 78, 14]"
      ]
     },
     "execution_count": 24,
     "metadata": {},
     "output_type": "execute_result"
    }
   ],
   "source": [
    "#3. How does the `filter()` function work in Python, and when would you use it?\n",
    "'''\n",
    "The function parameter is a function that takes a single argument and returns a Boolean value (True or False). The iterable parameter is the iterable object that\n",
    "we want to filter.\n",
    "\n",
    "The filter() function applies the function to each element in the iterable and returns an iterator containing only \n",
    "the elements for which the function returns True.\n",
    "'''\n",
    "l=[12,3,4,723,34,56,6,7,2,45,78,14]\n",
    "list(filter(lambda a:a%2==0,l))"
   ]
  },
  {
   "cell_type": "code",
   "execution_count": 27,
   "id": "4f4c66a8",
   "metadata": {},
   "outputs": [
    {
     "data": {
      "text/plain": [
       "120"
      ]
     },
     "execution_count": 27,
     "metadata": {},
     "output_type": "execute_result"
    }
   ],
   "source": [
    "#4. Create a Python program that uses the `reduce()` function to find the product of all elements in a list.\n",
    "from functools import reduce\n",
    "l=[1,2,3,4,5]\n",
    "reduce(lambda a,b:a*b,l)"
   ]
  },
  {
   "cell_type": "markdown",
   "id": "7dc7c287",
   "metadata": {},
   "source": [
    "# Function Documentation and Best Practices:"
   ]
  },
  {
   "cell_type": "code",
   "execution_count": 29,
   "id": "ac450be9",
   "metadata": {},
   "outputs": [
    {
     "data": {
      "text/plain": [
       "'\\nIn this example, the docstring is enclosed within triple quotes (\"\"\"). It starts immediately after the \\nfunction definition line and provides a clear and concise description of what the function does.\\n\\n'"
      ]
     },
     "execution_count": 29,
     "metadata": {},
     "output_type": "execute_result"
    }
   ],
   "source": [
    "#1. Explain the purpose of docstrings in Python functions and how to write them.\n",
    "'''\n",
    "Docstrings in Python functions serve as documentation strings that provide information about the purpose, usage, \n",
    "and behavior of the function. They are used to describe what the function does, its parameters, return values, \n",
    "and any other relevant details.\n",
    "'''\n",
    "\n",
    "def calculate_square(x):\n",
    "    \"\"\"\n",
    "    Calculates the square of a given number.\n",
    "\n",
    "    Parameters:\n",
    "    x (int or float): The number to calculate the square of.\n",
    "\n",
    "    Returns:\n",
    "    int or float: The square of the input number.\n",
    "    \"\"\"\n",
    "    return x ** 2\n",
    "'''\n",
    "In this example, the docstring is enclosed within triple quotes (\"\"\"). It starts immediately after the \n",
    "function definition line and provides a clear and concise description of what the function does.\n",
    "\n",
    "'''"
   ]
  },
  {
   "cell_type": "code",
   "execution_count": 30,
   "id": "49b0a86c",
   "metadata": {},
   "outputs": [
    {
     "data": {
      "text/plain": [
       "'\\nNaming functions and variables in Python is an important aspect of writing clean, readable, and maintainable code. \\nHere are some best practices for naming functions and variables in Python:\\n\\nUse descriptive names: Choose names that clearly and accurately describe the purpose of the function or variable. \\nAvoid using vague or generic names like temp, foo, or bar.\\n\\nFollow naming conventions: Follow the convention of using lowercase letters and underscores to separate words in \\nvariable names. For example, use my_variable instead of myVariable. For function names, use lowercase letters and \\nunderscores, or use camel case if preferred. For example, use my_function or myFunction.\\n\\nBe consistent: Use consistent naming conventions throughout your codebase to make it easier to read and understand.\\n\\nAvoid reserved keywords: Avoid using reserved keywords like if, while, for, else, and return as variable or function names.\\n\\nUse nouns for variables: Use nouns for variable names to indicate what the variable represents. For example, use name, \\nage, or address.\\n\\nUse verbs for functions: Use verbs for function names to indicate what the function does. For example, use calculate, \\nget, or set.\\n\\nAvoid abbreviations: Avoid using abbreviations unless they are commonly understood and widely used. For example, \\nuse numberOfItems instead of numItems.\\n\\nMake names readable: Use whitespace and capitalization to make names more readable. For example, use my_variable_name \\ninstead of myvariablename.\\n\\nBy following these best practices for naming functions and variables in Python, you can make your code more readable, \\nmaintainable, and easier to understand for yourself and others.\\n'"
      ]
     },
     "execution_count": 30,
     "metadata": {},
     "output_type": "execute_result"
    }
   ],
   "source": [
    "#2. Describe some best practices for naming functions and variables in Python, including naming conventions and guidelines.\n",
    "'''\n",
    "Naming functions and variables in Python is an important aspect of writing clean, readable, and maintainable code. \n",
    "Here are some best practices for naming functions and variables in Python:\n",
    "\n",
    "Use descriptive names: Choose names that clearly and accurately describe the purpose of the function or variable. \n",
    "Avoid using vague or generic names like temp, foo, or bar.\n",
    "\n",
    "Follow naming conventions: Follow the convention of using lowercase letters and underscores to separate words in \n",
    "variable names. For example, use my_variable instead of myVariable. For function names, use lowercase letters and \n",
    "underscores, or use camel case if preferred. For example, use my_function or myFunction.\n",
    "\n",
    "Be consistent: Use consistent naming conventions throughout your codebase to make it easier to read and understand.\n",
    "\n",
    "Avoid reserved keywords: Avoid using reserved keywords like if, while, for, else, and return as variable or function names.\n",
    "\n",
    "Use nouns for variables: Use nouns for variable names to indicate what the variable represents. For example, use name, \n",
    "age, or address.\n",
    "\n",
    "Use verbs for functions: Use verbs for function names to indicate what the function does. For example, use calculate, \n",
    "get, or set.\n",
    "\n",
    "Avoid abbreviations: Avoid using abbreviations unless they are commonly understood and widely used. For example, \n",
    "use numberOfItems instead of numItems.\n",
    "\n",
    "Make names readable: Use whitespace and capitalization to make names more readable. For example, use my_variable_name \n",
    "instead of myvariablename.\n",
    "\n",
    "By following these best practices for naming functions and variables in Python, you can make your code more readable, \n",
    "maintainable, and easier to understand for yourself and others.\n",
    "'''\n"
   ]
  },
  {
   "cell_type": "code",
   "execution_count": null,
   "id": "ea8e6b0c",
   "metadata": {},
   "outputs": [],
   "source": []
  }
 ],
 "metadata": {
  "kernelspec": {
   "display_name": "Python 3 (ipykernel)",
   "language": "python",
   "name": "python3"
  },
  "language_info": {
   "codemirror_mode": {
    "name": "ipython",
    "version": 3
   },
   "file_extension": ".py",
   "mimetype": "text/x-python",
   "name": "python",
   "nbconvert_exporter": "python",
   "pygments_lexer": "ipython3",
   "version": "3.10.9"
  }
 },
 "nbformat": 4,
 "nbformat_minor": 5
}
