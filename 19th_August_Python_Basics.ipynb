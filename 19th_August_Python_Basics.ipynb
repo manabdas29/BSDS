{
 "cells": [
  {
   "cell_type": "markdown",
   "id": "98b5e9c6",
   "metadata": {},
   "source": [
    "# TOPIC: Python Basics Variable"
   ]
  },
  {
   "cell_type": "code",
   "execution_count": 1,
   "id": "cf76efc0",
   "metadata": {},
   "outputs": [
    {
     "name": "stdout",
     "output_type": "stream",
     "text": [
      "Before swap the value of x and y= (12, 13)\n",
      "After swap the value of x and y= (13, 12)\n"
     ]
    }
   ],
   "source": [
    "#1. Declare two variables, `x` and `y`, and assign them integer values. Swap the values of these variables without using any temporary variable.\n",
    "x=12\n",
    "y=13\n",
    "print('Before swap the value of x and y=',(x,y))\n",
    "x,y=y,x\n",
    "print('After swap the value of x and y=',(x,y))"
   ]
  },
  {
   "cell_type": "code",
   "execution_count": 2,
   "id": "1e47ffc2",
   "metadata": {},
   "outputs": [
    {
     "name": "stdout",
     "output_type": "stream",
     "text": [
      "Enter the value of length=12\n",
      "Enter the value of width=6\n",
      "Area of the rectangle= 72\n"
     ]
    }
   ],
   "source": [
    "#2. Create a program that calculates the area of a rectangle. Take the length and width as inputs from the user and store them in variables. Calculate and display the area.\n",
    "l=int(input('Enter the value of length='))\n",
    "w=int(input('Enter the value of width='))\n",
    "area=l*w\n",
    "print('Area of the rectangle=',area)"
   ]
  },
  {
   "cell_type": "code",
   "execution_count": 3,
   "id": "7f938b10",
   "metadata": {},
   "outputs": [
    {
     "name": "stdout",
     "output_type": "stream",
     "text": [
      "Enter the celsius temp=34\n",
      "Fahrenheit= 93.19999999999999\n"
     ]
    }
   ],
   "source": [
    "#3. Write a Python program that converts temperatures from Celsius to Fahrenheit. Take the temperature in Celsius as input, store it in a variable,convert it to Fahrenheit, and display the result.\n",
    "c=int(input('Enter the celsius temp='))\n",
    "F=((c/5)*9)+32\n",
    "print('Fahrenheit=',F)"
   ]
  },
  {
   "cell_type": "markdown",
   "id": "0a32f62d",
   "metadata": {},
   "source": [
    "# TOPIC: String Based Questions"
   ]
  },
  {
   "cell_type": "code",
   "execution_count": 10,
   "id": "978f8bb9",
   "metadata": {},
   "outputs": [
    {
     "name": "stdout",
     "output_type": "stream",
     "text": [
      "Please enter a string:manab\n",
      "Length of the input string= 5\n"
     ]
    }
   ],
   "source": [
    "#1. Write a Python program that takes a string as input and prints the length of the string.\n",
    "a=input('Please enter a string:')\n",
    "print('Length of the input string=',len(a))"
   ]
  },
  {
   "cell_type": "code",
   "execution_count": 6,
   "id": "f2380202",
   "metadata": {},
   "outputs": [
    {
     "name": "stdout",
     "output_type": "stream",
     "text": [
      "Enter a sentence:india\n",
      "No of vowels= 3\n"
     ]
    }
   ],
   "source": [
    "#2. Create a program that takes a sentence from the user and counts the number of vowels (a, e, i, o, u) in the string.\n",
    "s=input('Enter a sentence:')\n",
    "v='aeiouAEIOU'\n",
    "count=0\n",
    "for i in s:\n",
    "    if i in v:\n",
    "        count=count+1\n",
    "print('No of vowels=',count)"
   ]
  },
  {
   "cell_type": "code",
   "execution_count": 7,
   "id": "60e8ba89",
   "metadata": {},
   "outputs": [
    {
     "name": "stdout",
     "output_type": "stream",
     "text": [
      "aidnI\n"
     ]
    }
   ],
   "source": [
    "#3. Given a string, reverse the order of characters using string slicing and print the reversed string.\n",
    "st='India'\n",
    "print(st[::-1])"
   ]
  },
  {
   "cell_type": "code",
   "execution_count": 8,
   "id": "e2d47a23",
   "metadata": {},
   "outputs": [
    {
     "name": "stdout",
     "output_type": "stream",
     "text": [
      "Enter a string: Fool\n",
      "The input string is not a palindrom\n"
     ]
    }
   ],
   "source": [
    "#4. Write a program that takes a string as input and checks if it is a palindrome (reads the same forwards and backwards).\n",
    "input_st=input('Enter a string: ')\n",
    "clean_st=input_st.replace(' ','').lower()\n",
    "reverse_st=clean_st[::-1]\n",
    "if clean_st==reverse_st:\n",
    "    print('The input string is a palindrom')\n",
    "else:\n",
    "    print('The input string is not a palindrom')"
   ]
  },
  {
   "cell_type": "code",
   "execution_count": 9,
   "id": "887477fc",
   "metadata": {},
   "outputs": [
    {
     "name": "stdout",
     "output_type": "stream",
     "text": [
      "Enter a string:Go to school\n",
      "Gotoschool\n"
     ]
    }
   ],
   "source": [
    "#5. Create a program that takes a string as input and removes all the spaces from it. Print the modified string without spaces.\n",
    "inp_strn=input('Enter a string:')\n",
    "modified_strn=''\n",
    "for char in inp_strn:\n",
    "    if char != ' ':\n",
    "        modified_strn=modified_strn+char\n",
    "print(modified_strn)"
   ]
  }
 ],
 "metadata": {
  "kernelspec": {
   "display_name": "Python 3 (ipykernel)",
   "language": "python",
   "name": "python3"
  },
  "language_info": {
   "codemirror_mode": {
    "name": "ipython",
    "version": 3
   },
   "file_extension": ".py",
   "mimetype": "text/x-python",
   "name": "python",
   "nbconvert_exporter": "python",
   "pygments_lexer": "ipython3",
   "version": "3.10.9"
  }
 },
 "nbformat": 4,
 "nbformat_minor": 5
}
