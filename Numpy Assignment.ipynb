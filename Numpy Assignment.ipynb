{
 "cells": [
  {
   "cell_type": "code",
   "execution_count": 1,
   "id": "bb22a42a",
   "metadata": {},
   "outputs": [
    {
     "data": {
      "text/plain": [
       "'\\nWe use Python libraries for several reasons:\\n\\nEfficiency: Python libraries provide pre-written code modules that offer ready-to-use functionalities, saving developers time and effort by avoiding the need to write code from scratch.\\n\\nSpecialized Functionality: Python libraries are designed to handle specific tasks or domains, such as data manipulation, scientific computing, machine learning, web development, etc. By using these libraries, developers can leverage specialized tools and algorithms tailored to their needs.\\n\\nOptimization: Python libraries are often optimized for performance and efficiency, utilizing best practices and algorithms to provide fast and reliable solutions for common problems.\\n\\nCommunity Support: Python libraries are usually maintained by a community of developers who contribute to their improvement and provide support through documentation, forums, and tutorials.\\n\\nInteroperability: Python libraries are designed to work well together, allowing developers to combine functionalities from different libraries to build more complex systems or applications.\\n\\nOverall, using Python libraries helps developers write better code faster, solve complex problems efficiently, and take advantage of the expertise and resources available in the Python ecosystem.\\n'"
      ]
     },
     "execution_count": 1,
     "metadata": {},
     "output_type": "execute_result"
    }
   ],
   "source": [
    "#1.What is python libraries? Why do we use python libraries?\n",
    "'''\n",
    "Python libraries are collections of pre-written code modules that provide a wide range of functionalities to perform specific tasks. These libraries contain functions and classes that can be imported and used in your Python code to simplify development and avoid reinventing the wheel. Python libraries cover various domains such as data manipulation, scientific computing, web development, machine learning, and more.\n",
    "\n",
    "Some popular Python libraries include:\n",
    "\n",
    "NumPy for numerical computing\n",
    "Pandas for data manipulation and analysis\n",
    "Matplotlib for data visualization\n",
    "Scikit-learn for machine learning\n",
    "Flask for web development\n",
    "Requests for making HTTP requests\n",
    "Beautiful Soup for web scraping\n",
    "By leveraging Python libraries, developers can save time, write cleaner code, and benefit from the expertise and optimizations provided by the library creators.\n",
    "'''\n",
    "\n",
    "'''\n",
    "We use Python libraries for several reasons:\n",
    "\n",
    "Efficiency: Python libraries provide pre-written code modules that offer ready-to-use functionalities, saving developers time and effort by avoiding the need to write code from scratch.\n",
    "\n",
    "Specialized Functionality: Python libraries are designed to handle specific tasks or domains, such as data manipulation, scientific computing, machine learning, web development, etc. By using these libraries, developers can leverage specialized tools and algorithms tailored to their needs.\n",
    "\n",
    "Optimization: Python libraries are often optimized for performance and efficiency, utilizing best practices and algorithms to provide fast and reliable solutions for common problems.\n",
    "\n",
    "Community Support: Python libraries are usually maintained by a community of developers who contribute to their improvement and provide support through documentation, forums, and tutorials.\n",
    "\n",
    "Interoperability: Python libraries are designed to work well together, allowing developers to combine functionalities from different libraries to build more complex systems or applications.\n",
    "\n",
    "Overall, using Python libraries helps developers write better code faster, solve complex problems efficiently, and take advantage of the expertise and resources available in the Python ecosystem.\n",
    "'''"
   ]
  },
  {
   "cell_type": "code",
   "execution_count": 2,
   "id": "9fb05f9e",
   "metadata": {},
   "outputs": [
    {
     "data": {
      "text/plain": [
       "'\\nIn Python, the main differences between lists and arrays are:\\n\\nData Type:\\n\\nLists: Lists in Python can store elements of different data types within the same list.\\nArrays: Arrays in Python (from the array module) can only store elements of the same data type.\\nFunctionality:\\n\\nLists: Lists are dynamic and can grow or shrink in size. They offer a wide range of built-in functions for manipulation and iteration.\\nArrays: Arrays have a fixed size and support basic array operations like element access, slicing, and manipulation.\\nPerformance:\\n\\nLists: Lists are more versatile and easier to work with for general-purpose programming due to their flexibility.\\nArrays: Arrays can be more memory efficient and faster for numerical operations, especially when using libraries like NumPy.\\nUsage:\\n\\nLists: Lists are commonly used for general-purpose programming where flexibility is important.\\nArrays: Arrays are suitable for scenarios where a homogeneous collection of elements of the same data type is needed, especially in numerical computations.\\nOverall, lists are more commonly used in Python due to their flexibility and ease of use, while arrays are preferred when working with a fixed-size homogeneous collection of elements for specific tasks like numerical computing.\\n'"
      ]
     },
     "execution_count": 2,
     "metadata": {},
     "output_type": "execute_result"
    }
   ],
   "source": [
    "#2. What are the difference between the python list and array?\n",
    "'''\n",
    "In Python, the main differences between lists and arrays are:\n",
    "\n",
    "Data Type:\n",
    "\n",
    "Lists: Lists in Python can store elements of different data types within the same list.\n",
    "Arrays: Arrays in Python (from the array module) can only store elements of the same data type.\n",
    "Functionality:\n",
    "\n",
    "Lists: Lists are dynamic and can grow or shrink in size. They offer a wide range of built-in functions for manipulation and iteration.\n",
    "Arrays: Arrays have a fixed size and support basic array operations like element access, slicing, and manipulation.\n",
    "Performance:\n",
    "\n",
    "Lists: Lists are more versatile and easier to work with for general-purpose programming due to their flexibility.\n",
    "Arrays: Arrays can be more memory efficient and faster for numerical operations, especially when using libraries like NumPy.\n",
    "Usage:\n",
    "\n",
    "Lists: Lists are commonly used for general-purpose programming where flexibility is important.\n",
    "Arrays: Arrays are suitable for scenarios where a homogeneous collection of elements of the same data type is needed, especially in numerical computations.\n",
    "Overall, lists are more commonly used in Python due to their flexibility and ease of use, while arrays are preferred when working with a fixed-size homogeneous collection of elements for specific tasks like numerical computing.\n",
    "'''"
   ]
  },
  {
   "cell_type": "code",
   "execution_count": 12,
   "id": "0b270b40",
   "metadata": {},
   "outputs": [
    {
     "name": "stdout",
     "output_type": "stream",
     "text": [
      "[[ 1  2  3  4]\n",
      " [ 5  6  7  8]\n",
      " [ 9 10 11 12]]\n",
      "Dimension of the array= 2\n",
      "Size of the array= 12\n",
      "Shape of the array= (3, 4)\n"
     ]
    }
   ],
   "source": [
    "#3. Find  the sahpe, size and dimension of the following array?\n",
    "import numpy as np\n",
    "arr=np.array([[1,2,3,4],\n",
    "     [5,6,7,8],\n",
    "     [9,10,11,12]])\n",
    "print(arr)\n",
    "print('Dimension of the array=',arr.ndim)\n",
    "print('Size of the array=',arr.size)\n",
    "print('Shape of the array=',arr.shape)"
   ]
  },
  {
   "cell_type": "code",
   "execution_count": 14,
   "id": "07355238",
   "metadata": {},
   "outputs": [
    {
     "name": "stdout",
     "output_type": "stream",
     "text": [
      "[1 2 3 4]\n"
     ]
    }
   ],
   "source": [
    "#4. Write the python code to acces the 1st  row of the following array.\n",
    "arr=np.array([[1,2,3,4],\n",
    "     [5,6,7,8],\n",
    "     [9,10,11,12]])\n",
    "print(arr[0])"
   ]
  },
  {
   "cell_type": "code",
   "execution_count": 15,
   "id": "21db2964",
   "metadata": {},
   "outputs": [
    {
     "name": "stdout",
     "output_type": "stream",
     "text": [
      "12\n"
     ]
    }
   ],
   "source": [
    "#5. How do you access the element at the third row and fourth column from the given numpy array.\n",
    "arr=np.array([[1,2,3,4],\n",
    "     [5,6,7,8],\n",
    "     [9,10,11,12]])\n",
    "print(arr[2][3])"
   ]
  },
  {
   "cell_type": "code",
   "execution_count": 16,
   "id": "89bb40f0",
   "metadata": {},
   "outputs": [
    {
     "name": "stdout",
     "output_type": "stream",
     "text": [
      "[ 2  4  6  8 10 12]\n"
     ]
    }
   ],
   "source": [
    "#6. Write code to extract all odd-indexed elements from the given numpy array.\n",
    "arr=np.array([[1,2,3,4],\n",
    "     [5,6,7,8],\n",
    "     [9,10,11,12]])\n",
    "odd_indexed_elements = arr[:, 1::2].flatten()\n",
    "print(odd_indexed_elements)"
   ]
  },
  {
   "cell_type": "code",
   "execution_count": 1,
   "id": "66497577",
   "metadata": {},
   "outputs": [
    {
     "name": "stdout",
     "output_type": "stream",
     "text": [
      "[[0.17046979 0.35690127 0.52821859]\n",
      " [0.68614922 0.33504779 0.73797562]\n",
      " [0.34162365 0.30892612 0.96782063]]\n"
     ]
    }
   ],
   "source": [
    "#7. How can you generate a random 3x3 matrix with value between 0 and 1.\n",
    "import numpy as np\n",
    "random_matrix=np.random.rand(3,3)\n",
    "print(random_matrix)"
   ]
  },
  {
   "cell_type": "code",
   "execution_count": 3,
   "id": "4d40bb36",
   "metadata": {},
   "outputs": [
    {
     "data": {
      "text/plain": [
       "'\\nnp.random.rand and np.random.randn are both functions in the NumPy library that are used to generate random numbers, but they have some key differences:\\n\\nnp.random.rand: This function generates random numbers from a uniform distribution over [0, 1). When you use np.random.rand, you provide the dimensions of the array you want to create as arguments. For example, np.random.rand(3, 3) would generate a 3x3 matrix of random numbers between 0 and 1.\\n\\nnp.random.randn: This function generates random numbers from a standard normal distribution (mean 0 and variance 1). Similarly to np.random.rand, you also provide the dimensions of the array you want to create as arguments. For example, np.random.randn(3, 3) would generate a 3x3 matrix of random numbers from a standard normal distribution.\\n\\nIn summary, the main difference is in the distribution of the generated random numbers: np.random.rand generates numbers from a uniform distribution over [0, 1), while np.random.randn generates numbers from a standard normal distribution with mean 0 and variance 1.\\n'"
      ]
     },
     "execution_count": 3,
     "metadata": {},
     "output_type": "execute_result"
    }
   ],
   "source": [
    "#8. Difference between np.random.rand and np.random.randn\n",
    "'''\n",
    "np.random.rand and np.random.randn are both functions in the NumPy library that are used to generate random numbers, but they have some key differences:\n",
    "\n",
    "np.random.rand: This function generates random numbers from a uniform distribution over [0, 1). When you use np.random.rand, you provide the dimensions of the array you want to create as arguments. For example, np.random.rand(3, 3) would generate a 3x3 matrix of random numbers between 0 and 1.\n",
    "\n",
    "np.random.randn: This function generates random numbers from a standard normal distribution (mean 0 and variance 1). Similarly to np.random.rand, you also provide the dimensions of the array you want to create as arguments. For example, np.random.randn(3, 3) would generate a 3x3 matrix of random numbers from a standard normal distribution.\n",
    "\n",
    "In summary, the main difference is in the distribution of the generated random numbers: np.random.rand generates numbers from a uniform distribution over [0, 1), while np.random.randn generates numbers from a standard normal distribution with mean 0 and variance 1.\n",
    "'''"
   ]
  },
  {
   "cell_type": "code",
   "execution_count": 5,
   "id": "b92ea0ad",
   "metadata": {},
   "outputs": [
    {
     "name": "stdout",
     "output_type": "stream",
     "text": [
      "[[ 1  2  3  4]\n",
      " [ 5  6  7  8]\n",
      " [ 9 10 11 12]]\n",
      "[[[ 1  2  3  4]\n",
      "  [ 5  6  7  8]\n",
      "  [ 9 10 11 12]]]\n"
     ]
    }
   ],
   "source": [
    "#9. Write code to increase the dimension of the following array?\n",
    "arr=np.array([[1,2,3,4],\n",
    "     [5,6,7,8],\n",
    "     [9,10,11,12]])\n",
    "new_arr = np.expand_dims(arr, axis=0)\n",
    "print(arr)\n",
    "print(new_arr)"
   ]
  },
  {
   "cell_type": "code",
   "execution_count": 9,
   "id": "66b7b341",
   "metadata": {},
   "outputs": [
    {
     "name": "stdout",
     "output_type": "stream",
     "text": [
      "[[ 1  5  9]\n",
      " [ 2  6 10]\n",
      " [ 3  7 11]\n",
      " [ 4  8 12]]\n"
     ]
    }
   ],
   "source": [
    "#10. How to transpose the following array in numpy?\n",
    "import numpy as np\n",
    "arr=np.array([[1,2,3,4],\n",
    "     [5,6,7,8],\n",
    "     [9,10,11,12]])\n",
    "print(arr.T)"
   ]
  },
  {
   "cell_type": "code",
   "execution_count": 20,
   "id": "ea9f1911",
   "metadata": {},
   "outputs": [
    {
     "name": "stdout",
     "output_type": "stream",
     "text": [
      "[[  1   4   9  16]\n",
      " [ 25  36  49  64]\n",
      " [ 81 100 121 144]]\n",
      "[[ 70  80  90]\n",
      " [158 184 210]\n",
      " [246 288 330]]\n",
      "[[ 2  4  6  8]\n",
      " [10 12 14 16]\n",
      " [18 20 22 24]]\n",
      "[[0 0 0 0]\n",
      " [0 0 0 0]\n",
      " [0 0 0 0]]\n",
      "[[1. 1. 1. 1.]\n",
      " [1. 1. 1. 1.]\n",
      " [1. 1. 1. 1.]]\n"
     ]
    }
   ],
   "source": [
    "#11. Consider the following matrix\n",
    "import numpy as np\n",
    "A=np.array([[1,2,3,4],[5,6,7,8],[9,10,11,12]])\n",
    "B=np.array([[1,2,3,4],[5,6,7,8],[9,10,11,12]])\n",
    "#1. Index wise multiplication\n",
    "print(A*B)\n",
    "#2. Matrix multiplication\n",
    "A = np.array([[1, 2, 3, 4],\n",
    "              [5, 6, 7, 8],\n",
    "              [9, 10, 11, 12]])\n",
    "\n",
    "B = np.array([[1, 2, 3],\n",
    "              [4, 5, 6],\n",
    "              [7, 8, 9],\n",
    "              [10, 11, 12]])\n",
    "print(np.dot(A,B))\n",
    "\n",
    "#3. Add both matrix\n",
    "A=np.array([[1,2,3,4],[5,6,7,8],[9,10,11,12]])\n",
    "B=np.array([[1,2,3,4],[5,6,7,8],[9,10,11,12]])\n",
    "print(A+B)\n",
    "#4. Subtract matrix B from matrix A\n",
    "print(A-B)\n",
    "\n",
    "#5. Devide matrix B by matrix A\n",
    "print(B/A)"
   ]
  },
  {
   "cell_type": "code",
   "execution_count": 22,
   "id": "3345197c",
   "metadata": {},
   "outputs": [
    {
     "name": "stdout",
     "output_type": "stream",
     "text": [
      "[1 2 3 4]\n",
      "[16777216 33554432 50331648 67108864]\n"
     ]
    }
   ],
   "source": [
    "#12. Which function in numpy can be used to swap the byte order of an array?\n",
    "arr = np.array([1, 2, 3, 4], dtype=np.int32)\n",
    "arr_swapped = arr.byteswap()\n",
    "print(arr)\n",
    "print(arr_swapped)"
   ]
  },
  {
   "cell_type": "code",
   "execution_count": 26,
   "id": "e5d44dc0",
   "metadata": {},
   "outputs": [
    {
     "data": {
      "text/plain": [
       "'\\nThe np.linalg.inv function in NumPy is used to compute the inverse of a square matrix. The significance of the np.linalg.inv function lies in its ability to find the inverse of a matrix, which is crucial in various mathematical and scientific computations, such as solving systems of linear equations, calculating determinants, and performing various transformations.\\n\\nHere are some key points regarding the significance of the np.linalg.inv function:\\n\\n\\nOrthogonal Matrices: For orthogonal matrices, the inverse is equal to the transpose. This property is often utilized in various numerical computations.\\n\\nNumerical Stability: In numerical computations, matrix inversion can sometimes be numerically unstable due to floating-point errors. The np.linalg.inv function in NumPy provides a reliable and optimized implementation for computing the inverse of a matrix.\\n\\nOverall, the np.linalg.inv function is significant as it enables users to perform various mathematical operations that require the computation of the inverse of a square matrix efficiently and accurately.\\n'"
      ]
     },
     "execution_count": 26,
     "metadata": {},
     "output_type": "execute_result"
    }
   ],
   "source": [
    "#13. What is the significance of the np.linalg.inv function?\n",
    "'''\n",
    "The np.linalg.inv function in NumPy is used to compute the inverse of a square matrix. The significance of the np.linalg.inv function lies in its ability to find the inverse of a matrix, which is crucial in various mathematical and scientific computations, such as solving systems of linear equations, calculating determinants, and performing various transformations.\n",
    "\n",
    "Here are some key points regarding the significance of the np.linalg.inv function:\n",
    "\n",
    "\n",
    "Orthogonal Matrices: For orthogonal matrices, the inverse is equal to the transpose. This property is often utilized in various numerical computations.\n",
    "\n",
    "Numerical Stability: In numerical computations, matrix inversion can sometimes be numerically unstable due to floating-point errors. The np.linalg.inv function in NumPy provides a reliable and optimized implementation for computing the inverse of a matrix.\n",
    "\n",
    "Overall, the np.linalg.inv function is significant as it enables users to perform various mathematical operations that require the computation of the inverse of a square matrix efficiently and accurately.\n",
    "'''"
   ]
  },
  {
   "cell_type": "code",
   "execution_count": 24,
   "id": "f8e76584",
   "metadata": {},
   "outputs": [
    {
     "name": "stdout",
     "output_type": "stream",
     "text": [
      "[[1 2 3]\n",
      " [4 5 6]]\n"
     ]
    },
    {
     "data": {
      "text/plain": [
       "'In this example, we create a 1D array arr with 6 elements. By using np.reshape(arr, (2, 3)), we reshape the array into a 2x3 matrix. The resulting reshaped_arr will be a new view of the data with the shape (2, 3).\\n\\nUsage:\\n\\nReshaping arrays for compatibility with specific functions or operations.\\nConverting between different dimensionalities of arrays.\\nPreparing data for input into machine learning models that require specific input shapes.\\nOverall, the np.reshape function is a powerful tool in NumPy that allows for flexible manipulation of array shapes without modifying the underlying data, enabling efficient data manipulation and transformation in various scientific computing tasks.'"
      ]
     },
     "execution_count": 24,
     "metadata": {},
     "output_type": "execute_result"
    }
   ],
   "source": [
    "#14. What does the np.reshape function do, and how is it used? \n",
    "'''The np.reshape function in NumPy is used to change the shape of an array without changing its data. It allows you to reorganize the elements of an array into a new shape while maintaining the same data. This function does not modify the original array; instead, it returns a new view of the data with the desired shape.\n",
    "\n",
    "Here's how the np.reshape function is used:\n",
    "\n",
    "Syntax: The syntax of the np.reshape function is as follows:\n",
    "\n",
    "python\n",
    "Copy\n",
    "np.reshape(a, newshape, order='C')\n",
    "a: The array that you want to reshape.\n",
    "newshape: The new shape that you want to give to the array. It can be a tuple specifying the dimensions of the new shape.\n",
    "order: (Optional) Specifies the order in which elements are read from and written to the reshaped array. It can be 'C' (row-major, default) or 'F' (column-major).\n",
    "Example:'''\n",
    "\n",
    "import numpy as np\n",
    "arr = np.array([1, 2, 3, 4, 5, 6])\n",
    "reshaped_arr = np.reshape(arr, (2, 3))\n",
    "print(reshaped_arr)\n",
    "\n",
    "'''In this example, we create a 1D array arr with 6 elements. By using np.reshape(arr, (2, 3)), we reshape the array into a 2x3 matrix. The resulting reshaped_arr will be a new view of the data with the shape (2, 3).\n",
    "\n",
    "Usage:\n",
    "\n",
    "Reshaping arrays for compatibility with specific functions or operations.\n",
    "Converting between different dimensionalities of arrays.\n",
    "Preparing data for input into machine learning models that require specific input shapes.\n",
    "Overall, the np.reshape function is a powerful tool in NumPy that allows for flexible manipulation of array shapes without modifying the underlying data, enabling efficient data manipulation and transformation in various scientific computing tasks.'''"
   ]
  },
  {
   "cell_type": "code",
   "execution_count": 25,
   "id": "cc3f9d1c",
   "metadata": {},
   "outputs": [
    {
     "name": "stdout",
     "output_type": "stream",
     "text": [
      "[[11 22 33]\n",
      " [14 25 36]]\n"
     ]
    },
    {
     "data": {
      "text/plain": [
       "'In this example, array A has a shape of (2, 3), and array B has a shape of (3,). When performing the operation A + B, NumPy broadcasts array B to the shape (2, 3) by duplicating its values along the rows. The result is an element-wise addition of A and the broadcasted B.\\n\\nBenefits:\\n\\nSimplifies syntax: You can perform operations on arrays of different shapes without explicitly reshaping them.\\nImproves performance: Broadcasting allows NumPy to optimize memory usage and avoid unnecessary copying of data.\\nBroadcasting is a fundamental feature in NumPy that enables efficient vectorized operations on arrays with different shapes, making it a powerful tool for array manipulation and computation in scientific computing and data analysis tasks.'"
      ]
     },
     "execution_count": 25,
     "metadata": {},
     "output_type": "execute_result"
    }
   ],
   "source": [
    "#15. What is broadcasting in numpy?\n",
    "'''Broadcasting in NumPy is a powerful mechanism that allows arrays of different shapes to be combined in arithmetic operations. When you perform operations on arrays with different shapes, NumPy automatically \"broadcasts\" the arrays to make their shapes compatible for the operation. This broadcasting behavior eliminates the need for explicit loops and simplifies the syntax of array operations.\n",
    "\n",
    "Key points about broadcasting in NumPy include:\n",
    "\n",
    "Rules of Broadcasting:\n",
    "\n",
    "If the arrays have a different number of dimensions, the shape of the array with fewer dimensions is padded with ones on its left side.\n",
    "The sizes of the corresponding dimensions of the two arrays are compared. Two dimensions are compatible when:\n",
    "They are equal.\n",
    "One of them is 1.\n",
    "If the sizes of the corresponding dimensions are not equal and none of them is 1, then a \"ValueError\" is raised, indicating that the arrays are not broadcastable.\n",
    "'''\n",
    "\n",
    "A = np.array([[1, 2, 3],\n",
    "              [4, 5, 6]])\n",
    "\n",
    "B = np.array([10, 20, 30])\n",
    "result = A + B\n",
    "print(result)\n",
    "\n",
    "'''In this example, array A has a shape of (2, 3), and array B has a shape of (3,). When performing the operation A + B, NumPy broadcasts array B to the shape (2, 3) by duplicating its values along the rows. The result is an element-wise addition of A and the broadcasted B.\n",
    "\n",
    "Benefits:\n",
    "\n",
    "Simplifies syntax: You can perform operations on arrays of different shapes without explicitly reshaping them.\n",
    "Improves performance: Broadcasting allows NumPy to optimize memory usage and avoid unnecessary copying of data.\n",
    "Broadcasting is a fundamental feature in NumPy that enables efficient vectorized operations on arrays with different shapes, making it a powerful tool for array manipulation and computation in scientific computing and data analysis tasks.'''"
   ]
  },
  {
   "cell_type": "code",
   "execution_count": null,
   "id": "909f8150",
   "metadata": {},
   "outputs": [],
   "source": []
  }
 ],
 "metadata": {
  "kernelspec": {
   "display_name": "Python 3 (ipykernel)",
   "language": "python",
   "name": "python3"
  },
  "language_info": {
   "codemirror_mode": {
    "name": "ipython",
    "version": 3
   },
   "file_extension": ".py",
   "mimetype": "text/x-python",
   "name": "python",
   "nbconvert_exporter": "python",
   "pygments_lexer": "ipython3",
   "version": "3.10.9"
  }
 },
 "nbformat": 4,
 "nbformat_minor": 5
}
