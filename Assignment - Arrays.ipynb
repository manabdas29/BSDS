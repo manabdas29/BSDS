{
 "cells": [
  {
   "cell_type": "code",
   "execution_count": 3,
   "id": "1a95547e",
   "metadata": {},
   "outputs": [
    {
     "name": "stdout",
     "output_type": "stream",
     "text": [
      "True\n"
     ]
    }
   ],
   "source": [
    "#1\n",
    "def has_duplicates(arr):\n",
    "    return len(arr) != len(set(arr))\n",
    "\n",
    "# Example usage\n",
    "arr = [1, 2, 4, 2, 5, 9]\n",
    "print(has_duplicates(arr))"
   ]
  },
  {
   "cell_type": "code",
   "execution_count": 4,
   "id": "6c0f9b81",
   "metadata": {},
   "outputs": [
    {
     "name": "stdout",
     "output_type": "stream",
     "text": [
      "[5, 6, 7, 1, 2, 3, 4]\n"
     ]
    }
   ],
   "source": [
    "#2\n",
    "def rotate_array(arr, k):\n",
    "    n = len(arr)\n",
    "    k = k % n  # Normalize k to ensure it's within the range of the array length\n",
    "    \n",
    "    # Reverse the whole array\n",
    "    arr.reverse()\n",
    "    \n",
    "    # Reverse the first k elements\n",
    "    arr[:k] = reversed(arr[:k])\n",
    "    \n",
    "    # Reverse the remaining elements\n",
    "    arr[k:] = reversed(arr[k:])\n",
    "    \n",
    "    return arr\n",
    "\n",
    "# Example usage\n",
    "arr = [1, 2, 3, 4, 5, 6, 7]\n",
    "k = 3\n",
    "print(rotate_array(arr, k)) "
   ]
  },
  {
   "cell_type": "code",
   "execution_count": 5,
   "id": "766884c5",
   "metadata": {},
   "outputs": [
    {
     "name": "stdout",
     "output_type": "stream",
     "text": [
      "[12, 9, 7, 5, 4, 2]\n"
     ]
    }
   ],
   "source": [
    "#3\n",
    "def reverse_array(arr):\n",
    "    left = 0\n",
    "    right = len(arr) - 1\n",
    "    \n",
    "    while left < right:\n",
    "        # Swap the elements at the left and right indices\n",
    "        arr[left], arr[right] = arr[right], arr[left]\n",
    "        \n",
    "        # Move the pointers towards the center\n",
    "        left += 1\n",
    "        right -= 1\n",
    "\n",
    "# Example usage\n",
    "arr = [2, 4, 5, 7, 9, 12]\n",
    "reverse_array(arr)\n",
    "print(arr) "
   ]
  },
  {
   "cell_type": "code",
   "execution_count": 6,
   "id": "9a350a45",
   "metadata": {},
   "outputs": [
    {
     "name": "stdout",
     "output_type": "stream",
     "text": [
      "20\n"
     ]
    }
   ],
   "source": [
    "#4\n",
    "def find_maximum(arr):\n",
    "    # Initialize the maximum element to be the first element of the array\n",
    "    max_element = arr[0]\n",
    "    \n",
    "    # Iterate through the array starting from the second element\n",
    "    for num in arr[1:]:\n",
    "        # Update max_element if the current element is greater\n",
    "        if num > max_element:\n",
    "            max_element = num\n",
    "    \n",
    "    return max_element\n",
    "\n",
    "# Example usage\n",
    "arr = [10, 5, 20, 8, 15]\n",
    "print(find_maximum(arr))"
   ]
  },
  {
   "cell_type": "code",
   "execution_count": 7,
   "id": "761fe6bd",
   "metadata": {},
   "outputs": [
    {
     "name": "stdout",
     "output_type": "stream",
     "text": [
      "[1, 2, 3, 4, 5]\n"
     ]
    }
   ],
   "source": [
    "#5\n",
    "def remove_duplicates(arr):\n",
    "    if not arr:\n",
    "        return arr\n",
    "    \n",
    "    # Initialize the write pointer\n",
    "    write_index = 1\n",
    "    \n",
    "    # Iterate through the array starting from the second element\n",
    "    for i in range(1, len(arr)):\n",
    "        if arr[i] != arr[i - 1]:  # Compare current element with the previous one\n",
    "            arr[write_index] = arr[i]  # Write the unique element\n",
    "            write_index += 1  # Move the write pointer forward\n",
    "    \n",
    "    # The unique elements are now at the beginning of the array\n",
    "    return arr[:write_index]\n",
    "\n",
    "# Example usage\n",
    "arr = [1, 1, 2, 2, 2, 3, 3, 4, 4, 4, 5, 5]\n",
    "print(remove_duplicates(arr))"
   ]
  },
  {
   "cell_type": "code",
   "execution_count": null,
   "id": "29005523",
   "metadata": {},
   "outputs": [],
   "source": []
  }
 ],
 "metadata": {
  "kernelspec": {
   "display_name": "Python 3 (ipykernel)",
   "language": "python",
   "name": "python3"
  },
  "language_info": {
   "codemirror_mode": {
    "name": "ipython",
    "version": 3
   },
   "file_extension": ".py",
   "mimetype": "text/x-python",
   "name": "python",
   "nbconvert_exporter": "python",
   "pygments_lexer": "ipython3",
   "version": "3.10.9"
  }
 },
 "nbformat": 4,
 "nbformat_minor": 5
}
