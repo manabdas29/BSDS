{
 "cells": [
  {
   "cell_type": "markdown",
   "id": "60e8ff25",
   "metadata": {},
   "source": [
    "# Basic if-else"
   ]
  },
  {
   "cell_type": "code",
   "execution_count": 5,
   "id": "5c281f3a",
   "metadata": {},
   "outputs": [
    {
     "name": "stdout",
     "output_type": "stream",
     "text": [
      "12 is a positive number\n"
     ]
    }
   ],
   "source": [
    "#1. Write a Python program to check if a given number is positive or negative.\n",
    "def positive_negative(n):\n",
    "    if n>0:\n",
    "        return f'{n} is a positive number' \n",
    "    else:\n",
    "        return f'{n} is a negative number'\n",
    "x=positive_negative(12)\n",
    "print(x)"
   ]
  },
  {
   "cell_type": "code",
   "execution_count": 6,
   "id": "425de2cb",
   "metadata": {},
   "outputs": [
    {
     "data": {
      "text/plain": [
       "'The person is eligable to vote'"
      ]
     },
     "execution_count": 6,
     "metadata": {},
     "output_type": "execute_result"
    }
   ],
   "source": [
    "#2. Create a program that determines if a person is eligible to vote based on their age.\n",
    "def voting_eligibility(age):\n",
    "    if age>=18:\n",
    "        return 'The person is eligable to vote'\n",
    "    else:\n",
    "        return 'The person is not eligable to vote'\n",
    "voting_eligibility(20)"
   ]
  },
  {
   "cell_type": "code",
   "execution_count": 7,
   "id": "1cb60c0c",
   "metadata": {},
   "outputs": [
    {
     "data": {
      "text/plain": [
       "'7 is maximum in between 4 & 7'"
      ]
     },
     "execution_count": 7,
     "metadata": {},
     "output_type": "execute_result"
    }
   ],
   "source": [
    "#3. Develop a program to find the maximum of two numbers using if-else statements.\n",
    "def find_max(a,b):\n",
    "    if a>b:\n",
    "        return f'{a} is maximum in between {a} & {b}'\n",
    "    else:\n",
    "        return f'{b} is maximum in between {a} & {b}'\n",
    "find_max(4,7)"
   ]
  },
  {
   "cell_type": "code",
   "execution_count": 12,
   "id": "5c74f52c",
   "metadata": {},
   "outputs": [],
   "source": [
    "#4. 4. Write a Python script to classify a given year as a leap year or not.\n",
    "def is_leapyear(year):\n",
    "    if year%4==0:\n",
    "        if year%100==0:\n",
    "            if year%400==0:\n",
    "                return f'{year} is a leap year'\n",
    "    else:\n",
    "        return f'{year} is not a leap year'\n",
    "is_leapyear(2004)"
   ]
  },
  {
   "cell_type": "code",
   "execution_count": 3,
   "id": "247441ed",
   "metadata": {},
   "outputs": [
    {
     "data": {
      "text/plain": [
       "'The character is a consonant'"
      ]
     },
     "execution_count": 3,
     "metadata": {},
     "output_type": "execute_result"
    }
   ],
   "source": [
    "#5. Create a program that checks whether a character is a vowel or a consonant.\n",
    "def vowel_or_consonant(c):\n",
    "    vowel=['a','e','i','o','u','A','E','I','O','U']\n",
    "    if c in vowel:\n",
    "        return 'The character is a vowel'\n",
    "    else:\n",
    "        return 'The character is a consonant'\n",
    "vowel_or_consonant('p')"
   ]
  },
  {
   "cell_type": "code",
   "execution_count": 4,
   "id": "6f824805",
   "metadata": {},
   "outputs": [
    {
     "data": {
      "text/plain": [
       "'16 is even'"
      ]
     },
     "execution_count": 4,
     "metadata": {},
     "output_type": "execute_result"
    }
   ],
   "source": [
    "#6. Implement a program to determine whether a given number is even or odd.\n",
    "def even_odd(n):\n",
    "    if n%2==0:\n",
    "        return f'{n} is even'\n",
    "    else:\n",
    "        return f'{n} is odd'\n",
    "even_odd(16)"
   ]
  },
  {
   "cell_type": "code",
   "execution_count": 5,
   "id": "cacb50b5",
   "metadata": {},
   "outputs": [
    {
     "data": {
      "text/plain": [
       "17"
      ]
     },
     "execution_count": 5,
     "metadata": {},
     "output_type": "execute_result"
    }
   ],
   "source": [
    "#7. Write a Python function to calculate the absolute value of a number without using the `abs()` function.\n",
    "def abs_value(n):\n",
    "    if n>0:\n",
    "        return n\n",
    "    else:\n",
    "        return -1*n\n",
    "abs_value(-17)"
   ]
  },
  {
   "cell_type": "code",
   "execution_count": 22,
   "id": "bda71b79",
   "metadata": {},
   "outputs": [
    {
     "name": "stdout",
     "output_type": "stream",
     "text": [
      "The largest number is: 10\n"
     ]
    }
   ],
   "source": [
    "#8. Develop a program that determines the largest of three given numbers using if-else statements.\n",
    "def find_largest_number(a, b, c):\n",
    "    if a >= b and a >= c:\n",
    "        return a\n",
    "    elif b >= a and b >= c:\n",
    "        return b\n",
    "    else:\n",
    "        return c\n",
    "\n",
    "num1 = 10\n",
    "num2 = 5\n",
    "num3 = 7\n",
    "\n",
    "largest_number = find_largest_number(num1, num2, num3)\n",
    "print(\"The largest number is:\", largest_number)"
   ]
  },
  {
   "cell_type": "code",
   "execution_count": 16,
   "id": "ed1ca56b",
   "metadata": {},
   "outputs": [
    {
     "data": {
      "text/plain": [
       "False"
      ]
     },
     "execution_count": 16,
     "metadata": {},
     "output_type": "execute_result"
    }
   ],
   "source": [
    "#9. Create a program that checks if a given string is a palindrome.\n",
    "def is_plaindrom(s):\n",
    "    for i in range(len(s)):\n",
    "        for j in range(len(s)-1,0,-1):\n",
    "            if s[i]==s[j]:\n",
    "                return True\n",
    "            else:\n",
    "                return False\n",
    "is_plaindrom('Manab')"
   ]
  },
  {
   "cell_type": "code",
   "execution_count": 21,
   "id": "c9b468d1",
   "metadata": {},
   "outputs": [
    {
     "name": "stdout",
     "output_type": "stream",
     "text": [
      "Grade=-45\n",
      "Enter a number btween 0 to 100\n"
     ]
    }
   ],
   "source": [
    "#10. Write a Python program to calculate the grade based on a student's score.\n",
    "grade=int(input('Grade='))\n",
    "if grade<=100 and grade>=91:\n",
    "    print('A+')\n",
    "elif grade>80 and grade <=90:\n",
    "    print('A')\n",
    "elif grade>70 and grade <=80:\n",
    "    print('B+')\n",
    "elif grade >60 and grade<=70:\n",
    "    print('B')\n",
    "elif grade >50 and grade<=60:\n",
    "    print('C')\n",
    "elif grade >=40 and grade<=50:\n",
    "    print('D')\n",
    "elif grade <40 and grade>=0:\n",
    "    print('F')\n",
    "else:\n",
    "    print('Enter a number btween 0 to 100')"
   ]
  },
  {
   "cell_type": "markdown",
   "id": "7d72e906",
   "metadata": {},
   "source": [
    "# Nested If-Else Statements:"
   ]
  },
  {
   "cell_type": "code",
   "execution_count": 23,
   "id": "b3ed9b84",
   "metadata": {},
   "outputs": [
    {
     "data": {
      "text/plain": [
       "17"
      ]
     },
     "execution_count": 23,
     "metadata": {},
     "output_type": "execute_result"
    }
   ],
   "source": [
    "#11. Write a program to find the largest among three numbers using nested if-else statements.\n",
    "def largest(a,b,c):\n",
    "    if a>b:\n",
    "        if a>c:\n",
    "            return a\n",
    "        else:\n",
    "            return c\n",
    "    else:\n",
    "        if b>a:\n",
    "            if b>c:\n",
    "                return b\n",
    "            else:\n",
    "                return c\n",
    "largest(12,15,17)"
   ]
  },
  {
   "cell_type": "code",
   "execution_count": 24,
   "id": "03889770",
   "metadata": {},
   "outputs": [
    {
     "data": {
      "text/plain": [
       "'It is a scalen triangle'"
      ]
     },
     "execution_count": 24,
     "metadata": {},
     "output_type": "execute_result"
    }
   ],
   "source": [
    "#12. Implement a program to determine if a triangle is equilateral, isosceles, or scalene.\n",
    "def check_triangle(a,b,c):\n",
    "    if a==b:\n",
    "        if a==c:\n",
    "            return 'The triangle is a equilateral trianle'\n",
    "        else: \n",
    "            return 'The trianle is a isosceles triangle'\n",
    "    else:\n",
    "        return 'It is a scalen triangle'\n",
    "check_triangle(12,13,14)"
   ]
  },
  {
   "cell_type": "code",
   "execution_count": 2,
   "id": "95bd22c1",
   "metadata": {},
   "outputs": [
    {
     "data": {
      "text/plain": [
       "'2007 is not a leap year'"
      ]
     },
     "execution_count": 2,
     "metadata": {},
     "output_type": "execute_result"
    }
   ],
   "source": [
    "#13. Develop a program that checks if a year is a leap year and also if it is a century year.\n",
    "def is_leapyear(year):\n",
    "    if year%4==0:\n",
    "        return f'{year} is leap year'\n",
    "    elif year%100==0:\n",
    "        return f'{year} is a leapyear'\n",
    "    elif year%400==0:\n",
    "        return f'{year} is a leap year'\n",
    "    else:\n",
    "        return f'{year} is not a leap year'\n",
    "is_leapyear(2007)"
   ]
  },
  {
   "cell_type": "code",
   "execution_count": 3,
   "id": "d0a3f01e",
   "metadata": {},
   "outputs": [
    {
     "data": {
      "text/plain": [
       "'10 is a positive number'"
      ]
     },
     "execution_count": 3,
     "metadata": {},
     "output_type": "execute_result"
    }
   ],
   "source": [
    "#14. Write a Python script to determine if a number is positive, negative, or zero.\n",
    "def is_number(n):\n",
    "    if n>0:\n",
    "        return f'{n} is a positive number'\n",
    "    elif n==0:\n",
    "        return f'{n} is equal to zero'\n",
    "    else:\n",
    "        return f'{n} is negative number'\n",
    "is_number(10)"
   ]
  },
  {
   "cell_type": "code",
   "execution_count": 5,
   "id": "e437dbee",
   "metadata": {},
   "outputs": [
    {
     "data": {
      "text/plain": [
       "'The person not in teen age'"
      ]
     },
     "execution_count": 5,
     "metadata": {},
     "output_type": "execute_result"
    }
   ],
   "source": [
    "#15. Create a program to check if a person is a teenager (between 13 and 19 years old).\n",
    "def is_teen(age):\n",
    "    if age>=13 and 19>=age:\n",
    "        return 'The person is in a teen age'\n",
    "    else:\n",
    "        return 'The person not in teen age'\n",
    "is_teen(26)"
   ]
  },
  {
   "cell_type": "code",
   "execution_count": 7,
   "id": "efab4079",
   "metadata": {},
   "outputs": [
    {
     "data": {
      "text/plain": [
       "'33 is an acute angle'"
      ]
     },
     "execution_count": 7,
     "metadata": {},
     "output_type": "execute_result"
    }
   ],
   "source": [
    "#16. Develop a program that determines the type of angle based on its measure (acute, obtuse, or right).\n",
    "def angle(a):\n",
    "    if a>0 and a<90:\n",
    "        return f'{a} is an acute angle'\n",
    "    elif a==90:\n",
    "        return f'{a} is a right angle'\n",
    "    else:\n",
    "        return f'{a} is an obtuse angle'\n",
    "angle(33)"
   ]
  },
  {
   "cell_type": "code",
   "execution_count": 36,
   "id": "9fa63745",
   "metadata": {},
   "outputs": [
    {
     "name": "stdout",
     "output_type": "stream",
     "text": [
      "Enter the coefficient of x^2: 1\n",
      "Enter the coefficient of x: 2\n",
      "Enter the constant term: 3\n",
      "The roots of the quadratic equation are complex: -1.0 + 1.4142135623730951i and -1.0 - 1.4142135623730951i\n"
     ]
    }
   ],
   "source": [
    "#17. Write a Python program to calculate the roots of a quadratic equation.\n",
    "import math\n",
    "\n",
    "# Coefficients of the quadratic equation\n",
    "a = float(input(\"Enter the coefficient of x^2: \"))\n",
    "b = float(input(\"Enter the coefficient of x: \"))\n",
    "c = float(input(\"Enter the constant term: \"))\n",
    "\n",
    "# Calculate the discriminant\n",
    "discriminant = b**2 - 4*a*c\n",
    "\n",
    "# Calculate the roots\n",
    "if discriminant > 0:\n",
    "    root1 = (-b + math.sqrt(discriminant)) / (2*a)\n",
    "    root2 = (-b - math.sqrt(discriminant)) / (2*a)\n",
    "    print(f\"The roots of the quadratic equation are real and distinct: {root1} and {root2}\")\n",
    "elif discriminant == 0:\n",
    "    root1 = -b / (2*a)\n",
    "    print(f\"The root of the quadratic equation is real and equal: {root1}\")\n",
    "else:\n",
    "    realPart = -b / (2*a)\n",
    "    imaginaryPart = math.sqrt(-discriminant) / (2*a)\n",
    "    print(f\"The roots of the quadratic equation are complex: {realPart} + {imaginaryPart}i and {realPart} - {imaginaryPart}i\")\n"
   ]
  },
  {
   "cell_type": "code",
   "execution_count": 2,
   "id": "96a0d677",
   "metadata": {},
   "outputs": [
    {
     "data": {
      "text/plain": [
       "'Please enter a valid number in between 1 to 6'"
      ]
     },
     "execution_count": 2,
     "metadata": {},
     "output_type": "execute_result"
    }
   ],
   "source": [
    "#18. Implement a program to determine the day of the week based on a user-provided number (1 for Monday, 2 for Tuesday, etc.).\n",
    "def day(n):\n",
    "    if n==1:\n",
    "        return 'Monday'\n",
    "    elif n==2:\n",
    "        return 'Tuesday'\n",
    "    elif n==3:\n",
    "        return 'Wednesday'\n",
    "    elif n==4:\n",
    "        return 'Thursday'\n",
    "    elif n==5:\n",
    "        return 'Friday'\n",
    "    elif n==6:\n",
    "        return 'Saturday'\n",
    "    elif n==7:\n",
    "        return 'Sunday'\n",
    "    else:\n",
    "        return 'Please enter a valid number in between 1 to 6'\n",
    "day(9)"
   ]
  },
  {
   "cell_type": "code",
   "execution_count": 3,
   "id": "78d79b37",
   "metadata": {},
   "outputs": [
    {
     "data": {
      "text/plain": [
       "'2020 is a leap year but not divisible by 400'"
      ]
     },
     "execution_count": 3,
     "metadata": {},
     "output_type": "execute_result"
    }
   ],
   "source": [
    "#19. Create a program that determines if a year is a leap year and also if it is evenly divisible by 400.\n",
    "def is_leap(year):\n",
    "    if year%4==0 or year%100==0:\n",
    "        if year%400==0:\n",
    "            return f'{year} is a leap year and divisible by 400'\n",
    "        else:\n",
    "            return f'{year} is a leap year but not divisible by 400'\n",
    "    else:\n",
    "        return f'{year} is not a leap year'\n",
    "is_leap(2020)"
   ]
  },
  {
   "cell_type": "code",
   "execution_count": 5,
   "id": "84aa6f0e",
   "metadata": {},
   "outputs": [
    {
     "data": {
      "text/plain": [
       "'13 is a prime number'"
      ]
     },
     "execution_count": 5,
     "metadata": {},
     "output_type": "execute_result"
    }
   ],
   "source": [
    "#20. Develop a program that checks if a given number is prime or not using nested if-else statements.\n",
    "\n",
    "def is_prime(n):\n",
    "    count=0\n",
    "    for i in range(2,int(0.5*n)+1):\n",
    "        if n%i==0:\n",
    "            count+=1\n",
    "    if count==0:\n",
    "        return f'{n} is a prime number'\n",
    "    else:\n",
    "        return f'{n} is not a prime number'\n",
    "is_prime(13)"
   ]
  },
  {
   "cell_type": "code",
   "execution_count": 6,
   "id": "1499429f",
   "metadata": {},
   "outputs": [
    {
     "name": "stdout",
     "output_type": "stream",
     "text": [
      "Grade=78\n",
      "B+\n"
     ]
    }
   ],
   "source": [
    "#21. Write a Python program to assign grades based on different ranges of scores using elif statements.\n",
    "grade=int(input('Grade='))\n",
    "if grade<=100 and grade>=91:\n",
    "    print('A+')\n",
    "elif grade>80 and grade <=90:\n",
    "    print('A')\n",
    "elif grade>70 and grade <=80:\n",
    "    print('B+')\n",
    "elif grade >60 and grade<=70:\n",
    "    print('B')\n",
    "elif grade >50 and grade<=60:\n",
    "    print('C')\n",
    "elif grade >=40 and grade<=50:\n",
    "    print('D')\n",
    "elif grade <40 and grade>=0:\n",
    "    print('F')\n",
    "else:\n",
    "    print('Enter a number btween 0 to 100')"
   ]
  },
  {
   "cell_type": "code",
   "execution_count": 7,
   "id": "e2b3d773",
   "metadata": {},
   "outputs": [
    {
     "data": {
      "text/plain": [
       "'33 is an acute angle'"
      ]
     },
     "execution_count": 7,
     "metadata": {},
     "output_type": "execute_result"
    }
   ],
   "source": [
    "#22. Implement a program to determine the type of a triangle based on its angles.\n",
    "def angle(a):\n",
    "    if a>0 and a<90:\n",
    "        return f'{a} is an acute angle'\n",
    "    elif a==90:\n",
    "        return f'{a} is a right angle'\n",
    "    else:\n",
    "        return f'{a} is an obtuse angle'\n",
    "angle(33)"
   ]
  },
  {
   "cell_type": "code",
   "execution_count": 10,
   "id": "3e5d6712",
   "metadata": {},
   "outputs": [
    {
     "name": "stdout",
     "output_type": "stream",
     "text": [
      "Weight in kg=75\n",
      "Height in meter=1.8\n"
     ]
    },
    {
     "data": {
      "text/plain": [
       "'Normal Weight'"
      ]
     },
     "execution_count": 10,
     "metadata": {},
     "output_type": "execute_result"
    }
   ],
   "source": [
    "#23. Develop a program to categorize a given person's BMI into underweight, normal, overweight, or obese using elif statements.\n",
    "def categorise_BMI(weight,hight):\n",
    "    BMI=weight/(hight**2)\n",
    "    if BMI<18.5:\n",
    "        category='Under Weight'\n",
    "    elif BMI>=18.5 and BMI<25:\n",
    "        category='Normal Weight'\n",
    "    elif BMI>=25 and BMI<30:\n",
    "            category ='Over Weight'\n",
    "    else:\n",
    "        category='Obese'\n",
    "    return category\n",
    "weight=float(input('Weight in kg='))\n",
    "height=float(input('Height in meter='))\n",
    "categorise_BMI(weight,height)   "
   ]
  },
  {
   "cell_type": "code",
   "execution_count": 11,
   "id": "1a7bb723",
   "metadata": {},
   "outputs": [
    {
     "data": {
      "text/plain": [
       "'10 is a positive number'"
      ]
     },
     "execution_count": 11,
     "metadata": {},
     "output_type": "execute_result"
    }
   ],
   "source": [
    "#24. Create a program that determines whether a given number is positive, negative, or zero using elif statements.\n",
    "def is_number(n):\n",
    "    if n>0:\n",
    "        return f'{n} is a positive number'\n",
    "    elif n==0:\n",
    "        return f'{n} is equal to zero'\n",
    "    else:\n",
    "        return f'{n} is negative number'\n",
    "is_number(10)"
   ]
  },
  {
   "cell_type": "code",
   "execution_count": 12,
   "id": "5c6306d2",
   "metadata": {},
   "outputs": [
    {
     "data": {
      "text/plain": [
       "'Special Character'"
      ]
     },
     "execution_count": 12,
     "metadata": {},
     "output_type": "execute_result"
    }
   ],
   "source": [
    "#25. Write a Python script to determine the type of a character (uppercase, lowercase, or special) using elif statements.\n",
    "def char_type(c):\n",
    "    if c.isupper():\n",
    "        return 'Uppercase'\n",
    "    elif c.islower():\n",
    "        return 'Lower'\n",
    "    else:\n",
    "        return 'Special Character'\n",
    "char_type('@')"
   ]
  },
  {
   "cell_type": "code",
   "execution_count": 19,
   "id": "88ad6637",
   "metadata": {},
   "outputs": [
    {
     "data": {
      "text/plain": [
       "'Please visit next time'"
      ]
     },
     "execution_count": 19,
     "metadata": {},
     "output_type": "execute_result"
    }
   ],
   "source": [
    "#26. Implement a program to calculate the discounted price based on different purchase amounts using elif statements.\n",
    "def disc_amount(amount):\n",
    "    if amount>=1000 and amount<2000:\n",
    "        disc_amt==(amount*5)/100\n",
    "        return 'Discount amount=',disc_amt\n",
    "    elif amount>=2000 and amount<4000:\n",
    "        disc_amt=(amount*10)/100\n",
    "        return'Discount amount=',disc_amt\n",
    "    elif amount>=4000 and amount<5000:\n",
    "        disc_amt=(amount*15)/100\n",
    "        return 'Discount amount=',disc_amt\n",
    "    elif amount>=5000:\n",
    "        disc_amt=(amount*20)/100\n",
    "        return 'Discount amount=',disc_amt\n",
    "    else:\n",
    "        return 'Please visit next time'\n",
    "disc_amount(0)"
   ]
  },
  {
   "cell_type": "code",
   "execution_count": 20,
   "id": "4dcf0660",
   "metadata": {},
   "outputs": [
    {
     "name": "stdout",
     "output_type": "stream",
     "text": [
      "Enter the number of units consumed: 450\n",
      "Electricity Bill: Rs. 520.0\n"
     ]
    }
   ],
   "source": [
    "#27. Develop a program to calculate the electricity bill based on different consumption slabs using elif statements.\n",
    "def calculate_bill(units):\n",
    "    if units <= 50:\n",
    "        bill = units * 0.50\n",
    "    elif 50 < units <= 150:\n",
    "        bill = 25 + ((units - 50) * 0.75)\n",
    "    elif 150 < units <= 250:\n",
    "        bill = 100 + ((units - 150) * 1.20)\n",
    "    else:\n",
    "        bill = 220 + ((units - 250) * 1.50)\n",
    "\n",
    "    return bill\n",
    "\n",
    "units = int(input(\"Enter the number of units consumed: \"))\n",
    "\n",
    "result = calculate_bill(units)\n",
    "print(\"Electricity Bill: Rs.\", result)"
   ]
  },
  {
   "cell_type": "code",
   "execution_count": 23,
   "id": "67fcced3",
   "metadata": {},
   "outputs": [
    {
     "data": {
      "text/plain": [
       "'Paralilogram'"
      ]
     },
     "execution_count": 23,
     "metadata": {},
     "output_type": "execute_result"
    }
   ],
   "source": [
    "#28. Create a program to determine the type of quadrilateral based on its angles and sides using elif statements.\n",
    "def quadrilateral_type(angle,b,c,d,e):\n",
    "    if angle==90:\n",
    "        if b==c==d==e:\n",
    "            return 'Squre'\n",
    "        else:\n",
    "            return 'Rectangle'\n",
    "    elif angle !=90:\n",
    "        if b==c==d==e:\n",
    "            return 'Rhombus'\n",
    "        elif b==c or b==d or b==e and c==d or c==e or e==d:\n",
    "            return 'Paralilogram'\n",
    "quadrilateral_type(70,4,6,4,6)        "
   ]
  },
  {
   "cell_type": "code",
   "execution_count": 24,
   "id": "90da0517",
   "metadata": {},
   "outputs": [
    {
     "name": "stdout",
     "output_type": "stream",
     "text": [
      "Enter the month (1-12): 5\n",
      "Spring\n"
     ]
    }
   ],
   "source": [
    "#29. Write a Python script to determine the season based on a user-provided month using elif statements.\n",
    "month = input(\"Enter the month (1-12): \")\n",
    "month = int(month)\n",
    "\n",
    "if month == 12 or month == 1 or month == 2:\n",
    "    print(\"Winter\")\n",
    "elif month == 3 or month == 4 or month == 5:\n",
    "    print(\"Spring\")\n",
    "elif month == 6 or month == 7 or month == 8:\n",
    "    print(\"Summer\")\n",
    "elif month == 9 or month == 10 or month == 11:\n",
    "    print(\"Fall\")\n",
    "else:\n",
    "    print(\"Invalid input. Please enter a number between 1 and 12.\")\n"
   ]
  },
  {
   "cell_type": "code",
   "execution_count": 25,
   "id": "9992ea7f",
   "metadata": {},
   "outputs": [
    {
     "name": "stdout",
     "output_type": "stream",
     "text": [
      "Enter a year: 2020\n",
      "Enter a month (1-12): 4\n",
      "The month you entered has 30 days.\n",
      "2020 is a leap year.\n"
     ]
    }
   ],
   "source": [
    "#30. Implement a program to determine the type of a year (leap or common) and month (30 or 31 days) using elif statements.\n",
    "year = int(input(\"Enter a year: \"))\n",
    "\n",
    "if year % 4 == 0:\n",
    "    if year % 100 == 0:\n",
    "        if year % 400 == 0:\n",
    "            is_leap_year = True\n",
    "        else:\n",
    "            is_leap_year = False\n",
    "    else:\n",
    "        is_leap_year = True\n",
    "else:\n",
    "    is_leap_year = False\n",
    "\n",
    "month = int(input(\"Enter a month (1-12): \"))\n",
    "\n",
    "if month == 2:\n",
    "    if is_leap_year:\n",
    "        days_in_month = 29\n",
    "    else:\n",
    "        days_in_month = 28\n",
    "elif month == 4 or month == 6 or month == 9 or month == 11:\n",
    "    days_in_month = 30\n",
    "else:\n",
    "    days_in_month = 31\n",
    "\n",
    "print(f\"The month you entered has {days_in_month} days.\")\n",
    "if is_leap_year:\n",
    "    print(f\"{year} is a leap year.\")\n",
    "else:\n",
    "    print(f\"{year} is a common year.\")"
   ]
  },
  {
   "cell_type": "markdown",
   "id": "eea0c4a9",
   "metadata": {},
   "source": [
    "# Basic Level:"
   ]
  },
  {
   "cell_type": "code",
   "execution_count": 26,
   "id": "7a16fc96",
   "metadata": {},
   "outputs": [
    {
     "data": {
      "text/plain": [
       "'10 is a positive number'"
      ]
     },
     "execution_count": 26,
     "metadata": {},
     "output_type": "execute_result"
    }
   ],
   "source": [
    "#1. Write a Python program that checks if a given number is positive, negative, or zero.\n",
    "def is_number(n):\n",
    "    if n>0:\n",
    "        return f'{n} is a positive number'\n",
    "    elif n==0:\n",
    "        return f'{n} is equal to zero'\n",
    "    else:\n",
    "        return f'{n} is negative number'\n",
    "is_number(10)"
   ]
  },
  {
   "cell_type": "code",
   "execution_count": 27,
   "id": "308b0477",
   "metadata": {},
   "outputs": [
    {
     "data": {
      "text/plain": [
       "'The person is eligable to vote'"
      ]
     },
     "execution_count": 27,
     "metadata": {},
     "output_type": "execute_result"
    }
   ],
   "source": [
    "#2. Create a program to determine if a person is eligible to vote based on their age.\n",
    "def voting_eligibility(age):\n",
    "    if age>=18:\n",
    "        return 'The person is eligable to vote'\n",
    "    else:\n",
    "        return 'The person is not eligable to vote'\n",
    "voting_eligibility(20)"
   ]
  },
  {
   "cell_type": "code",
   "execution_count": 28,
   "id": "21396287",
   "metadata": {},
   "outputs": [
    {
     "data": {
      "text/plain": [
       "'7 is maximum in between 4 & 7'"
      ]
     },
     "execution_count": 28,
     "metadata": {},
     "output_type": "execute_result"
    }
   ],
   "source": [
    "#3. Write a program to find the maximum of two given numbers using conditional statements.\n",
    "def find_max(a,b):\n",
    "    if a>b:\n",
    "        return f'{a} is maximum in between {a} & {b}'\n",
    "    else:\n",
    "        return f'{b} is maximum in between {a} & {b}'\n",
    "find_max(4,7)"
   ]
  },
  {
   "cell_type": "code",
   "execution_count": 29,
   "id": "240c476a",
   "metadata": {},
   "outputs": [
    {
     "name": "stdout",
     "output_type": "stream",
     "text": [
      "Grade=67\n",
      "B\n"
     ]
    }
   ],
   "source": [
    "#4. Develop a program that calculates the grade of a student based on their exam score.\n",
    "grade=int(input('Grade='))\n",
    "if grade<=100 and grade>=91:\n",
    "    print('A+')\n",
    "elif grade>80 and grade <=90:\n",
    "    print('A')\n",
    "elif grade>70 and grade <=80:\n",
    "    print('B+')\n",
    "elif grade >60 and grade<=70:\n",
    "    print('B')\n",
    "elif grade >50 and grade<=60:\n",
    "    print('C')\n",
    "elif grade >=40 and grade<=50:\n",
    "    print('D')\n",
    "elif grade <40 and grade>=0:\n",
    "    print('F')\n",
    "else:\n",
    "    print('Enter a number btween 0 to 100')"
   ]
  },
  {
   "cell_type": "code",
   "execution_count": 30,
   "id": "94409d01",
   "metadata": {},
   "outputs": [
    {
     "data": {
      "text/plain": [
       "'2007 is not a leap year'"
      ]
     },
     "execution_count": 30,
     "metadata": {},
     "output_type": "execute_result"
    }
   ],
   "source": [
    "#5. Create a program that checks if a year is a leap year or not.\n",
    "def is_leapyear(year):\n",
    "    if year%4==0:\n",
    "        return f'{year} is leap year'\n",
    "    elif year%100==0:\n",
    "        return f'{year} is a leapyear'\n",
    "    elif year%400==0:\n",
    "        return f'{year} is a leap year'\n",
    "    else:\n",
    "        return f'{year} is not a leap year'\n",
    "is_leapyear(2007)"
   ]
  },
  {
   "cell_type": "code",
   "execution_count": 31,
   "id": "9411d90d",
   "metadata": {},
   "outputs": [
    {
     "data": {
      "text/plain": [
       "'It is a scalen triangle'"
      ]
     },
     "execution_count": 31,
     "metadata": {},
     "output_type": "execute_result"
    }
   ],
   "source": [
    "#6. Write a program to classify a triangle based on its sides' lengths.\n",
    "def check_triangle(a,b,c):\n",
    "    if a==b:\n",
    "        if a==c:\n",
    "            return 'The triangle is a equilateral trianle'\n",
    "        else: \n",
    "            return 'The trianle is a isosceles triangle'\n",
    "    else:\n",
    "        return 'It is a scalen triangle'\n",
    "check_triangle(12,13,14)"
   ]
  },
  {
   "cell_type": "code",
   "execution_count": 32,
   "id": "a49bb946",
   "metadata": {},
   "outputs": [
    {
     "name": "stdout",
     "output_type": "stream",
     "text": [
      "The largest number is: 10\n"
     ]
    }
   ],
   "source": [
    "#7. Build a program that determines the largest of three given numbers.\n",
    "def find_largest_number(a, b, c):\n",
    "    if a >= b and a >= c:\n",
    "        return a\n",
    "    elif b >= a and b >= c:\n",
    "        return b\n",
    "    else:\n",
    "        return c\n",
    "\n",
    "num1 = 10\n",
    "num2 = 5\n",
    "num3 = 7\n",
    "\n",
    "largest_number = find_largest_number(num1, num2, num3)\n",
    "print(\"The largest number is:\", largest_number)"
   ]
  },
  {
   "cell_type": "code",
   "execution_count": 33,
   "id": "2785575b",
   "metadata": {},
   "outputs": [
    {
     "data": {
      "text/plain": [
       "'The character is a consonant'"
      ]
     },
     "execution_count": 33,
     "metadata": {},
     "output_type": "execute_result"
    }
   ],
   "source": [
    "#8. Develop a program that checks whether a character is a vowel or a consonant.\n",
    "def vowel_or_consonant(c):\n",
    "    vowel=['a','e','i','o','u','A','E','I','O','U']\n",
    "    if c in vowel:\n",
    "        return 'The character is a vowel'\n",
    "    else:\n",
    "        return 'The character is a consonant'\n",
    "vowel_or_consonant('p')"
   ]
  },
  {
   "cell_type": "code",
   "execution_count": 34,
   "id": "1f5f69a6",
   "metadata": {},
   "outputs": [
    {
     "data": {
      "text/plain": [
       "('Total amount=', 4400.0)"
      ]
     },
     "execution_count": 34,
     "metadata": {},
     "output_type": "execute_result"
    }
   ],
   "source": [
    "#9. Create a program to calculate the total cost of a shopping cart based on discounts.\n",
    "def tc_amount(amount):\n",
    "    if amount>=1000 and amount<2000:\n",
    "        disc_amt==(amount*5)/100\n",
    "        TC=amount-disc_amt\n",
    "        return 'Total amount=',TC\n",
    "    elif amount>=2000 and amount<4000:\n",
    "        disc_amt=(amount*10)/100\n",
    "        TC=amount-disc_amt\n",
    "        return 'Total amount=',TC\n",
    "    elif amount>=4000 and amount<5000:\n",
    "        disc_amt=(amount*15)/100\n",
    "        TC=amount-disc_amt\n",
    "        return 'Total amount=',TC\n",
    "    elif amount>=5000:\n",
    "        disc_amt=(amount*20)/100\n",
    "        TC=amount-disc_amt\n",
    "        return 'Total amount=',TC\n",
    "    else:\n",
    "        return 'Please visit next time'\n",
    "tc_amount(5500)"
   ]
  },
  {
   "cell_type": "code",
   "execution_count": 35,
   "id": "2113a014",
   "metadata": {},
   "outputs": [
    {
     "data": {
      "text/plain": [
       "'16 is even'"
      ]
     },
     "execution_count": 35,
     "metadata": {},
     "output_type": "execute_result"
    }
   ],
   "source": [
    "#10. Write a program that checks if a given number is even or odd.\n",
    "def even_odd(n):\n",
    "    if n%2==0:\n",
    "        return f'{n} is even'\n",
    "    else:\n",
    "        return f'{n} is odd'\n",
    "even_odd(16)"
   ]
  },
  {
   "cell_type": "markdown",
   "id": "8938bfc2",
   "metadata": {},
   "source": [
    "# Intermediate Level:"
   ]
  },
  {
   "cell_type": "code",
   "execution_count": 37,
   "id": "958f9bf5",
   "metadata": {},
   "outputs": [
    {
     "name": "stdout",
     "output_type": "stream",
     "text": [
      "Enter the coefficient of x^2: 1\n",
      "Enter the coefficient of x: 2\n",
      "Enter the constant term: 3\n",
      "The roots of the quadratic equation are complex: -1.0 + 1.4142135623730951i and -1.0 - 1.4142135623730951i\n"
     ]
    }
   ],
   "source": [
    "#11. Write a program that calculates the roots of a quadratic equation\n",
    "import math\n",
    "\n",
    "# Coefficients of the quadratic equation\n",
    "a = float(input(\"Enter the coefficient of x^2: \"))\n",
    "b = float(input(\"Enter the coefficient of x: \"))\n",
    "c = float(input(\"Enter the constant term: \"))\n",
    "\n",
    "# Calculate the discriminant\n",
    "discriminant = b**2 - 4*a*c\n",
    "\n",
    "# Calculate the roots\n",
    "if discriminant > 0:\n",
    "    root1 = (-b + math.sqrt(discriminant)) / (2*a)\n",
    "    root2 = (-b - math.sqrt(discriminant)) / (2*a)\n",
    "    print(f\"The roots of the quadratic equation are real and distinct: {root1} and {root2}\")\n",
    "elif discriminant == 0:\n",
    "    root1 = -b / (2*a)\n",
    "    print(f\"The root of the quadratic equation is real and equal: {root1}\")\n",
    "else:\n",
    "    realPart = -b / (2*a)\n",
    "    imaginaryPart = math.sqrt(-discriminant) / (2*a)\n",
    "    print(f\"The roots of the quadratic equation are complex: {realPart} + {imaginaryPart}i and {realPart} - {imaginaryPart}i\")\n"
   ]
  },
  {
   "cell_type": "code",
   "execution_count": 38,
   "id": "db0052a2",
   "metadata": {},
   "outputs": [
    {
     "data": {
      "text/plain": [
       "'Please enter a valid number in between 1 to 6'"
      ]
     },
     "execution_count": 38,
     "metadata": {},
     "output_type": "execute_result"
    }
   ],
   "source": [
    "#12. Create a program that determines the day of the week based on the day number (1-7).\n",
    "def day(n):\n",
    "    if n==1:\n",
    "        return 'Monday'\n",
    "    elif n==2:\n",
    "        return 'Tuesday'\n",
    "    elif n==3:\n",
    "        return 'Wednesday'\n",
    "    elif n==4:\n",
    "        return 'Thursday'\n",
    "    elif n==5:\n",
    "        return 'Friday'\n",
    "    elif n==6:\n",
    "        return 'Saturday'\n",
    "    elif n==7:\n",
    "        return 'Sunday'\n",
    "    else:\n",
    "        return 'Please enter a valid number in between 1 to 6'\n",
    "day(9)"
   ]
  },
  {
   "cell_type": "code",
   "execution_count": 40,
   "id": "bd7e1427",
   "metadata": {},
   "outputs": [
    {
     "data": {
      "text/plain": [
       "120"
      ]
     },
     "execution_count": 40,
     "metadata": {},
     "output_type": "execute_result"
    }
   ],
   "source": [
    "#13. Develop a program that calculates the factorial of a given number using recursion.\n",
    "def fact(n):\n",
    "    if n<=0:\n",
    "        return 1\n",
    "    else:\n",
    "        return n*fact(n-1)\n",
    "    \n",
    "fact(5)"
   ]
  },
  {
   "cell_type": "code",
   "execution_count": 41,
   "id": "4d5e97c0",
   "metadata": {},
   "outputs": [
    {
     "name": "stdout",
     "output_type": "stream",
     "text": [
      "The largest number is: 10\n"
     ]
    }
   ],
   "source": [
    "#14. Write a program to find the largest among three numbers without using the `max()` function.\n",
    "def find_largest_number(a, b, c):\n",
    "    if a >= b and a >= c:\n",
    "        return a\n",
    "    elif b >= a and b >= c:\n",
    "        return b\n",
    "    else:\n",
    "        return c\n",
    "\n",
    "num1 = 10\n",
    "num2 = 5\n",
    "num3 = 7\n",
    "\n",
    "largest_number = find_largest_number(num1, num2, num3)\n",
    "print(\"The largest number is:\", largest_number)"
   ]
  },
  {
   "cell_type": "code",
   "execution_count": 33,
   "id": "2a03cbd8",
   "metadata": {},
   "outputs": [
    {
     "name": "stdout",
     "output_type": "stream",
     "text": [
      "Welcome to the ATM!\n",
      "1. Check Balance\n",
      "2. Deposit Funds\n",
      "3. Withdraw Funds\n",
      "Please select an option (1/2/3): 2\n",
      "Enter the amount you want to deposit: $2345\n",
      "You have successfully deposited $2345.0\n"
     ]
    }
   ],
   "source": [
    "#15. Create a program that simulates a basic ATM transaction menu.\n",
    "def check_balance():\n",
    "    print(\"Your current balance is $1000\")\n",
    "\n",
    "def deposit_funds():\n",
    "    amount = float(input(\"Enter the amount you want to deposit: $\"))\n",
    "    print(f\"You have successfully deposited ${amount}\")\n",
    "\n",
    "def withdraw_funds():\n",
    "    amount = float(input(\"Enter the amount you want to withdraw: $\"))\n",
    "    if amount <= 1000:\n",
    "        print(f\"You have withdrawn ${amount}\")\n",
    "    else:\n",
    "        print(\"Insufficient funds\")\n",
    "\n",
    "def main_menu():\n",
    "    print(\"Welcome to the ATM!\")\n",
    "    print(\"1. Check Balance\")\n",
    "    print(\"2. Deposit Funds\")\n",
    "    print(\"3. Withdraw Funds\")\n",
    "    choice = input(\"Please select an option (1/2/3): \")\n",
    "    if choice == \"1\":\n",
    "        check_balance()\n",
    "    elif choice == \"2\":\n",
    "        deposit_funds()\n",
    "    elif choice == \"3\":\n",
    "        withdraw_funds()\n",
    "    else:\n",
    "        print(\"Invalid option\")\n",
    "\n",
    "main_menu()"
   ]
  },
  {
   "cell_type": "code",
   "execution_count": 6,
   "id": "40f77d16",
   "metadata": {},
   "outputs": [
    {
     "data": {
      "text/plain": [
       "'The string is a palindrom'"
      ]
     },
     "execution_count": 6,
     "metadata": {},
     "output_type": "execute_result"
    }
   ],
   "source": [
    "#16. Build a program that checks if a given string is a palindrome or not.\n",
    "def is_palindrom(s):\n",
    "    for i in range(len(s)):\n",
    "        for j in range(len(s)-1,0,-1):\n",
    "            if s[i]==s[j]:\n",
    "                return 'The string is a palindrom'\n",
    "            else:\n",
    "                return 'The string is not a plindrom'\n",
    "is_palindrom('abcdcba')        "
   ]
  },
  {
   "cell_type": "code",
   "execution_count": 12,
   "id": "fd298963",
   "metadata": {},
   "outputs": [
    {
     "data": {
      "text/plain": [
       "('Abarage=', 4.25)"
      ]
     },
     "execution_count": 12,
     "metadata": {},
     "output_type": "execute_result"
    }
   ],
   "source": [
    "#17. Write a program that calculates the average of a list of numbers, excluding the smallest and largest values.\n",
    "def avarage(l):\n",
    "    sum=0\n",
    "    ln=0\n",
    "    mn=l[0]\n",
    "    mx=l[0]\n",
    "    for i in range(1,len(l)):\n",
    "        if mn>l[i]:\n",
    "            mn=l[i]\n",
    "        if mx<l[i]:\n",
    "            mx=l[i]\n",
    "    for i in l:\n",
    "        sum=sum+i\n",
    "        ln=ln+1\n",
    "    sum=sum-mn-mx\n",
    "    ln=ln-2\n",
    "    return 'Abarage=',sum/(ln)\n",
    "avarage([6,4,5,7,2,1])"
   ]
  },
  {
   "cell_type": "code",
   "execution_count": 13,
   "id": "299d9ee7",
   "metadata": {},
   "outputs": [
    {
     "data": {
      "text/plain": [
       "91.4"
      ]
     },
     "execution_count": 13,
     "metadata": {},
     "output_type": "execute_result"
    }
   ],
   "source": [
    "#18. Develop a program that converts a given temperature from Celsius to Fahrenheit.\n",
    "def temp_conv(c):\n",
    "    f=((9/5)*c)+32\n",
    "    return f\n",
    "temp_conv(33)"
   ]
  },
  {
   "cell_type": "code",
   "execution_count": 16,
   "id": "f712df16",
   "metadata": {},
   "outputs": [
    {
     "data": {
      "text/plain": [
       "(1.5, 5, -1, 1, 6)"
      ]
     },
     "execution_count": 16,
     "metadata": {},
     "output_type": "execute_result"
    }
   ],
   "source": [
    "#19. Create a program that simulates a basic calculator for addition, subtraction, multiplication, and division.\n",
    "def basic_calc(x,y):\n",
    "    if x>0:\n",
    "        return y/x ,x+y,x-y,y-x,x*y\n",
    "    \n",
    "    elif y>0:\n",
    "        return x/y, x+y,x-y,y-x,x*y\n",
    "    elif x==0 & y>0:\n",
    "        return x/y, x+y,x-y,y-x,x*y\n",
    "    elif y==0 & x>0:\n",
    "        return y/x ,x+y,x-y,y-x,x*y\n",
    "basic_calc(2,3)"
   ]
  },
  {
   "cell_type": "code",
   "execution_count": 17,
   "id": "4352322e",
   "metadata": {},
   "outputs": [
    {
     "name": "stdout",
     "output_type": "stream",
     "text": [
      "The roots of the cubic equation are: [3.0, 1.0, 1.9999999999999998]\n"
     ]
    }
   ],
   "source": [
    "#20. Write a program that determines the roots of a cubic equation using the Cardano formula.\n",
    "import math\n",
    "\n",
    "def calculate_cubic_roots(a, b, c, d):\n",
    "    p = (3 * a * c - b ** 2) / (3 * a ** 2)\n",
    "    q = (2 * b ** 3 - 9 * a * b * c + 27 * a ** 2 * d) / (27 * a ** 3)\n",
    "    delta = (q / 2) ** 2 + (p / 3) ** 3\n",
    "\n",
    "    if delta > 0:\n",
    "        u = (-q / 2 + math.sqrt(delta)) ** (1 / 3)\n",
    "        v = (-q / 2 - math.sqrt(delta)) ** (1 / 3)\n",
    "        root1 = u + v - b / (3 * a)\n",
    "        return [root1]\n",
    "    elif delta == 0:\n",
    "        if q == 0:\n",
    "            root1 = -b / (3 * a)\n",
    "            return [root1]\n",
    "        else:\n",
    "            u = (-q / 2) ** (1 / 3)\n",
    "            root1 = 2 * u - b / (3 * a)\n",
    "            root2 = -u - b / (3 * a)\n",
    "            return [root1, root2]\n",
    "    else:\n",
    "        t = -q / 2\n",
    "        theta = math.acos(t / math.sqrt((-p / 3) ** 3))\n",
    "        r1 = 2 * math.sqrt(-p / 3) * math.cos(theta / 3) - b / (3 * a)\n",
    "        r2 = 2 * math.sqrt(-p / 3) * math.cos((theta + 2 * math.pi) / 3) - b / (3 * a)\n",
    "        r3 = 2 * math.sqrt(-p / 3) * math.cos((theta + 4 * math.pi) / 3) - b / (3 * a)\n",
    "        return [r1, r2, r3]\n",
    "\n",
    "a = 1\n",
    "b = -6\n",
    "c = 11\n",
    "d = -6\n",
    "roots = calculate_cubic_roots(a, b, c, d)\n",
    "print(\"The roots of the cubic equation are:\", roots)"
   ]
  },
  {
   "cell_type": "markdown",
   "id": "331722fb",
   "metadata": {},
   "source": [
    "# Advanced Level:\n"
   ]
  },
  {
   "cell_type": "code",
   "execution_count": 18,
   "id": "b9f8837a",
   "metadata": {},
   "outputs": [
    {
     "name": "stdout",
     "output_type": "stream",
     "text": [
      "Enter your income: 500000\n",
      "The income tax to pay is: 144000.0\n"
     ]
    }
   ],
   "source": [
    "#21. Create a program that calculates the income tax based on the user's income and tax brackets.\n",
    "def calculate_income_tax(income):\n",
    "    if income <= 10000:\n",
    "        tax = 0.1 * income\n",
    "    elif income <= 50000:\n",
    "        tax = 0.2 * (income - 10000) + 0.1 * 10000\n",
    "    else:\n",
    "        tax = 0.3 * (income - 50000) + 0.2 * (50000 - 10000) + 0.1 * 10000\n",
    "    return tax\n",
    "\n",
    "user_income = float(input(\"Enter your income: \"))\n",
    "tax_to_pay = calculate_income_tax(user_income)\n",
    "print(f\"The income tax to pay is: {tax_to_pay}\")"
   ]
  },
  {
   "cell_type": "code",
   "execution_count": 26,
   "id": "3b489d0d",
   "metadata": {},
   "outputs": [
    {
     "data": {
      "text/plain": [
       "'This is a tie match'"
      ]
     },
     "execution_count": 26,
     "metadata": {},
     "output_type": "execute_result"
    }
   ],
   "source": [
    "#22. Write a program that simulates a rock-paper-scissors game against the computer.\n",
    "import random\n",
    "def rock_paper_scissor_game(player_choice):\n",
    "    choices=['rock','paper','scissor']\n",
    "    computer_choice=random.choice(choices)\n",
    "    if player_choice==computer_choice:\n",
    "        return 'This is a tie match'\n",
    "    elif (player_choice=='rock'and computer_choice=='paper') or (player_choice=='scissor'and computer_choice=='rock') or    (player_choice=='paper'and computer_choice=='scissor'):\n",
    "        return 'The palyer win'\n",
    "    else:\n",
    "        return 'Computer win'\n",
    "rock_paper_scissor_game('paper')"
   ]
  },
  {
   "cell_type": "code",
   "execution_count": 27,
   "id": "a0ea8a5d",
   "metadata": {},
   "outputs": [
    {
     "name": "stdout",
     "output_type": "stream",
     "text": [
      "Enter the length of the password: 8\n",
      "Enter the complexity level (low, medium, high): high\n",
      "Generated password: PIn[PEj`\n"
     ]
    }
   ],
   "source": [
    "#23. Develop a program that generates a random password based on user preferences (length, complexity).\n",
    "import random\n",
    "import string\n",
    "\n",
    "def generate_password(length, complex_level):\n",
    "    if complex_level == \"low\":\n",
    "        characters = string.ascii_letters + string.digits\n",
    "    elif complex_level == \"medium\":\n",
    "        characters = string.ascii_letters + string.digits + string.punctuation\n",
    "    else:\n",
    "        characters = string.ascii_letters + string.digits + string.punctuation + string.ascii_uppercase\n",
    "\n",
    "    password = ''.join(random.choice(characters) for i in range(length))\n",
    "    return password\n",
    "\n",
    "length = int(input(\"Enter the length of the password: \"))\n",
    "complexity = input(\"Enter the complexity level (low, medium, high): \").lower()\n",
    "password = generate_password(length, complexity)\n",
    "print(f\"Generated password: {password}\")"
   ]
  },
  {
   "cell_type": "code",
   "execution_count": 29,
   "id": "cf952b56",
   "metadata": {},
   "outputs": [
    {
     "name": "stdout",
     "output_type": "stream",
     "text": [
      "Welcome to the game\n",
      "You are standing in crossroad. Which path you will follow.\n",
      "1 for taking left 2 for taking right:2\n",
      "You choose the right path. You come across a treasure chest. What will you do?\n",
      "1 for open and 2 for leave it:1\n",
      "Open the chest\n"
     ]
    }
   ],
   "source": [
    "#24. Create a program that implements a simple text-based adventure game with branching scenarios.\n",
    "\n",
    "def start_game():\n",
    "    print('Welcome to the game')\n",
    "    print('You are standing in crossroad. Which path you will follow.')\n",
    "    choice=input('1 for taking left 2 for taking right:')\n",
    "    if choice=='1':\n",
    "        return left_path()\n",
    "    elif choice=='2':\n",
    "        return right_path()\n",
    "    else:\n",
    "        print('Invalid input')\n",
    "        start_game()\n",
    "        \n",
    "def left_path():\n",
    "    print('You choose the left path. You encounter a dragon. What will you do now?')\n",
    "    choice=input('1 for fight with dragon and 2 for run away:')\n",
    "    \n",
    "    if choice=='1':\n",
    "        print('You barvely fight with the dragon')\n",
    "    elif choice=='2':\n",
    "        print('You decide to  run away')\n",
    "    else:\n",
    "        print('Invalid choice')\n",
    "        left_path()\n",
    "       \n",
    "def right_path():\n",
    "    print('You choose the right path. You come across a treasure chest. What will you do?')\n",
    "    choice=input('1 for open and 2 for leave it:')\n",
    "    \n",
    "    if choice=='1':\n",
    "        print('Open the chest')\n",
    "    elif choice=='2':\n",
    "        print('Leave it as it is')\n",
    "    else:\n",
    "        print('Invalid choice')\n",
    "        right_path()\n",
    "start_game()"
   ]
  },
  {
   "cell_type": "code",
   "execution_count": 30,
   "id": "e5296ced",
   "metadata": {},
   "outputs": [
    {
     "data": {
      "text/plain": [
       "' The solution is x=-1.5'"
      ]
     },
     "execution_count": 30,
     "metadata": {},
     "output_type": "execute_result"
    }
   ],
   "source": [
    "#25. Build a program that solves a linear equation for x, considering different cases.\n",
    "def linear_eqn(a,b):\n",
    "    if a==0:\n",
    "        if b==0:\n",
    "            return 'Infinite solutions.(all are reals)'\n",
    "        else:\n",
    "            return 'No solutions'\n",
    "    else:\n",
    "        x=-b/a\n",
    "        return f' The solution is x={x}'\n",
    "linear_eqn(4,6)"
   ]
  },
  {
   "cell_type": "code",
   "execution_count": 1,
   "id": "deab14fc",
   "metadata": {},
   "outputs": [
    {
     "name": "stdout",
     "output_type": "stream",
     "text": [
      "What is the capital of France?\n",
      "(a) London\n",
      "(b) Paris\n",
      "(c) Berlin\n",
      "b\n",
      "What is the largest planet in our solar system?\n",
      "(a) Earth\n",
      "(b) Jupiter\n",
      "(c) Mars\n",
      "b\n",
      "Who painted the Mona Lisa?\n",
      "(a) Vincent van Gogh\n",
      "(b) Leonardo da Vinci\n",
      "(c) Pablo Picasso\n",
      "b\n",
      "You got 3/3 correct.\n"
     ]
    }
   ],
   "source": [
    "# 26. Write a program that simulates a basic quiz game with multiple-choice questions and scoring.\n",
    "class Question:\n",
    "    def __init__(self, prompt, answer):\n",
    "        self.prompt = prompt\n",
    "        self.answer = answer\n",
    "\n",
    "questions = [\n",
    "    Question(\"What is the capital of France?\\n(a) London\\n(b) Paris\\n(c) Berlin\\n\", \"b\"),\n",
    "    Question(\"What is the largest planet in our solar system?\\n(a) Earth\\n(b) Jupiter\\n(c) Mars\\n\", \"b\"),\n",
    "    Question(\"Who painted the Mona Lisa?\\n(a) Vincent van Gogh\\n(b) Leonardo da Vinci\\n(c) Pablo Picasso\\n\", \"b\")\n",
    "]\n",
    "\n",
    "def run_quiz(questions):\n",
    "    score = 0\n",
    "    for question in questions:\n",
    "        answer = input(question.prompt)\n",
    "        if answer.lower() == question.answer:\n",
    "            score += 1\n",
    "    print(\"You got \" + str(score) + \"/\" + str(len(questions)) + \" correct.\")\n",
    "\n",
    "run_quiz(questions)"
   ]
  },
  {
   "cell_type": "code",
   "execution_count": 3,
   "id": "5930287a",
   "metadata": {},
   "outputs": [
    {
     "data": {
      "text/plain": [
       "'13 is a prime number'"
      ]
     },
     "execution_count": 3,
     "metadata": {},
     "output_type": "execute_result"
    }
   ],
   "source": [
    "#27. Develop a program that determines whether a given number is a prime number or not.\n",
    "def is_prime(n):\n",
    "    if n<=1:\n",
    "        return 'Please enter a valid number'\n",
    "    else:\n",
    "        count=0\n",
    "        for i in range(2,int(0.5*n)+1):\n",
    "            if n%i==0:\n",
    "                couunt=count+1\n",
    "    if count==0:\n",
    "        return f'{n} is a prime number'\n",
    "    else:\n",
    "        return f'{n} is not a prime number'\n",
    "is_prime(13)"
   ]
  },
  {
   "cell_type": "code",
   "execution_count": 1,
   "id": "fd4b3339",
   "metadata": {},
   "outputs": [
    {
     "name": "stdout",
     "output_type": "stream",
     "text": [
      "Enter first number: 23\n",
      "Enter second number: 26\n",
      "Enter third number: 12\n",
      "Sorted numbers in ascending order:  12 23 26\n"
     ]
    }
   ],
   "source": [
    "#28. Create a program that sorts three numbers in ascending order using conditional statements.\n",
    "# Input three numbers\n",
    "num1 = int(input(\"Enter first number: \"))\n",
    "num2 = int(input(\"Enter second number: \"))\n",
    "num3 = int(input(\"Enter third number: \"))\n",
    "\n",
    "# Sort the numbers in ascending order\n",
    "if num1 <= num2 and num1 <= num3:\n",
    "    smallest = num1\n",
    "    if num2 <= num3:\n",
    "        middle = num2\n",
    "        largest = num3\n",
    "    else:\n",
    "        middle = num3\n",
    "        largest = num2\n",
    "elif num2 <= num1 and num2 <= num3:\n",
    "    smallest = num2\n",
    "    if num1 <= num3:\n",
    "        middle = num1\n",
    "        largest = num3\n",
    "    else:\n",
    "        middle = num3\n",
    "        largest = num1\n",
    "else:\n",
    "    smallest = num3\n",
    "    if num1 <= num2:\n",
    "        middle = num1\n",
    "        largest = num2\n",
    "    else:\n",
    "        middle = num2\n",
    "        largest = num1\n",
    "\n",
    "# Output the sorted numbers\n",
    "print(\"Sorted numbers in ascending order: \", smallest, middle, largest)"
   ]
  },
  {
   "cell_type": "code",
   "execution_count": 2,
   "id": "ac70b151",
   "metadata": {},
   "outputs": [
    {
     "name": "stdout",
     "output_type": "stream",
     "text": [
      "Roots of the quartic equation are: [-1.28781548+0.85789676j -1.28781548-0.85789676j  0.28781548+1.41609308j\n",
      "  0.28781548-1.41609308j]\n"
     ]
    }
   ],
   "source": [
    "#29. Build a program that determines the roots of a quartic equation using numerical methods.\n",
    "import numpy as np\n",
    "\n",
    "# Define the coefficients of the quartic equation ax^4 + bx^3 + cx^2 + dx + e = 0\n",
    "a = 1\n",
    "b = 2\n",
    "c = 3\n",
    "d = 4\n",
    "e = 5\n",
    "\n",
    "# Create the coefficients array for numpy.roots\n",
    "coefficients = [a, b, c, d, e]\n",
    "\n",
    "# Use numpy.roots to find the roots of the quartic equation\n",
    "roots = np.roots(coefficients)\n",
    "\n",
    "print(\"Roots of the quartic equation are:\", roots)\n"
   ]
  },
  {
   "cell_type": "code",
   "execution_count": 3,
   "id": "2f7819fc",
   "metadata": {},
   "outputs": [
    {
     "name": "stdout",
     "output_type": "stream",
     "text": [
      "Weight in kg=75\n",
      "Height in meter=1.8\n"
     ]
    },
    {
     "data": {
      "text/plain": [
       "'Normal Weight'"
      ]
     },
     "execution_count": 3,
     "metadata": {},
     "output_type": "execute_result"
    }
   ],
   "source": [
    "#30. Write a program that calculates the BMI (Body Mass Index) and provides health recommendations based on the user's input.\n",
    "def categorise_BMI(weight,hight):\n",
    "    BMI=weight/(hight**2)\n",
    "    if BMI<18.5:\n",
    "        category='Under Weight'\n",
    "    elif BMI>=18.5 and BMI<25:\n",
    "        category='Normal Weight'\n",
    "    elif BMI>=25 and BMI<30:\n",
    "            category ='Over Weight'\n",
    "    else:\n",
    "        category='Obese'\n",
    "    return category\n",
    "weight=float(input('Weight in kg='))\n",
    "height=float(input('Height in meter='))\n",
    "categorise_BMI(weight,height) "
   ]
  },
  {
   "cell_type": "code",
   "execution_count": 4,
   "id": "e029afcf",
   "metadata": {},
   "outputs": [
    {
     "name": "stdout",
     "output_type": "stream",
     "text": [
      "Enter your password: Manabdas@29\n",
      "Password is valid!\n"
     ]
    }
   ],
   "source": [
    "#31. Create a program that validates a password based on complexity rules (length, characters, etc.).\n",
    "def validate_password(password):\n",
    "    # Check length\n",
    "    if len(password) < 8:\n",
    "        return False\n",
    "\n",
    "    # Check for uppercase, lowercase letters, and numbers\n",
    "    has_uppercase = any(c.isupper() for c in password)\n",
    "    has_lowercase = any(c.islower() for c in password)\n",
    "    has_number = any(c.isdigit() for c in password)\n",
    "\n",
    "    if has_uppercase and has_lowercase and has_number:\n",
    "        return True\n",
    "    else:\n",
    "        return False\n",
    "\n",
    "# Test the password validation\n",
    "password = input(\"Enter your password: \")\n",
    "if validate_password(password):\n",
    "    print(\"Password is valid!\")\n",
    "else:\n",
    "    print(\"Password is invalid. Please make sure it's at least 8 characters long and includes uppercase letters, lowercase letters, and numbers.\")\n"
   ]
  },
  {
   "cell_type": "code",
   "execution_count": 8,
   "id": "6ecc722a",
   "metadata": {},
   "outputs": [
    {
     "name": "stdout",
     "output_type": "stream",
     "text": [
      "Enter the first matrix:\n",
      "Enter the number of rows: 1\n",
      "Enter the number of columns: 1\n",
      "Enter the elements row-wise:\n",
      "2\n",
      "Enter the second matrix:\n",
      "Enter the number of rows: 3\n",
      "Enter the number of columns: 4\n",
      "Enter the elements row-wise:\n",
      "5\n",
      "Invalid input. Please enter exactly 4 elements.\n"
     ]
    }
   ],
   "source": [
    "#32. Develop a program that performs matrix addition and subtraction based on user input.\n",
    "# Function to add two matrices\n",
    "def add_matrices(matrix1, matrix2):\n",
    "    result = [[matrix1[i][j] + matrix2[i][j] for j in range(len(matrix1[0]))] for i in range(len(matrix1))]\n",
    "    return result\n",
    "\n",
    "# Function to subtract two matrices\n",
    "def subtract_matrices(matrix1, matrix2):\n",
    "    result = [[matrix1[i][j] - matrix2[i][j] for j in range(len(matrix1[0]))] for i in range(len(matrix1))]\n",
    "    return result\n",
    "\n",
    "# Input matrices from the user\n",
    "def input_matrix():\n",
    "    rows = int(input(\"Enter the number of rows: \"))\n",
    "    cols = int(input(\"Enter the number of columns: \"))\n",
    "    matrix = []\n",
    "    print(\"Enter the elements row-wise:\")\n",
    "    for i in range(rows):\n",
    "        row = list(map(int, input().split()))\n",
    "        if len(row) != cols:\n",
    "            print(\"Invalid input. Please enter exactly\", cols, \"elements.\")\n",
    "            return None\n",
    "        matrix.append(row)\n",
    "    return matrix\n",
    "\n",
    "# Main program\n",
    "print(\"Enter the first matrix:\")\n",
    "matrix1 = input_matrix()\n",
    "print(\"Enter the second matrix:\")\n",
    "matrix2 = input_matrix()\n",
    "\n",
    "if matrix1 is not None and matrix2 is not None:\n",
    "    if len(matrix1) == len(matrix2) and len(matrix1[0]) == len(matrix2[0]):\n",
    "        print(\"Matrix Addition:\")\n",
    "        print(add_matrices(matrix1, matrix2))\n",
    "        print(\"Matrix Subtraction:\")\n",
    "        print(subtract_matrices(matrix1, matrix2))\n",
    "    else:\n",
    "        print(\"Matrix dimensions do not match for addition and subtraction.\")\n"
   ]
  },
  {
   "cell_type": "code",
   "execution_count": 9,
   "id": "d03c17bd",
   "metadata": {},
   "outputs": [
    {
     "name": "stdout",
     "output_type": "stream",
     "text": [
      "Enter the first number: 24\n",
      "Enter the second number: 4\n",
      "The Greatest Common Divisor (GCD) of 24 and 4 is: 4\n"
     ]
    }
   ],
   "source": [
    "#33. Write a program that calculates the greatest common divisor (GCD) of two numbers using the Euclidean algorithm.\n",
    "def gcd_euclidean(a, b):\n",
    "    while b != 0:\n",
    "        a, b = b, a % b\n",
    "    return a\n",
    "\n",
    "# Input two numbers from the user\n",
    "num1 = int(input(\"Enter the first number: \"))\n",
    "num2 = int(input(\"Enter the second number: \"))\n",
    "\n",
    "# Calculate the GCD using the Euclidean algorithm\n",
    "gcd = gcd_euclidean(num1, num2)\n",
    "print(\"The Greatest Common Divisor (GCD) of\", num1, \"and\", num2, \"is:\", gcd)\n"
   ]
  },
  {
   "cell_type": "code",
   "execution_count": 11,
   "id": "fa2f6578",
   "metadata": {},
   "outputs": [
    {
     "name": "stdout",
     "output_type": "stream",
     "text": [
      "Enter the first matrix:\n",
      "Enter the number of rows: 2\n",
      "Enter the number of columns: 2\n",
      "Enter the elements row-wise:\n",
      "2 4\n",
      "23\n",
      "Invalid input. Please enter exactly 2 elements.\n",
      "Enter the second matrix:\n",
      "Enter the number of rows: 24\n",
      "Enter the number of columns: 2\n",
      "Enter the elements row-wise:\n",
      "23\n",
      "Invalid input. Please enter exactly 2 elements.\n"
     ]
    }
   ],
   "source": [
    "#34. Build a program that performs matrix multiplication using nested loops and conditional statements.\n",
    "def matrix_multiplication(matrix1, matrix2):\n",
    "    result = []\n",
    "    if len(matrix1[0]) != len(matrix2):\n",
    "        print(\"Matrix multiplication not possible. Number of columns in the first matrix must be equal to the number of rows in the second matrix.\")\n",
    "        return None\n",
    "    else:\n",
    "        for i in range(len(matrix1)):\n",
    "            row = []\n",
    "            for j in range(len(matrix2[0])):\n",
    "                sum = 0\n",
    "                for k in range(len(matrix2)):\n",
    "                    sum += matrix1[i][k] * matrix2[k][j]\n",
    "                row.append(sum)\n",
    "            result.append(row)\n",
    "        return result\n",
    "\n",
    "# Input matrices from the user\n",
    "def input_matrix():\n",
    "    rows = int(input(\"Enter the number of rows: \"))\n",
    "    cols = int(input(\"Enter the number of columns: \"))\n",
    "    matrix = []\n",
    "    print(\"Enter the elements row-wise:\")\n",
    "    for i in range(rows):\n",
    "        row = list(map(int, input().split()))\n",
    "        if len(row) != cols:\n",
    "            print(\"Invalid input. Please enter exactly\", cols, \"elements.\")\n",
    "            return None\n",
    "        matrix.append(row)\n",
    "    return matrix\n",
    "\n",
    "# Main program\n",
    "print(\"Enter the first matrix:\")\n",
    "matrix1 = input_matrix()\n",
    "print(\"Enter the second matrix:\")\n",
    "matrix2 = input_matrix()\n",
    "\n",
    "if matrix1 is not None and matrix2 is not None:\n",
    "    product = matrix_multiplication(matrix1, matrix2)\n",
    "    if product is not None:\n",
    "        print(\"Matrix Multiplication:\")\n",
    "        for row in product:\n",
    "            print(row)\n"
   ]
  },
  {
   "cell_type": "code",
   "execution_count": 24,
   "id": "184ca6c0",
   "metadata": {},
   "outputs": [
    {
     "name": "stdout",
     "output_type": "stream",
     "text": [
      "Welcome to Tic-Tac-Toe!\n",
      "  |   |  \n",
      "---------\n",
      "  |   |  \n",
      "---------\n",
      "  |   |  \n",
      "---------\n",
      "Computer's move:\n",
      "  |   |  \n",
      "---------\n",
      "  | O |  \n",
      "---------\n",
      "  |   |  \n",
      "---------\n",
      "Enter your move (row and column): 1 2\n",
      "  |   |  \n",
      "---------\n",
      "  | O | X\n",
      "---------\n",
      "  |   |  \n",
      "---------\n",
      "It's a tie!\n"
     ]
    }
   ],
   "source": [
    "#35. Create a program that simulates a basic text-based tic-tac-toe game against the computer.\n",
    "import random\n",
    "\n",
    "def print_board(board):\n",
    "    for row in board:\n",
    "        print(\" | \".join(row))\n",
    "        print(\"-\" * 9)\n",
    "\n",
    "def check_winner(board, player):\n",
    "    for row in board:\n",
    "        if all(cell == player for cell in row):\n",
    "            return True\n",
    "    for col in range(3):\n",
    "        if all(board[row][col] == player for row in range(3)):\n",
    "            return True\n",
    "    if all(board[i][i] == player for i in range(3)) or all(board[i][2-i] == player for i in range(3)):\n",
    "        return True\n",
    "    return False\n",
    "\n",
    "def is_full(board):\n",
    "    return all(cell != \" \" for row in board for cell in row)\n",
    "\n",
    "def computer_move(board):\n",
    "    empty_cells = [(i, j) for i in range(3) for j in range(3) if board[i][j] == \" \"]\n",
    "    return random.choice(empty_cells)\n",
    "\n",
    "def play_game():\n",
    "    board = [[\" \" for _ in range(3)] for _ in range(3)]\n",
    "    players = [\"X\", \"O\"]\n",
    "    random.shuffle(players)\n",
    "    print(\"Welcome to Tic-Tac-Toe!\")\n",
    "    print_board(board)\n",
    "\n",
    "    for player in players:\n",
    "        if player == \"X\":\n",
    "            row, col = map(int, input(\"Enter your move (row and column): \").split())\n",
    "            while board[row][col] != \" \":\n",
    "                print(\"Cell already taken. Try again.\")\n",
    "                row, col = map(int, input(\"Enter your move (row and column): \").split())\n",
    "            board[row][col] = player\n",
    "        else:\n",
    "            print(\"Computer's move:\")\n",
    "            row, col = computer_move(board)\n",
    "            board[row][col] = player\n",
    "        print_board(board)\n",
    "        if check_winner(board, player):\n",
    "            print(f\"{player} wins!\")\n",
    "            return\n",
    "        if is_full(board):\n",
    "            print(\"It's a tie!\")\n",
    "            return\n",
    "    print(\"It's a tie!\")\n",
    "\n",
    "play_game()\n"
   ]
  },
  {
   "cell_type": "code",
   "execution_count": 28,
   "id": "b13b827b",
   "metadata": {},
   "outputs": [
    {
     "data": {
      "text/plain": [
       "[0, 1, 2, 4, 8, 16, 32, 64, 128, 256, 512]"
      ]
     },
     "execution_count": 28,
     "metadata": {},
     "output_type": "execute_result"
    }
   ],
   "source": [
    "#36. Write a program that generates Fibonacci numbers up to a specified term using iterative methods.\n",
    "def fibo(n):\n",
    "    l=[0,1]\n",
    "    for i in range(2,n+1):\n",
    "        next_fibo=l[i-1]+l[i-1]\n",
    "        l.append(next_fibo)\n",
    "    return l\n",
    "fibo(10)"
   ]
  },
  {
   "cell_type": "code",
   "execution_count": 29,
   "id": "8c3f191f",
   "metadata": {},
   "outputs": [
    {
     "name": "stdout",
     "output_type": "stream",
     "text": [
      "The 10th term of the Fibonacci sequence is: 55\n"
     ]
    }
   ],
   "source": [
    "#37. Develop a program that calculates the nth term of the Fibonacci sequence using memoization.\n",
    "def fibonacci_memoization(n, memo={}):\n",
    "    if n in memo:\n",
    "        return memo[n]\n",
    "    if n <= 2:\n",
    "        return 1\n",
    "    memo[n] = fibonacci_memoization(n-1, memo) + fibonacci_memoization(n-2, memo)\n",
    "    return memo[n]\n",
    "\n",
    "n = 10\n",
    "result = fibonacci_memoization(n)\n",
    "print(f\"The {n}th term of the Fibonacci sequence is: {result}\")"
   ]
  },
  {
   "cell_type": "code",
   "execution_count": 30,
   "id": "c17f2da7",
   "metadata": {},
   "outputs": [
    {
     "name": "stdout",
     "output_type": "stream",
     "text": [
      "          December 2023\n",
      "Sun Mon Tue Wed Thu Fri Sat\n",
      "                 1  2  3 \n",
      " 4  5  6  7  8  9 10 \n",
      "11 12 13 14 15 16 17 \n",
      "18 19 20 21 22 23 24 \n",
      "25 26 27 28 29 30 31 \n"
     ]
    }
   ],
   "source": [
    "#38. Create a program that generates a calendar for a given month and year using conditional statements.\n",
    "import calendar\n",
    "\n",
    "def generate_calendar(year, month):\n",
    "    cal = calendar.monthcalendar(year, month)\n",
    "    print(f\"{' ' * 10}{calendar.month_name[month]} {year}\")\n",
    "    print(\"Sun Mon Tue Wed Thu Fri Sat\")\n",
    "    for week in cal:\n",
    "        for day in week:\n",
    "            if day == 0:\n",
    "                print(\"    \", end=\"\")\n",
    "            else:\n",
    "                print(f\"{day:2} \", end=\"\")\n",
    "        print(\"\")\n",
    "\n",
    "year = 2023\n",
    "month = 12   \n",
    "generate_calendar(year, month)"
   ]
  },
  {
   "cell_type": "code",
   "execution_count": 31,
   "id": "2ecac3bc",
   "metadata": {},
   "outputs": [
    {
     "name": "stdout",
     "output_type": "stream",
     "text": [
      "Your cards: [10, 5], current score: 15\n",
      "Computer's first card: 10\n",
      "Type 'y' to get another card, type 'n' to pass: y\n",
      "Your cards: [10, 5, 2], current score: 17\n",
      "Computer's first card: 10\n",
      "Type 'y' to get another card, type 'n' to pass: n\n",
      "Your final hand: [10, 5, 2], final score: 17\n",
      "Computer's final hand: [10, 4, 10], final score: 24\n",
      "Computer went over. You win!\n"
     ]
    }
   ],
   "source": [
    "#39. Build a program that simulates a basic text-based blackjack game against the computer.\n",
    "import random\n",
    "\n",
    "def deal_card():\n",
    "    cards = [2, 3, 4, 5, 6, 7, 8, 9, 10, 10, 10, 10, 11]\n",
    "    return random.choice(cards)\n",
    "\n",
    "def calculate_score(cards):\n",
    "    if sum(cards) == 21 and len(cards) == 2:\n",
    "        return 0\n",
    "    if 11 in cards and sum(cards) > 21:\n",
    "        cards.remove(11)\n",
    "        cards.append(1)\n",
    "    return sum(cards)\n",
    "\n",
    "def play_blackjack():\n",
    "    user_cards = []\n",
    "    computer_cards = []\n",
    "    game_over = False\n",
    "\n",
    "    for _ in range(2):\n",
    "        user_cards.append(deal_card())\n",
    "        computer_cards.append(deal_card())\n",
    "\n",
    "    while not game_over:\n",
    "        user_score = calculate_score(user_cards)\n",
    "        computer_score = calculate_score(computer_cards)\n",
    "\n",
    "        print(f\"Your cards: {user_cards}, current score: {user_score}\")\n",
    "        print(f\"Computer's first card: {computer_cards[0]}\")\n",
    "\n",
    "        if user_score == 0 or computer_score == 0 or user_score > 21:\n",
    "            game_over = True\n",
    "        else:\n",
    "            user_should_deal = input(\"Type 'y' to get another card, type 'n' to pass: \")\n",
    "            if user_should_deal == 'y':\n",
    "                user_cards.append(deal_card())\n",
    "            else:\n",
    "                game_over = True\n",
    "\n",
    "    while computer_score != 0 and computer_score < 17:\n",
    "        computer_cards.append(deal_card())\n",
    "        computer_score = calculate_score(computer_cards)\n",
    "\n",
    "    print(f\"Your final hand: {user_cards}, final score: {user_score}\")\n",
    "    print(f\"Computer's final hand: {computer_cards}, final score: {computer_score}\")\n",
    "\n",
    "    if user_score > 21:\n",
    "        print(\"You went over. You lose.\")\n",
    "    elif computer_score > 21:\n",
    "        print(\"Computer went over. You win!\")\n",
    "    elif user_score == computer_score:\n",
    "        print(\"It's a draw.\")\n",
    "    elif user_score == 0:\n",
    "        print(\"You win with a Blackjack!\")\n",
    "    elif computer_score == 0:\n",
    "        print(\"Computer wins with a Blackjack!\")\n",
    "    elif user_score > computer_score:\n",
    "        print(\"You win!\")\n",
    "    else:\n",
    "        print(\"Computer wins.\")\n",
    "\n",
    "play_blackjack()\n"
   ]
  },
  {
   "cell_type": "code",
   "execution_count": 32,
   "id": "16904ed8",
   "metadata": {},
   "outputs": [
    {
     "name": "stdout",
     "output_type": "stream",
     "text": [
      "The prime factors of 84 are: [2, 2, 3, 7]\n"
     ]
    }
   ],
   "source": [
    "#40. Write a program that generates the prime factors of a given number using trial division.\n",
    "def prime_factors(n):\n",
    "    factors = []\n",
    "    divisor = 2\n",
    "    while n > 1:\n",
    "        while n % divisor == 0:\n",
    "            factors.append(divisor)\n",
    "            n //= divisor\n",
    "        divisor += 1\n",
    "    return factors\n",
    "\n",
    "number = 84  # Specify the number for which prime factors should be generated\n",
    "result = prime_factors(number)\n",
    "print(f\"The prime factors of {number} are: {result}\")"
   ]
  },
  {
   "cell_type": "code",
   "execution_count": null,
   "id": "b4e948a2",
   "metadata": {},
   "outputs": [],
   "source": []
  }
 ],
 "metadata": {
  "kernelspec": {
   "display_name": "Python 3 (ipykernel)",
   "language": "python",
   "name": "python3"
  },
  "language_info": {
   "codemirror_mode": {
    "name": "ipython",
    "version": 3
   },
   "file_extension": ".py",
   "mimetype": "text/x-python",
   "name": "python",
   "nbconvert_exporter": "python",
   "pygments_lexer": "ipython3",
   "version": "3.10.9"
  }
 },
 "nbformat": 4,
 "nbformat_minor": 5
}
